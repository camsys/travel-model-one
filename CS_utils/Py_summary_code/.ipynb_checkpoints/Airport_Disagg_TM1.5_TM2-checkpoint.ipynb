{
 "cells": [
  {
   "cell_type": "code",
   "execution_count": 1,
   "id": "fb313ba9",
   "metadata": {},
   "outputs": [],
   "source": [
    "import pandas as pd\n",
    "import numpy as np\n",
    "import openmatrix as omx\n",
    "import os, sys, glob"
   ]
  },
  {
   "cell_type": "code",
   "execution_count": 2,
   "id": "74581928",
   "metadata": {},
   "outputs": [],
   "source": [
    "os.chdir(r\"C:\\MTC_tmpy\\TM2\\New Zone\\Airport\")"
   ]
  },
  {
   "cell_type": "code",
   "execution_count": 3,
   "id": "31905485",
   "metadata": {},
   "outputs": [],
   "source": [
    "# read and validate crosswalk\n",
    "xwalk = pd.read_csv(\"TM2TAZ_Renum_Consec.csv\")\n",
    "\n",
    "# every TM1.5 and TM2 zone is accounted for\n",
    "# factors sum up to 1 for every TM1.5 zone\n",
    "\n",
    "missing_zone_IP = set(range(1, max(xwalk.IPZONE) + 1)) - set(xwalk.IPZONE)\n",
    "missing_zone_OP = set(range(1, max(xwalk.OPZONE) + 1)) - set(xwalk.OPZONE)\n",
    "assert len(missing_zone_IP) == 0, f'missing TM1.5 zones, {missing_zone_IP}'\n",
    "assert len(missing_zone_OP) == 0, f'missing TM2 zones, {missing_zone_OP}'\n",
    "\n",
    "assert (xwalk.groupby(['IPZONE'])['FACTOR'].sum().round(5).nunique() == 1 and\n",
    "        xwalk.groupby(['IPZONE'])['FACTOR'].sum().round(5).max() == 1), 'factors do not add up to one for every TM1.5 zone'"
   ]
  },
  {
   "cell_type": "code",
   "execution_count": 4,
   "id": "b1257c53",
   "metadata": {
    "scrolled": true
   },
   "outputs": [
    {
     "data": {
      "text/plain": [
       "(4735, 3332)"
      ]
     },
     "execution_count": 4,
     "metadata": {},
     "output_type": "execute_result"
    }
   ],
   "source": [
    "max(xwalk.IPZONE), max(xwalk.OPZONE)"
   ]
  },
  {
   "cell_type": "code",
   "execution_count": 5,
   "id": "446bf484",
   "metadata": {},
   "outputs": [
    {
     "data": {
      "text/html": [
       "<div>\n",
       "<style scoped>\n",
       "    .dataframe tbody tr th:only-of-type {\n",
       "        vertical-align: middle;\n",
       "    }\n",
       "\n",
       "    .dataframe tbody tr th {\n",
       "        vertical-align: top;\n",
       "    }\n",
       "\n",
       "    .dataframe thead th {\n",
       "        text-align: right;\n",
       "    }\n",
       "</style>\n",
       "<table border=\"1\" class=\"dataframe\">\n",
       "  <thead>\n",
       "    <tr style=\"text-align: right;\">\n",
       "      <th></th>\n",
       "      <th>IPZONE</th>\n",
       "      <th>OPZONE</th>\n",
       "      <th>FACTOR</th>\n",
       "    </tr>\n",
       "  </thead>\n",
       "  <tbody>\n",
       "    <tr>\n",
       "      <th>0</th>\n",
       "      <td>1</td>\n",
       "      <td>248</td>\n",
       "      <td>1.0</td>\n",
       "    </tr>\n",
       "    <tr>\n",
       "      <th>1</th>\n",
       "      <td>2</td>\n",
       "      <td>249</td>\n",
       "      <td>1.0</td>\n",
       "    </tr>\n",
       "    <tr>\n",
       "      <th>2</th>\n",
       "      <td>3</td>\n",
       "      <td>250</td>\n",
       "      <td>1.0</td>\n",
       "    </tr>\n",
       "    <tr>\n",
       "      <th>3</th>\n",
       "      <td>4</td>\n",
       "      <td>9</td>\n",
       "      <td>1.0</td>\n",
       "    </tr>\n",
       "    <tr>\n",
       "      <th>4</th>\n",
       "      <td>5</td>\n",
       "      <td>251</td>\n",
       "      <td>1.0</td>\n",
       "    </tr>\n",
       "  </tbody>\n",
       "</table>\n",
       "</div>"
      ],
      "text/plain": [
       "   IPZONE  OPZONE  FACTOR\n",
       "0       1     248     1.0\n",
       "1       2     249     1.0\n",
       "2       3     250     1.0\n",
       "3       4       9     1.0\n",
       "4       5     251     1.0"
      ]
     },
     "execution_count": 5,
     "metadata": {},
     "output_type": "execute_result"
    }
   ],
   "source": [
    "xwalk.head()"
   ]
  },
  {
   "cell_type": "code",
   "execution_count": null,
   "id": "a4979162",
   "metadata": {},
   "outputs": [],
   "source": []
  },
  {
   "cell_type": "code",
   "execution_count": null,
   "id": "b3f502ec",
   "metadata": {},
   "outputs": [],
   "source": []
  },
  {
   "cell_type": "code",
   "execution_count": 19,
   "id": "03d79318",
   "metadata": {},
   "outputs": [],
   "source": [
    "in_table_regex = \"{year}_tripsAirPax{period}.omx\"\n",
    "out_omx_regex = \"disagg/{year}_tripsAirPax{period}.omx\"\n",
    "modes = [\"da\",\"sr2\",\"sr3\"] # from tm2py model_config.toml"
   ]
  },
  {
   "cell_type": "code",
   "execution_count": 9,
   "id": "6144fb9f",
   "metadata": {},
   "outputs": [],
   "source": [
    "if not os.path.exists('disagg'):\n",
    "    os.mkdir('disagg')"
   ]
  },
  {
   "cell_type": "code",
   "execution_count": 11,
   "id": "905f429c",
   "metadata": {},
   "outputs": [],
   "source": [
    "def read_omx_mats(fn):\n",
    "    with omx.open_file(fn) as f:\n",
    "        return f.list_matrices()"
   ]
  },
  {
   "cell_type": "code",
   "execution_count": 14,
   "id": "42c3f4e5",
   "metadata": {},
   "outputs": [
    {
     "data": {
      "text/plain": [
       "['DA', 'S2', 'S3']"
      ]
     },
     "execution_count": 14,
     "metadata": {},
     "output_type": "execute_result"
    }
   ],
   "source": [
    "# open one file to inspect format\n",
    "year = '2015'\n",
    "time_period = 'EA'\n",
    "read_omx_mats(in_table_regex.format(year = year, period = time_period))"
   ]
  },
  {
   "cell_type": "code",
   "execution_count": 23,
   "id": "d232bb80",
   "metadata": {},
   "outputs": [],
   "source": [
    "for year in ['2015','2040','2050']:\n",
    "\n",
    "    for time_period in ['EA','AM','MD','PM','EV']:\n",
    "        with omx.open_file(in_table_regex.format(year = year, period = time_period)) as f, omx.open_file(out_omx_regex.format(year = year, period=time_period), 'a') as f_out:\n",
    "            for mode in modes:\n",
    "                mat_name = mode.upper().replace('SR','S')\n",
    "                arr = np.array(f[mat_name])\n",
    "                # Disaggregate\n",
    "                df = pd.DataFrame(arr)\n",
    "                df.index.name = 'ORIG'\n",
    "                df.columns.name = 'DEST'\n",
    "                df = df.stack().rename('val').reset_index()\n",
    "                df['ORIG'] += 1\n",
    "                df['DEST'] += 1\n",
    "\n",
    "                df_xwalk = df.merge(\n",
    "                        xwalk, left_on = ['ORIG'], right_on = ['IPZONE'], how = 'left').merge(\n",
    "                        xwalk, left_on = ['DEST'], right_on = ['IPZONE'], how = 'left', suffixes = ['_ORIG','_DEST'])\n",
    "\n",
    "                OD_full_index = pd.MultiIndex.from_product([range(1,max(xwalk.OPZONE) + 1), range(1,max(xwalk.OPZONE) + 1)])\n",
    "\n",
    "                df_xwalk['val_out'] = df_xwalk['val'] * df_xwalk.FACTOR_ORIG * df_xwalk.FACTOR_DEST\n",
    "                val_new_zones = df_xwalk.groupby(['OPZONE_ORIG','OPZONE_DEST'])['val_out'].sum()\n",
    "                arr_out = val_new_zones.reindex(OD_full_index, fill_value = 0).unstack().values \n",
    "\n",
    "                f_out[mat_name] = arr_out.round(2)"
   ]
  },
  {
   "cell_type": "code",
   "execution_count": null,
   "id": "8cfaab03",
   "metadata": {},
   "outputs": [],
   "source": []
  },
  {
   "cell_type": "code",
   "execution_count": 92,
   "id": "de032b13",
   "metadata": {
    "scrolled": false
   },
   "outputs": [
    {
     "name": "stdout",
     "output_type": "stream",
     "text": [
      "2015\n",
      "['DA', 'S2', 'S3']\n",
      "['DA', 'S2', 'S3']\n",
      "['DA', 'S2', 'S3']\n",
      "['DA', 'S2', 'S3']\n",
      "['DA', 'S2', 'S3']\n",
      "total diff: 1.21973290364258 element max diff: 4.289926757812509 mean diff: 1.0986383479693957e-07\n",
      "2040\n",
      "['DA', 'S2', 'S3']\n",
      "['DA', 'S2', 'S3']\n",
      "['DA', 'S2', 'S3']\n",
      "['DA', 'S2', 'S3']\n",
      "['DA', 'S2', 'S3']\n",
      "total diff: 0.920071823784383 element max diff: 5.970080566406068 mean diff: 8.287274911376192e-08\n",
      "2050\n",
      "['DA', 'S2', 'S3']\n",
      "['DA', 'S2', 'S3']\n",
      "['DA', 'S2', 'S3']\n",
      "['DA', 'S2', 'S3']\n",
      "['DA', 'S2', 'S3']\n",
      "total diff: 0.6198931956896558 element max diff: 6.8399316406248545 mean diff: 5.583504670652487e-08\n"
     ]
    }
   ],
   "source": [
    "# validate results\n",
    "\n",
    "for year in ['2015','2040','2050']:\n",
    "    print(year)\n",
    "    \n",
    "    sums = []\n",
    "    for time_period in ['EA','AM','MD','PM','EV']:\n",
    "        with omx.open_file(in_table_regex.format(year = year, period = time_period)) as f:\n",
    "            for mode in modes:\n",
    "                mat_name = mode.upper().replace('SR','S')\n",
    "                arr = np.array(f[mat_name])\n",
    "                df = pd.DataFrame(arr).unstack().reset_index()\n",
    "                df.columns = ['ORIG','DEST','val']\n",
    "                df['ORIG'] += 1\n",
    "                df['DEST'] += 1\n",
    "                df.set_index(['ORIG','DEST'], inplace = True)\n",
    "                sums.append(df)\n",
    "\n",
    "    daily_totals = pd.DataFrame(np.add.reduce(sums))\n",
    "    daily_totals.index = pd.MultiIndex.from_product([range(1,4736), range(1,4736)], names = ['ORIG','DEST'])\n",
    "    daily_totals.columns = ['val']\n",
    "    daily_totals.reset_index(inplace = True)\n",
    "    \n",
    "    daily_w_xwalk = daily_totals.merge(\n",
    "                    xwalk, left_on = ['ORIG'], right_on = ['IPZONE'], how = 'left').merge(\n",
    "                    xwalk, left_on = ['DEST'], right_on = ['IPZONE'], how = 'left', suffixes = ['_ORIG','_DEST'])\n",
    "    \n",
    "    daily_w_xwalk['val'] = daily_w_xwalk['val'] * daily_w_xwalk.FACTOR_ORIG * daily_w_xwalk.FACTOR_DEST\n",
    "    \n",
    "    OD_full_index = pd.MultiIndex.from_product([range(1,max(xwalk.OPZONE) + 1), range(1,max(xwalk.OPZONE) + 1)])\n",
    "    \n",
    "    trips_in_new_zones = daily_w_xwalk.groupby(['OPZONE_ORIG','OPZONE_DEST'])['val'].sum()\n",
    "    demand_matrix = trips_in_new_zones.reindex(OD_full_index, fill_value = 0).unstack().values\n",
    "    \n",
    "    daily_sum = np.zeros((3332, 3332))\n",
    "    for time_period in ['EA','AM','MD','PM','EV']:   \n",
    "        with omx.open_file(out_omx_regex.format(year = year, period=time_period)) as f:\n",
    "            print(f.list_matrices())\n",
    "            for m in f.list_matrices():\n",
    "                daily_sum += np.array(f[m])        \n",
    "\n",
    "    print('total diff:', demand_matrix.sum() - daily_sum.sum(),\n",
    "      'element max diff:',(demand_matrix - daily_sum).max(), \n",
    "      'mean diff:',(demand_matrix - daily_sum).mean())\n",
    "        "
   ]
  },
  {
   "cell_type": "code",
   "execution_count": null,
   "id": "8b30b196",
   "metadata": {},
   "outputs": [],
   "source": []
  }
 ],
 "metadata": {
  "kernelspec": {
   "display_name": "Python 3 (ipykernel)",
   "language": "python",
   "name": "python3"
  },
  "language_info": {
   "codemirror_mode": {
    "name": "ipython",
    "version": 3
   },
   "file_extension": ".py",
   "mimetype": "text/x-python",
   "name": "python",
   "nbconvert_exporter": "python",
   "pygments_lexer": "ipython3",
   "version": "3.9.13"
  }
 },
 "nbformat": 4,
 "nbformat_minor": 5
}
