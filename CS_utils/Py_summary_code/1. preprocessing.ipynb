{
 "cells": [
  {
   "cell_type": "code",
   "execution_count": 1,
   "id": "065cef2b",
   "metadata": {},
   "outputs": [],
   "source": [
    "import os\n",
    "import pandas as pd\n",
    "import numpy as np\n",
    "import openmatrix as omx\n",
    "import random\n",
    "import yaml\n",
    "from pathlib import Path\n",
    "from utility import *\n",
    "\n",
    "import warnings\n",
    "warnings.filterwarnings('ignore')"
   ]
  },
  {
   "cell_type": "code",
   "execution_count": 2,
   "id": "c7043479",
   "metadata": {},
   "outputs": [],
   "source": [
    "with open('config.yaml', 'r') as file:\n",
    "    params = yaml.safe_load(file)\n",
    "    \n",
    "_join = os.path.join\n",
    "_dir = os.path.dirname\n",
    "_norm = os.path.normpath\n",
    "\n",
    "# paths\n",
    "model_outputs_dir = params['model_dir']\n",
    "skims_dir = _join(model_outputs_dir, \"skims\")\n",
    "summary_outputs = params['summary_dir']\n",
    "concept_id = params['concept_id']\n",
    "ctramp_dir = params['ctramp_dir']\n",
    "iteration = params['iteration']\n",
    "\n",
    "concept_id = params['concept_id']\n",
    "time_period_mapping = params['time_periods_mapping']\n",
    "link21_purp_mapping = params['purpose_mapping']\n",
    "mode_cat_mapping = params['mode_mapping']\n",
    "time_periods = params['periods']\n",
    "acc_egg_modes = params['access_egress_modes']\n",
    "\n",
    "income_categories_bins = params['income_categories_bins']\n",
    "preprocess_dir = _join(ctramp_dir, '_pre_process_files')\n",
    "perf_measure_columns = params['final_columns']"
   ]
  },
  {
   "cell_type": "code",
   "execution_count": 3,
   "id": "a1530d94",
   "metadata": {},
   "outputs": [],
   "source": [
    "#create folders to save files\n",
    "summary_dir = params['summary_dir']\n",
    "preprocess_dir = _join(ctramp_dir, '_pre_process_files')\n",
    "\n",
    "Path(summary_dir).mkdir(parents=True, exist_ok=True)\n",
    "Path(preprocess_dir).mkdir(parents=True, exist_ok=True)"
   ]
  },
  {
   "cell_type": "code",
   "execution_count": 4,
   "id": "f5cf3428",
   "metadata": {},
   "outputs": [],
   "source": [
    "# outputs of CT-RAMP model for tour and trip file\n",
    "household_model_dir = _join(model_outputs_dir, \"main\")\n",
    "\n",
    "# input household and person data\n",
    "person_file = _join(ctramp_dir, 'main\\\\personData_' + str(iteration) + '.csv')\n",
    "household_file = _join(ctramp_dir, 'main\\\\householdData_' + str(iteration) + '.csv')\n",
    "\n",
    "person = pd.read_csv(person_file)\n",
    "\n",
    "hh = pd.read_csv(household_file, usecols = ['hh_id', 'taz'])\n",
    "hh = hh.rename(columns = {'taz': 'home_zone'})\n",
    "\n",
    "#taz to RDM zones, super districts, county\n",
    "geo_cwks = pd.read_csv(_join(params['common_dir'], \"geographies.csv\")) #columns taz, rdm_zones, super_district, county\n",
    "\n",
    "#taz to priority population\n",
    "pp_perc = pd.read_excel(_join(params['common_dir'], \"TAZ_Tract_cwk_summary.xlsx\")) #columns = taz, pp_share \n",
    "\n",
    "# transbay od pairs\n",
    "transbay_od = pd.read_csv(_join(params['common_dir'], \"transbay_od.csv\")) #columns = transbay_o, transbay_d\n",
    "\n",
    "demand_matrices_dir = _join(model_outputs_dir, \"demand_matrices\")\n",
    "transit_demand_dir = _join(demand_matrices_dir, \"transit\")\n",
    "transit_skims_dir = _join(skims_dir, \"transit\")\n",
    "highway_skims_dir = _join(skims_dir, \"highway\")"
   ]
  },
  {
   "cell_type": "code",
   "execution_count": 6,
   "id": "ca208af4",
   "metadata": {},
   "outputs": [
    {
     "name": "stdout",
     "output_type": "stream",
     "text": [
      "NAs in PP Share: 0\n"
     ]
    }
   ],
   "source": [
    "%%time\n",
    "#create trips\n",
    "df_trips = create_trip_roster(ctramp_dir, hh, pp_perc ,transbay_od, geo_cwks, link21_purp_mapping, iteration)\n",
    "\n",
    "df_trips = df_trips.drop(columns=['person_num', 'tour_id', 'stop_id', 'orig_walk_segment',\n",
    "                                  'tour_purpose', 'orig_purpose', 'dest_purpose',\n",
    "                                 'dest_walk_segment', 'parking_taz', 'tour_mode', 'tour_category',\n",
    "                                 'avAvailable', 'num_participants', 'new_dest_purp',\n",
    "                                 'new_orig_purp', 'link21_tour_purp', 'link21_orig_purp',\n",
    "                                 'link21_dest_purp', 'taxiWait', 'singleTNCWait', 'sharedTNCWait'])\n",
    "\n",
    "df_trips['Period'] = df_trips['depart_hour'].map(time_period_mapping)\n",
    "df_trips['Mode'] = df_trips['trip_mode'].map(mode_cat_mapping)\n",
    "\n",
    "df_trips.to_parquet(_join(preprocess_dir, 'trip_roster.parquet'))"
   ]
  },
  {
   "cell_type": "code",
   "execution_count": 10,
   "id": "e8d2e6ea",
   "metadata": {},
   "outputs": [],
   "source": [
    "df_tours = create_tour_roster(ctramp_dir, hh, pp_perc ,transbay_od, geo_cwks, iteration)\n",
    "\n",
    "df_tours = df_tours.drop(columns=['person_num', 'person_type', 'tour_id',\n",
    "                                   'tour_category', 'orig_walk_segment', 'dest_walk_segment',\n",
    "                                  'atWork_freq', 'num_ob_stops', 'num_ib_stops', 'avAvailable',\n",
    "                                  'dcLogsum', 'origTaxiWait', 'destTaxiWait', 'origSingleTNCWait',\n",
    "                                  'destSingleTNCWait', 'origSharedTNCWait','destSharedTNCWait', \n",
    "                                  'tour_composition', 'tour_participants'])\n",
    "\n",
    "df_tours['Period'] = df_tours['start_hour'].map(time_period_mapping)\n",
    "df_tours['Mode'] = df_tours['tour_mode'].map(mode_cat_mapping)\n",
    "\n",
    "df_tours.to_parquet(_join(preprocess_dir, 'tour_roster.parquet'))"
   ]
  },
  {
   "cell_type": "code",
   "execution_count": null,
   "id": "50dfb7b2",
   "metadata": {},
   "outputs": [],
   "source": []
  }
 ],
 "metadata": {
  "kernelspec": {
   "display_name": "Python 3 (ipykernel)",
   "language": "python",
   "name": "python3"
  },
  "language_info": {
   "codemirror_mode": {
    "name": "ipython",
    "version": 3
   },
   "file_extension": ".py",
   "mimetype": "text/x-python",
   "name": "python",
   "nbconvert_exporter": "python",
   "pygments_lexer": "ipython3",
   "version": "3.7.6"
  }
 },
 "nbformat": 4,
 "nbformat_minor": 5
}
