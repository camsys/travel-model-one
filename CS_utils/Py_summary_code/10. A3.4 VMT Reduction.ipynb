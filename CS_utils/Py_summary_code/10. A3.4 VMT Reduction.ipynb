{
 "cells": [
  {
   "cell_type": "code",
   "execution_count": 1,
   "id": "d6a8b2ca",
   "metadata": {},
   "outputs": [],
   "source": [
    "import os\n",
    "import pandas as pd\n",
    "import numpy as np\n",
    "import openmatrix as omx\n",
    "import random\n",
    "import yaml\n",
    "\n",
    "from utility import *\n",
    "\n",
    "import warnings\n",
    "warnings.filterwarnings('ignore')"
   ]
  },
  {
   "cell_type": "code",
   "execution_count": 2,
   "id": "a8290e98",
   "metadata": {},
   "outputs": [],
   "source": [
    "with open('config.yaml', 'r') as file:\n",
    "    params = yaml.safe_load(file)\n",
    "    \n",
    "_join = os.path.join\n",
    "_dir = os.path.dirname\n",
    "_norm = os.path.normpath\n",
    "\n",
    "highway_output_data = params['highway_output_data']\n",
    "perf_measure_columns = params['final_columns']\n",
    "period = params['periods']"
   ]
  },
  {
   "cell_type": "code",
   "execution_count": null,
   "id": "5f5f54bc",
   "metadata": {},
   "outputs": [],
   "source": [
    "hwy_output = 0\n",
    "if hwy_output:\n",
    "    #am = pd.read_csv(_join(highway_output_data, 'Volumes and times (on links)_am.csv'), sep='\\t')\n",
    "    df_vmt = pd.DataFrame(columns=['Period', 'Value'])\n",
    "    for prd in period:\n",
    "        tod = pd.read_csv(_join(highway_output_data, f'Volumes and times (on links)_{prd}.csv'), sep='\\t')    \n",
    "        df_vmt = df_vmt.append({'Period': prd, 'Value': tod['VDT'].sum()}, ignore_index=True)\n",
    "        \n",
    "    df_vmt['Concept_ID'] = concept_id\n",
    "    df_vmt['Metric_ID'] = 'A3.4'\n",
    "    df_vmt['Metric_name'] = ''\n",
    "    df_vmt['Submetric'] = 'A3.4.1'\n",
    "    df_vmt['Description'] = 'VMT reduction (network)'\n",
    "    df_vmt['Population'] = 'Whole Population'\n",
    "    df_vmt['Geography'] = 'Regional'\n",
    "    df_vmt['Zone_ID'] = ''\n",
    "    df_vmt['Origin_zone'] = ''\n",
    "    df_vmt['Dest_zone'] = ''\n",
    "    df_vmt['Purpose'] = ''\n",
    "    df_vmt['Units'] = 'vehicle miles travelled'\n",
    "    df_vmt['Total_Increment'] = ''\n",
    "    \n",
    "    df_vmt.to_csv(_join(summary_dir, ''))"
   ]
  },
  {
   "cell_type": "code",
   "execution_count": 6,
   "id": "698fe7d0",
   "metadata": {},
   "outputs": [],
   "source": []
  },
  {
   "cell_type": "code",
   "execution_count": 13,
   "id": "5fe416e5",
   "metadata": {},
   "outputs": [],
   "source": []
  },
  {
   "cell_type": "code",
   "execution_count": 15,
   "id": "413f452d",
   "metadata": {},
   "outputs": [],
   "source": []
  },
  {
   "cell_type": "code",
   "execution_count": null,
   "id": "24f1d76e",
   "metadata": {},
   "outputs": [],
   "source": []
  },
  {
   "cell_type": "code",
   "execution_count": null,
   "id": "5e2a4d1b",
   "metadata": {},
   "outputs": [],
   "source": []
  }
 ],
 "metadata": {
  "kernelspec": {
   "display_name": "Python 3 (ipykernel)",
   "language": "python",
   "name": "python3"
  },
  "language_info": {
   "codemirror_mode": {
    "name": "ipython",
    "version": 3
   },
   "file_extension": ".py",
   "mimetype": "text/x-python",
   "name": "python",
   "nbconvert_exporter": "python",
   "pygments_lexer": "ipython3",
   "version": "3.7.6"
  }
 },
 "nbformat": 4,
 "nbformat_minor": 5
}
