{
 "cells": [
  {
   "cell_type": "code",
   "execution_count": 8,
   "id": "d6a8b2ca",
   "metadata": {},
   "outputs": [],
   "source": [
    "import os\n",
    "import pandas as pd\n",
    "import numpy as np\n",
    "import openmatrix as omx\n",
    "import random\n",
    "import yaml\n",
    "\n",
    "from utility import *\n",
    "\n",
    "import warnings\n",
    "warnings.filterwarnings('ignore')"
   ]
  },
  {
   "cell_type": "code",
   "execution_count": 9,
   "id": "a8290e98",
   "metadata": {},
   "outputs": [],
   "source": [
    "with open('config.yaml', 'r') as file:\n",
    "    params = yaml.safe_load(file)\n",
    "    \n",
    "_join = os.path.join\n",
    "_dir = os.path.dirname\n",
    "_norm = os.path.normpath\n",
    "\n",
    "highway_output_data = params['highway_output_data']\n",
    "perf_measure_columns = params['final_columns']\n",
    "periods = params['periods']\n",
    "concept_id = params['concept_id']\n",
    "summary_outputs = params['summary_dir']\n",
    "filename_extension = params['filename_extension']"
   ]
  },
  {
   "cell_type": "markdown",
   "id": "a15bfa5c",
   "metadata": {},
   "source": [
    "hwy_output = 0\n",
    "if hwy_output:\n",
    "    #am = pd.read_csv(_join(highway_output_data, 'Volumes and times (on links)_am.csv'), sep='\\t')\n",
    "    df_vmt = pd.DataFrame(columns=['Period', 'Value'])\n",
    "    for prd in period:\n",
    "        tod = pd.read_csv(_join(highway_output_data, f'Volumes and times (on links)_{prd}.csv'), sep='\\t')    \n",
    "        df_vmt = df_vmt.append({'Period': prd, 'Value': tod['VDT'].sum()}, ignore_index=True)\n",
    "        \n",
    "    df_vmt['Concept_ID'] = concept_id\n",
    "    df_vmt['Metric_ID'] = 'A3.4'\n",
    "    df_vmt['Metric_name'] = ''\n",
    "    df_vmt['Submetric'] = 'A3.4.1'\n",
    "    df_vmt['Description'] = 'VMT reduction (network)'\n",
    "    df_vmt['Population'] = 'Whole Population'\n",
    "    df_vmt['Geography'] = 'Regional'\n",
    "    df_vmt['Zone_ID'] = ''\n",
    "    df_vmt['Origin_zone'] = ''\n",
    "    df_vmt['Dest_zone'] = ''\n",
    "    df_vmt['Purpose'] = ''\n",
    "    df_vmt['Units'] = 'vehicle miles travelled'\n",
    "    df_vmt['Total_Increment'] = ''\n",
    "    \n",
    "    df_vmt.to_csv(_join(summary_dir, ''))"
   ]
  },
  {
   "cell_type": "code",
   "execution_count": 10,
   "id": "698fe7d0",
   "metadata": {},
   "outputs": [],
   "source": [
    "df = pd.read_csv(_join(highway_output_data))\n",
    "\n",
    "df['am_vmt'] = (df['autovolAM'] + df['truck volumeAM'] + df['large truck linke volumeAM'])* df['distance']\n",
    "df['pm_vmt'] = (df['autovolPM'] + df['truck volumePM'] + df['large truck linke volumePM'])* df['distance']\n",
    "df['ea_vmt'] = (df['autovolEA'] + df['truck volumeEA'] + df['large truck linke volumeEA'])* df['distance']\n",
    "df['md_vmt'] = (df['autovolMD'] + df['truck volumeMD'] + df['large truck linke volumeMD'])* df['distance']\n",
    "df['ev_vmt'] = (df['autovolEV'] + df['truck volumeEV'] + df['large truck linke volumeEV'])* df['distance']\n",
    "\n",
    "df_vmt = pd.DataFrame(perf_measure_columns)\n",
    "\n",
    "df_temp = []\n",
    "for per in periods:\n",
    "    df_temp.append({'Period': per,\n",
    "                    'Value': df[per+'_vmt'].sum()})\n",
    "    \n",
    "df_vmt = pd.DataFrame(df_temp)\n",
    "all_row = {'Period' : 'All', 'Value': df_vmt['Value'].sum()}\n",
    "df_vmt = df_vmt.append(all_row, ignore_index=True)"
   ]
  },
  {
   "cell_type": "code",
   "execution_count": 11,
   "id": "a533157a",
   "metadata": {},
   "outputs": [
    {
     "data": {
      "text/html": [
       "<div>\n",
       "<style scoped>\n",
       "    .dataframe tbody tr th:only-of-type {\n",
       "        vertical-align: middle;\n",
       "    }\n",
       "\n",
       "    .dataframe tbody tr th {\n",
       "        vertical-align: top;\n",
       "    }\n",
       "\n",
       "    .dataframe thead th {\n",
       "        text-align: right;\n",
       "    }\n",
       "</style>\n",
       "<table border=\"1\" class=\"dataframe\">\n",
       "  <thead>\n",
       "    <tr style=\"text-align: right;\">\n",
       "      <th></th>\n",
       "      <th>Period</th>\n",
       "      <th>Value</th>\n",
       "    </tr>\n",
       "  </thead>\n",
       "  <tbody>\n",
       "    <tr>\n",
       "      <th>0</th>\n",
       "      <td>am</td>\n",
       "      <td>5.164439e+07</td>\n",
       "    </tr>\n",
       "    <tr>\n",
       "      <th>1</th>\n",
       "      <td>md</td>\n",
       "      <td>6.300584e+07</td>\n",
       "    </tr>\n",
       "    <tr>\n",
       "      <th>2</th>\n",
       "      <td>pm</td>\n",
       "      <td>5.609260e+07</td>\n",
       "    </tr>\n",
       "    <tr>\n",
       "      <th>3</th>\n",
       "      <td>ev</td>\n",
       "      <td>3.492204e+07</td>\n",
       "    </tr>\n",
       "    <tr>\n",
       "      <th>4</th>\n",
       "      <td>ea</td>\n",
       "      <td>8.738900e+06</td>\n",
       "    </tr>\n",
       "    <tr>\n",
       "      <th>5</th>\n",
       "      <td>All</td>\n",
       "      <td>2.144038e+08</td>\n",
       "    </tr>\n",
       "  </tbody>\n",
       "</table>\n",
       "</div>"
      ],
      "text/plain": [
       "  Period         Value\n",
       "0     am  5.164439e+07\n",
       "1     md  6.300584e+07\n",
       "2     pm  5.609260e+07\n",
       "3     ev  3.492204e+07\n",
       "4     ea  8.738900e+06\n",
       "5    All  2.144038e+08"
      ]
     },
     "execution_count": 11,
     "metadata": {},
     "output_type": "execute_result"
    }
   ],
   "source": [
    "df_vmt"
   ]
  },
  {
   "cell_type": "code",
   "execution_count": 12,
   "id": "d889d8c0",
   "metadata": {},
   "outputs": [],
   "source": [
    "df_vmt['Concept_ID'] = concept_id\n",
    "df_vmt['Metric_ID'] = 'A3.4'\n",
    "df_vmt['Metric_name'] = ''\n",
    "df_vmt['Submetric'] = 'A3.4.1'\n",
    "df_vmt['Description'] = 'VMT reduction (network). It includes VMT by auto and trucks'\n",
    "df_vmt['Population'] = 'Whole Population'\n",
    "df_vmt['Geography'] = 'Regional'\n",
    "df_vmt['Zone_ID'] = ''\n",
    "df_vmt['Origin_zone'] = ''\n",
    "df_vmt['Dest_zone'] = ''\n",
    "df_vmt['Purpose'] = ''\n",
    "df_vmt['Mode'] = ''\n",
    "df_vmt['Income'] = ''\n",
    "df_vmt['Units'] = 'vehicle miles travelled'\n",
    "df_vmt['Total_Increment'] = ''"
   ]
  },
  {
   "cell_type": "code",
   "execution_count": 13,
   "id": "e0e1df4d",
   "metadata": {},
   "outputs": [],
   "source": [
    "df_vmt = df_vmt[perf_measure_columns]\n",
    "df_vmt.to_csv(_join(summary_outputs, 'A3.4.1' + '_weekday_VMT_' + concept_id + '_region' + filename_extension + '.csv'), index=False)"
   ]
  },
  {
   "cell_type": "code",
   "execution_count": 14,
   "id": "fcdf3005",
   "metadata": {},
   "outputs": [],
   "source": [
    "df_vmt['Value'] = df_vmt['Value'] * params['annual_auto_factor']\n",
    "df_vmt['Submetric'] = 'A3.4.2'\n",
    "\n",
    "df_vmt.to_csv(_join(summary_outputs, 'A3.4.2' + '_annual_VMT_' + concept_id + '_region' + filename_extension + '.csv'), index=False)"
   ]
  }
 ],
 "metadata": {
  "kernelspec": {
   "display_name": "Python 3 (ipykernel)",
   "language": "python",
   "name": "python3"
  },
  "language_info": {
   "codemirror_mode": {
    "name": "ipython",
    "version": 3
   },
   "file_extension": ".py",
   "mimetype": "text/x-python",
   "name": "python",
   "nbconvert_exporter": "python",
   "pygments_lexer": "ipython3",
   "version": "3.7.6"
  }
 },
 "nbformat": 4,
 "nbformat_minor": 5
}
