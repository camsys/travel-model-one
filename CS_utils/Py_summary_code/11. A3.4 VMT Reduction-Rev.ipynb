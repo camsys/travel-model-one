{
 "cells": [
  {
   "cell_type": "code",
   "execution_count": null,
   "id": "d6a8b2ca",
   "metadata": {},
   "outputs": [],
   "source": [
    "import os\n",
    "import pandas as pd\n",
    "import numpy as np\n",
    "import openmatrix as omx\n",
    "import random\n",
    "import yaml\n",
    "\n",
    "from utility import *\n",
    "\n",
    "import warnings\n",
    "warnings.filterwarnings('ignore')"
   ]
  },
  {
   "cell_type": "code",
   "execution_count": null,
   "id": "a8290e98",
   "metadata": {},
   "outputs": [],
   "source": [
    "with open('config.yaml', 'r') as file:\n",
    "    params = yaml.safe_load(file)\n",
    "    \n",
    "_join = os.path.join\n",
    "_dir = os.path.dirname\n",
    "_norm = os.path.normpath\n",
    "\n",
    "highway_output_data = params['highway_output_data']\n",
    "perf_measure_columns = params['final_columns']\n",
    "periods = params['periods']\n",
    "concept_id = params['concept_id']\n",
    "summary_outputs = params['summary_dir']\n",
    "filename_extension = params['filename_extension']"
   ]
  },
  {
   "cell_type": "code",
   "execution_count": null,
   "id": "8a33c464",
   "metadata": {},
   "outputs": [],
   "source": [
    "Change_in_Auto_VMT_Assignment_Based = -583852\n",
    "Change_in_Auto_VMT_Mode_Choice_Based_Proposed_Methodology = -765659"
   ]
  },
  {
   "cell_type": "code",
   "execution_count": null,
   "id": "b41b8755",
   "metadata": {},
   "outputs": [],
   "source": [
    "df_vmt = pd.DataFrame({'Value':[Change_in_Auto_VMT_Assignment_Based,Change_in_Auto_VMT_Mode_Choice_Based_Proposed_Methodology]})"
   ]
  },
  {
   "cell_type": "code",
   "execution_count": null,
   "id": "14b24258",
   "metadata": {},
   "outputs": [],
   "source": [
    "df_vmt"
   ]
  },
  {
   "cell_type": "code",
   "execution_count": null,
   "id": "d889d8c0",
   "metadata": {},
   "outputs": [],
   "source": [
    "df_vmt['Concept_ID'] = concept_id\n",
    "df_vmt['Metric_ID'] = 'A3.4'\n",
    "df_vmt['Metric_name'] = ''\n",
    "df_vmt['Submetric'] = 'A3.4.1'\n",
    "df_vmt.at[0, 'Description'] = 'Change in Auto VMT - Assignment_Based'\n",
    "df_vmt.at[1, 'Description'] = 'Change in Auto VMT - Mode Choice-Based (Proposed Methodology)'\n",
    "df_vmt['Population'] = 'Whole Population'\n",
    "df_vmt['Geography'] = 'Regional'\n",
    "df_vmt['Zone_ID'] = ''\n",
    "df_vmt['Origin_zone'] = ''\n",
    "df_vmt['Dest_zone'] = ''\n",
    "df_vmt['Purpose'] = ''\n",
    "df_vmt['Mode'] = ''\n",
    "df_vmt['Income'] = ''\n",
    "df_vmt['Period'] = 'All'\n",
    "df_vmt['Units'] = 'vehicle miles travelled'\n",
    "df_vmt['Total_Increment'] = ''"
   ]
  },
  {
   "cell_type": "code",
   "execution_count": null,
   "id": "7b233931",
   "metadata": {},
   "outputs": [],
   "source": [
    "summary_outputs"
   ]
  },
  {
   "cell_type": "code",
   "execution_count": null,
   "id": "e0e1df4d",
   "metadata": {},
   "outputs": [],
   "source": [
    "df_vmt = df_vmt[perf_measure_columns]\n",
    "df_vmt.to_csv(_join(summary_outputs, 'A3.4.1' + '_weekday_VMT_' + concept_id + '_region' + filename_extension + '.csv'), index=False)"
   ]
  },
  {
   "cell_type": "code",
   "execution_count": null,
   "id": "fcdf3005",
   "metadata": {},
   "outputs": [],
   "source": [
    "df_vmt['Value'] = df_vmt['Value'] * params['annual_auto_factor']\n",
    "df_vmt['Submetric'] = 'A3.4.2'\n",
    "\n",
    "df_vmt.to_csv(_join(summary_outputs, 'A3.4.2' + '_annual_VMT_' + concept_id + '_region' + filename_extension + '.csv'), index=False)"
   ]
  }
 ],
 "metadata": {
  "kernelspec": {
   "display_name": "Python 3 (ipykernel)",
   "language": "python",
   "name": "python3"
  },
  "language_info": {
   "codemirror_mode": {
    "name": "ipython",
    "version": 3
   },
   "file_extension": ".py",
   "mimetype": "text/x-python",
   "name": "python",
   "nbconvert_exporter": "python",
   "pygments_lexer": "ipython3",
   "version": "3.7.6"
  }
 },
 "nbformat": 4,
 "nbformat_minor": 5
}
