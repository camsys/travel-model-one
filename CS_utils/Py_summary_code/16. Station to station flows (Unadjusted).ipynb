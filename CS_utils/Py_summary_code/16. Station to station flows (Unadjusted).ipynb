{
 "cells": [
  {
   "cell_type": "code",
   "execution_count": 2,
   "id": "106bda11",
   "metadata": {},
   "outputs": [],
   "source": [
    "import os\n",
    "import pandas as pd\n",
    "import yaml\n",
    "from utility import *"
   ]
  },
  {
   "cell_type": "code",
   "execution_count": 3,
   "id": "cc65f6c5",
   "metadata": {},
   "outputs": [],
   "source": [
    "with open('config.yaml', 'r') as file:\n",
    "    params = yaml.safe_load(file)\n",
    "    \n",
    "_join = os.path.join \n",
    "    \n",
    "model_outputs_dir = params['model_dir']\n",
    "s2s_dir = _join(model_outputs_dir, \"output_summaries\")\n",
    "concept_id = params['concept_id']\n",
    "perf_measure_columns = params['final_columns']\n",
    "filename_extension = params['filename_extension']\n",
    "summary_outputs = params['summary_dir']"
   ]
  },
  {
   "cell_type": "code",
   "execution_count": 12,
   "id": "4c2bfad1",
   "metadata": {},
   "outputs": [
    {
     "name": "stdout",
     "output_type": "stream",
     "text": [
      "C:\\MTC_tmpy\\TM2_2050MR40_R2_Run3\\tm2py\\examples\\Link21_3332\\output_summaries\\all rail_station_to_station_KNR_TRN_WLK_ea.txt , 10506.510192 0\n",
      "C:\\MTC_tmpy\\TM2_2050MR40_R2_Run3\\tm2py\\examples\\Link21_3332\\output_summaries\\all rail_station_to_station_WLK_TRN_KNR_ea.txt , 768.1666419 0\n",
      "C:\\MTC_tmpy\\TM2_2050MR40_R2_Run3\\tm2py\\examples\\Link21_3332\\output_summaries\\all rail_station_to_station_PNR_TRN_WLK_ea.txt , 24838.8455634 0\n",
      "C:\\MTC_tmpy\\TM2_2050MR40_R2_Run3\\tm2py\\examples\\Link21_3332\\output_summaries\\all rail_station_to_station_WLK_TRN_PNR_ea.txt , 1131.7081326000002 0\n",
      "C:\\MTC_tmpy\\TM2_2050MR40_R2_Run3\\tm2py\\examples\\Link21_3332\\output_summaries\\all rail_station_to_station_WLK_TRN_WLK_ea.txt , 23452.308851199996 0\n",
      "C:\\MTC_tmpy\\TM2_2050MR40_R2_Run3\\tm2py\\examples\\Link21_3332\\output_summaries\\all rail_station_to_station_KNR_TRN_WLK_am.txt , 92949.31121969999 0\n",
      "C:\\MTC_tmpy\\TM2_2050MR40_R2_Run3\\tm2py\\examples\\Link21_3332\\output_summaries\\all rail_station_to_station_WLK_TRN_KNR_am.txt , 4518.2503560000005 0\n",
      "C:\\MTC_tmpy\\TM2_2050MR40_R2_Run3\\tm2py\\examples\\Link21_3332\\output_summaries\\all rail_station_to_station_PNR_TRN_WLK_am.txt , 115653.35106719998 0\n",
      "C:\\MTC_tmpy\\TM2_2050MR40_R2_Run3\\tm2py\\examples\\Link21_3332\\output_summaries\\all rail_station_to_station_WLK_TRN_PNR_am.txt , 4520.8353846 0\n",
      "C:\\MTC_tmpy\\TM2_2050MR40_R2_Run3\\tm2py\\examples\\Link21_3332\\output_summaries\\all rail_station_to_station_WLK_TRN_WLK_am.txt , 304851.94998840004 0\n",
      "C:\\MTC_tmpy\\TM2_2050MR40_R2_Run3\\tm2py\\examples\\Link21_3332\\output_summaries\\all rail_station_to_station_KNR_TRN_WLK_md.txt , 20647.1472746 0\n",
      "C:\\MTC_tmpy\\TM2_2050MR40_R2_Run3\\tm2py\\examples\\Link21_3332\\output_summaries\\all rail_station_to_station_WLK_TRN_KNR_md.txt , 17834.790450200002 0\n",
      "C:\\MTC_tmpy\\TM2_2050MR40_R2_Run3\\tm2py\\examples\\Link21_3332\\output_summaries\\all rail_station_to_station_PNR_TRN_WLK_md.txt , 28942.588552200003 0\n",
      "C:\\MTC_tmpy\\TM2_2050MR40_R2_Run3\\tm2py\\examples\\Link21_3332\\output_summaries\\all rail_station_to_station_WLK_TRN_PNR_md.txt , 19480.9581137 0\n",
      "C:\\MTC_tmpy\\TM2_2050MR40_R2_Run3\\tm2py\\examples\\Link21_3332\\output_summaries\\all rail_station_to_station_WLK_TRN_WLK_md.txt , 198239.5071211 0\n",
      "C:\\MTC_tmpy\\TM2_2050MR40_R2_Run3\\tm2py\\examples\\Link21_3332\\output_summaries\\all rail_station_to_station_KNR_TRN_WLK_pm.txt , 12958.8625908 0\n",
      "C:\\MTC_tmpy\\TM2_2050MR40_R2_Run3\\tm2py\\examples\\Link21_3332\\output_summaries\\all rail_station_to_station_WLK_TRN_KNR_pm.txt , 63538.633558 0\n",
      "C:\\MTC_tmpy\\TM2_2050MR40_R2_Run3\\tm2py\\examples\\Link21_3332\\output_summaries\\all rail_station_to_station_PNR_TRN_WLK_pm.txt , 14860.6899859 0\n",
      "C:\\MTC_tmpy\\TM2_2050MR40_R2_Run3\\tm2py\\examples\\Link21_3332\\output_summaries\\all rail_station_to_station_WLK_TRN_PNR_pm.txt , 89603.6288813 0\n",
      "C:\\MTC_tmpy\\TM2_2050MR40_R2_Run3\\tm2py\\examples\\Link21_3332\\output_summaries\\all rail_station_to_station_WLK_TRN_WLK_pm.txt , 330228.2701506 0\n",
      "C:\\MTC_tmpy\\TM2_2050MR40_R2_Run3\\tm2py\\examples\\Link21_3332\\output_summaries\\all rail_station_to_station_KNR_TRN_WLK_ev.txt , 2848.0619001 0\n",
      "C:\\MTC_tmpy\\TM2_2050MR40_R2_Run3\\tm2py\\examples\\Link21_3332\\output_summaries\\all rail_station_to_station_WLK_TRN_KNR_ev.txt , 50173.7956821 0\n",
      "C:\\MTC_tmpy\\TM2_2050MR40_R2_Run3\\tm2py\\examples\\Link21_3332\\output_summaries\\all rail_station_to_station_PNR_TRN_WLK_ev.txt , 3232.6935847 0\n",
      "C:\\MTC_tmpy\\TM2_2050MR40_R2_Run3\\tm2py\\examples\\Link21_3332\\output_summaries\\all rail_station_to_station_WLK_TRN_PNR_ev.txt , 66681.3787917 0\n",
      "C:\\MTC_tmpy\\TM2_2050MR40_R2_Run3\\tm2py\\examples\\Link21_3332\\output_summaries\\all rail_station_to_station_WLK_TRN_WLK_ev.txt , 201878.4554722 0\n"
     ]
    }
   ],
   "source": [
    "TOD = [\"ea\", \"am\", \"md\", \"pm\", \"ev\"]\n",
    "mode = [\"KNR_TRN_WLK\", \"WLK_TRN_KNR\", \"PNR_TRN_WLK\", \"WLK_TRN_PNR\", \"WLK_TRN_WLK\"]\n",
    "\n",
    "rail = pd.DataFrame(columns=[\"board_st\", \"alight_st\", \"count\", \"TOD\", \"mode\"]) \n",
    "\n",
    "for t in TOD:\n",
    "    for m in mode:\n",
    "        file_path = _join(s2s_dir, f\"all rail_station_to_station_{m}_{t}.txt\")\n",
    "        fwf_positions = [(2, 8), (11, 17), (20, 28)]\n",
    "        col_names = [\"board_st\", \"alight_st\", \"count\"]\n",
    "\n",
    "        file = pd.read_fwf(file_path, colspecs=fwf_positions, header=None, names=col_names, skiprows=18)\n",
    "        \n",
    "        file['count'] = file['count'].astype('str')\n",
    "        file = file[file['count'].str.contains('u')==False]\n",
    "        file = file[file['count'].str.contains('n')==False]\n",
    "        file['count'] = pd.to_numeric(file['count'])\n",
    "        print(file_path, \",\" ,file['count'].sum(), file['count'].isna().sum())\n",
    "        \n",
    "        file[\"TOD\"] = t\n",
    "        file[\"mode\"] = m\n",
    "\n",
    "        rail = pd.concat([rail, file], ignore_index=True)\n",
    "\n",
    "#print(rail)"
   ]
  },
  {
   "cell_type": "code",
   "execution_count": null,
   "id": "91671c39",
   "metadata": {},
   "outputs": [],
   "source": [
    "rail_df = summarize_all_combinations(rail, groupby_columns=['TOD'], summary_column='count')\n",
    "rail_df = rail_df.rename(columns={'TOD': 'Period', 'count': 'Value'})"
   ]
  },
  {
   "cell_type": "code",
   "execution_count": null,
   "id": "ced0aa56",
   "metadata": {},
   "outputs": [],
   "source": [
    "rail_df['Concept_ID'] = concept_id\n",
    "rail_df['Metric_ID'] = 'G1.1'\n",
    "rail_df['Metric_name'] = ''\n",
    "rail_df['Submetric'] = 'G1.1.1'\n",
    "rail_df['Description'] = 'Linked Rail Trips'\n",
    "rail_df['Population'] = 'Whole Population'\n",
    "rail_df['Geography'] = 'Regional'\n",
    "rail_df['Zone_ID'] = ''\n",
    "rail_df['Origin_zone'] = ''\n",
    "rail_df['Dest_zone'] = ''\n",
    "rail_df['Purpose'] = ''\n",
    "rail_df['Mode'] = ''\n",
    "rail_df['Income'] = ''\n",
    "rail_df['Units'] = 'trips'\n",
    "rail_df['Total_Increment'] = ''"
   ]
  },
  {
   "cell_type": "code",
   "execution_count": null,
   "id": "8906e67f",
   "metadata": {},
   "outputs": [],
   "source": [
    "rail_df = rail_df[perf_measure_columns]\n",
    "rail_df.to_csv(_join(summary_outputs, 'G1.1.1' + '_weekday_linked_rail_trips_' + concept_id + '_region' + filename_extension + '.csv'), index=False)"
   ]
  },
  {
   "cell_type": "code",
   "execution_count": null,
   "id": "d09cf27f",
   "metadata": {},
   "outputs": [],
   "source": [
    "rail_df"
   ]
  },
  {
   "cell_type": "code",
   "execution_count": null,
   "id": "02bfde0c",
   "metadata": {},
   "outputs": [],
   "source": [
    "rail_df['Value'] = rail_df['Value'] * params['annual_transit_factor']\n",
    "rail_df['Submetric'] = 'G1.1.2'"
   ]
  },
  {
   "cell_type": "code",
   "execution_count": null,
   "id": "3249603b",
   "metadata": {},
   "outputs": [],
   "source": [
    "rail_df.to_csv(_join(summary_outputs, 'G1.1.2' + '_annual_linked_rail_trips_' + concept_id + '_region' + filename_extension + '.csv'), index=False)"
   ]
  },
  {
   "cell_type": "code",
   "execution_count": null,
   "id": "3b16a83b",
   "metadata": {},
   "outputs": [],
   "source": []
  },
  {
   "cell_type": "code",
   "execution_count": 13,
   "id": "a9dca7d2",
   "metadata": {},
   "outputs": [],
   "source": [
    "file_path = _join(s2s_dir, f\"all rail_station_to_station_WLK_TRN_WLK_ev.txt\")\n",
    "fwf_positions = [(2, 8), (11, 17), (20, 28)]\n",
    "col_names = [\"board_st\", \"alight_st\", \"count\"]\n",
    "\n",
    "file = pd.read_fwf(file_path, colspecs=fwf_positions, header=None, names=col_names, skiprows=18)"
   ]
  },
  {
   "cell_type": "code",
   "execution_count": 14,
   "id": "7a7adc4a",
   "metadata": {},
   "outputs": [],
   "source": [
    "file['count'] = file['count'].astype('str')\n",
    "file = file[file['count'].str.contains('u')==False]\n",
    "file = file[file['count'].str.contains('n')==False]\n",
    "file['count'] = pd.to_numeric(file['count'])"
   ]
  },
  {
   "cell_type": "code",
   "execution_count": 15,
   "id": "72fc7691",
   "metadata": {},
   "outputs": [
    {
     "data": {
      "text/plain": [
       "201878.4554722"
      ]
     },
     "execution_count": 15,
     "metadata": {},
     "output_type": "execute_result"
    }
   ],
   "source": [
    "file['count'].sum()"
   ]
  },
  {
   "cell_type": "code",
   "execution_count": null,
   "id": "218aaf80",
   "metadata": {},
   "outputs": [],
   "source": [
    "# daily = rail.groupby('TOD').sum()"
   ]
  }
 ],
 "metadata": {
  "kernelspec": {
   "display_name": "Python 3 (ipykernel)",
   "language": "python",
   "name": "python3"
  },
  "language_info": {
   "codemirror_mode": {
    "name": "ipython",
    "version": 3
   },
   "file_extension": ".py",
   "mimetype": "text/x-python",
   "name": "python",
   "nbconvert_exporter": "python",
   "pygments_lexer": "ipython3",
   "version": "3.7.6"
  }
 },
 "nbformat": 4,
 "nbformat_minor": 5
}
