{
 "cells": [
  {
   "cell_type": "code",
   "execution_count": null,
   "id": "106bda11",
   "metadata": {},
   "outputs": [],
   "source": [
    "import os\n",
    "import pandas as pd\n",
    "import yaml\n",
    "from utility import *"
   ]
  },
  {
   "cell_type": "code",
   "execution_count": null,
   "id": "cc65f6c5",
   "metadata": {},
   "outputs": [],
   "source": [
    "with open('config.yaml', 'r') as file:\n",
    "    params = yaml.safe_load(file)\n",
    "    \n",
    "_join = os.path.join \n",
    "    \n",
    "model_outputs_dir = params['model_dir']\n",
    "s2s_dir = _join(model_outputs_dir, \"output_summaries\")\n",
    "concept_id = params['concept_id']\n",
    "perf_measure_columns = params['final_columns']\n",
    "filename_extension = params['filename_extension']\n",
    "summary_outputs = params['summary_dir']"
   ]
  },
  {
   "cell_type": "code",
   "execution_count": null,
   "id": "4c2bfad1",
   "metadata": {},
   "outputs": [],
   "source": [
    "TOD = [\"ea\", \"am\", \"md\", \"pm\", \"ev\"]\n",
    "mode = [\"KNR_TRN_WLK\", \"WLK_TRN_KNR\", \"PNR_TRN_WLK\", \"WLK_TRN_PNR\", \"WLK_TRN_WLK\"]\n",
    "\n",
    "rail = pd.DataFrame(columns=[\"board_st\", \"alight_st\", \"count\", \"TOD\", \"mode\"]) \n",
    "\n",
    "for t in TOD:\n",
    "    for m in mode:\n",
    "        file_path = _join(s2s_dir, f\"all rail_station_to_station_{m}_{t}.txt\")\n",
    "        fwf_positions = [(2, 8), (11, 17), (20, 28)]\n",
    "        col_names = [\"board_st\", \"alight_st\", \"count\"]\n",
    "\n",
    "        file = pd.read_fwf(file_path, colspecs=fwf_positions, header=None, names=col_names, skiprows=18)\n",
    "        \n",
    "        file['count'] = file['count'].astype('str')\n",
    "        file = file[file['count'].str.contains('u')==False]\n",
    "        file = file[file['count'].str.contains('n')==False]\n",
    "        file['count'] = pd.to_numeric(file['count'])\n",
    "        \n",
    "        file[\"TOD\"] = t\n",
    "        file[\"mode\"] = m\n",
    "\n",
    "        rail = pd.concat([rail, file], ignore_index=True)\n",
    "\n",
    "#print(rail)"
   ]
  },
  {
   "cell_type": "code",
   "execution_count": null,
   "id": "91671c39",
   "metadata": {},
   "outputs": [],
   "source": [
    "rail_df = summarize_all_combinations(rail, groupby_columns=['TOD'], summary_column='count')\n",
    "rail_df = rail_df.rename(columns={'TOD': 'Period', 'count': 'Value'})"
   ]
  },
  {
   "cell_type": "code",
   "execution_count": null,
   "id": "ced0aa56",
   "metadata": {},
   "outputs": [],
   "source": [
    "rail_df['Concept_ID'] = concept_id\n",
    "rail_df['Metric_ID'] = 'G1.1'\n",
    "rail_df['Metric_name'] = ''\n",
    "rail_df['Submetric'] = 'G1.1.1'\n",
    "rail_df['Description'] = 'Linked Rail Trips'\n",
    "rail_df['Population'] = 'Whole Population'\n",
    "rail_df['Geography'] = 'Regional'\n",
    "rail_df['Zone_ID'] = ''\n",
    "rail_df['Origin_zone'] = ''\n",
    "rail_df['Dest_zone'] = ''\n",
    "rail_df['Purpose'] = ''\n",
    "rail_df['Mode'] = ''\n",
    "rail_df['Income'] = ''\n",
    "rail_df['Units'] = 'trips'\n",
    "rail_df['Total_Increment'] = ''"
   ]
  },
  {
   "cell_type": "code",
   "execution_count": null,
   "id": "8906e67f",
   "metadata": {},
   "outputs": [],
   "source": [
    "rail_df = rail_df[perf_measure_columns]\n",
    "rail_df.to_csv(_join(summary_outputs, 'G1.1.1' + '_weekday_linked_rail_trips_' + concept_id + '_region' + filename_extension + '.csv'), index=False)"
   ]
  },
  {
   "cell_type": "code",
   "execution_count": null,
   "id": "d09cf27f",
   "metadata": {},
   "outputs": [],
   "source": [
    "rail_df"
   ]
  },
  {
   "cell_type": "code",
   "execution_count": null,
   "id": "02bfde0c",
   "metadata": {},
   "outputs": [],
   "source": [
    "rail_df['Value'] = rail_df['Value'] * params['annual_transit_factor']\n",
    "rail_df['Submetric'] = 'G1.1.2'"
   ]
  },
  {
   "cell_type": "code",
   "execution_count": null,
   "id": "3249603b",
   "metadata": {},
   "outputs": [],
   "source": [
    "rail_df.to_csv(_join(summary_outputs, 'G1.1.2' + '_annual_linked_rail_trips_' + concept_id + '_region' + filename_extension + '.csv'), index=False)"
   ]
  },
  {
   "cell_type": "code",
   "execution_count": null,
   "id": "218aaf80",
   "metadata": {},
   "outputs": [],
   "source": [
    "# daily = rail.groupby('TOD').sum()"
   ]
  }
 ],
 "metadata": {
  "kernelspec": {
   "display_name": "Python 3 (ipykernel)",
   "language": "python",
   "name": "python3"
  },
  "language_info": {
   "codemirror_mode": {
    "name": "ipython",
    "version": 3
   },
   "file_extension": ".py",
   "mimetype": "text/x-python",
   "name": "python",
   "nbconvert_exporter": "python",
   "pygments_lexer": "ipython3",
   "version": "3.7.6"
  }
 },
 "nbformat": 4,
 "nbformat_minor": 5
}
