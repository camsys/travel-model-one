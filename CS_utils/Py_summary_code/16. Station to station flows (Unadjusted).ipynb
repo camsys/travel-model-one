{
 "cells": [
  {
   "cell_type": "code",
   "execution_count": null,
   "id": "106bda11",
   "metadata": {},
   "outputs": [],
   "source": [
    "import os\n",
    "import pandas as pd\n",
    "import yaml"
   ]
  },
  {
   "cell_type": "code",
   "execution_count": null,
   "id": "cc65f6c5",
   "metadata": {},
   "outputs": [],
   "source": [
    "with open('config.yaml', 'r') as file:\n",
    "    params = yaml.safe_load(file)\n",
    "    \n",
    "_join = os.path.join \n",
    "    \n",
    "model_outputs_dir = params['model_dir']\n",
    "s2s_dir = _join(model_outputs_dir, \"output_summaries\")"
   ]
  },
  {
   "cell_type": "code",
   "execution_count": null,
   "id": "4c2bfad1",
   "metadata": {},
   "outputs": [],
   "source": [
    "TOD = [\"ea\", \"am\", \"md\", \"pm\", \"ev\"]\n",
    "mode = [\"KNR_TRN_WLK\", \"WLK_TRN_KNR\", \"PNR_TRN_WLK\", \"WLK_TRN_PNR\", \"WLK_TRN_WLK\"]\n",
    "\n",
    "rail = pd.DataFrame(columns=[\"board_st\", \"alight_st\", \"count\", \"TOD\", \"mode\"]) \n",
    "\n",
    "for t in TOD:\n",
    "    for m in mode:\n",
    "        file_path = _join(s2s_dir, f\"all rail_station_to_station_{m}_{t}.txt\")\n",
    "        fwf_positions = [(3, 8), (12, 17), (21, 28)]\n",
    "        col_names = [\"board_st\", \"alight_st\", \"count\"]\n",
    "\n",
    "        file = pd.read_fwf(file_path, colspecs=fwf_positions, header=None, names=col_names, skiprows=22)\n",
    "        file[\"TOD\"] = t\n",
    "        file[\"mode\"] = m\n",
    "\n",
    "        rail = pd.concat([rail, file], ignore_index=True)\n",
    "\n",
    "print(rail)"
   ]
  },
  {
   "cell_type": "code",
   "execution_count": null,
   "id": "218aaf80",
   "metadata": {},
   "outputs": [],
   "source": [
    "# daily = rail.groupby('TOD').sum()"
   ]
  }
 ],
 "metadata": {
  "kernelspec": {
   "display_name": "Python 3 (ipykernel)",
   "language": "python",
   "name": "python3"
  },
  "language_info": {
   "codemirror_mode": {
    "name": "ipython",
    "version": 3
   },
   "file_extension": ".py",
   "mimetype": "text/x-python",
   "name": "python",
   "nbconvert_exporter": "python",
   "pygments_lexer": "ipython3",
   "version": "3.7.6"
  }
 },
 "nbformat": 4,
 "nbformat_minor": 5
}
