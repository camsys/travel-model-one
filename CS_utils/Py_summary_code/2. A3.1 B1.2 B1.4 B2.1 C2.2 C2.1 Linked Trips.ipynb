{
 "cells": [
  {
   "cell_type": "code",
   "execution_count": 1,
   "id": "518ab995",
   "metadata": {},
   "outputs": [],
   "source": [
    "import os\n",
    "import pandas as pd\n",
    "import numpy as np\n",
    "import openmatrix as omx\n",
    "import random\n",
    "import yaml\n",
    "\n",
    "from utility import *\n",
    "\n",
    "import warnings\n",
    "warnings.filterwarnings('ignore')"
   ]
  },
  {
   "cell_type": "code",
   "execution_count": 2,
   "id": "b1107fd0",
   "metadata": {},
   "outputs": [],
   "source": [
    "with open('config.yaml', 'r') as file:\n",
    "    params = yaml.safe_load(file)\n",
    "    \n",
    "_join = os.path.join\n",
    "_dir = os.path.dirname\n",
    "_norm = os.path.normpath\n",
    "\n",
    "# paths\n",
    "model_outputs_dir = params['model_dir']\n",
    "skims_dir = _join(model_outputs_dir, \"skims\")\n",
    "summary_outputs = params['summary_dir']\n",
    "concept_id = params['concept_id']\n",
    "ctramp_dir = params['ctramp_dir']\n",
    "iteration = params['iteration']\n",
    "\n",
    "concept_id = params['concept_id']\n",
    "time_period_mapping = params['time_periods_mapping']\n",
    "link21_purp_mapping = params['purpose_mapping']\n",
    "mode_cat_mapping = params['mode_mapping']\n",
    "time_periods = params['periods']\n",
    "acc_egg_modes = params['access_egress_modes']\n",
    "\n",
    "preprocess_dir = _join(ctramp_dir, '_pre_process_files')\n",
    "perf_measure_columns = params['final_columns']\n",
    "\n",
    "period = params['periods']\n",
    "summary_dir = params['summary_dir']\n",
    "\n",
    "demand_matrices_dir = _join(model_outputs_dir, \"demand_matrices\")\n",
    "transit_demand_dir = _join(demand_matrices_dir, \"transit\")\n",
    "transit_skims_dir = _join(skims_dir, \"transit\")\n",
    "\n",
    "annual_transit_factor = params['annual_transit_factor']\n",
    "annual_auto_factor = params['annual_auto_factor']\n",
    "\n",
    "filename_extension = params['filename_extension']"
   ]
  },
  {
   "cell_type": "code",
   "execution_count": 3,
   "id": "60beeaed",
   "metadata": {},
   "outputs": [
    {
     "name": "stdout",
     "output_type": "stream",
     "text": [
      "Period:  am\n",
      "Access Egress Mode:  WLK_TRN_WLK\n",
      "Access Egress Mode:  KNR_TRN_WLK\n",
      "Access Egress Mode:  PNR_TRN_WLK\n",
      "Access Egress Mode:  WLK_TRN_PNR\n",
      "Access Egress Mode:  WLK_TRN_KNR\n",
      "Period:  md\n",
      "Access Egress Mode:  WLK_TRN_WLK\n",
      "Access Egress Mode:  KNR_TRN_WLK\n",
      "Access Egress Mode:  PNR_TRN_WLK\n",
      "Access Egress Mode:  WLK_TRN_PNR\n",
      "Access Egress Mode:  WLK_TRN_KNR\n",
      "Period:  pm\n",
      "Access Egress Mode:  WLK_TRN_WLK\n",
      "Access Egress Mode:  KNR_TRN_WLK\n",
      "Access Egress Mode:  PNR_TRN_WLK\n",
      "Access Egress Mode:  WLK_TRN_PNR\n",
      "Access Egress Mode:  WLK_TRN_KNR\n",
      "Period:  ev\n",
      "Access Egress Mode:  WLK_TRN_WLK\n",
      "Access Egress Mode:  KNR_TRN_WLK\n",
      "Access Egress Mode:  PNR_TRN_WLK\n",
      "Access Egress Mode:  WLK_TRN_PNR\n",
      "Access Egress Mode:  WLK_TRN_KNR\n",
      "Period:  ea\n",
      "Access Egress Mode:  WLK_TRN_WLK\n",
      "Access Egress Mode:  KNR_TRN_WLK\n",
      "Access Egress Mode:  PNR_TRN_WLK\n",
      "Access Egress Mode:  WLK_TRN_PNR\n",
      "Access Egress Mode:  WLK_TRN_KNR\n"
     ]
    }
   ],
   "source": [
    "# Create RAIL Inclusive OD pairs\n",
    "create_rail_od_pairs(preprocess_dir, transit_skims_dir, period, acc_egg_modes)"
   ]
  },
  {
   "cell_type": "code",
   "execution_count": 4,
   "id": "5ce9f9f9",
   "metadata": {},
   "outputs": [],
   "source": [
    "df_trips = pd.read_parquet(_join(preprocess_dir, 'trip_roster.parquet'))\n",
    "df_trn = df_trips.loc[df_trips['trip_mode'].isin([6,7,8])]\n",
    "#df_trn = df_trn.rename(columns={'income_bin' : 'Income'})"
   ]
  },
  {
   "cell_type": "code",
   "execution_count": 5,
   "id": "2b19c888",
   "metadata": {},
   "outputs": [],
   "source": [
    "perf_measure_columns = ['Concept_ID',\n",
    " 'Metric_ID',\n",
    " 'Metric_name',\n",
    " 'Submetric',\n",
    " 'Description',\n",
    " 'Population',\n",
    " 'Period',\n",
    " 'Geography',\n",
    " 'Zone_ID',\n",
    " 'Origin_zone',\n",
    " 'Dest_zone',\n",
    " 'Purpose',\n",
    " 'Mode',\n",
    " 'Income',\n",
    " 'Value',\n",
    " 'Units',\n",
    " 'Total_Increment']"
   ]
  },
  {
   "cell_type": "code",
   "execution_count": 6,
   "id": "510ea69a",
   "metadata": {},
   "outputs": [
    {
     "name": "stdout",
     "output_type": "stream",
     "text": [
      "processing - am\n",
      "processing - md\n",
      "processing - pm\n",
      "processing - ev\n",
      "processing - ea\n",
      "Wall time: 4min 11s\n"
     ]
    }
   ],
   "source": [
    "%%time\n",
    "\n",
    "df_temp = []\n",
    "\n",
    "for period in time_periods:\n",
    "    print(f'processing - {period}')\n",
    "    \n",
    "    df_od_pr = omx.open_file(_join(preprocess_dir, \"rail_od_v9_trim_\" + period.upper() + \".omx\"))\n",
    "    df_trn_pd = df_trn[df_trn['Period'] == period]\n",
    "    \n",
    "    #walk transit\n",
    "    df_trn_acc = df_trn_pd[df_trn_pd['Mode'] == 'WALK_TRANSIT']\n",
    "    df_rail_od = skim_core_to_df(df_od_pr, 'WLK_TRN_WLK')\n",
    "    df_rail_od = df_rail_od[df_rail_od['rail_od'] > 0]\n",
    "    df_trn_wlk = pd.merge(df_trn_acc, df_rail_od, \n",
    "                          left_on =['orig_taz', 'dest_taz'], \n",
    "                          right_on=['orig', 'dest'], \n",
    "                          how ='inner')\n",
    "    \n",
    "    # PNR Transit\n",
    "    df_trn_acc = df_trn_pd[df_trn_pd['Mode'] == 'PNR_TRANSIT']\n",
    "    df_trn_acc_inbnd = df_trn_acc[df_trn_acc['inbound'] == 1] # returning home\n",
    "    df_rail_od = skim_core_to_df(df_od_pr, 'WLK_TRN_PNR')\n",
    "    df_rail_od = df_rail_od[df_rail_od['rail_od'] > 0]\n",
    "    df_trn_pnr_inb = pd.merge(df_trn_acc_inbnd, df_rail_od, \n",
    "                              left_on =['orig_taz', 'dest_taz'], \n",
    "                              right_on=['orig', 'dest'], how ='inner')\n",
    "\n",
    "    df_trn_acc_outbnd = df_trn_acc[df_trn_acc['inbound'] != 1] # returning home\n",
    "    df_rail_od = skim_core_to_df(df_od_pr, 'PNR_TRN_WLK')\n",
    "    df_rail_od = df_rail_od[df_rail_od['rail_od'] > 0]\n",
    "    df_trn_pnr_outbnd = pd.merge(df_trn_acc_outbnd, df_rail_od, \n",
    "                              left_on =['orig_taz', 'dest_taz'], \n",
    "                              right_on=['orig', 'dest'], how ='inner')\n",
    "\n",
    "    df_trn_pnr = pd.concat([df_trn_pnr_inb, df_trn_pnr_outbnd], ignore_index=True)\n",
    "    \n",
    "    # KNR Transit\n",
    "    df_trn_acc = df_trn_pd[df_trn_pd['Mode'] == 'KNR_TRANSIT']\n",
    "    df_trn_acc_inbnd = df_trn_acc[df_trn_acc['inbound'] == 1] # returning home\n",
    "    df_rail_od = skim_core_to_df(df_od_pr, 'WLK_TRN_KNR')\n",
    "    df_rail_od = df_rail_od[df_rail_od['rail_od'] > 0]\n",
    "    df_trn_knr_inb = pd.merge(df_trn_acc_inbnd, df_rail_od, \n",
    "                              left_on =['orig_taz', 'dest_taz'], \n",
    "                              right_on=['orig', 'dest'], how ='inner')\n",
    "\n",
    "\n",
    "    df_trn_acc_outbnd = df_trn_acc[df_trn_acc['inbound'] != 1] # returning home\n",
    "    df_rail_od = skim_core_to_df(df_od_pr, 'KNR_TRN_WLK')\n",
    "    df_rail_od = df_rail_od[df_rail_od['rail_od'] > 0]\n",
    "    df_trn_knr_outbnd = pd.merge(df_trn_acc_outbnd, df_rail_od, \n",
    "                              left_on =['orig_taz', 'dest_taz'], \n",
    "                              right_on=['orig', 'dest'], how ='inner')\n",
    "\n",
    "    df_trn_knr = pd.concat([df_trn_knr_inb, df_trn_knr_outbnd], ignore_index=True)\n",
    "    \n",
    "    df_trn_rail = pd.concat([df_trn_wlk, df_trn_pnr, df_trn_knr], ignore_index=True)\n",
    "    df_temp.append(df_trn_rail)\n",
    "\n",
    "df_trn_rail = pd.concat(df_temp)"
   ]
  },
  {
   "cell_type": "code",
   "execution_count": 109,
   "id": "4c247715",
   "metadata": {},
   "outputs": [
    {
     "data": {
      "text/plain": [
       "work        614016\n",
       "social       93426\n",
       "othmaint     64672\n",
       "school       54056\n",
       "shopping     53901\n",
       "othdiscr     51646\n",
       "escort       26677\n",
       "business       662\n",
       "Name: link21_trip_purp, dtype: int64"
      ]
     },
     "execution_count": 109,
     "metadata": {},
     "output_type": "execute_result"
    }
   ],
   "source": [
    "df_trn_rail['link21_trip_purp'].value_counts()"
   ]
  },
  {
   "cell_type": "code",
   "execution_count": 110,
   "id": "ed988050",
   "metadata": {},
   "outputs": [],
   "source": [
    "df_region_period = df_trn_rail.groupby(['Mode', 'Period', 'link21_trip_purp', 'Income'])['trips'].sum().reset_index()\n",
    "\n",
    "df_region_period['Value'] = df_region_period['trips']\n",
    "df_region_period = df_region_period.rename(columns={'link21_trip_purp': 'Purpose'})\n",
    "df_region_period = df_region_period[['Mode', 'Period', 'Purpose', 'Income', 'Value']]\n",
    "\n",
    "df_region_period['Concept_ID'] = concept_id\n",
    "df_region_period['Metric_ID'] = 'A3.1'\n",
    "df_region_period['Metric_name'] = 'Linked trips'\n",
    "df_region_period['Submetric'] = 'A3.1.1'\n",
    "df_region_period['Description'] = 'Average weekday regional linked trips by time period and purpose'\n",
    "df_region_period['Population'] = 'Whole Population'\n",
    "df_region_period['Geography'] = 'Region'\n",
    "df_region_period['Zone_ID'] = ''\n",
    "df_region_period['Origin_zone'] = ''\n",
    "df_region_period['Dest_zone'] = ''\n",
    "df_region_period['Units'] = 'trips'\n",
    "df_region_period['Total_Increment'] = ''"
   ]
  },
  {
   "cell_type": "code",
   "execution_count": 111,
   "id": "7276675c",
   "metadata": {},
   "outputs": [],
   "source": [
    "df_tb = df_trn_rail.groupby(['transbay_od', 'Mode', 'Period', 'link21_trip_purp', 'Income'])['trips'].sum().reset_index()\n",
    "\n",
    "df_tb = df_tb.loc[df_tb['transbay_od'] == 1]\n",
    "\n",
    "df_tb['Value'] = df_tb['trips']\n",
    "df_tb = df_tb.rename(columns={'link21_trip_purp': 'Purpose', \n",
    "                              'transbay_od' : 'Zone_ID'})\n",
    "\n",
    "df_tb = df_tb[['Mode', 'Period', 'Purpose', 'Zone_ID', 'Income' ,'Value']]\n",
    "\n",
    "df_tb['Concept_ID'] = concept_id\n",
    "df_tb['Metric_ID'] = 'A3.1'\n",
    "df_tb['Metric_name'] = 'Linked trips'\n",
    "df_tb['Submetric'] = 'A3.1.2'\n",
    "df_tb['Description'] = 'Average weekday linked trips by time period and purpose in transbay region'\n",
    "df_tb['Population'] = 'Whole Population'\n",
    "df_tb['Geography'] = 'Transbay region'\n",
    "df_tb['Origin_zone'] = ''\n",
    "df_tb['Dest_zone'] = ''\n",
    "df_tb['Units'] = 'trips'\n",
    "df_tb['Total_Increment'] = ''"
   ]
  },
  {
   "cell_type": "code",
   "execution_count": 112,
   "id": "28dc2333",
   "metadata": {},
   "outputs": [],
   "source": [
    "df_cnty = df_trn_rail.groupby(['orig_county', 'dest_county', 'Mode', \n",
    "                            'Period', 'link21_trip_purp', 'Income'])['trips'].sum().reset_index()\n",
    "\n",
    "df_cnty['Value'] = df_cnty['trips']\n",
    "df_cnty = df_cnty.rename(columns={\n",
    "                                  'link21_trip_purp': 'Purpose', \n",
    "                                  'orig_county' : 'Origin_zone',\n",
    "                                  'dest_county' : 'Dest_zone'})\n",
    "df_cnty = df_cnty[['Origin_zone', 'Dest_zone', 'Mode', 'Period', 'Purpose', 'Income', 'Value']]\n",
    "\n",
    "df_cnty['Concept_ID'] = concept_id\n",
    "df_cnty['Metric_ID'] = 'A3.1'\n",
    "df_cnty['Metric_name'] = 'Linked trips'\n",
    "df_cnty['Submetric'] = 'A3.1.3'\n",
    "df_cnty['Description'] = 'Average weekday linked trips between origin and destination county by time period and purpose'\n",
    "df_cnty['Population'] = 'Whole Population'\n",
    "df_cnty['Geography'] = 'County'\n",
    "df_cnty['Zone_ID'] = ''\n",
    "df_cnty['Units'] = 'trips'\n",
    "df_cnty['Total_Increment'] = ''"
   ]
  },
  {
   "cell_type": "code",
   "execution_count": 113,
   "id": "3a5e479f",
   "metadata": {},
   "outputs": [],
   "source": [
    "df_rdm = df_trn_rail.groupby(['orig_rdm_zones', 'dest_rdm_zones', 'Mode', \n",
    "                           'Period', 'link21_trip_purp', 'Income'])['trips'].sum().reset_index()\n",
    "\n",
    "df_rdm['Value'] = df_rdm['trips']\n",
    "df_rdm = df_rdm.rename(columns={\n",
    "                                'link21_trip_purp': 'Purpose', \n",
    "                                'orig_rdm_zones' : 'Origin_zone',\n",
    "                                'dest_rdm_zones' : 'Dest_zone'})\n",
    "\n",
    "df_rdm = df_rdm[['Origin_zone', 'Dest_zone', 'Mode', 'Period', 'Purpose', 'Income', 'Value']]\n",
    "\n",
    "df_rdm['Concept_ID'] = concept_id\n",
    "df_rdm['Metric_ID'] = 'A3.1'\n",
    "df_rdm['Metric_name'] = 'Linked trips'\n",
    "df_rdm['Submetric'] = 'A3.1.4'\n",
    "df_rdm['Description'] = 'Average weekday Linked trips between origin and destination RDM zones by time period and purpose'\n",
    "df_rdm['Population'] = 'Whole Population'\n",
    "df_rdm['Geography'] = 'RDM'\n",
    "df_rdm['Zone_ID'] = ''\n",
    "df_rdm['Units'] = 'trips'\n",
    "df_rdm['Total_Increment'] = ''"
   ]
  },
  {
   "cell_type": "code",
   "execution_count": 114,
   "id": "e2dd2891",
   "metadata": {},
   "outputs": [],
   "source": [
    "df_sd = df_trn_rail.groupby(['orig_super_dist', 'dest_super_dist', 'Mode', \n",
    "                          'Period', 'link21_trip_purp', 'Income'])['trips'].sum().reset_index()\n",
    "\n",
    "df_sd['Value'] = df_sd['trips']\n",
    "\n",
    "df_sd = df_sd.rename(columns={ \n",
    "                              'link21_trip_purp': 'Purpose', \n",
    "                              'orig_super_dist' : 'Origin_zone',\n",
    "                              'dest_super_dist' : 'Dest_zone'})\n",
    "\n",
    "df_sd = df_sd[['Origin_zone', 'Dest_zone', 'Mode', 'Period', 'Purpose', 'Income', 'Value']]\n",
    "\n",
    "df_sd['Concept_ID'] = concept_id\n",
    "df_sd['Metric_ID'] = 'A3.1'\n",
    "df_sd['Metric_name'] = 'Linked trips'\n",
    "df_sd['Submetric'] = 'A3.1.5'\n",
    "df_sd['Description'] = 'Average weekday linked trips between origin and destination super districts by time period and purpose'\n",
    "df_sd['Population'] = 'Whole Population'\n",
    "df_sd['Geography'] = 'Super district'\n",
    "df_sd['Zone_ID'] = ''\n",
    "df_sd['Units'] = 'trips'\n",
    "df_sd['Total_Increment'] = ''"
   ]
  },
  {
   "cell_type": "code",
   "execution_count": 115,
   "id": "e38ab3bb",
   "metadata": {},
   "outputs": [],
   "source": [
    "df_trn_rail['pp_trips'] = df_trn_rail['trips'] * df_trn_rail['pp_share']\n",
    "\n",
    "df_pp = df_trn_rail.groupby(['Mode', 'Period', 'link21_trip_purp', 'Income'])['pp_trips'].sum().reset_index()\n",
    "\n",
    "df_pp['Value'] = df_pp['pp_trips']\n",
    "\n",
    "df_pp = df_pp.rename(columns={'link21_trip_purp': 'Purpose'})\n",
    "\n",
    "df_pp = df_pp[['Mode', 'Period', 'Purpose', 'Income', 'Value']]\n",
    "\n",
    "df_pp['Concept_ID'] = concept_id\n",
    "df_pp['Metric_ID'] = 'A3.1'\n",
    "df_pp['Metric_name'] = 'Linked trips'\n",
    "df_pp['Submetric'] = 'A3.1.6'\n",
    "df_pp['Description'] = 'Average weekday Linked trips between by time period and purpose'\n",
    "df_pp['Population'] = 'Prioirty population'\n",
    "df_pp['Geography'] = 'Region'\n",
    "df_pp['Zone_ID'] = ''\n",
    "df_pp['Origin_zone'] = ''\n",
    "df_pp['Dest_zone'] = ''\n",
    "df_pp['Units'] = 'trips'\n",
    "df_pp['Total_Increment'] = ''"
   ]
  },
  {
   "cell_type": "code",
   "execution_count": null,
   "id": "db8e9394",
   "metadata": {},
   "outputs": [],
   "source": []
  },
  {
   "cell_type": "code",
   "execution_count": null,
   "id": "4891fe89",
   "metadata": {},
   "outputs": [],
   "source": []
  },
  {
   "cell_type": "code",
   "execution_count": null,
   "id": "ca87eb63",
   "metadata": {},
   "outputs": [],
   "source": []
  },
  {
   "cell_type": "markdown",
   "id": "02a1e92f",
   "metadata": {},
   "source": [
    "## Write Outputs"
   ]
  },
  {
   "cell_type": "code",
   "execution_count": 116,
   "id": "01e8ba42",
   "metadata": {},
   "outputs": [
    {
     "name": "stdout",
     "output_type": "stream",
     "text": [
      "426 A3.1.1 Linked trips\n",
      "409 A3.1.2 Linked trips\n",
      "9716 A3.1.3 Linked trips\n",
      "456544 A3.1.4 Linked trips\n",
      "66319 A3.1.5 Linked trips\n",
      "426 A3.1.6 Linked trips\n"
     ]
    }
   ],
   "source": [
    "all_dfs = [df_region_period, df_tb, df_cnty, df_rdm, df_sd, df_pp]\n",
    "\n",
    "for dfs in all_dfs:\n",
    "    metric_name = 'weekday_linked_trips_'\n",
    "    dfs = dfs.reset_index(drop=True)\n",
    "    dfs = dfs[perf_measure_columns]\n",
    "    file_name = dfs['Submetric'][0]\n",
    "    dfs.to_csv(_join(summary_dir, metric_name + file_name + filename_extension + '.csv'), index=None)\n",
    "    print(len(dfs), file_name, dfs['Metric_name'][0])\n",
    "    \n",
    "combined_df = pd.concat([df_region_period, df_tb, df_cnty, df_rdm, df_sd, df_pp]).reset_index(drop=True)\n",
    "combined_df.to_csv(_join(summary_dir, 'weekday_linked_trips_' + 'A3.1' + filename_extension + '.csv'), index=None)"
   ]
  },
  {
   "cell_type": "code",
   "execution_count": 117,
   "id": "ef60ae73",
   "metadata": {},
   "outputs": [
    {
     "name": "stdout",
     "output_type": "stream",
     "text": [
      "426 A3.1.7 Linked trips\n",
      "409 A3.1.8 Linked trips\n",
      "9716 A3.1.9 Linked trips\n",
      "456544 A3.1.10 Linked trips\n",
      "66319 A3.1.11 Linked trips\n",
      "426 A3.1.12 Linked trips\n"
     ]
    }
   ],
   "source": [
    "all_dfs = [df_region_period, df_tb, df_cnty, df_rdm, df_sd, df_pp]\n",
    "\n",
    "i=7\n",
    "for dfs in all_dfs:\n",
    "    \n",
    "    metric_name = 'annual_linked_trips_'\n",
    "    dfs = dfs.reset_index(drop=True)\n",
    "    dfs = dfs[perf_measure_columns]\n",
    "    dfs['Value'] = dfs['Value'] * annual_transit_factor\n",
    "    dfs['Description'] = dfs['Description'].str.replace('Average weekday','Annual')\n",
    "    file_name = 'A3.1.' + str(i) #dfs['Submetric'][0]\n",
    "    dfs.to_csv(_join(summary_dir, metric_name + file_name + filename_extension + '.csv'), index=None)\n",
    "    print(len(dfs), file_name, dfs['Metric_name'][0])\n",
    "    i=i+1\n",
    "    \n",
    "combined_df = pd.concat([df_region_period, df_tb, df_cnty, df_rdm, df_sd, df_pp]).reset_index(drop=True)\n",
    "combined_df.to_csv(_join(summary_dir, 'annual_linked_trips_' + 'A3.1' + filename_extension + '.csv'), index=None)"
   ]
  },
  {
   "cell_type": "code",
   "execution_count": 118,
   "id": "77632c0d",
   "metadata": {},
   "outputs": [],
   "source": [
    "#TO DO : Priority Population"
   ]
  },
  {
   "cell_type": "code",
   "execution_count": 119,
   "id": "a980e86a",
   "metadata": {},
   "outputs": [],
   "source": [
    "#with pd.ExcelWriter(os.path.join(summary_outputs, 'concept-BY15.xlsx'), engine=\"openpyxl\", mode=\"a\", if_sheet_exists=\"replace\") as writer:\n",
    "#    df_region_period.to_excel(writer, sheet_name='A3.1.1', startcol=0, index=False)\n",
    "#    df_tb.to_excel(writer, sheet_name='A3.1.2', startcol=0, index=False)\n",
    "#    df_cnty.to_excel(writer, sheet_name='A3.1.3', startcol=0, index=False)\n",
    "#    df_rdm.to_excel(writer, sheet_name='A3.1.4', startcol=0, index=False)\n",
    "#    df_sd.to_excel(writer, sheet_name='A3.1.5', startcol=0, index=False)"
   ]
  },
  {
   "cell_type": "code",
   "execution_count": null,
   "id": "63f5326e",
   "metadata": {},
   "outputs": [],
   "source": []
  },
  {
   "cell_type": "code",
   "execution_count": null,
   "id": "a8fb9d90",
   "metadata": {},
   "outputs": [],
   "source": []
  },
  {
   "cell_type": "markdown",
   "id": "b2b50896",
   "metadata": {},
   "source": [
    "## B1.2 and B1.4 Commuting Trips - Work and Non-work trips"
   ]
  },
  {
   "cell_type": "code",
   "execution_count": 120,
   "id": "7fe7a6d9",
   "metadata": {},
   "outputs": [],
   "source": [
    "commuting_purposes = params['commuting_purpose_mapping']"
   ]
  },
  {
   "cell_type": "code",
   "execution_count": 121,
   "id": "95d05115",
   "metadata": {},
   "outputs": [],
   "source": [
    "df_trn_rail['wrk_nwrk_purp'] = df_trn_rail['link21_trip_purp'].map(commuting_purposes)"
   ]
  },
  {
   "cell_type": "code",
   "execution_count": 122,
   "id": "96fb75db",
   "metadata": {},
   "outputs": [],
   "source": [
    "work_trips = df_trn_rail.loc[df_trn_rail['wrk_nwrk_purp'] == 'work']"
   ]
  },
  {
   "cell_type": "code",
   "execution_count": 123,
   "id": "d9de6288",
   "metadata": {},
   "outputs": [],
   "source": [
    "df_region_period = work_trips.groupby(['Mode', 'Period', 'wrk_nwrk_purp', 'Income'])['trips'].sum().reset_index()\n",
    "\n",
    "df_region_period['Value'] = df_region_period['trips']\n",
    "df_region_period = df_region_period.rename(columns={'wrk_nwrk_purp': 'Purpose'})\n",
    "df_region_period = df_region_period[['Mode', 'Period', 'Purpose', 'Income', 'Value']]\n",
    "\n",
    "df_region_period['Concept_ID'] = concept_id\n",
    "df_region_period['Metric_ID'] = 'B1.2'\n",
    "df_region_period['Metric_name'] = 'Commute trips on network'\n",
    "df_region_period['Submetric'] = 'B1.2.1'\n",
    "df_region_period['Description'] = 'Average weekday linked rail trips for commuting purpose(home-based work)'\n",
    "df_region_period['Population'] = 'Whole Population'\n",
    "df_region_period['Geography'] = 'Region'\n",
    "df_region_period['Zone_ID'] = ''\n",
    "df_region_period['Origin_zone'] = ''\n",
    "df_region_period['Dest_zone'] = ''\n",
    "df_region_period['Units'] = 'trips'\n",
    "df_region_period['Total_Increment'] = ''"
   ]
  },
  {
   "cell_type": "code",
   "execution_count": 124,
   "id": "12fced12",
   "metadata": {},
   "outputs": [],
   "source": [
    "df_tb = work_trips.groupby(['transbay_od', 'Mode', 'Period', 'wrk_nwrk_purp', 'Income'])['trips'].sum().reset_index()\n",
    "\n",
    "df_tb = df_tb.loc[df_tb['transbay_od'] == 1]\n",
    "\n",
    "df_tb['Value'] = df_tb['trips']\n",
    "df_tb = df_tb.rename(columns={'wrk_nwrk_purp': 'Purpose', 'transbay_od' : 'Zone_ID'})\n",
    "df_tb = df_tb[['Mode', 'Period', 'Purpose', 'Income', 'Value', 'Zone_ID']]\n",
    "\n",
    "df_tb['Concept_ID'] = concept_id\n",
    "df_tb['Metric_ID'] = 'B1.2'\n",
    "df_tb['Metric_name'] = 'Commute trips on network'\n",
    "df_tb['Submetric'] = 'B1.2.2'\n",
    "df_tb['Description'] = 'Average weekday linked rail trips for commuting purpose(home-based work) in transbay region'\n",
    "df_tb['Population'] = 'Whole Population'\n",
    "df_tb['Geography'] = 'Transbay region'\n",
    "#df_region_period['Zone_ID'] =\n",
    "df_tb['Origin_zone'] = ''\n",
    "df_tb['Dest_zone'] = ''\n",
    "df_tb['Units'] = 'trips'\n",
    "df_tb['Total_Increment'] = ''"
   ]
  },
  {
   "cell_type": "code",
   "execution_count": 125,
   "id": "e1d321cf",
   "metadata": {},
   "outputs": [],
   "source": [
    "df_cnty = work_trips.groupby(['orig_county', 'dest_county', 'Mode', \n",
    "                            'Period', 'wrk_nwrk_purp', 'Income'])['trips'].sum().reset_index()\n",
    "\n",
    "df_cnty['Value'] = df_cnty['trips']\n",
    "df_cnty = df_cnty.rename(columns={\n",
    "                                  'wrk_nwrk_purp': 'Purpose', \n",
    "                                  'orig_county' : 'Origin_zone',\n",
    "                                  'dest_county' : 'Dest_zone'})\n",
    "df_cnty = df_cnty[['Origin_zone', 'Dest_zone', 'Mode', 'Period', 'Purpose', 'Income', 'Value']]\n",
    "\n",
    "df_cnty['Concept_ID'] = concept_id\n",
    "df_cnty['Metric_ID'] = 'B1.2'\n",
    "df_cnty['Metric_name'] = 'Commute trips on network'\n",
    "df_cnty['Submetric'] = 'B1.2.3'\n",
    "df_cnty['Description'] = 'Average weekday linked rail trips for commuting purpose(home-based work) in origin and destination county'\n",
    "df_cnty['Population'] = 'Whole Population'\n",
    "df_cnty['Geography'] = 'County'\n",
    "df_cnty['Zone_ID'] = ''\n",
    "#df_cnty['Origin_zone'] = ''\n",
    "#df_cnty['Dest_zone'] = ''\n",
    "df_cnty['Units'] = 'trips'\n",
    "df_cnty['Total_Increment'] = ''"
   ]
  },
  {
   "cell_type": "code",
   "execution_count": 126,
   "id": "55c44dcb",
   "metadata": {},
   "outputs": [],
   "source": [
    "df_rdm = work_trips.groupby(['orig_rdm_zones', 'dest_rdm_zones', 'Mode', \n",
    "                           'Period', 'wrk_nwrk_purp', 'Income'])['trips'].sum().reset_index()\n",
    "\n",
    "df_rdm['Value'] = df_rdm['trips']\n",
    "df_rdm = df_rdm.rename(columns={\n",
    "                                'wrk_nwrk_purp': 'Purpose', \n",
    "                                'orig_rdm_zones' : 'Origin_zone',\n",
    "                                'dest_rdm_zones' : 'Dest_zone'})\n",
    "\n",
    "df_rdm = df_rdm[['Origin_zone', 'Dest_zone', 'Mode', 'Period', 'Purpose', 'Income', 'Value']]\n",
    "\n",
    "df_rdm['Concept_ID'] = concept_id\n",
    "df_rdm['Metric_ID'] = 'B1.2'\n",
    "df_rdm['Metric_name'] = 'Commute trips on network'\n",
    "df_rdm['Submetric'] = 'B1.2.4'\n",
    "df_rdm['Description'] = 'Average weekday linked rail trips for commuting purpose(home-based work) in origin and destination RDM zone'\n",
    "df_rdm['Population'] = 'Whole Population'\n",
    "df_rdm['Geography'] = 'RDM'\n",
    "df_rdm['Zone_ID'] = ''\n",
    "#df_cnty['Origin_zone'] = ''\n",
    "#df_cnty['Dest_zone'] = ''\n",
    "df_rdm['Units'] = 'trips'\n",
    "df_rdm['Total_Increment'] = ''"
   ]
  },
  {
   "cell_type": "code",
   "execution_count": 127,
   "id": "67d18156",
   "metadata": {},
   "outputs": [],
   "source": [
    "df_sd = work_trips.groupby(['orig_super_dist', 'dest_super_dist', 'Mode', \n",
    "                          'Period', 'wrk_nwrk_purp', 'Income'])['trips'].sum().reset_index()\n",
    "\n",
    "df_sd['Value'] = df_sd['trips']\n",
    "\n",
    "df_sd = df_sd.rename(columns={ \n",
    "                              'wrk_nwrk_purp': 'Purpose', \n",
    "                              'orig_super_dist' : 'Origin_zone',\n",
    "                              'dest_super_dist' : 'Dest_zone'})\n",
    "df_sd = df_sd[['Origin_zone', 'Dest_zone', 'Mode', 'Period', 'Purpose', 'Income', 'Value']]\n",
    "\n",
    "df_sd['Concept_ID'] = concept_id\n",
    "df_sd['Metric_ID'] = 'B1.2'\n",
    "df_sd['Metric_name'] = 'Commute trips on network'\n",
    "df_sd['Submetric'] = 'B1.2.5'\n",
    "df_sd['Description'] = 'Average weekday linked rail trips for commuting purpose(home-based work) in origin and destination super district'\n",
    "df_sd['Population'] = 'Whole Population'\n",
    "df_sd['Geography'] = 'Super district'\n",
    "df_sd['Zone_ID'] = ''\n",
    "#df_cnty['Origin_zone'] = ''\n",
    "#df_cnty['Dest_zone'] = ''\n",
    "df_sd['Units'] = 'trips'\n",
    "df_sd['Total_Increment'] = ''"
   ]
  },
  {
   "cell_type": "code",
   "execution_count": 128,
   "id": "26d35484",
   "metadata": {},
   "outputs": [],
   "source": [
    "work_trips['pp_trips'] = work_trips['trips'] * work_trips['pp_share']\n",
    "\n",
    "df_pp = work_trips.groupby(['Mode', 'Period', 'link21_trip_purp', 'Income'])['pp_trips'].sum().reset_index()\n",
    "\n",
    "df_pp['Value'] = df_pp['pp_trips']\n",
    "\n",
    "df_pp = df_pp.rename(columns={'link21_trip_purp': 'Purpose'})\n",
    "\n",
    "df_pp = df_pp[['Mode', 'Period', 'Purpose', 'Income', 'Value']]\n",
    "\n",
    "df_pp['Concept_ID'] = concept_id\n",
    "df_pp['Metric_ID'] = 'B1.2'\n",
    "df_pp['Metric_name'] = 'Commute trips on network'\n",
    "df_pp['Submetric'] = 'B1.2.6'\n",
    "df_pp['Description'] = 'Average weekday linked rail trips for commuting purpose(home-based work)'\n",
    "df_pp['Population'] = 'Prioirty population'\n",
    "df_pp['Geography'] = 'Region'\n",
    "df_pp['Zone_ID'] = ''\n",
    "df_pp['Origin_zone'] = ''\n",
    "df_pp['Dest_zone'] = ''\n",
    "df_pp['Units'] = 'trips'\n",
    "df_pp['Total_Increment'] = ''"
   ]
  },
  {
   "cell_type": "code",
   "execution_count": 129,
   "id": "da537ab2",
   "metadata": {},
   "outputs": [
    {
     "name": "stdout",
     "output_type": "stream",
     "text": [
      "60 B1.2.1 Commute trips on network\n",
      "60 B1.2.2 Commute trips on network\n",
      "2508 B1.2.3 Commute trips on network\n",
      "253585 B1.2.4 Commute trips on network\n",
      "24963 B1.2.5 Commute trips on network\n",
      "60 B1.2.6 Commute trips on network\n"
     ]
    }
   ],
   "source": [
    "all_dfs = [df_region_period, df_tb, df_cnty, df_rdm, df_sd, df_pp]\n",
    "\n",
    "for dfs in all_dfs:\n",
    "    metric_name = 'weekday_commute_trips_on_network_'\n",
    "    dfs = dfs.reset_index(drop=True)\n",
    "    dfs = dfs[perf_measure_columns]\n",
    "    file_name = dfs['Submetric'][0]\n",
    "    dfs.to_csv(_join(summary_dir, metric_name + file_name + filename_extension + '.csv'), index=None)\n",
    "    print(len(dfs), file_name, dfs['Metric_name'][0])\n",
    "    \n",
    "combined_df = pd.concat([df_region_period, df_tb, df_cnty, df_rdm, df_sd, df_pp]).reset_index(drop=True)\n",
    "combined_df.to_csv(_join(summary_dir, 'weekday_commute_trips_on_network_' + 'B1.2' + filename_extension + '.csv'), index=None)"
   ]
  },
  {
   "cell_type": "code",
   "execution_count": 130,
   "id": "c21c0c29",
   "metadata": {},
   "outputs": [
    {
     "name": "stdout",
     "output_type": "stream",
     "text": [
      "60 B1.2.7 Commute trips on network\n",
      "60 B1.2.8 Commute trips on network\n",
      "2508 B1.2.9 Commute trips on network\n",
      "253585 B1.2.10 Commute trips on network\n",
      "24963 B1.2.11 Commute trips on network\n",
      "60 B1.2.12 Commute trips on network\n"
     ]
    }
   ],
   "source": [
    "all_dfs = [df_region_period, df_tb, df_cnty, df_rdm, df_sd, df_pp]\n",
    "i=7\n",
    "\n",
    "for dfs in all_dfs:\n",
    "   \n",
    "    metric_name = 'annual_commute_trips_on_network_'\n",
    "    dfs = dfs.reset_index(drop=True)\n",
    "    dfs = dfs[perf_measure_columns]\n",
    "    dfs['Value'] = dfs['Value'] * annual_transit_factor\n",
    "    dfs['Description'] = dfs['Description'].str.replace('Average weekday','Annual')\n",
    "    file_name = 'B1.2.' + str(i) #dfs['Submetric'][0]\n",
    "    dfs.to_csv(_join(summary_dir, metric_name + file_name + filename_extension + '.csv'), index=None)\n",
    "    print(len(dfs), file_name, dfs['Metric_name'][0])\n",
    "    i=i+1\n",
    "    \n",
    "combined_df = pd.concat([df_region_period, df_tb, df_cnty, df_rdm, df_sd, df_pp]).reset_index(drop=True)\n",
    "combined_df.to_csv(_join(summary_dir, 'annual_commute_trips_on_network_' + 'B1.2' + filename_extension + '.csv'), index=None)"
   ]
  },
  {
   "cell_type": "markdown",
   "id": "a5c962f4",
   "metadata": {},
   "source": [
    "## B1.4 "
   ]
  },
  {
   "cell_type": "code",
   "execution_count": 131,
   "id": "6f9a3823",
   "metadata": {},
   "outputs": [],
   "source": [
    "non_work_trips = df_trn_rail.loc[df_trn_rail['wrk_nwrk_purp'] == 'non-work']"
   ]
  },
  {
   "cell_type": "code",
   "execution_count": 132,
   "id": "bf69c714",
   "metadata": {},
   "outputs": [],
   "source": [
    "df_region_period = non_work_trips.groupby(['Mode', 'Period', 'wrk_nwrk_purp', 'Income'])['trips'].sum().reset_index()\n",
    "\n",
    "df_region_period['Value'] = df_region_period['trips']\n",
    "df_region_period = df_region_period.rename(columns={'wrk_nwrk_purp': 'Purpose'})\n",
    "df_region_period = df_region_period[['Mode', 'Period', 'Purpose', 'Income', 'Value']]\n",
    "\n",
    "df_region_period['Concept_ID'] = concept_id\n",
    "df_region_period['Metric_ID'] = 'B1.4'\n",
    "df_region_period['Metric_name'] = 'Non-work trips on network'\n",
    "df_region_period['Submetric'] = 'B1.4.1'\n",
    "df_region_period['Description'] = 'Average weekday linked rail trips for non-work purpose'\n",
    "df_region_period['Population'] = 'Whole Population'\n",
    "df_region_period['Geography'] = 'Region'\n",
    "df_region_period['Zone_ID'] = ''\n",
    "df_region_period['Origin_zone'] = ''\n",
    "df_region_period['Dest_zone'] = ''\n",
    "df_region_period['Units'] = 'trips'\n",
    "df_region_period['Total_Increment'] = ''"
   ]
  },
  {
   "cell_type": "code",
   "execution_count": 133,
   "id": "d9d33995",
   "metadata": {},
   "outputs": [],
   "source": [
    "df_tb = non_work_trips.groupby(['transbay_od', 'Mode', 'Period', 'wrk_nwrk_purp', 'Income'])['trips'].sum().reset_index()\n",
    "\n",
    "df_tb = df_tb.loc[df_tb['transbay_od'] == 1]\n",
    "\n",
    "df_tb['Value'] = df_tb['trips']/df_tb['trips'].sum()\n",
    "df_tb = df_tb.rename(columns={'wrk_nwrk_purp': 'Purpose', 'transbay_od' : 'Zone_ID'})\n",
    "df_tb = df_tb[['Mode', 'Period', 'Purpose','Income', 'Value', 'Zone_ID']]\n",
    "\n",
    "df_tb['Concept_ID'] = concept_id\n",
    "df_tb['Metric_ID'] = 'B1.4'\n",
    "df_tb['Metric_name'] = 'Non-work trips on network'\n",
    "df_tb['Submetric'] = 'B1.4.2'\n",
    "df_tb['Description'] = 'Average weekday linked rail trips for non-work purpose in transbay region'\n",
    "df_tb['Population'] = 'Whole Population'\n",
    "df_tb['Geography'] = 'Transbay region'\n",
    "#df_region_period['Zone_ID'] =\n",
    "df_tb['Origin_zone'] = ''\n",
    "df_tb['Dest_zone'] = ''\n",
    "df_tb['Units'] = 'trips'\n",
    "df_tb['Total_Increment'] = ''"
   ]
  },
  {
   "cell_type": "code",
   "execution_count": 134,
   "id": "ccc8210e",
   "metadata": {},
   "outputs": [],
   "source": [
    "df_cnty = non_work_trips.groupby(['orig_county', 'dest_county', 'Mode', \n",
    "                            'Period', 'wrk_nwrk_purp', 'Income'])['trips'].sum().reset_index()\n",
    "\n",
    "df_cnty['Value'] = df_cnty['trips']\n",
    "df_cnty = df_cnty.rename(columns={\n",
    "                                  'wrk_nwrk_purp': 'Purpose', \n",
    "                                  'orig_county' : 'Origin_zone',\n",
    "                                  'dest_county' : 'Dest_zone'})\n",
    "df_cnty = df_cnty[['Origin_zone', 'Dest_zone', 'Mode', 'Period', 'Purpose', 'Income', 'Value']]\n",
    "\n",
    "df_cnty['Concept_ID'] = concept_id\n",
    "df_cnty['Metric_ID'] = 'B1.4'\n",
    "df_cnty['Metric_name'] = 'Non-work trips on network'\n",
    "df_cnty['Submetric'] = 'B1.4.3'\n",
    "df_cnty['Description'] = 'Average weekday linked rail trips for non-work purpose in origin and destination counties'\n",
    "df_cnty['Population'] = 'Whole Population'\n",
    "df_cnty['Geography'] = 'County'\n",
    "df_cnty['Zone_ID'] = ''\n",
    "#df_cnty['Origin_zone'] = ''\n",
    "#df_cnty['Dest_zone'] = ''\n",
    "df_cnty['Units'] = 'trips'\n",
    "df_cnty['Total_Increment'] = ''"
   ]
  },
  {
   "cell_type": "code",
   "execution_count": 135,
   "id": "9a41ab6f",
   "metadata": {},
   "outputs": [],
   "source": [
    "df_rdm = non_work_trips.groupby(['orig_rdm_zones', 'dest_rdm_zones', 'Mode', \n",
    "                           'Period', 'wrk_nwrk_purp', 'Income'])['trips'].sum().reset_index()\n",
    "\n",
    "df_rdm['Value'] = df_rdm['trips']\n",
    "df_rdm = df_rdm.rename(columns={\n",
    "                                'wrk_nwrk_purp': 'Purpose', \n",
    "                                'orig_rdm_zones' : 'Origin_zone',\n",
    "                                'dest_rdm_zones' : 'Dest_zone'})\n",
    "\n",
    "df_rdm = df_rdm[['Origin_zone', 'Dest_zone', 'Mode', 'Period', 'Purpose', 'Income', 'Value']]\n",
    "\n",
    "df_rdm['Concept_ID'] = concept_id\n",
    "df_rdm['Metric_ID'] = 'B1.4'\n",
    "df_rdm['Metric_name'] = 'Non-work trips on network'\n",
    "df_rdm['Submetric'] = 'B1.4.4'\n",
    "df_rdm['Description'] = 'Average weekday linked rail trips for non-work purpose in origin and destination RDM zones'\n",
    "df_rdm['Population'] = 'Whole Population'\n",
    "df_rdm['Geography'] = 'RDM'\n",
    "df_rdm['Zone_ID'] = ''\n",
    "#df_cnty['Origin_zone'] = ''\n",
    "#df_cnty['Dest_zone'] = ''\n",
    "df_rdm['Units'] = 'trips'\n",
    "df_rdm['Total_Increment'] = ''"
   ]
  },
  {
   "cell_type": "code",
   "execution_count": 136,
   "id": "6e6db6c9",
   "metadata": {},
   "outputs": [],
   "source": [
    "df_sd = non_work_trips.groupby(['orig_super_dist', 'dest_super_dist', 'Mode', \n",
    "                          'Period', 'wrk_nwrk_purp', 'Income'])['trips'].sum().reset_index()\n",
    "\n",
    "df_sd['Value'] = df_sd['trips']\n",
    "\n",
    "df_sd = df_sd.rename(columns={ \n",
    "                              'wrk_nwrk_purp': 'Purpose', \n",
    "                              'orig_super_dist' : 'Origin_zone',\n",
    "                              'dest_super_dist' : 'Dest_zone'})\n",
    "df_sd = df_sd[['Origin_zone', 'Dest_zone', 'Mode', 'Period', 'Purpose', 'Income', 'Value']]\n",
    "\n",
    "df_sd['Concept_ID'] = concept_id\n",
    "df_sd['Metric_ID'] = 'B1.4'\n",
    "df_sd['Metric_name'] = 'Non-work trips on network'\n",
    "df_sd['Submetric'] = 'B1.4.5'\n",
    "df_sd['Description'] = 'Average weekday linked rail trips for non-work purpose in orgin and destination super district'\n",
    "df_sd['Population'] = 'Whole Population'\n",
    "df_sd['Geography'] = 'Super district'\n",
    "df_sd['Zone_ID'] = ''\n",
    "#df_cnty['Origin_zone'] = ''\n",
    "#df_cnty['Dest_zone'] = ''\n",
    "df_sd['Units'] = 'trips'\n",
    "df_sd['Total_Increment'] = ''"
   ]
  },
  {
   "cell_type": "code",
   "execution_count": 137,
   "id": "d7709cb8",
   "metadata": {},
   "outputs": [],
   "source": [
    "non_work_trips['pp_trips'] = non_work_trips['trips'] * non_work_trips['pp_share']\n",
    "\n",
    "df_pp = non_work_trips.groupby(['Mode', 'Period', 'link21_trip_purp', 'Income'])['pp_trips'].sum().reset_index()\n",
    "\n",
    "df_pp['Value'] = df_pp['pp_trips']\n",
    "\n",
    "df_pp = df_pp.rename(columns={ 'link21_trip_purp': 'Purpose'})\n",
    "\n",
    "df_pp = df_pp[['Mode', 'Period', 'Purpose', 'Income', 'Value']]\n",
    "\n",
    "df_pp['Concept_ID'] = concept_id\n",
    "df_pp['Metric_ID'] = 'B1.4'\n",
    "df_pp['Metric_name'] = 'Commute trips on network'\n",
    "df_pp['Submetric'] = 'B1.4.6'\n",
    "df_pp['Description'] = 'Average weekday linked rail trips for commuting purpose(home-based work)'\n",
    "df_pp['Population'] = 'Prioirty population'\n",
    "df_pp['Geography'] = 'Region'\n",
    "df_pp['Zone_ID'] = ''\n",
    "df_pp['Origin_zone'] = ''\n",
    "df_pp['Dest_zone'] = ''\n",
    "df_pp['Units'] = 'trips'\n",
    "df_pp['Total_Increment'] = ''"
   ]
  },
  {
   "cell_type": "code",
   "execution_count": 138,
   "id": "fe42e59e",
   "metadata": {},
   "outputs": [
    {
     "name": "stdout",
     "output_type": "stream",
     "text": [
      "60 B1.4.1 Non-work trips on network\n",
      "60 B1.4.2 Non-work trips on network\n",
      "1919 B1.4.3 Non-work trips on network\n",
      "135732 B1.4.4 Non-work trips on network\n",
      "15666 B1.4.5 Non-work trips on network\n",
      "366 B1.4.6 Commute trips on network\n"
     ]
    }
   ],
   "source": [
    "all_dfs = [df_region_period, df_tb, df_cnty, df_rdm, df_sd, df_pp]\n",
    "\n",
    "for dfs in all_dfs:\n",
    "    metric_name = 'weekday_non_work_trips_on_network_'\n",
    "    dfs = dfs.reset_index(drop=True)\n",
    "    dfs = dfs[perf_measure_columns]\n",
    "    file_name = dfs['Submetric'][0]\n",
    "    dfs.to_csv(_join(summary_dir, metric_name + file_name + filename_extension + '.csv'), index=None)\n",
    "    print(len(dfs), file_name, dfs['Metric_name'][0])\n",
    "    \n",
    "combined_df = pd.concat([df_region_period, df_tb, df_cnty, df_rdm, df_sd, df_pp]).reset_index(drop=True)\n",
    "combined_df.to_csv(_join(summary_dir, 'weekday_non_work_trips_on_network_' + 'B1.4' + filename_extension + '.csv'), index=None)"
   ]
  },
  {
   "cell_type": "code",
   "execution_count": 139,
   "id": "26972fb8",
   "metadata": {},
   "outputs": [
    {
     "name": "stdout",
     "output_type": "stream",
     "text": [
      "60 B1.4.7 Non-work trips on network\n",
      "60 B1.4.8 Non-work trips on network\n",
      "1919 B1.4.9 Non-work trips on network\n",
      "135732 B1.4.10 Non-work trips on network\n",
      "15666 B1.4.11 Non-work trips on network\n",
      "366 B1.4.12 Commute trips on network\n"
     ]
    }
   ],
   "source": [
    "all_dfs = [df_region_period, df_tb, df_cnty, df_rdm, df_sd, df_pp]\n",
    "\n",
    "i=7\n",
    "for dfs in all_dfs:   \n",
    "    metric_name = 'annual_non_work_trips_on_network_'\n",
    "    dfs = dfs.reset_index(drop=True)\n",
    "    dfs = dfs[perf_measure_columns]\n",
    "    dfs['Value'] = dfs['Value'] * annual_transit_factor\n",
    "    dfs['Description'] = dfs['Description'].str.replace('Average weekday','Annual')\n",
    "    file_name = 'B1.4.' + str(i) #dfs['Submetric'][0]\n",
    "    dfs.to_csv(_join(summary_dir, metric_name + file_name + filename_extension + '.csv'), index=None)\n",
    "    print(len(dfs), file_name, dfs['Metric_name'][0])\n",
    "    i=i+1\n",
    "    \n",
    "combined_df = pd.concat([df_region_period, df_tb, df_cnty, df_rdm, df_sd, df_pp]).reset_index(drop=True)\n",
    "combined_df.to_csv(_join(summary_dir, 'annual_non_work_trips_on_network_' + 'B1.4' + filename_extension + '.csv'), index=None)"
   ]
  },
  {
   "cell_type": "code",
   "execution_count": null,
   "id": "6a24c8ae",
   "metadata": {},
   "outputs": [],
   "source": []
  },
  {
   "cell_type": "code",
   "execution_count": null,
   "id": "ad468a24",
   "metadata": {},
   "outputs": [],
   "source": []
  },
  {
   "cell_type": "markdown",
   "id": "4593061e",
   "metadata": {},
   "source": [
    "## C2.2"
   ]
  },
  {
   "cell_type": "code",
   "execution_count": 140,
   "id": "222f11fe",
   "metadata": {},
   "outputs": [],
   "source": [
    "df_business = df_trn_rail.loc[df_trn_rail['link21_trip_purp'] == 'business']"
   ]
  },
  {
   "cell_type": "code",
   "execution_count": 141,
   "id": "c2f46aa2",
   "metadata": {},
   "outputs": [],
   "source": [
    "df_region_period = df_business.groupby(['Mode', 'Period', 'link21_trip_purp', 'Income'])['trips'].sum().reset_index()\n",
    "\n",
    "df_region_period['Value'] = df_region_period['trips']\n",
    "df_region_period = df_region_period.rename(columns={'link21_trip_purp': 'Purpose'})\n",
    "df_region_period = df_region_period[['Mode', 'Period', 'Purpose', 'Income', 'Value']]\n",
    "\n",
    "df_region_period['Concept_ID'] = concept_id\n",
    "df_region_period['Metric_ID'] = 'C2.2'\n",
    "df_region_period['Metric_name'] = 'Business to Business trips'\n",
    "df_region_period['Submetric'] = 'C2.2.1'\n",
    "df_region_period['Description'] = 'Average weekday linked rail trips for non-work purpose'\n",
    "df_region_period['Population'] = 'Whole Population'\n",
    "df_region_period['Geography'] = 'Region'\n",
    "df_region_period['Zone_ID'] = ''\n",
    "df_region_period['Origin_zone'] = ''\n",
    "df_region_period['Dest_zone'] = ''\n",
    "df_region_period['Units'] = 'trips'\n",
    "df_region_period['Total_Increment'] = ''"
   ]
  },
  {
   "cell_type": "code",
   "execution_count": 142,
   "id": "9c528b0b",
   "metadata": {},
   "outputs": [],
   "source": [
    "df_tb = df_business.groupby(['transbay_od', 'Mode', 'Period', 'wrk_nwrk_purp', 'Income'])['trips'].sum().reset_index()\n",
    "\n",
    "df_tb = df_tb.loc[df_tb['transbay_od'] == 1]\n",
    "\n",
    "df_tb['Value'] = df_tb['trips']/df_tb['trips'].sum()\n",
    "df_tb = df_tb.rename(columns={'wrk_nwrk_purp': 'Purpose', 'transbay_od' : 'Zone_ID'})\n",
    "df_tb = df_tb[['Mode', 'Period', 'Purpose', 'Income', 'Value', 'Zone_ID']]\n",
    "\n",
    "df_tb['Concept_ID'] = concept_id\n",
    "df_tb['Metric_ID'] = 'C2.2'\n",
    "df_tb['Metric_name'] = 'Business to Business trips'\n",
    "df_tb['Submetric'] = 'C2.2.2'\n",
    "df_tb['Description'] = 'Average weekday linked rail trips for business purpose in transbay region'\n",
    "df_tb['Population'] = 'Whole Population'\n",
    "df_tb['Geography'] = 'Transbay region'\n",
    "#df_region_period['Zone_ID'] =\n",
    "df_tb['Origin_zone'] = ''\n",
    "df_tb['Dest_zone'] = ''\n",
    "df_tb['Units'] = 'trips'\n",
    "df_tb['Total_Increment'] = ''"
   ]
  },
  {
   "cell_type": "code",
   "execution_count": 143,
   "id": "ae89d7c7",
   "metadata": {},
   "outputs": [],
   "source": [
    "df_cnty = df_business.groupby(['orig_county', 'dest_county', 'Mode', \n",
    "                            'Period', 'wrk_nwrk_purp', 'Income'])['trips'].sum().reset_index()\n",
    "\n",
    "df_cnty['Value'] = df_cnty['trips']\n",
    "df_cnty = df_cnty.rename(columns={\n",
    "                                  'wrk_nwrk_purp': 'Purpose', \n",
    "                                  'orig_county' : 'Origin_zone',\n",
    "                                  'dest_county' : 'Dest_zone'})\n",
    "df_cnty = df_cnty[['Origin_zone', 'Dest_zone', 'Mode', 'Period', 'Purpose', 'Income', 'Value']]\n",
    "\n",
    "df_cnty['Concept_ID'] = concept_id\n",
    "df_cnty['Metric_ID'] = 'C2.2'\n",
    "df_cnty['Metric_name'] = 'Business to Business trips'\n",
    "df_cnty['Submetric'] = 'C2.2.3'\n",
    "df_cnty['Description'] = 'Average weekday linked rail trips for business purpose in origin and destination county'\n",
    "df_cnty['Population'] = 'Whole Population'\n",
    "df_cnty['Geography'] = 'County'\n",
    "df_cnty['Zone_ID'] = ''\n",
    "#df_cnty['Origin_zone'] = ''\n",
    "#df_cnty['Dest_zone'] = ''\n",
    "df_cnty['Units'] = 'trips'\n",
    "df_cnty['Total_Increment'] = ''"
   ]
  },
  {
   "cell_type": "code",
   "execution_count": 144,
   "id": "a50c8603",
   "metadata": {},
   "outputs": [],
   "source": [
    "df_rdm = df_business.groupby(['orig_rdm_zones', 'dest_rdm_zones', 'Mode', \n",
    "                           'Period', 'wrk_nwrk_purp', 'Income'])['trips'].sum().reset_index()\n",
    "\n",
    "df_rdm['Value'] = df_rdm['trips']\n",
    "df_rdm = df_rdm.rename(columns={\n",
    "                                'wrk_nwrk_purp': 'Purpose', \n",
    "                                'orig_rdm_zones' : 'Origin_zone',\n",
    "                                'dest_rdm_zones' : 'Dest_zone'})\n",
    "\n",
    "df_rdm = df_rdm[['Origin_zone', 'Dest_zone', 'Mode', 'Period', 'Purpose', 'Income', 'Value']]\n",
    "\n",
    "df_rdm['Concept_ID'] = concept_id\n",
    "df_rdm['Metric_ID'] = 'C2.2'\n",
    "df_rdm['Metric_name'] = 'Business to Business trips'\n",
    "df_rdm['Submetric'] = 'C2.2.4'\n",
    "df_rdm['Description'] = 'Average weekday linked rail trips for business purpose in origin and destination RDM zones'\n",
    "df_rdm['Population'] = 'Whole Population'\n",
    "df_rdm['Geography'] = 'RDM'\n",
    "df_rdm['Zone_ID'] = ''\n",
    "#df_cnty['Origin_zone'] = ''\n",
    "#df_cnty['Dest_zone'] = ''\n",
    "df_rdm['Units'] = 'trips'\n",
    "df_rdm['Total_Increment'] = ''"
   ]
  },
  {
   "cell_type": "code",
   "execution_count": 145,
   "id": "21d1ecad",
   "metadata": {},
   "outputs": [],
   "source": [
    "df_sd = df_business.groupby(['orig_super_dist', 'dest_super_dist', 'Mode', \n",
    "                          'Period', 'wrk_nwrk_purp', 'Income'])['trips'].sum().reset_index()\n",
    "\n",
    "df_sd['Value'] = df_sd['trips']\n",
    "\n",
    "df_sd = df_sd.rename(columns={ \n",
    "                              'wrk_nwrk_purp': 'Purpose', \n",
    "                              'orig_super_dist' : 'Origin_zone',\n",
    "                              'dest_super_dist' : 'Dest_zone'})\n",
    "df_sd = df_sd[['Origin_zone', 'Dest_zone', 'Mode', 'Period', 'Purpose', 'Income', 'Value']]\n",
    "\n",
    "df_sd['Concept_ID'] = concept_id\n",
    "df_sd['Metric_ID'] = 'C2.2'\n",
    "df_sd['Metric_name'] = 'Business to Business trips'\n",
    "df_sd['Submetric'] = 'C2.2.5'\n",
    "df_sd['Description'] = 'Average weekday linked rail trips for business purpose in origin and destination super districts'\n",
    "df_sd['Population'] = 'Whole Population'\n",
    "df_sd['Geography'] = 'Super district'\n",
    "df_sd['Zone_ID'] = ''\n",
    "#df_cnty['Origin_zone'] = ''\n",
    "#df_cnty['Dest_zone'] = ''\n",
    "df_sd['Units'] = 'trips'\n",
    "df_sd['Total_Increment'] = ''"
   ]
  },
  {
   "cell_type": "code",
   "execution_count": 146,
   "id": "97400fbe",
   "metadata": {},
   "outputs": [],
   "source": [
    "df_business['pp_trips'] = df_business['trips'] * df_business['pp_share']\n",
    "\n",
    "df_pp = df_business.groupby(['Mode', 'Period', 'link21_trip_purp', 'Income'])['pp_trips'].sum().reset_index()\n",
    "\n",
    "df_pp['Value'] = df_pp['pp_trips']\n",
    "\n",
    "df_pp = df_pp.rename(columns={'link21_trip_purp': 'Purpose'})\n",
    "\n",
    "df_pp = df_pp[['Mode', 'Period', 'Purpose', 'Income', 'Value']]\n",
    "\n",
    "df_pp['Concept_ID'] = concept_id\n",
    "df_pp['Metric_ID'] = 'C2.2'\n",
    "df_pp['Metric_name'] = 'Business to Business trips'\n",
    "df_pp['Submetric'] = 'C2.2.6'\n",
    "df_pp['Description'] = 'Average weekday linked rail trips for business purpose'\n",
    "df_pp['Population'] = 'Prioirty population'\n",
    "df_pp['Geography'] = 'Region'\n",
    "df_pp['Zone_ID'] = ''\n",
    "df_pp['Origin_zone'] = ''\n",
    "df_pp['Dest_zone'] = ''\n",
    "df_pp['Units'] = 'trips'\n",
    "df_pp['Total_Increment'] = ''"
   ]
  },
  {
   "cell_type": "code",
   "execution_count": 147,
   "id": "10a9f74a",
   "metadata": {},
   "outputs": [
    {
     "name": "stdout",
     "output_type": "stream",
     "text": [
      "13 C2.2.1 Business to Business trips\n",
      "9 C2.2.2 Business to Business trips\n",
      "89 C2.2.3 Business to Business trips\n",
      "526 C2.2.4 Business to Business trips\n",
      "211 C2.2.5 Business to Business trips\n",
      "13 C2.2.6 Business to Business trips\n"
     ]
    }
   ],
   "source": [
    "all_dfs = [df_region_period, df_tb, df_cnty, df_rdm, df_sd, df_pp]\n",
    "\n",
    "for dfs in all_dfs:\n",
    "    metric_name = 'weekday_business_to_business_trips_'\n",
    "    dfs = dfs.reset_index(drop=True)\n",
    "    dfs = dfs[perf_measure_columns]\n",
    "    file_name = dfs['Submetric'][0]\n",
    "    dfs.to_csv(_join(summary_dir, metric_name + file_name + filename_extension + '.csv'), index=None)\n",
    "    print(len(dfs), file_name, dfs['Metric_name'][0])\n",
    "    \n",
    "combined_df = pd.concat([df_region_period, df_tb, df_cnty, df_rdm, df_sd, df_pp]).reset_index(drop=True)\n",
    "combined_df.to_csv(_join(summary_dir, 'weekday_business_to_business_trips_' + 'C2.2' + filename_extension + '.csv'), index=None)"
   ]
  },
  {
   "cell_type": "code",
   "execution_count": 148,
   "id": "6a42e90f",
   "metadata": {},
   "outputs": [
    {
     "name": "stdout",
     "output_type": "stream",
     "text": [
      "13 C2.2.7 Business to Business trips\n",
      "9 C2.2.8 Business to Business trips\n",
      "89 C2.2.9 Business to Business trips\n",
      "526 C2.2.10 Business to Business trips\n",
      "211 C2.2.11 Business to Business trips\n",
      "13 C2.2.12 Business to Business trips\n"
     ]
    }
   ],
   "source": [
    "all_dfs = [df_region_period, df_tb, df_cnty, df_rdm, df_sd, df_pp]\n",
    "i=7\n",
    "for dfs in all_dfs:\n",
    "\n",
    "    metric_name = 'annual_business_to_business_trips_'\n",
    "    dfs = dfs.reset_index(drop=True)\n",
    "    dfs = dfs[perf_measure_columns]\n",
    "    dfs['Value'] = dfs['Value'] * annual_transit_factor\n",
    "    dfs['Description'] = dfs['Description'].str.replace('Average weekday','Annual')\n",
    "    file_name = 'C2.2.' + str(i) #dfs['Submetric'][0]\n",
    "    dfs.to_csv(_join(summary_dir, metric_name + file_name + filename_extension + '.csv'), index=None)\n",
    "    print(len(dfs), file_name, dfs['Metric_name'][0])\n",
    "    i=i+1\n",
    "    \n",
    "combined_df = pd.concat([df_region_period, df_tb, df_cnty, df_rdm, df_sd, df_pp]).reset_index(drop=True)\n",
    "combined_df.to_csv(_join(summary_dir, 'annual_business_to_business_trips_' + 'C2.2' + filename_extension + '.csv'), index=None)"
   ]
  },
  {
   "cell_type": "code",
   "execution_count": null,
   "id": "bd8d5b61",
   "metadata": {},
   "outputs": [],
   "source": []
  },
  {
   "cell_type": "code",
   "execution_count": null,
   "id": "490bd135",
   "metadata": {},
   "outputs": [],
   "source": []
  }
 ],
 "metadata": {
  "kernelspec": {
   "display_name": "Python 3 (ipykernel)",
   "language": "python",
   "name": "python3"
  },
  "language_info": {
   "codemirror_mode": {
    "name": "ipython",
    "version": 3
   },
   "file_extension": ".py",
   "mimetype": "text/x-python",
   "name": "python",
   "nbconvert_exporter": "python",
   "pygments_lexer": "ipython3",
   "version": "3.7.6"
  }
 },
 "nbformat": 4,
 "nbformat_minor": 5
}
