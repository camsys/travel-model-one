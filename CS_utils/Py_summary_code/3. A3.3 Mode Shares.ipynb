{
 "cells": [
  {
   "cell_type": "code",
   "execution_count": 2,
   "id": "d78eb319",
   "metadata": {},
   "outputs": [],
   "source": [
    "import os\n",
    "import pandas as pd\n",
    "import numpy as np\n",
    "import openmatrix as omx\n",
    "import random\n",
    "import yaml\n",
    "\n",
    "from utility import *\n",
    "\n",
    "import warnings\n",
    "warnings.filterwarnings('ignore')"
   ]
  },
  {
   "cell_type": "code",
   "execution_count": 4,
   "id": "17d22b56",
   "metadata": {},
   "outputs": [],
   "source": [
    "with open('config.yaml', 'r') as file:\n",
    "    params = yaml.safe_load(file)\n",
    "    \n",
    "_join = os.path.join\n",
    "_dir = os.path.dirname\n",
    "_norm = os.path.normpath\n",
    "\n",
    "# paths\n",
    "model_outputs_dir = params['model_dir']\n",
    "summary_outputs = params['summary_dir']\n",
    "concept_id = params['concept_id']\n",
    "ctramp_dir = params['ctramp_dir']\n",
    "preprocess_dir = _join(ctramp_dir, '_pre_process_files')\n",
    "perf_measure_columns = params['final_columns']\n",
    "period = params['periods']\n",
    "summary_dir = params['summary_dir']"
   ]
  },
  {
   "cell_type": "code",
   "execution_count": 6,
   "id": "09bf5f00",
   "metadata": {},
   "outputs": [],
   "source": [
    "#data inputs \n",
    "df_tours = pd.read_parquet(_join(preprocess_dir, 'tour_roster.parquet'))"
   ]
  },
  {
   "cell_type": "markdown",
   "id": "3ef72c15",
   "metadata": {},
   "source": [
    "### Regional Mode Share"
   ]
  },
  {
   "cell_type": "code",
   "execution_count": 10,
   "id": "1307e693",
   "metadata": {},
   "outputs": [],
   "source": [
    "#df_region_share = df_tours.groupby(['tour_mode', 'tour_purpose'])['tours'].sum().reset_index()"
   ]
  },
  {
   "cell_type": "code",
   "execution_count": 11,
   "id": "97a32ed7",
   "metadata": {},
   "outputs": [],
   "source": [
    "#regional mode share\n",
    "# df_region_share['Value'] = df_region_share['tours']/df_region_share['tours'].sum()\n",
    "# df_region_share = df_region_share.rename(columns={'tour_mode': 'Mode', 'tour_purpose': 'Purpose'})\n",
    "# df_region_share = df_region_share[['Mode', 'Purpose', 'Value']]\n",
    "\n",
    "# df_region_share['Concept_ID'] = concept_id\n",
    "# df_region_share['Metric_ID'] = 'A3.3'\n",
    "# df_region_share['Metric_name'] = 'Mode Shares'\n",
    "# df_region_share['Submetric'] = 'A3.3.1'\n",
    "# df_region_share['Description'] = 'Regional mode share'\n",
    "# df_region_share['Population'] = 'Whole Population'\n",
    "# df_region_share['Period'] = ''\n",
    "# df_region_share['Geography'] = 'Region'\n",
    "# df_region_share['Zone_ID'] = 'Megaregion'\n",
    "# df_region_share['Origin_zone'] = ''\n",
    "# df_region_share['Dest_zone'] = ''\n",
    "# df_region_share['Dest_zone'] = ''\n",
    "# df_region_share['Units'] = 'Percentage share'\n",
    "# df_region_share['Total_Increment'] = 'Increment'"
   ]
  },
  {
   "cell_type": "markdown",
   "id": "80ea08ab",
   "metadata": {},
   "source": [
    "### Regional mode share by period"
   ]
  },
  {
   "cell_type": "code",
   "execution_count": 7,
   "id": "f6e5f5d7",
   "metadata": {},
   "outputs": [],
   "source": [
    "df_region_period = df_tours.groupby(['Mode', 'Period', 'tour_purpose'])['tours'].sum().reset_index()\n",
    "\n",
    "df_region_period['Value'] = df_region_period['tours']/df_region_period['tours'].sum()\n",
    "df_region_period = df_region_period.rename(columns={'tour_purpose': 'Purpose'})\n",
    "df_region_period = df_region_period[['Mode', 'Period', 'Purpose', 'Value']]\n",
    "\n",
    "df_region_period['Concept_ID'] = concept_id\n",
    "df_region_period['Metric_ID'] = 'A3.3'\n",
    "df_region_period['Metric_name'] = 'Mode Shares'\n",
    "df_region_period['Submetric'] = 'A3.3.1'\n",
    "df_region_period['Description'] = 'Regional mode share by time period and tour purpose'\n",
    "df_region_period['Population'] = 'Whole Population'\n",
    "df_region_period['Geography'] = 'Region'\n",
    "df_region_period['Zone_ID'] = 'Megaregion'\n",
    "df_region_period['Origin_zone'] = ''\n",
    "df_region_period['Dest_zone'] = ''\n",
    "df_region_period['Units'] = 'Percentage share'\n",
    "df_region_period['Total_Increment'] = ''"
   ]
  },
  {
   "cell_type": "markdown",
   "id": "52ef0a0c",
   "metadata": {},
   "source": [
    "## Mode Share in Transbay split"
   ]
  },
  {
   "cell_type": "code",
   "execution_count": 20,
   "id": "81c666c5",
   "metadata": {},
   "outputs": [],
   "source": [
    "df_tb = df_tours.groupby(['transbay_od', 'Mode', 'Period', 'tour_purpose'])['tours'].sum().reset_index()\n",
    "df_tb = df_tb.loc[df_tb['transbay_od'] == 1]\n",
    "\n",
    "df_tb['Value'] = df_tb['tours']/df_tb['tours'].sum()\n",
    "df_tb = df_tb.rename(columns={'tour_purpose': 'Purpose', 'transbay_od' : 'Zone_ID'})\n",
    "df_tb = df_tb[['Mode', 'Period', 'Purpose', 'Value', 'Zone_ID']]\n",
    "\n",
    "df_tb['Concept_ID'] = concept_id\n",
    "df_tb['Metric_ID'] = 'A3.3'\n",
    "df_tb['Metric_name'] = 'Mode Shares'\n",
    "df_tb['Submetric'] = 'A3.3.2'\n",
    "df_tb['Description'] = 'Regional mode share by time period and tour purpose in transbay region'\n",
    "df_tb['Population'] = 'Whole Population'\n",
    "df_tb['Geography'] = 'Transbay region'\n",
    "df_tb['Origin_zone'] = ''\n",
    "df_tb['Dest_zone'] = ''\n",
    "df_tb['Units'] = 'Percentage share'\n",
    "df_tb['Total_Increment'] = ''"
   ]
  },
  {
   "cell_type": "markdown",
   "id": "50b77a2f",
   "metadata": {},
   "source": [
    "### Mode Share by County"
   ]
  },
  {
   "cell_type": "code",
   "execution_count": 10,
   "id": "71a371a0",
   "metadata": {},
   "outputs": [],
   "source": [
    "df_cnty = df_tours.groupby(['orig_county', 'dest_county', 'Mode', 'Period', 'tour_purpose'])['tours'].sum().reset_index()\n",
    "\n",
    "df_cnty['Value'] = df_cnty['tours']/df_cnty['tours'].sum()\n",
    "df_cnty = df_cnty.rename(columns={\n",
    "                                  'tour_purpose': 'Purpose', \n",
    "                                  'orig_county' : 'Origin_zone',\n",
    "                                  'dest_county' : 'Dest_zone'})\n",
    "df_cnty = df_cnty[['Origin_zone', 'Dest_zone', 'Mode', 'Period', 'Purpose', 'Value']]\n",
    "\n",
    "df_cnty['Concept_ID'] = concept_id\n",
    "df_cnty['Metric_ID'] = 'A3.3'\n",
    "df_cnty['Metric_name'] = 'Mode Shares'\n",
    "df_cnty['Submetric'] = 'A3.3.3'\n",
    "df_cnty['Description'] = 'Regional mode share by time period and tour purpose in origin and destination county'\n",
    "df_cnty['Population'] = 'Whole Population'\n",
    "df_cnty['Geography'] = 'County'\n",
    "df_cnty['Zone_ID'] = ''\n",
    "#df_cnty['Origin_zone'] = ''\n",
    "#df_cnty['Dest_zone'] = ''\n",
    "df_cnty['Units'] = 'Percentage share'\n",
    "df_cnty['Total_Increment'] = ''"
   ]
  },
  {
   "cell_type": "markdown",
   "id": "07ed42b1",
   "metadata": {},
   "source": [
    "### Mode Share by RDM Zones"
   ]
  },
  {
   "cell_type": "code",
   "execution_count": 11,
   "id": "a250b10b",
   "metadata": {},
   "outputs": [],
   "source": [
    "df_rdm = df_tours.groupby(['orig_rdm_zones', 'dest_rdm_zones', 'Mode', 'Period', 'tour_purpose'])['tours'].sum().reset_index()\n",
    "\n",
    "df_rdm['Value'] = df_rdm['tours']/df_rdm['tours'].sum()\n",
    "df_rdm = df_rdm.rename(columns={ \n",
    "                                'tour_purpose': 'Purpose', \n",
    "                                'orig_rdm_zones' : 'Origin_zone',\n",
    "                                'dest_rdm_zones' : 'Dest_zone'})\n",
    "df_rdm = df_rdm[['Origin_zone', 'Dest_zone', 'Mode', 'Period', 'Purpose', 'Value']]\n",
    "\n",
    "df_rdm['Concept_ID'] = concept_id\n",
    "df_rdm['Metric_ID'] = 'A3.3'\n",
    "df_rdm['Metric_name'] = 'Mode Shares'\n",
    "df_rdm['Submetric'] = 'A3.3.4'\n",
    "df_rdm['Description'] = 'Regional mode share by time period and tour purpose in origin and destination RDM Zones'\n",
    "df_rdm['Population'] = 'Whole Population'\n",
    "df_rdm['Geography'] = 'RDM'\n",
    "df_rdm['Zone_ID'] = ''\n",
    "#df_cnty['Origin_zone'] = ''\n",
    "#df_cnty['Dest_zone'] = ''\n",
    "df_rdm['Units'] = 'Percentage share'\n",
    "df_rdm['Total_Increment'] = ''"
   ]
  },
  {
   "cell_type": "markdown",
   "id": "5c6b5575",
   "metadata": {},
   "source": [
    "### Mode Share by Super District"
   ]
  },
  {
   "cell_type": "code",
   "execution_count": 17,
   "id": "8e72a593",
   "metadata": {},
   "outputs": [],
   "source": [
    "df_sd = df_tours.groupby(['orig_super_dist', 'dest_super_dist', 'tour_mode', 'Period', 'tour_purpose'])['tours'].sum().reset_index()\n",
    "\n",
    "df_sd['Value'] = df_sd['tours']/df_sd['tours'].sum()\n",
    "\n",
    "df_sd = df_sd.rename(columns={'tour_mode': 'Mode', \n",
    "                              'tour_purpose': 'Purpose', \n",
    "                              'orig_super_dist' : 'Origin_zone',\n",
    "                              'dest_super_dist' : 'Dest_zone'})\n",
    "df_sd = df_sd[['Origin_zone', 'Dest_zone', 'Mode', 'Period', 'Purpose', 'Value']]\n",
    "\n",
    "df_sd['Concept_ID'] = concept_id\n",
    "df_sd['Metric_ID'] = 'A3.3'\n",
    "df_sd['Metric_name'] = 'Mode Shares'\n",
    "df_sd['Submetric'] = 'A3.3.5'\n",
    "df_sd['Description'] = 'Regional mode share by time period and tour purpose in origin and destination super districts'\n",
    "df_sd['Population'] = 'Whole Population'\n",
    "df_sd['Geography'] = 'Super district'\n",
    "df_sd['Zone_ID'] = ''\n",
    "#df_cnty['Origin_zone'] = ''\n",
    "#df_cnty['Dest_zone'] = ''\n",
    "df_sd['Units'] = 'Percentage share'\n",
    "df_sd['Total_Increment'] = ''"
   ]
  },
  {
   "cell_type": "code",
   "execution_count": 13,
   "id": "31787fa4",
   "metadata": {},
   "outputs": [
    {
     "data": {
      "text/plain": [
       "Index(['hh_id', 'person_id', 'tour_purpose', 'orig_taz', 'dest_taz',\n",
       "       'start_hour', 'end_hour', 'tour_mode', 'sampleRate', 'trip_type',\n",
       "       'tours', 'num_participants', 'transbay_od', 'orig_rdm_zones',\n",
       "       'orig_super_dist', 'orig_county', 'dest_rdm_zones', 'dest_super_dist',\n",
       "       'dest_county', 'home_zone', 'pp_share', 'Period', 'Mode', 'pp_tours'],\n",
       "      dtype='object')"
      ]
     },
     "execution_count": 13,
     "metadata": {},
     "output_type": "execute_result"
    }
   ],
   "source": [
    "df_tours.columns"
   ]
  },
  {
   "cell_type": "code",
   "execution_count": 15,
   "id": "a2914149",
   "metadata": {},
   "outputs": [],
   "source": [
    "df_tours['pp_tours'] = df_tours['tours'] * df_tours['pp_share']\n",
    "\n",
    "df_pp = df_tours.groupby(['Mode', 'Period', 'tour_purpose'])['pp_tours'].sum().reset_index()\n",
    "\n",
    "df_pp['Value'] = df_pp['pp_tours']/df_pp['pp_tours'].sum()\n",
    "\n",
    "df_pp = df_pp.rename(columns={'tour_purpose': 'Purpose'})\n",
    "df_pp = df_pp[['Mode', 'Period', 'Purpose', 'Value']]\n",
    "\n",
    "df_pp['Concept_ID'] = concept_id\n",
    "df_pp['Metric_ID'] = 'A3.3'\n",
    "df_pp['Metric_name'] = 'Mode Shares'\n",
    "df_pp['Submetric'] = 'A3.3.6'\n",
    "df_pp['Description'] = 'Regional mode shares by time period and tour purpose'\n",
    "df_pp['Population'] = 'Prioirty population'\n",
    "df_pp['Geography'] = 'Region'\n",
    "df_pp['Zone_ID'] = ''\n",
    "df_pp['Origin_zone'] = ''\n",
    "df_pp['Dest_zone'] = ''\n",
    "df_pp['Units'] = 'Percentage share'\n",
    "df_pp['Total_Increment'] = ''"
   ]
  },
  {
   "cell_type": "code",
   "execution_count": 21,
   "id": "b16a8651",
   "metadata": {},
   "outputs": [
    {
     "name": "stdout",
     "output_type": "stream",
     "text": [
      "707 A3.3.1\n",
      "466 A3.3.2\n",
      "20762 A3.3.3\n",
      "1646306 A3.3.4\n",
      "143292 A3.3.5\n",
      "707 A3.3.6\n"
     ]
    }
   ],
   "source": [
    "all_dfs = [df_region_period, df_tb, df_cnty, df_rdm, df_sd, df_pp]\n",
    "\n",
    "for dfs in all_dfs:\n",
    "    metric_name = 'mode_shares_'\n",
    "    dfs = dfs.reset_index(drop=True)\n",
    "    dfs = dfs[perf_measure_columns]\n",
    "    file_name = dfs['Submetric'][0]\n",
    "    dfs.to_csv(_join(summary_dir, metric_name + file_name + '.csv'), index=None)\n",
    "    print(len(dfs), file_name, dfs['Metric_name'][0])\n",
    "    \n",
    "combined_df = pd.concat([df_region_period, df_tb, df_cnty, df_rdm, df_sd, df_pp]).reset_index(drop=True)\n",
    "combined_df.to_csv(_join(summary_dir, 'mode_shares_' + 'A3.3' + '.csv'), index=None)"
   ]
  },
  {
   "cell_type": "code",
   "execution_count": 31,
   "id": "00a61465",
   "metadata": {},
   "outputs": [],
   "source": [
    "#df_shares = pd.concat([df_region_period, df_cnty, df_rdm, df_sd], ignore_index=False)"
   ]
  },
  {
   "cell_type": "code",
   "execution_count": 32,
   "id": "86dbdc13",
   "metadata": {},
   "outputs": [],
   "source": [
    "#df_shares.to_csv(_join())"
   ]
  },
  {
   "cell_type": "code",
   "execution_count": 1,
   "id": "2d1c1e24",
   "metadata": {},
   "outputs": [],
   "source": [
    "#with pd.ExcelWriter(os.path.join(summary_outputs, 'concept-BY15.xlsx'), engine=\"openpyxl\", mode=\"a\", if_sheet_exists=\"replace\") as writer:\n",
    "#    df_region_period.to_excel(writer, sheet_name='A3.3.1', startcol=0, index=False)\n",
    "#    df_tb.to_excel(writer, sheet_name='A3.3.2', startcol=0, index=False)\n",
    "#    df_cnty.to_excel(writer, sheet_name='A3.3.3', startcol=0, index=False)\n",
    "#    df_rdm.to_excel(writer, sheet_name='A3.3.4', startcol=0, index=False)\n",
    "#    df_sd.to_excel(writer, sheet_name='A3.3.5', startcol=0, index=False)"
   ]
  },
  {
   "cell_type": "code",
   "execution_count": null,
   "id": "accf8520",
   "metadata": {},
   "outputs": [],
   "source": []
  },
  {
   "cell_type": "code",
   "execution_count": null,
   "id": "b6a1f8fc",
   "metadata": {},
   "outputs": [],
   "source": [
    "#tab1 = df_tours.groupby(['tour_mode', 'transbay_od','tour_purpose', 'pp_share'])['flag'].count().reset_index()\n",
    "#tab2 = df_tours.groupby(['tour_mode', 'start_hour'])['flag'].count().reset_index()\n",
    "#tab3 = df_tours.groupby(['tour_mode', 'orig_county', 'dest_county'])['flag'].count().reset_index()\n",
    "#tab4 = df_tours.groupby(['tour_mode', 'orig_super_dist', 'dest_super_dist'])['flag'].count().reset_index()\n",
    "#tab4 = df_tours.groupby(['tour_mode', 'orig_rdm_zones', 'dest_rdm_zones'])['flag'].count().reset_index()\n",
    "#tab1"
   ]
  }
 ],
 "metadata": {
  "kernelspec": {
   "display_name": "Python 3 (ipykernel)",
   "language": "python",
   "name": "python3"
  },
  "language_info": {
   "codemirror_mode": {
    "name": "ipython",
    "version": 3
   },
   "file_extension": ".py",
   "mimetype": "text/x-python",
   "name": "python",
   "nbconvert_exporter": "python",
   "pygments_lexer": "ipython3",
   "version": "3.7.6"
  }
 },
 "nbformat": 4,
 "nbformat_minor": 5
}
