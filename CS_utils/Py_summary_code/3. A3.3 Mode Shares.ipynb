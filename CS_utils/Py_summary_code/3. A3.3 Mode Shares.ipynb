{
 "cells": [
  {
   "cell_type": "code",
   "execution_count": 1,
   "id": "d78eb319",
   "metadata": {},
   "outputs": [],
   "source": [
    "import os\n",
    "import pandas as pd\n",
    "import numpy as np\n",
    "import openmatrix as omx\n",
    "import random\n",
    "import yaml\n",
    "\n",
    "from utility import *\n",
    "\n",
    "import warnings\n",
    "warnings.filterwarnings('ignore')"
   ]
  },
  {
   "cell_type": "code",
   "execution_count": 2,
   "id": "17d22b56",
   "metadata": {},
   "outputs": [],
   "source": [
    "with open('config.yaml', 'r') as file:\n",
    "    params = yaml.safe_load(file)\n",
    "    \n",
    "_join = os.path.join\n",
    "_dir = os.path.dirname\n",
    "_norm = os.path.normpath\n",
    "\n",
    "# paths\n",
    "model_outputs_dir = params['model_dir']\n",
    "summary_outputs = params['summary_dir']\n",
    "concept_id = params['concept_id']\n",
    "ctramp_dir = params['ctramp_dir']\n",
    "preprocess_dir = _join(ctramp_dir, '_pre_process_files')\n",
    "perf_measure_columns = params['final_columns']\n",
    "period = params['periods']\n",
    "summary_dir = params['summary_dir']\n",
    "\n",
    "filename_extension = params['filename_extension']"
   ]
  },
  {
   "cell_type": "code",
   "execution_count": 3,
   "id": "09bf5f00",
   "metadata": {},
   "outputs": [],
   "source": [
    "#data inputs \n",
    "df_tours = pd.read_parquet(_join(preprocess_dir, 'tour_roster.parquet'))\n",
    "df_tours = df_tours.rename(columns={'income_bin' : 'Income'})"
   ]
  },
  {
   "cell_type": "code",
   "execution_count": 4,
   "id": "690fcc4b",
   "metadata": {},
   "outputs": [
    {
     "data": {
      "text/plain": [
       "['Concept_ID',\n",
       " 'Metric_ID',\n",
       " 'Metric_name',\n",
       " 'Submetric',\n",
       " 'Description',\n",
       " 'Population',\n",
       " 'Period',\n",
       " 'Geography',\n",
       " 'Zone_ID',\n",
       " 'Origin_zone',\n",
       " 'Dest_zone',\n",
       " 'Purpose',\n",
       " 'Mode',\n",
       " 'Income',\n",
       " 'Value',\n",
       " 'Units',\n",
       " 'Total_Increment']"
      ]
     },
     "execution_count": 4,
     "metadata": {},
     "output_type": "execute_result"
    }
   ],
   "source": [
    "perf_measure_columns"
   ]
  },
  {
   "cell_type": "markdown",
   "id": "3ef72c15",
   "metadata": {},
   "source": [
    "### Regional Mode Share"
   ]
  },
  {
   "cell_type": "code",
   "execution_count": 5,
   "id": "1307e693",
   "metadata": {},
   "outputs": [],
   "source": [
    "#df_region_share = df_tours.groupby(['tour_mode', 'tour_purpose'])['tours'].sum().reset_index()"
   ]
  },
  {
   "cell_type": "code",
   "execution_count": 6,
   "id": "97a32ed7",
   "metadata": {},
   "outputs": [],
   "source": [
    "#regional mode share\n",
    "# df_region_share['Value'] = df_region_share['tours']/df_region_share['tours'].sum()\n",
    "# df_region_share = df_region_share.rename(columns={'tour_mode': 'Mode', 'tour_purpose': 'Purpose'})\n",
    "# df_region_share = df_region_share[['Mode', 'Purpose', 'Value']]\n",
    "\n",
    "# df_region_share['Concept_ID'] = concept_id\n",
    "# df_region_share['Metric_ID'] = 'A3.3'\n",
    "# df_region_share['Metric_name'] = 'Mode Shares'\n",
    "# df_region_share['Submetric'] = 'A3.3.1'\n",
    "# df_region_share['Description'] = 'Regional mode share'\n",
    "# df_region_share['Population'] = 'Whole Population'\n",
    "# df_region_share['Period'] = ''\n",
    "# df_region_share['Geography'] = 'Region'\n",
    "# df_region_share['Zone_ID'] = ''\n",
    "# df_region_share['Origin_zone'] = ''\n",
    "# df_region_share['Dest_zone'] = ''\n",
    "# df_region_share['Dest_zone'] = ''\n",
    "# df_region_share['Units'] = 'Percentage share'\n",
    "# df_region_share['Total_Increment'] = 'Increment'"
   ]
  },
  {
   "cell_type": "code",
   "execution_count": 7,
   "id": "23cd5e91",
   "metadata": {},
   "outputs": [],
   "source": [
    "#df_region_period"
   ]
  },
  {
   "cell_type": "markdown",
   "id": "80ea08ab",
   "metadata": {},
   "source": [
    "### Regional mode share by period"
   ]
  },
  {
   "cell_type": "code",
   "execution_count": 8,
   "id": "f6e5f5d7",
   "metadata": {},
   "outputs": [],
   "source": [
    "df_region_period = df_tours.groupby(['Period', 'tour_purpose', 'Income', 'Mode'])['tours'].sum().reset_index()\n",
    "\n",
    "df_temp1 = summarize_all_combinations(df_region_period, groupby_columns=['Period', 'tour_purpose', 'Income', 'Mode'], \n",
    "                                      summary_column='tours')\n",
    "df_temp1 = df_temp1.rename(columns={'Value': 'tours1'})\n",
    "\n",
    "df_temp2 = summarize_all_combinations(df_region_period, groupby_columns=['Period', 'tour_purpose', 'Income'], \n",
    "                                      summary_column='tours')\n",
    "df_temp2 = df_temp2.rename(columns={'Value': 'tours2'})\n",
    "\n",
    "df_region_period = df_temp1.merge(df_temp2, on = ['Period', 'tour_purpose', 'Income'], how = 'left')\n",
    "df_region_period['Value'] = df_region_period['tours1'] * 100 /  df_region_period['tours2']\n",
    "\n",
    "#df_region_period['Value'] = df_region_period['tours']/df_region_period['tours'].sum()\n",
    "df_region_period = df_region_period.rename(columns={'tour_purpose': 'Purpose'})\n",
    "df_region_period = df_region_period[['Mode', 'Period', 'Purpose', 'Income', 'Value']]\n",
    "\n",
    "df_region_period['Concept_ID'] = concept_id\n",
    "df_region_period['Metric_ID'] = 'A3.3'\n",
    "df_region_period['Metric_name'] = 'Mode Shares'\n",
    "df_region_period['Submetric'] = 'A3.3.1'\n",
    "df_region_period['Description'] = 'Regional mode share by time period, tour purpose and household income'\n",
    "df_region_period['Population'] = 'Whole Population'\n",
    "df_region_period['Geography'] = 'Region'\n",
    "df_region_period['Zone_ID'] = ''\n",
    "df_region_period['Origin_zone'] = ''\n",
    "df_region_period['Dest_zone'] = ''\n",
    "df_region_period['Units'] = 'Percentage'\n",
    "df_region_period['Total_Increment'] = ''"
   ]
  },
  {
   "cell_type": "markdown",
   "id": "52ef0a0c",
   "metadata": {},
   "source": [
    "## Mode Share in Transbay split"
   ]
  },
  {
   "cell_type": "code",
   "execution_count": 9,
   "id": "81c666c5",
   "metadata": {},
   "outputs": [],
   "source": [
    "df_tb = df_tours.loc[df_tours['transbay_od'] == 1]\n",
    "\n",
    "df_temp1 = summarize_all_combinations(df_tb, groupby_columns=['Period', 'tour_purpose', 'Income', 'Mode'], \n",
    "                                      summary_column='tours')\n",
    "df_temp1 = df_temp1.rename(columns={'Value': 'tours1'})\n",
    "\n",
    "df_temp2 = summarize_all_combinations(df_tb, groupby_columns=['Period', 'tour_purpose', 'Income'], \n",
    "                                      summary_column='tours')\n",
    "df_temp2 = df_temp2.rename(columns={'Value': 'tours2'})\n",
    "\n",
    "df_tb = df_temp1.merge(df_temp2, on = ['Period', 'tour_purpose', 'Income'], how = 'left')\n",
    "df_tb['Value'] = df_tb['tours1'] * 100 /  df_tb['tours2']\n",
    "\n",
    "\n",
    "#df_tb['Value'] = df_tb['tours']/df_tb['tours'].sum()\n",
    "df_tb = df_tb.rename(columns={'tour_purpose': 'Purpose'})\n",
    "df_tb = df_tb[['Mode', 'Period', 'Purpose', 'Income', 'Value']]\n",
    "\n",
    "df_tb['Concept_ID'] = concept_id\n",
    "df_tb['Metric_ID'] = 'A3.3'\n",
    "df_tb['Metric_name'] = 'Mode Shares'\n",
    "df_tb['Submetric'] = 'A3.3.2'\n",
    "df_tb['Zone_ID'] = 1\n",
    "df_tb['Description'] = 'Mode share by time period, tour purpose and household income in transbay region'\n",
    "df_tb['Population'] = 'Whole Population'\n",
    "df_tb['Geography'] = 'Transbay region'\n",
    "df_tb['Origin_zone'] = ''\n",
    "df_tb['Dest_zone'] = ''\n",
    "df_tb['Units'] = 'Percentage'\n",
    "df_tb['Total_Increment'] = ''"
   ]
  },
  {
   "cell_type": "markdown",
   "id": "50b77a2f",
   "metadata": {},
   "source": [
    "### Mode Share by County"
   ]
  },
  {
   "cell_type": "code",
   "execution_count": 10,
   "id": "71a371a0",
   "metadata": {},
   "outputs": [],
   "source": [
    "#df_cnty = df_tours.groupby(['orig_county', 'dest_county', 'Mode', 'Period', 'tour_purpose'])['tours'].sum().reset_index()\n",
    "\n",
    "df_temp1 = summarize_all_combinations(df_tours, groupby_columns=['orig_county', 'dest_county', 'Period', 'tour_purpose', 'Income', 'Mode'], \n",
    "                                      summary_column='tours')\n",
    "df_temp1 = df_temp1.rename(columns={'Value': 'tours1'})\n",
    "\n",
    "df_temp2 = summarize_all_combinations(df_tours, groupby_columns=['orig_county', 'dest_county', 'Period', 'tour_purpose', 'Income'], \n",
    "                                      summary_column='tours')\n",
    "df_temp2 = df_temp2.rename(columns={'Value': 'tours2'})\n",
    "\n",
    "\n",
    "df_cnty = df_temp1.merge(df_temp2, on = ['orig_county', 'dest_county', 'Period', 'tour_purpose', 'Income'], how = 'left')\n",
    "df_cnty['Value'] = df_cnty['tours1'] * 100 /  df_cnty['tours2']\n",
    "\n",
    "\n",
    "#df_cnty['Value'] = df_cnty['tours']/df_cnty['tours'].sum()\n",
    "df_cnty = df_cnty.rename(columns={\n",
    "                                  'tour_purpose': 'Purpose', \n",
    "                                  'orig_county' : 'Origin_zone',\n",
    "                                  'dest_county' : 'Dest_zone'})\n",
    "df_cnty = df_cnty[['Origin_zone', 'Dest_zone', 'Mode', 'Period', 'Purpose', 'Income', 'Value']]\n",
    "\n",
    "df_cnty['Concept_ID'] = concept_id\n",
    "df_cnty['Metric_ID'] = 'A3.3'\n",
    "df_cnty['Metric_name'] = 'Mode Shares'\n",
    "df_cnty['Submetric'] = 'A3.3.3'\n",
    "df_cnty['Description'] = 'Mode share by time period, tour purpose and household income in origin and destination county'\n",
    "df_cnty['Population'] = 'Whole Population'\n",
    "df_cnty['Geography'] = 'County'\n",
    "df_cnty['Zone_ID'] = ''\n",
    "#df_cnty['Origin_zone'] = ''\n",
    "#df_cnty['Dest_zone'] = ''\n",
    "df_cnty['Units'] = 'Percentage'\n",
    "df_cnty['Total_Increment'] = ''"
   ]
  },
  {
   "cell_type": "markdown",
   "id": "07ed42b1",
   "metadata": {},
   "source": [
    "### Mode Share by RDM Zones"
   ]
  },
  {
   "cell_type": "code",
   "execution_count": 11,
   "id": "a250b10b",
   "metadata": {},
   "outputs": [],
   "source": [
    "#df_rdm = df_tours.groupby(['orig_rdm_zones', 'dest_rdm_zones', 'Mode', 'Period', 'tour_purpose'])['tours'].sum().reset_index()\n",
    "\n",
    "df_temp1 = summarize_all_combinations(df_tours, groupby_columns=['orig_rdm_zones', 'dest_rdm_zones', 'Period', 'tour_purpose', 'Income', 'Mode'], \n",
    "                                      summary_column='tours')\n",
    "df_temp1 = df_temp1.rename(columns={'Value': 'tours1'})\n",
    "\n",
    "df_temp2 = summarize_all_combinations(df_tours, groupby_columns=['orig_rdm_zones', 'dest_rdm_zones', 'Period', 'tour_purpose', 'Income'], \n",
    "                                      summary_column='tours')\n",
    "df_temp2 = df_temp2.rename(columns={'Value': 'tours2'})\n",
    "\n",
    "\n",
    "df_rdm = df_temp1.merge(df_temp2, on = ['orig_rdm_zones', 'dest_rdm_zones', 'Period', 'tour_purpose', 'Income'], how = 'left')\n",
    "df_rdm['Value'] = df_rdm['tours1'] * 100 /  df_rdm['tours2']\n",
    "\n",
    "\n",
    "\n",
    "#df_rdm['Value'] = df_rdm['tours']/df_rdm['tours'].sum()\n",
    "df_rdm = df_rdm.rename(columns={ \n",
    "                                'tour_purpose': 'Purpose', \n",
    "                                'orig_rdm_zones' : 'Origin_zone',\n",
    "                                'dest_rdm_zones' : 'Dest_zone'})\n",
    "df_rdm = df_rdm[['Origin_zone', 'Dest_zone', 'Mode', 'Period', 'Purpose', 'Income', 'Value']]\n",
    "\n",
    "df_rdm['Concept_ID'] = concept_id\n",
    "df_rdm['Metric_ID'] = 'A3.3'\n",
    "df_rdm['Metric_name'] = 'Mode Shares'\n",
    "df_rdm['Submetric'] = 'A3.3.4'\n",
    "df_rdm['Description'] = 'Mode share by time period, tour purpose and household income in origin and destination RDM Zones'\n",
    "df_rdm['Population'] = 'Whole Population'\n",
    "df_rdm['Geography'] = 'RDM'\n",
    "df_rdm['Zone_ID'] = ''\n",
    "#df_cnty['Origin_zone'] = ''\n",
    "#df_cnty['Dest_zone'] = ''\n",
    "df_rdm['Units'] = 'Percentage'\n",
    "df_rdm['Total_Increment'] = ''"
   ]
  },
  {
   "cell_type": "markdown",
   "id": "5c6b5575",
   "metadata": {},
   "source": [
    "### Mode Share by Super District"
   ]
  },
  {
   "cell_type": "code",
   "execution_count": 12,
   "id": "8e72a593",
   "metadata": {},
   "outputs": [],
   "source": [
    "#df_sd = df_tours.groupby(['orig_super_dist', 'dest_super_dist', 'tour_mode', 'Period', 'tour_purpose'])['tours'].sum().reset_index()\n",
    "\n",
    "df_temp1 = summarize_all_combinations(df_tours, groupby_columns=['orig_super_dist', 'dest_super_dist', 'Period', 'tour_purpose', 'Income', 'Mode'], \n",
    "                                      summary_column='tours')\n",
    "df_temp1 = df_temp1.rename(columns={'Value': 'tours1'})\n",
    "\n",
    "df_temp2 = summarize_all_combinations(df_tours, groupby_columns=['orig_super_dist', 'dest_super_dist', 'Period', 'tour_purpose', 'Income'], \n",
    "                                      summary_column='tours')\n",
    "df_temp2 = df_temp2.rename(columns={'Value': 'tours2'})\n",
    "\n",
    "\n",
    "df_sd = df_temp1.merge(df_temp2, on = ['orig_super_dist', 'dest_super_dist', 'Period', 'tour_purpose', 'Income'], how = 'left')\n",
    "df_sd['Value'] = df_sd['tours1'] * 100 /  df_sd['tours2']\n",
    "\n",
    "#df_sd['Value'] = df_sd['tours']/df_sd['tours'].sum()\n",
    "\n",
    "df_sd = df_sd.rename(columns={'tour_mode': 'Mode', \n",
    "                              'tour_purpose': 'Purpose', \n",
    "                              'orig_super_dist' : 'Origin_zone',\n",
    "                              'dest_super_dist' : 'Dest_zone'})\n",
    "df_sd = df_sd[['Origin_zone', 'Dest_zone', 'Mode', 'Period', 'Purpose', 'Income', 'Value']]\n",
    "\n",
    "df_sd['Concept_ID'] = concept_id\n",
    "df_sd['Metric_ID'] = 'A3.3'\n",
    "df_sd['Metric_name'] = 'Mode Shares'\n",
    "df_sd['Submetric'] = 'A3.3.5'\n",
    "df_sd['Description'] = 'Mode share by time period, tour purpose and household income in origin and destination super districts'\n",
    "df_sd['Population'] = 'Whole Population'\n",
    "df_sd['Geography'] = 'Super district'\n",
    "df_sd['Zone_ID'] = ''\n",
    "#df_cnty['Origin_zone'] = ''\n",
    "#df_cnty['Dest_zone'] = ''\n",
    "df_sd['Units'] = 'Percentage'\n",
    "df_sd['Total_Increment'] = ''"
   ]
  },
  {
   "cell_type": "markdown",
   "id": "ac1be4ce",
   "metadata": {},
   "source": [
    "### Mode Share for Priority Population"
   ]
  },
  {
   "cell_type": "code",
   "execution_count": null,
   "id": "a2914149",
   "metadata": {},
   "outputs": [],
   "source": [
    "df_tours['pp_tours'] = df_tours['tours'] * df_tours['pp_share'] / 100\n",
    "\n",
    "df_temp1 = summarize_all_combinations(df_tours, groupby_columns=['Period', 'tour_purpose', 'Income', 'Mode'], \n",
    "                                      summary_column='pp_tours')\n",
    "df_temp1 = df_temp1.rename(columns={'Value': 'tours1'})\n",
    "\n",
    "df_temp2 = summarize_all_combinations(df_tours, groupby_columns=['Period', 'tour_purpose', 'Income'], \n",
    "                                      summary_column='pp_tours')\n",
    "df_temp2 = df_temp2.rename(columns={'Value': 'tours2'})\n",
    "\n",
    "\n",
    "df_pp = df_temp1.merge(df_temp2, on = ['Period', 'tour_purpose', 'Income'], how = 'left')\n",
    "df_pp['Value'] = df_pp['tours1'] * 100 /  df_pp['tours2']\n",
    "\n",
    "#df_pp['Value'] = df_pp['pp_tours']/df_pp['pp_tours'].sum()\n",
    "\n",
    "df_pp = df_pp.rename(columns={'tour_purpose': 'Purpose'})\n",
    "df_pp = df_pp[['Mode', 'Period', 'Purpose', 'Income', 'Value']]\n",
    "\n",
    "df_pp['Concept_ID'] = concept_id\n",
    "df_pp['Metric_ID'] = 'A3.3'\n",
    "df_pp['Metric_name'] = 'Mode Shares'\n",
    "df_pp['Submetric'] = 'A3.3.6'\n",
    "df_pp['Description'] = 'Mode shares by time period and tour purpose'\n",
    "df_pp['Population'] = 'Priority population'\n",
    "df_pp['Geography'] = 'Region'\n",
    "df_pp['Zone_ID'] = ''\n",
    "df_pp['Origin_zone'] = ''\n",
    "df_pp['Dest_zone'] = ''\n",
    "df_pp['Units'] = 'Percentage'\n",
    "df_pp['Total_Increment'] = ''"
   ]
  },
  {
   "cell_type": "markdown",
   "id": "2829d273",
   "metadata": {},
   "source": [
    "### Mode Share for Priority Population in RDM zone"
   ]
  },
  {
   "cell_type": "code",
   "execution_count": null,
   "id": "40a671b1",
   "metadata": {},
   "outputs": [],
   "source": [
    "df_tours['pp_tours'] = df_tours['tours'] * df_tours['pp_share'] / 100\n",
    "\n",
    "df_temp1 = summarize_all_combinations(df_tours, groupby_columns=['orig_rdm_zones', 'dest_rdm_zones', 'Period', 'tour_purpose', 'Income', 'Mode'], \n",
    "                                      summary_column='pp_tours')\n",
    "df_temp1 = df_temp1.rename(columns={'Value': 'tours1'})\n",
    "\n",
    "df_temp2 = summarize_all_combinations(df_tours, groupby_columns=['orig_rdm_zones', 'dest_rdm_zones', 'Period', 'tour_purpose', 'Income'], \n",
    "                                      summary_column='pp_tours')\n",
    "df_temp2 = df_temp2.rename(columns={'Value': 'tours2'})\n",
    "\n",
    "\n",
    "df_pp_rdm = df_temp1.merge(df_temp2, on = ['orig_rdm_zones', 'dest_rdm_zones', 'Period', 'tour_purpose', 'Income'], how = 'left')\n",
    "df_pp_rdm['Value'] = df_pp_rdm['tours1'] * 100 /  df_pp_rdm['tours2']\n",
    "\n",
    "#df_pp['Value'] = df_pp['pp_tours']/df_pp['pp_tours'].sum()\n",
    "\n",
    "df_pp_rdm = df_pp_rdm.rename(columns={'tour_purpose': 'Purpose', \n",
    "                                      'orig_rdm_zones': 'Origin_zone', \n",
    "                                      'dest_rdm_zones': 'Dest_zone'})\n",
    "\n",
    "df_pp_rdm = df_pp_rdm[['Origin_zone', 'Dest_zone', 'Mode', 'Period', 'Purpose', 'Income', 'Value']]\n",
    "\n",
    "df_pp_rdm['Concept_ID'] = concept_id\n",
    "df_pp_rdm['Metric_ID'] = 'A3.3'\n",
    "df_pp_rdm['Metric_name'] = 'Mode Shares'\n",
    "df_pp_rdm['Submetric'] = 'A3.3.7'\n",
    "df_pp_rdm['Description'] = 'Mode shares by time period and tour purpose between RDM zones'\n",
    "df_pp_rdm['Population'] = 'Priority population'\n",
    "df_pp_rdm['Geography'] = 'RDM'\n",
    "df_pp_rdm['Zone_ID'] = ''\n",
    "#df_pp_rdm['Origin_zone'] = ''\n",
    "#df_pp_rdm['Dest_zone'] = ''\n",
    "df_pp_rdm['Units'] = 'Percentage'\n",
    "df_pp_rdm['Total_Increment'] = ''"
   ]
  },
  {
   "cell_type": "code",
   "execution_count": null,
   "id": "65f24fbc",
   "metadata": {},
   "outputs": [],
   "source": [
    "df_tours['pp_tours'] = df_tours['tours'] * df_tours['pp_share'] / 100\n",
    "\n",
    "df_temp1 = summarize_all_combinations(df_tours, groupby_columns=['orig_rdm_zones', 'dest_rdm_zones', 'Income', 'Mode'], \n",
    "                                      summary_column='pp_tours')\n",
    "df_temp1 = df_temp1.rename(columns={'Value': 'tours1'})\n",
    "\n",
    "df_temp2 = summarize_all_combinations(df_tours, groupby_columns=['orig_rdm_zones', 'dest_rdm_zones', 'Income'], \n",
    "                                      summary_column='pp_tours')\n",
    "df_temp2 = df_temp2.rename(columns={'Value': 'tours2'})\n",
    "\n",
    "\n",
    "df_pp_rdm_inc = df_temp1.merge(df_temp2, on = ['orig_rdm_zones', 'dest_rdm_zones', 'Income'], how = 'left')\n",
    "df_pp_rdm_inc['Value'] = df_pp_rdm_inc['tours1'] * 100 /  df_pp_rdm_inc['tours2']\n",
    "\n",
    "#df_pp['Value'] = df_pp['pp_tours']/df_pp['pp_tours'].sum()\n",
    "\n",
    "df_pp_rdm_inc = df_pp_rdm_inc.rename(columns={'tour_purpose': 'Purpose'})\n",
    "df_pp_rdm_inc = df_pp_rdm_inc[['orig_rdm_zones', 'dest_rdm_zones', 'Mode', 'Income', 'Value']]\n",
    "\n",
    "df_pp_rdm_inc['Concept_ID'] = concept_id\n",
    "df_pp_rdm_inc['Metric_ID'] = 'A3.3'\n",
    "df_pp_rdm_inc['Metric_name'] = 'Mode Shares'\n",
    "df_pp_rdm_inc['Submetric'] = 'A3.3.8'\n",
    "df_pp_rdm_inc['Description'] = 'Mode shares by Income between RDM zones'\n",
    "df_pp_rdm_inc['Population'] = 'Priority population'\n",
    "df_pp_rdm_inc['Geography'] = 'RDM'\n",
    "df_pp_rdm_inc['Zone_ID'] = ''\n",
    "df_pp_rdm_inc['Origin_zone'] = ''\n",
    "df_pp_rdm_inc['Dest_zone'] = ''\n",
    "df_pp_rdm_inc['Purpose'] = ''\n",
    "df_pp_rdm_inc['Period'] = ''\n",
    "df_pp_rdm_inc['Units'] = 'Percentage'\n",
    "df_pp_rdm_inc['Total_Increment'] = ''"
   ]
  },
  {
   "cell_type": "code",
   "execution_count": null,
   "id": "c2b7341f",
   "metadata": {},
   "outputs": [],
   "source": [
    "#df_rdm = df_tours.groupby(['orig_rdm_zones', 'dest_rdm_zones', 'Mode', 'Period', 'tour_purpose'])['tours'].sum().reset_index()\n",
    "\n",
    "df_temp1 = summarize_all_combinations(df_tours, groupby_columns=['orig_rdm_zones', 'dest_rdm_zones', 'Income', 'Mode'], \n",
    "                                      summary_column='tours')\n",
    "df_temp1 = df_temp1.rename(columns={'Value': 'tours1'})\n",
    "\n",
    "df_temp2 = summarize_all_combinations(df_tours, groupby_columns=['orig_rdm_zones', 'dest_rdm_zones', 'Income'], \n",
    "                                      summary_column='tours')\n",
    "df_temp2 = df_temp2.rename(columns={'Value': 'tours2'})\n",
    "\n",
    "\n",
    "df_rdm_inc = df_temp1.merge(df_temp2, on = ['orig_rdm_zones', 'dest_rdm_zones', 'Income'], how = 'left')\n",
    "df_rdm_inc['Value'] = df_rdm_inc['tours1'] * 100 /  df_rdm_inc['tours2']\n",
    "\n",
    "#df_rdm['Value'] = df_rdm['tours']/df_rdm['tours'].sum()\n",
    "df_rdm_inc = df_rdm_inc.rename(columns={ \n",
    "                                'tour_purpose': 'Purpose', \n",
    "                                'orig_rdm_zones' : 'Origin_zone',\n",
    "                                'dest_rdm_zones' : 'Dest_zone'})\n",
    "df_rdm_inc = df_rdm_inc[['Origin_zone', 'Dest_zone', 'Mode', 'Income', 'Value']]\n",
    "\n",
    "df_rdm_inc['Concept_ID'] = concept_id\n",
    "df_rdm_inc['Metric_ID'] = 'A3.3'\n",
    "df_rdm_inc['Metric_name'] = 'Mode Shares'\n",
    "df_rdm_inc['Submetric'] = 'A3.3.9'\n",
    "df_rdm_inc['Description'] = 'Mode share by household income in origin and destination RDM Zones'\n",
    "df_rdm_inc['Population'] = 'Whole Population'\n",
    "df_rdm_inc['Geography'] = 'RDM'\n",
    "df_rdm_inc['Zone_ID'] = ''\n",
    "df_rdm_inc['Period'] = ''\n",
    "df_rdm_inc['Purpose'] = ''\n",
    "#df_cnty['Origin_zone'] = ''\n",
    "#df_cnty['Dest_zone'] = ''\n",
    "df_rdm_inc['Units'] = 'Percentage'\n",
    "df_rdm_inc['Total_Increment'] = ''"
   ]
  },
  {
   "cell_type": "code",
   "execution_count": null,
   "id": "b16a8651",
   "metadata": {},
   "outputs": [],
   "source": [
    "all_dfs = [df_region_period, df_tb, df_cnty, df_rdm, df_sd, df_pp, df_pp_rdm, df_pp_rdm_inc]\n",
    "\n",
    "for dfs in all_dfs:\n",
    "    metric_name = '_mode_shares_'\n",
    "    dfs = dfs.reset_index(drop=True)\n",
    "    #print(dfs.columns)\n",
    "    dfs = dfs[perf_measure_columns]\n",
    "    file_name = dfs['Submetric'][0]\n",
    "    geography = '_' + dfs['Geography'][0].replace(' ', '_')\n",
    "    dfs.to_csv(_join(summary_dir, file_name + metric_name + concept_id + geography + filename_extension + '.csv'), index=None)\n",
    "    print(len(dfs), file_name, dfs['Metric_name'][0])\n",
    "    \n",
    "combined_df = pd.concat([df_region_period, df_tb, df_cnty, df_rdm, df_sd, df_pp]).reset_index(drop=True)\n",
    "combined_df.to_csv(_join(summary_dir, 'A3.3' + '_mode_shares_' + concept_id + '_region' + filename_extension+'.csv'), index=None)"
   ]
  },
  {
   "cell_type": "code",
   "execution_count": null,
   "id": "00a61465",
   "metadata": {},
   "outputs": [],
   "source": [
    "#df_shares = pd.concat([df_region_period, df_cnty, df_rdm, df_sd], ignore_index=False)"
   ]
  },
  {
   "cell_type": "code",
   "execution_count": null,
   "id": "86dbdc13",
   "metadata": {},
   "outputs": [],
   "source": [
    "#df_shares.to_csv(_join())"
   ]
  },
  {
   "cell_type": "code",
   "execution_count": null,
   "id": "2d1c1e24",
   "metadata": {},
   "outputs": [],
   "source": [
    "#with pd.ExcelWriter(os.path.join(summary_outputs, 'concept-BY15.xlsx'), engine=\"openpyxl\", mode=\"a\", if_sheet_exists=\"replace\") as writer:\n",
    "#    df_region_period.to_excel(writer, sheet_name='A3.3.1', startcol=0, index=False)\n",
    "#    df_tb.to_excel(writer, sheet_name='A3.3.2', startcol=0, index=False)\n",
    "#    df_cnty.to_excel(writer, sheet_name='A3.3.3', startcol=0, index=False)\n",
    "#    df_rdm.to_excel(writer, sheet_name='A3.3.4', startcol=0, index=False)\n",
    "#    df_sd.to_excel(writer, sheet_name='A3.3.5', startcol=0, index=False)"
   ]
  },
  {
   "cell_type": "code",
   "execution_count": null,
   "id": "accf8520",
   "metadata": {},
   "outputs": [],
   "source": []
  },
  {
   "cell_type": "code",
   "execution_count": null,
   "id": "b6a1f8fc",
   "metadata": {},
   "outputs": [],
   "source": [
    "#tab1 = df_tours.groupby(['tour_mode', 'transbay_od','tour_purpose', 'pp_share'])['flag'].count().reset_index()\n",
    "#tab2 = df_tours.groupby(['tour_mode', 'start_hour'])['flag'].count().reset_index()\n",
    "#tab3 = df_tours.groupby(['tour_mode', 'orig_county', 'dest_county'])['flag'].count().reset_index()\n",
    "#tab4 = df_tours.groupby(['tour_mode', 'orig_super_dist', 'dest_super_dist'])['flag'].count().reset_index()\n",
    "#tab4 = df_tours.groupby(['tour_mode', 'orig_rdm_zones', 'dest_rdm_zones'])['flag'].count().reset_index()\n",
    "#tab1"
   ]
  }
 ],
 "metadata": {
  "kernelspec": {
   "display_name": "Python 3 (ipykernel)",
   "language": "python",
   "name": "python3"
  },
  "language_info": {
   "codemirror_mode": {
    "name": "ipython",
    "version": 3
   },
   "file_extension": ".py",
   "mimetype": "text/x-python",
   "name": "python",
   "nbconvert_exporter": "python",
   "pygments_lexer": "ipython3",
   "version": "3.7.6"
  }
 },
 "nbformat": 4,
 "nbformat_minor": 5
}
