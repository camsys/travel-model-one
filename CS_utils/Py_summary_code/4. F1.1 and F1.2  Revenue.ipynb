{
 "cells": [
  {
   "cell_type": "code",
   "execution_count": 1,
   "id": "86544f34",
   "metadata": {},
   "outputs": [],
   "source": [
    "import os\n",
    "import pandas as pd\n",
    "import numpy as np\n",
    "import openmatrix as omx\n",
    "import random\n",
    "import yaml\n",
    "from pathlib import Path\n",
    "from utility import *\n",
    "\n",
    "import warnings\n",
    "warnings.filterwarnings('ignore')"
   ]
  },
  {
   "cell_type": "code",
   "execution_count": 17,
   "id": "84675b89",
   "metadata": {},
   "outputs": [],
   "source": [
    "with open('config.yaml', 'r') as file:\n",
    "    params = yaml.safe_load(file)\n",
    "    \n",
    "_join = os.path.join\n",
    "_dir = os.path.dirname\n",
    "_norm = os.path.normpath\n",
    "\n",
    "# paths\n",
    "model_outputs_dir = params['model_dir']\n",
    "skims_dir = _join(model_outputs_dir, \"skims\")\n",
    "concept_id = params['concept_id']\n",
    "ctramp_dir = params['ctramp_dir']\n",
    "iteration = params['iteration']\n",
    "\n",
    "concept_id = params['concept_id']\n",
    "time_period_mapping = params['time_periods_mapping']\n",
    "link21_purp_mapping = params['purpose_mapping']\n",
    "mode_cat_mapping = params['mode_mapping']\n",
    "time_periods = params['periods']\n",
    "acc_egg_modes = params['access_egress_modes']\n",
    "\n",
    "income_categories_bins = params['income_categories_bins']\n",
    "\n",
    "preprocess_dir = _join(ctramp_dir, '_pre_process_files')\n",
    "perf_measure_columns = params['final_columns']\n",
    "\n",
    "summary_dir = params['summary_dir']\n",
    "annual_transit_factor = params['annual_transit_factor']\n",
    "annual_auto_factor = params['annual_auto_factor']\n",
    "\n",
    "filename_extension = params['filename_extension']"
   ]
  },
  {
   "cell_type": "code",
   "execution_count": 3,
   "id": "686c2886",
   "metadata": {},
   "outputs": [],
   "source": [
    "demand_matrices_dir = _join(model_outputs_dir, \"demand_matrices\")\n",
    "transit_demand_dir = _join(demand_matrices_dir, \"transit\")\n",
    "transit_skims_dir = _join(skims_dir, \"transit\")\n",
    "highway_skims_dir = _join(skims_dir, \"highway\")"
   ]
  },
  {
   "cell_type": "code",
   "execution_count": 4,
   "id": "4495b6c4",
   "metadata": {},
   "outputs": [],
   "source": [
    "df_trips = pd.read_parquet(_join(preprocess_dir, 'trip_roster.parquet'))"
   ]
  },
  {
   "cell_type": "code",
   "execution_count": null,
   "id": "c2851ece",
   "metadata": {},
   "outputs": [],
   "source": []
  },
  {
   "cell_type": "code",
   "execution_count": 5,
   "id": "50001182",
   "metadata": {},
   "outputs": [
    {
     "data": {
      "text/plain": [
       "\"\\ntoll_df = toll_df.rename(columns={'toll_revenue': 'Value'})\\ntoll_df['Concept_ID'] = concept_id\\ntoll_df['Metric_ID'] = 'F1.2'\\ntoll_df['Metric_name'] = 'Toll revenue'\\ntoll_df['Submetric'] = 'F1.2.1'\\ntoll_df['Description'] = 'Toll revenue'\\ntoll_df['Population'] = 'Whole Population'\\ntoll_df['Geography'] = 'Region'\\ntoll_df['Zone_ID'] = ''\\ntoll_df['Origin_zone'] = ''\\ntoll_df['Dest_zone'] = ''\\ntoll_df['Units'] = '$'\\ntoll_df['Total_Increment'] = ''\\n\\n\""
      ]
     },
     "execution_count": 5,
     "metadata": {},
     "output_type": "execute_result"
    }
   ],
   "source": [
    "\"\"\"\n",
    "toll_df = toll_df.rename(columns={'toll_revenue': 'Value'})\n",
    "toll_df['Concept_ID'] = concept_id\n",
    "toll_df['Metric_ID'] = 'F1.2'\n",
    "toll_df['Metric_name'] = 'Toll revenue'\n",
    "toll_df['Submetric'] = 'F1.2.1'\n",
    "toll_df['Description'] = 'Toll revenue'\n",
    "toll_df['Population'] = 'Whole Population'\n",
    "toll_df['Geography'] = 'Region'\n",
    "toll_df['Zone_ID'] = ''\n",
    "toll_df['Origin_zone'] = ''\n",
    "toll_df['Dest_zone'] = ''\n",
    "toll_df['Units'] = '$'\n",
    "toll_df['Total_Increment'] = ''\n",
    "\n",
    "\"\"\""
   ]
  },
  {
   "cell_type": "code",
   "execution_count": 6,
   "id": "4ae9c56e",
   "metadata": {},
   "outputs": [],
   "source": [
    "## F1.1: Farebox revenues"
   ]
  },
  {
   "cell_type": "code",
   "execution_count": 7,
   "id": "f212269b",
   "metadata": {},
   "outputs": [],
   "source": [
    "df_trn = df_trips.loc[df_trips['trip_mode'].isin([6,7,8])]"
   ]
  },
  {
   "cell_type": "code",
   "execution_count": 8,
   "id": "0e2fb4f0",
   "metadata": {},
   "outputs": [
    {
     "name": "stdout",
     "output_type": "stream",
     "text": [
      "Period:  am\n",
      "Access Egress Mode:  WLK_TRN_WLK\n",
      "Access Egress Mode:  KNR_TRN_WLK\n",
      "Access Egress Mode:  PNR_TRN_WLK\n",
      "Access Egress Mode:  WLK_TRN_PNR\n",
      "Access Egress Mode:  WLK_TRN_KNR\n",
      "Period:  md\n",
      "Access Egress Mode:  WLK_TRN_WLK\n",
      "Access Egress Mode:  KNR_TRN_WLK\n",
      "Access Egress Mode:  PNR_TRN_WLK\n",
      "Access Egress Mode:  WLK_TRN_PNR\n",
      "Access Egress Mode:  WLK_TRN_KNR\n",
      "Period:  pm\n",
      "Access Egress Mode:  WLK_TRN_WLK\n",
      "Access Egress Mode:  KNR_TRN_WLK\n",
      "Access Egress Mode:  PNR_TRN_WLK\n",
      "Access Egress Mode:  WLK_TRN_PNR\n",
      "Access Egress Mode:  WLK_TRN_KNR\n",
      "Period:  ev\n",
      "Access Egress Mode:  WLK_TRN_WLK\n",
      "Access Egress Mode:  KNR_TRN_WLK\n",
      "Access Egress Mode:  PNR_TRN_WLK\n",
      "Access Egress Mode:  WLK_TRN_PNR\n",
      "Access Egress Mode:  WLK_TRN_KNR\n",
      "Period:  ea\n",
      "Access Egress Mode:  WLK_TRN_WLK\n",
      "Access Egress Mode:  KNR_TRN_WLK\n",
      "Access Egress Mode:  PNR_TRN_WLK\n",
      "Access Egress Mode:  WLK_TRN_PNR\n",
      "Access Egress Mode:  WLK_TRN_KNR\n"
     ]
    }
   ],
   "source": [
    "create_rail_fare_od_pairs(preprocess_dir, transit_skims_dir, acc_egg_modes, time_periods)"
   ]
  },
  {
   "cell_type": "code",
   "execution_count": 10,
   "id": "669183f2",
   "metadata": {},
   "outputs": [],
   "source": [
    "#df_od_pr = omx.open_file(_join(preprocess_dir, \"rail_fair_v9_trim_\" + period.upper() + \".omx\")"
   ]
  },
  {
   "cell_type": "code",
   "execution_count": 11,
   "id": "55f69f06",
   "metadata": {},
   "outputs": [
    {
     "name": "stdout",
     "output_type": "stream",
     "text": [
      "processing - am\n",
      "393.7311\n",
      "processing - md\n",
      "371.50684\n",
      "processing - pm\n",
      "382.42435\n",
      "processing - ev\n",
      "354.28903\n",
      "processing - ea\n",
      "371.71173\n"
     ]
    }
   ],
   "source": [
    "df_temp = []\n",
    "\n",
    "for period in time_periods:\n",
    "    print(f'processing - {period}')\n",
    "    \n",
    "    df_od_pr = omx.open_file(_join(preprocess_dir, \"rail_fair_v9_trim_\" + period.upper() + \".omx\"))\n",
    "    #print(df_od_pr['fare'].mean())\n",
    "    df_trn_pd = df_trn[df_trn['Period'] == period]\n",
    "    \n",
    "    #walk transit\n",
    "    df_trn_acc = df_trn_pd[df_trn_pd['Mode'] == 'WALK_TRANSIT']\n",
    "    df_rail_od = skim_core_to_df(df_od_pr, 'WLK_TRN_WLK', cols=['orig', 'dest', 'fare'])\n",
    "    print(df_rail_od['fare'].mean())\n",
    "    df_trn_wlk = pd.merge(df_trn_acc, df_rail_od, \n",
    "                          left_on =['orig_taz', 'dest_taz'], \n",
    "                          right_on=['orig', 'dest'], \n",
    "                          how ='inner')\n",
    "    \n",
    "    # PNR Transit\n",
    "    df_trn_acc = df_trn_pd[df_trn_pd['Mode'] == 'PNR_TRANSIT']\n",
    "    df_trn_acc_inbnd = df_trn_acc[df_trn_acc['inbound'] == 1] # returning home\n",
    "    df_rail_od = skim_core_to_df(df_od_pr, 'WLK_TRN_PNR', cols=['orig', 'dest', 'fare'])\n",
    "    df_trn_pnr_inb = pd.merge(df_trn_acc_inbnd, df_rail_od, \n",
    "                              left_on =['orig_taz', 'dest_taz'], \n",
    "                              right_on=['orig', 'dest'], how ='inner')\n",
    "\n",
    "    df_trn_acc_outbnd = df_trn_acc[df_trn_acc['inbound'] != 1] # returning home\n",
    "    df_rail_od = skim_core_to_df(df_od_pr, 'PNR_TRN_WLK', cols=['orig', 'dest', 'fare'])\n",
    "    df_trn_pnr_outbnd = pd.merge(df_trn_acc_outbnd, df_rail_od, \n",
    "                              left_on =['orig_taz', 'dest_taz'], \n",
    "                              right_on=['orig', 'dest'], how ='inner')\n",
    "\n",
    "    df_trn_pnr = pd.concat([df_trn_pnr_inb, df_trn_pnr_outbnd], ignore_index=True)\n",
    "    \n",
    "    # KNR Transit\n",
    "    df_trn_acc = df_trn_pd[df_trn_pd['Mode'] == 'KNR_TRANSIT']\n",
    "    df_trn_acc_inbnd = df_trn_acc[df_trn_acc['inbound'] == 1] # returning home\n",
    "    df_rail_od = skim_core_to_df(df_od_pr, 'WLK_TRN_KNR', cols=['orig', 'dest', 'fare'])\n",
    "    df_trn_knr_inb = pd.merge(df_trn_acc_inbnd, df_rail_od, \n",
    "                              left_on =['orig_taz', 'dest_taz'], \n",
    "                              right_on=['orig', 'dest'], how ='inner')\n",
    "\n",
    "\n",
    "    df_trn_acc_outbnd = df_trn_acc[df_trn_acc['inbound'] != 1] # returning home\n",
    "    df_rail_od = skim_core_to_df(df_od_pr, 'KNR_TRN_WLK', cols=['orig', 'dest', 'fare'])\n",
    "    df_trn_knr_outbnd = pd.merge(df_trn_acc_outbnd, df_rail_od, \n",
    "                              left_on =['orig_taz', 'dest_taz'], \n",
    "                              right_on=['orig', 'dest'], how ='inner')\n",
    "\n",
    "    df_trn_knr = pd.concat([df_trn_knr_inb, df_trn_knr_outbnd], ignore_index=True)\n",
    "    \n",
    "    df_trn_rail = pd.concat([df_trn_wlk, df_trn_pnr, df_trn_knr], ignore_index=True)\n",
    "    df_temp.append(df_trn_rail)\n",
    "\n",
    "df_trn_rail = pd.concat(df_temp)"
   ]
  },
  {
   "cell_type": "code",
   "execution_count": 12,
   "id": "a3dc6a28",
   "metadata": {},
   "outputs": [],
   "source": [
    "df_trn_rail['transit_revenue'] = df_trn_rail['trips'] * df_trn_rail['fare'] * 1.81 / 100 # fare is in cents converting to 2022 dollars"
   ]
  },
  {
   "cell_type": "code",
   "execution_count": 32,
   "id": "30a06248",
   "metadata": {},
   "outputs": [],
   "source": [
    "# summarise for prioirty population\n",
    "\n",
    "#regional value\n",
    "region_value = df_trn_rail.groupby(['Period'])['transit_revenue'].sum().reset_index()\n",
    "region_value = region_value.rename(columns={'transit_revenue': 'Value'})\n",
    "region_value['Concept_ID'] = concept_id\n",
    "region_value['Metric_ID'] = 'F1.1'\n",
    "region_value['Metric_name'] = 'Farebox revenue'\n",
    "region_value['Submetric'] = 'F1.1.1'\n",
    "region_value['Description'] = 'Average weekday transit farebox revenue in the region'\n",
    "region_value['Population'] = 'Whole Population'\n",
    "region_value['Geography'] = 'Regional'\n",
    "region_value['Origin_zone'] = ''\n",
    "region_value['Dest_zone'] = ''\n",
    "region_value['Purpose'] = ''\n",
    "region_value['Zone_ID'] = ''\n",
    "region_value['Units'] = '2022 dollars'\n",
    "region_value['Total_Increment'] = ''\n",
    "region_value = region_value[perf_measure_columns]\n",
    "\n",
    "# transbay region\n",
    "tb_value = df_trn_rail[df_trn_rail['transbay_od']==1]\n",
    "tb_value = tb_value.groupby(['Period'])['transit_revenue'].sum().reset_index()\n",
    "tb_value = tb_value.rename(columns={'transit_revenue' : 'Value'})\n",
    "\n",
    "tb_value['Concept_ID'] = concept_id\n",
    "tb_value['Metric_ID'] = 'F1.1'\n",
    "tb_value['Metric_name'] = 'Farebox revenue'\n",
    "tb_value['Submetric'] = 'F1.1.2'\n",
    "tb_value['Description'] = 'Average weekday transit farebox revenue between transbay OD pairs'\n",
    "tb_value['Population'] = 'Whole Population'\n",
    "tb_value['Geography'] = 'Transbay'\n",
    "tb_value['Zone_ID'] = ''\n",
    "tb_value['Origin_zone'] = ''\n",
    "tb_value['Dest_zone'] = ''\n",
    "tb_value['Purpose'] = ''\n",
    "tb_value['Units'] = '2022 dollars'\n",
    "tb_value['Total_Increment'] = ''\n",
    "tb_value = tb_value[perf_measure_columns]\n",
    "\n",
    "#county \n",
    "county_df_temp = df_trn_rail.groupby(['orig_county', 'dest_county', 'Period'])['transit_revenue'].sum().reset_index()\n",
    "county_df_temp = county_df_temp.rename(columns={'transit_revenue': 'Value',\n",
    "                                               'orig_county': 'Origin_zone',\n",
    "                                               'dest_county': 'Dest_zone'})\n",
    "county_df_temp['Concept_ID'] = concept_id\n",
    "county_df_temp['Metric_ID'] = 'F1.1'\n",
    "county_df_temp['Metric_name'] = 'Farebox revenue'\n",
    "county_df_temp['Submetric'] = 'F1.1.3'\n",
    "county_df_temp['Description'] = 'Average weekday transit farebox revenue between origin and destination county'\n",
    "county_df_temp['Population'] = 'Whole Population'\n",
    "county_df_temp['Geography'] = 'County'\n",
    "county_df_temp['Zone_ID'] = ''\n",
    "#df_cnty['Origin_zone'] = ''\n",
    "#df_cnty['Dest_zone'] = ''\n",
    "county_df_temp['Purpose'] = ''\n",
    "county_df_temp['Units'] = '2022 dollars'\n",
    "county_df_temp['Total_Increment'] = ''\n",
    "county_df_temp = county_df_temp[perf_measure_columns]\n",
    "\n",
    "#RDM Zones\n",
    "rdm_df_temp = df_trn_rail.groupby(['orig_rdm_zones', 'dest_rdm_zones', 'Period'])['transit_revenue'].sum().reset_index()\n",
    "rdm_df_temp = rdm_df_temp.rename(columns={'transit_revenue': 'Value',\n",
    "                                        'orig_rdm_zones': 'Origin_zone',\n",
    "                                        'dest_rdm_zones': 'Dest_zone'})\n",
    "rdm_df_temp['Concept_ID'] = concept_id\n",
    "rdm_df_temp['Metric_ID'] = 'F1.1'\n",
    "rdm_df_temp['Metric_name'] = 'Farebox revenue'\n",
    "rdm_df_temp['Submetric'] = 'F1.1.4'\n",
    "rdm_df_temp['Description'] = 'Average weekday transit farebox revenue between origin and destination RDM zones'\n",
    "rdm_df_temp['Population'] = 'Whole Population'\n",
    "rdm_df_temp['Geography'] = 'RDM'\n",
    "rdm_df_temp['Zone_ID'] = ''\n",
    "#df_cnty['Origin_zone'] = ''\n",
    "#df_cnty['Dest_zone'] = ''\n",
    "rdm_df_temp['Purpose'] = ''\n",
    "rdm_df_temp['Units'] = '2022 dollars'\n",
    "rdm_df_temp['Total_Increment'] = ''\n",
    "rdm_df_temp = rdm_df_temp[perf_measure_columns]\n",
    "\n",
    "\n",
    "#super district\n",
    "sd_df_temp = df_trn_rail.groupby(['orig_super_dist', 'dest_super_dist', 'Period'])['transit_revenue'].sum().reset_index()\n",
    "sd_df_temp = sd_df_temp.rename(columns={'transit_revenue': 'Value',\n",
    "                                        'orig_super_dist': 'Origin_zone',\n",
    "                                        'dest_super_dist': 'Dest_zone'})\n",
    "sd_df_temp['Concept_ID'] = concept_id\n",
    "sd_df_temp['Metric_ID'] = 'F1.1'\n",
    "sd_df_temp['Metric_name'] = 'Farebox revenue'\n",
    "sd_df_temp['Submetric'] = 'F1.1.5'\n",
    "sd_df_temp['Description'] = 'Farebox revenue'\n",
    "sd_df_temp['Population'] = 'Whole Population'\n",
    "sd_df_temp['Geography'] = 'Average weekday transit farebox revenue between origin and destination super district'\n",
    "sd_df_temp['Zone_ID'] = ''\n",
    "#df_cnty['Origin_zone'] = ''\n",
    "#df_cnty['Dest_zone'] = ''\n",
    "sd_df_temp['Purpose'] = ''\n",
    "sd_df_temp['Units'] = '2022 dollars'\n",
    "sd_df_temp['Total_Increment'] = ''\n",
    "sd_df_temp = sd_df_temp[perf_measure_columns]"
   ]
  },
  {
   "cell_type": "code",
   "execution_count": 33,
   "id": "d8cc3a19",
   "metadata": {},
   "outputs": [
    {
     "name": "stdout",
     "output_type": "stream",
     "text": [
      "5 F1.1.1 Farebox revenue 8125265.336965763\n",
      "5 F1.1.2 Farebox revenue 2034610.7146440847\n",
      "368 F1.1.3 Farebox revenue 8125265.336965762\n",
      "127670 F1.1.4 Farebox revenue 8125265.336965762\n",
      "4033 F1.1.5 Farebox revenue 8125265.336965762\n"
     ]
    }
   ],
   "source": [
    "all_dfs = [region_value, tb_value, county_df_temp, rdm_df_temp, sd_df_temp]\n",
    "\n",
    "for dfs in all_dfs:\n",
    "    metric_name = 'weekday_farebox_revenue_'\n",
    "    dfs = dfs.reset_index(drop=True)\n",
    "    dfs = dfs[perf_measure_columns]\n",
    "    file_name = dfs['Submetric'][0]\n",
    "    dfs.to_csv(_join(summary_dir, metric_name + file_name + filename_extension + '.csv'), index=None)\n",
    "    print(len(dfs), file_name, dfs['Metric_name'][0], dfs['Value'].sum())\n",
    "    \n",
    "combined_df = pd.concat([region_value, tb_value, county_df_temp, rdm_df_temp, sd_df_temp]).reset_index(drop=True)\n",
    "combined_df.to_csv(_join(summary_dir, 'weekday_farebox_revenue_' + 'F1.1' + filename_extension + '.csv'), index=None)"
   ]
  },
  {
   "cell_type": "code",
   "execution_count": 27,
   "id": "caada07b",
   "metadata": {},
   "outputs": [
    {
     "data": {
      "text/plain": [
       "321.8"
      ]
     },
     "execution_count": 27,
     "metadata": {},
     "output_type": "execute_result"
    }
   ],
   "source": [
    "annual_transit_factor"
   ]
  },
  {
   "cell_type": "code",
   "execution_count": 34,
   "id": "5fc3dcf7",
   "metadata": {},
   "outputs": [
    {
     "name": "stdout",
     "output_type": "stream",
     "text": [
      "5 F1.1.6 Farebox revenue 2614710385.4355826\n",
      "5 F1.1.7 Farebox revenue 654737727.9724665\n",
      "368 F1.1.8 Farebox revenue 2614710385.4355826\n",
      "127670 F1.1.9 Farebox revenue 2614710385.435582\n",
      "4033 F1.1.10 Farebox revenue 2614710385.435582\n"
     ]
    }
   ],
   "source": [
    "all_dfs = [region_value, tb_value, county_df_temp, rdm_df_temp, sd_df_temp]\n",
    "i=6\n",
    "\n",
    "for dfs in all_dfs:\n",
    "    metric_name = 'annual_farebox_revenue_'\n",
    "    dfs = dfs.reset_index(drop=True)\n",
    "    dfs = dfs[perf_measure_columns]\n",
    "    dfs['Value'] = dfs['Value'] * annual_transit_factor\n",
    "    dfs['Description'] = dfs['Description'].str.replace('Average weekday', 'Annual')\n",
    "    file_name = 'F1.1.' + str(i) #dfs['Submetric'][0]\n",
    "    dfs.to_csv(_join(summary_dir, metric_name + file_name + filename_extension + '.csv'), index=None)\n",
    "    print(len(dfs), file_name, dfs['Metric_name'][0],  dfs['Value'].sum())\n",
    "    i=i+1\n",
    "    \n",
    "combined_df = pd.concat([region_value, tb_value, county_df_temp, rdm_df_temp, sd_df_temp]).reset_index(drop=True)\n",
    "combined_df.to_csv(_join(summary_dir, 'annual_farebox_revenue_' + 'F1.1' + filename_extension + '.csv'), index=None)"
   ]
  },
  {
   "cell_type": "code",
   "execution_count": null,
   "id": "bfa034cd",
   "metadata": {},
   "outputs": [],
   "source": []
  },
  {
   "cell_type": "code",
   "execution_count": null,
   "id": "11b822d2",
   "metadata": {},
   "outputs": [],
   "source": []
  },
  {
   "cell_type": "code",
   "execution_count": null,
   "id": "49ff38ab",
   "metadata": {},
   "outputs": [],
   "source": []
  },
  {
   "cell_type": "code",
   "execution_count": null,
   "id": "3471705e",
   "metadata": {},
   "outputs": [],
   "source": []
  },
  {
   "cell_type": "code",
   "execution_count": null,
   "id": "f5fd9e6d",
   "metadata": {},
   "outputs": [],
   "source": []
  }
 ],
 "metadata": {
  "kernelspec": {
   "display_name": "Python 3 (ipykernel)",
   "language": "python",
   "name": "python3"
  },
  "language_info": {
   "codemirror_mode": {
    "name": "ipython",
    "version": 3
   },
   "file_extension": ".py",
   "mimetype": "text/x-python",
   "name": "python",
   "nbconvert_exporter": "python",
   "pygments_lexer": "ipython3",
   "version": "3.7.6"
  }
 },
 "nbformat": 4,
 "nbformat_minor": 5
}
