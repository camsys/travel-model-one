{
 "cells": [
  {
   "cell_type": "code",
   "execution_count": null,
   "id": "f47a4689",
   "metadata": {},
   "outputs": [],
   "source": [
    "import os\n",
    "import pandas as pd\n",
    "import numpy as np\n",
    "import openmatrix as omx\n",
    "import random\n",
    "import yaml\n",
    "\n",
    "from utility import *\n",
    "\n",
    "import warnings\n",
    "warnings.filterwarnings('ignore')"
   ]
  },
  {
   "cell_type": "code",
   "execution_count": null,
   "id": "69e62b29",
   "metadata": {},
   "outputs": [],
   "source": [
    "with open('config.yaml', 'r') as file:\n",
    "    params = yaml.safe_load(file)\n",
    "    \n",
    "_join = os.path.join\n",
    "_dir = os.path.dirname\n",
    "_norm = os.path.normpath\n",
    "\n",
    "# paths\n",
    "model_outputs_dir = params['model_dir']\n",
    "skims_dir = _join(model_outputs_dir, \"skims\")\n",
    "summary_outputs = params['summary_dir']\n",
    "concept_id = params['concept_id']\n",
    "ctramp_dir = params['ctramp_dir']\n",
    "iteration = params['iteration']\n",
    "\n",
    "concept_id = params['concept_id']\n",
    "time_period_mapping = params['time_periods_mapping']\n",
    "link21_purp_mapping = params['purpose_mapping']\n",
    "mode_cat_mapping = params['mode_mapping']\n",
    "time_periods = params['periods']\n",
    "acc_egg_modes = params['access_egress_modes']\n",
    "period = params['periods']\n",
    "\n",
    "preprocess_dir = _join(ctramp_dir, '_pre_process_files')\n",
    "perf_measure_columns = params['final_columns']\n",
    "\n",
    "summary_dir = params['summary_dir']\n",
    "filename_extension = params['filename_extension']"
   ]
  },
  {
   "cell_type": "code",
   "execution_count": null,
   "id": "ac656a40",
   "metadata": {},
   "outputs": [],
   "source": [
    "demand_matrices_dir = _join(model_outputs_dir, \"demand_matrices\")\n",
    "transit_demand_dir = _join(demand_matrices_dir, \"transit\")\n",
    "transit_skims_dir = _join(skims_dir, \"transit\")\n",
    "nmt_skims_dir = _join(skims_dir, \"active\")\n",
    "\n",
    "walk_speed = params['walk_speed']"
   ]
  },
  {
   "cell_type": "code",
   "execution_count": null,
   "id": "54fcdc32",
   "metadata": {},
   "outputs": [],
   "source": [
    "#trip roster\n",
    "df_trips = pd.read_parquet(_join(preprocess_dir, 'trip_roster.parquet'))"
   ]
  },
  {
   "cell_type": "markdown",
   "id": "c7a02058",
   "metadata": {},
   "source": [
    "### Adding Walk distance to pure walking trips"
   ]
  },
  {
   "cell_type": "code",
   "execution_count": null,
   "id": "f1bf1ec7",
   "metadata": {},
   "outputs": [],
   "source": [
    "walk_trips = df_trips[df_trips['trip_mode'] == 4]\n",
    "\n",
    "nm_skims = omx.open_file(_join(nmt_skims_dir, 'nonmotskm.omx'))\n",
    "nm_dist = array2df(np.array(nm_skims['DISTWALK']), cols =['orig', 'dest', 'walk_dist'])\n",
    "\n",
    "walk_trips = pd.merge(walk_trips, nm_dist, left_on=['orig_taz', 'dest_taz'], right_on=['orig', 'dest'], how = 'left')\n",
    "walk_trips['walk_time'] = (walk_trips['walk_dist']/walk_speed)*60 # convert to minutes"
   ]
  },
  {
   "cell_type": "code",
   "execution_count": null,
   "id": "b9553847",
   "metadata": {},
   "outputs": [],
   "source": [
    "walk_trips['walk_time'].max(), walk_trips['walk_dist'].max()"
   ]
  },
  {
   "cell_type": "code",
   "execution_count": null,
   "id": "2d494dcd",
   "metadata": {},
   "outputs": [],
   "source": []
  },
  {
   "cell_type": "markdown",
   "id": "ea7397f1",
   "metadata": {},
   "source": [
    "### Adding Wacc time + Walk Egress time on Transit Trips "
   ]
  },
  {
   "cell_type": "code",
   "execution_count": null,
   "id": "f1f38a78",
   "metadata": {},
   "outputs": [],
   "source": [
    "#df_trips = create_trip_roster(ctramp_dir, transbay_od, geo_cwks, link21_purp_mapping)\n",
    "df_trn = df_trips.loc[df_trips['trip_mode'].isin([6,7,8])]"
   ]
  },
  {
   "cell_type": "markdown",
   "id": "919e6d8e",
   "metadata": {},
   "source": [
    "##### Create OMX file with walk time between OD pairs for all 25 skims"
   ]
  },
  {
   "cell_type": "code",
   "execution_count": null,
   "id": "a86b3dfd",
   "metadata": {},
   "outputs": [],
   "source": [
    "create_rail_wacc_od_pairs(preprocess_dir, transit_skims_dir, period, acc_egg_modes)"
   ]
  },
  {
   "cell_type": "markdown",
   "id": "6dbba0da",
   "metadata": {},
   "source": [
    "#### Add walk access time to each Rail inclusive trip"
   ]
  },
  {
   "cell_type": "code",
   "execution_count": null,
   "id": "caf65518",
   "metadata": {},
   "outputs": [],
   "source": [
    "df_temp = []\n",
    "\n",
    "for period in time_periods:\n",
    "    print(f'processing - {period}')\n",
    "    \n",
    "    df_od_pr = omx.open_file(_join(preprocess_dir, \"rail_od_v9_trim_\" + period.upper() + \".omx\"))\n",
    "    df_od_wacc = omx.open_file(_join(preprocess_dir, \"rail_wacc_od_v9_trim_\" + period.upper() + \".omx\"))\n",
    "    df_trn_pd = df_trn[df_trn['Period'] == period]\n",
    "    \n",
    "    #walk transit\n",
    "    df_trn_acc = df_trn_pd[df_trn_pd['Mode'] == 'WALK_TRANSIT']\n",
    "    df_rail_od = skim_core_to_df(df_od_pr, 'WLK_TRN_WLK')\n",
    "    df_rail_acc = skim_core_to_df(df_od_wacc, 'WLK_TRN_WLK', cols =['orig', 'dest', 'wacc']) # add walk access/egress\n",
    "    df_rail_od = df_rail_od[df_rail_od['rail_od'] > 0]\n",
    "    df_trn_wlk = pd.merge(df_trn_acc, df_rail_od, \n",
    "                          left_on =['orig_taz', 'dest_taz'], \n",
    "                          right_on=['orig', 'dest'], \n",
    "                          how ='inner')\n",
    "    df_trn_wlk = pd.merge(df_trn_wlk, df_rail_acc,\n",
    "                          left_on =['orig_taz', 'dest_taz'], \n",
    "                          right_on=['orig', 'dest'], \n",
    "                          how ='inner')\n",
    "    \n",
    "    \n",
    "    # PNR Transit\n",
    "    df_trn_acc = df_trn_pd[df_trn_pd['Mode'] == 'PNR_TRANSIT']\n",
    "    df_trn_acc_inbnd = df_trn_acc[df_trn_acc['inbound'] == 1] # returning home\n",
    "    df_rail_od = skim_core_to_df(df_od_pr, 'WLK_TRN_PNR')\n",
    "    df_rail_acc = skim_core_to_df(df_od_wacc, 'WLK_TRN_PNR', cols =['orig', 'dest', 'wacc']) # add walk access/egress\n",
    "    df_rail_od = df_rail_od[df_rail_od['rail_od'] > 0]\n",
    "    df_trn_pnr_inb = pd.merge(df_trn_acc_inbnd, df_rail_od, \n",
    "                              left_on =['orig_taz', 'dest_taz'], \n",
    "                              right_on=['orig', 'dest'], how ='inner')\n",
    "    df_trn_pnr_inb = pd.merge(df_trn_pnr_inb, df_rail_acc, \n",
    "                              left_on =['orig_taz', 'dest_taz'], \n",
    "                              right_on=['orig', 'dest'], how ='inner')\n",
    "\n",
    "    df_trn_acc_outbnd = df_trn_acc[df_trn_acc['inbound'] != 1] # returning home\n",
    "    df_rail_od = skim_core_to_df(df_od_pr, 'PNR_TRN_WLK')\n",
    "    df_rail_acc = skim_core_to_df(df_od_wacc, 'PNR_TRN_WLK', cols =['orig', 'dest', 'wacc']) # add walk access/egress\n",
    "    df_rail_od = df_rail_od[df_rail_od['rail_od'] > 0]\n",
    "    df_trn_pnr_outbnd = pd.merge(df_trn_acc_outbnd, df_rail_od, \n",
    "                              left_on =['orig_taz', 'dest_taz'], \n",
    "                              right_on=['orig', 'dest'], how ='inner')\n",
    "    df_trn_pnr_outbnd = pd.merge(df_trn_pnr_outbnd, df_rail_acc, \n",
    "                              left_on =['orig_taz', 'dest_taz'], \n",
    "                              right_on=['orig', 'dest'], how ='inner')\n",
    "\n",
    "    df_trn_pnr = pd.concat([df_trn_pnr_inb, df_trn_pnr_outbnd], ignore_index=True)\n",
    "    \n",
    "    # KNR Transit\n",
    "    df_trn_acc = df_trn_pd[df_trn_pd['Mode'] == 'KNR_TRANSIT']\n",
    "    df_trn_acc_inbnd = df_trn_acc[df_trn_acc['inbound'] == 1] # returning home\n",
    "    df_rail_acc = skim_core_to_df(df_od_wacc, 'WLK_TRN_KNR', cols =['orig', 'dest', 'wacc']) # add walk access/egress\n",
    "    df_rail_od = skim_core_to_df(df_od_pr, 'WLK_TRN_KNR')\n",
    "    df_rail_od = df_rail_od[df_rail_od['rail_od'] > 0]\n",
    "    df_trn_knr_inb = pd.merge(df_trn_acc_inbnd, df_rail_od, \n",
    "                              left_on =['orig_taz', 'dest_taz'], \n",
    "                              right_on=['orig', 'dest'], how ='inner')\n",
    "    df_trn_knr_inb = pd.merge(df_trn_knr_inb, df_rail_acc, \n",
    "                              left_on =['orig_taz', 'dest_taz'], \n",
    "                              right_on=['orig', 'dest'], how ='inner')\n",
    "\n",
    "\n",
    "    df_trn_acc_outbnd = df_trn_acc[df_trn_acc['inbound'] != 1] # returning home\n",
    "    df_rail_od = skim_core_to_df(df_od_pr, 'KNR_TRN_WLK')\n",
    "    df_rail_acc = skim_core_to_df(df_od_wacc, 'KNR_TRN_WLK', cols =['orig', 'dest', 'wacc']) # add walk access/egress\n",
    "    df_rail_od = df_rail_od[df_rail_od['rail_od'] > 0]\n",
    "    df_trn_knr_outbnd = pd.merge(df_trn_acc_outbnd, df_rail_od, \n",
    "                              left_on =['orig_taz', 'dest_taz'], \n",
    "                              right_on=['orig', 'dest'], how ='inner')\n",
    "    df_trn_knr_outbnd = pd.merge(df_trn_knr_outbnd, df_rail_acc, \n",
    "                              left_on =['orig_taz', 'dest_taz'], \n",
    "                              right_on=['orig', 'dest'], how ='inner')\n",
    "\n",
    "    df_trn_knr = pd.concat([df_trn_knr_inb, df_trn_knr_outbnd], ignore_index=True)\n",
    "    \n",
    "    df_trn_rail = pd.concat([df_trn_wlk, df_trn_pnr, df_trn_knr], ignore_index=True)\n",
    "    df_temp.append(df_trn_rail)\n",
    "\n",
    "df_trn_rail = pd.concat(df_temp)"
   ]
  },
  {
   "cell_type": "code",
   "execution_count": null,
   "id": "33b75ad2",
   "metadata": {},
   "outputs": [],
   "source": [
    "df_trn_rail['wacc'] = df_trn_rail['wacc']/100\n",
    "df_trn_rail['walk_dist'] = df_trn_rail['wacc'] * walk_speed / (60) # convert to miles\n",
    "df_trn_walk = df_trn_rail[['hh_id', 'person_id', 'trips', 'wacc', 'walk_dist']]\n",
    "\n",
    "df_walk = walk_trips[['hh_id', 'person_id', 'trips', 'walk_time', 'walk_dist']]\n",
    "df_walk = pd.concat([df_trn_walk, df_walk], ignore_index=True).reset_index(drop=True)\n",
    "\n",
    "df_walk['wacc'] = df_walk['wacc'].fillna(0)\n",
    "df_walk['walk_time'] = df_walk['walk_time'].fillna(0)\n",
    "\n",
    "df_walk['acc_wt_time'] = df_walk['wacc'] + df_walk['walk_time']\n",
    "\n",
    "df_walk_jnt = df_walk.loc[df_walk['person_id'].isna()]\n",
    "df_walk_inm = df_walk.loc[~df_walk['person_id'].isna()]"
   ]
  },
  {
   "cell_type": "code",
   "execution_count": null,
   "id": "84a0338e",
   "metadata": {},
   "outputs": [],
   "source": [
    "df_walk_jnt['jt_walk_time'] = df_walk_jnt['acc_wt_time'] #* df_walk_jnt['trips']\n",
    "df_walk_inm['inm_walk_time'] = df_walk_inm['acc_wt_time'] #* df_walk_inm['trips']\n",
    "\n",
    "df_walk_jnt['jt_walk_dist'] = df_walk_jnt['walk_dist'] #* df_walk_jnt['trips']\n",
    "df_walk_inm['inm_walk_dist'] = df_walk_inm['walk_dist'] #* df_walk_inm['trips']"
   ]
  },
  {
   "cell_type": "code",
   "execution_count": null,
   "id": "aff17818",
   "metadata": {},
   "outputs": [],
   "source": [
    "df_walk_jnt"
   ]
  },
  {
   "cell_type": "code",
   "execution_count": null,
   "id": "68bb33d8",
   "metadata": {},
   "outputs": [],
   "source": [
    "df_walk_jnt_wt = df_walk_jnt.groupby(['hh_id', 'trips'])['jt_walk_time', 'jt_walk_dist'].sum().reset_index()\n",
    "df_walk_jnt_wt = df_walk_jnt_wt.rename(columns={'trips' : 'jt_trips'})"
   ]
  },
  {
   "cell_type": "code",
   "execution_count": null,
   "id": "468cbcee",
   "metadata": {},
   "outputs": [],
   "source": [
    "df_walk_inm_wt = df_walk_inm.groupby(['hh_id', 'person_id', 'trips'])['inm_walk_time', 'inm_walk_dist'].sum().reset_index()\n",
    "df_walk_inm_wt = df_walk_inm_wt.rename(columns={'trips' : 'inm_trips'})"
   ]
  },
  {
   "cell_type": "code",
   "execution_count": null,
   "id": "e7e77801",
   "metadata": {},
   "outputs": [],
   "source": [
    "final_df_walk = pd.merge(df_walk_inm_wt, df_walk_jnt_wt, on='hh_id', how='outer')"
   ]
  },
  {
   "cell_type": "code",
   "execution_count": null,
   "id": "f6c4d28f",
   "metadata": {},
   "outputs": [],
   "source": [
    "final_df_walk"
   ]
  },
  {
   "cell_type": "code",
   "execution_count": null,
   "id": "b9da026f",
   "metadata": {},
   "outputs": [],
   "source": [
    "final_df_walk = final_df_walk.fillna(0)"
   ]
  },
  {
   "cell_type": "code",
   "execution_count": null,
   "id": "67249505",
   "metadata": {},
   "outputs": [],
   "source": [
    "final_df_walk['walk_time'] = final_df_walk['inm_walk_time'] + final_df_walk['jt_walk_time']\n",
    "final_df_walk['walk_dist'] = final_df_walk['inm_walk_dist'] + final_df_walk['jt_walk_dist']\n",
    "\n",
    "final_df_walk['trips'] = final_df_walk['inm_trips'] + final_df_walk['jt_trips']"
   ]
  },
  {
   "cell_type": "code",
   "execution_count": null,
   "id": "db780628",
   "metadata": {},
   "outputs": [],
   "source": [
    "final_df_walk"
   ]
  },
  {
   "cell_type": "code",
   "execution_count": null,
   "id": "40dbe87e",
   "metadata": {},
   "outputs": [],
   "source": [
    "final_df_walk.loc[(final_df_walk['jt_walk_time']>0) & (final_df_walk['inm_walk_time']>0), 'trips'] = 1"
   ]
  },
  {
   "cell_type": "code",
   "execution_count": null,
   "id": "9c74888b",
   "metadata": {},
   "outputs": [],
   "source": []
  },
  {
   "cell_type": "code",
   "execution_count": null,
   "id": "3ea415dd",
   "metadata": {},
   "outputs": [],
   "source": []
  },
  {
   "cell_type": "code",
   "execution_count": null,
   "id": "66a742b3",
   "metadata": {},
   "outputs": [],
   "source": [
    "person_walk_gt30 = final_df_walk.loc[final_df_walk['walk_time'] > 30]\n",
    "person_walk_gt30['trips'].sum()"
   ]
  },
  {
   "cell_type": "code",
   "execution_count": null,
   "id": "fdde292c",
   "metadata": {},
   "outputs": [],
   "source": [
    "final_df_walk['person_walk_dist'] = final_df_walk['walk_dist'] * final_df_walk['trips']"
   ]
  },
  {
   "cell_type": "code",
   "execution_count": null,
   "id": "af671b64",
   "metadata": {},
   "outputs": [],
   "source": [
    "df_wk_wt = pd.DataFrame(columns = perf_measure_columns)\n",
    "df_wk_wd = pd.DataFrame(columns = perf_measure_columns)"
   ]
  },
  {
   "cell_type": "code",
   "execution_count": null,
   "id": "7699a9f4",
   "metadata": {},
   "outputs": [],
   "source": [
    "df_wk_wt = df_wk_wt.append({'Concept_ID' : concept_id,\n",
    "                      'Metric_ID' : 'B2.4',\n",
    "                      'Metric_name' : 'Active Mode',\n",
    "                      'Submetric' : 'B2.4.1',\n",
    "                      'Description' : 'Count of people walking for more than 30 minutes per day',\n",
    "                      'Population' : 'Whole Population',\n",
    "                      'Period' : '',\n",
    "                      'Geography' : 'Regional',\n",
    "                      'Zone_ID' : '',\n",
    "                      'Origin_zone' : '',\n",
    "                      'Dest_zone' : '',\n",
    "                      'Purpose' : '',\n",
    "                      'Value' : person_walk_gt30['trips'].sum(),\n",
    "                      'Units' : 'number of persons',\n",
    "                      'Total_Increment' : ''}, ignore_index=True)"
   ]
  },
  {
   "cell_type": "code",
   "execution_count": null,
   "id": "e3b866a2",
   "metadata": {},
   "outputs": [],
   "source": [
    "df_wk_wd = df_wk_wd.append({'Concept_ID' : concept_id,\n",
    "                      'Metric_ID' : 'B2.3',\n",
    "                      'Metric_name' : 'Active Mode',\n",
    "                      'Submetric' : 'B2.3.1',\n",
    "                      'Description' : 'Total walk distance by person per day',\n",
    "                      'Population' : 'Whole Population',\n",
    "                      'Period' : '',\n",
    "                      'Geography' : 'Regional',\n",
    "                      'Zone_ID' : '',\n",
    "                      'Origin_zone' : '',\n",
    "                      'Dest_zone' : '',\n",
    "                      'Purpose' : '',\n",
    "                      'Value' : final_df_walk['person_walk_dist'].sum(),\n",
    "                      'Units' : 'miles',\n",
    "                      'Total_Increment' : ''}, ignore_index=True)"
   ]
  },
  {
   "cell_type": "code",
   "execution_count": null,
   "id": "8b500444",
   "metadata": {},
   "outputs": [],
   "source": [
    "df_wk_wt = df_wk_wt[perf_measure_columns]\n",
    "df_wk_wd = df_wk_wd[perf_measure_columns]"
   ]
  },
  {
   "cell_type": "code",
   "execution_count": null,
   "id": "2c0001a6",
   "metadata": {},
   "outputs": [],
   "source": [
    "df_wk_wt.to_csv(_join(summary_dir, \"person_walking_gt30min_B2.4\" + filename_extension + \".csv\"), index=False)\n",
    "df_wk_wd.to_csv(_join(summary_dir, \"total_walk_distance_B2.3\" + filename_extension + \".csv\"), index=False)"
   ]
  },
  {
   "cell_type": "markdown",
   "id": "e2d71ee7",
   "metadata": {},
   "source": [
    "# summarise for prioirty population\n",
    "summary_cols = params['description_a1.2']\n",
    "\n",
    "time_periods = ['AM']\n",
    "\n",
    "\n",
    "pp_df = []\n",
    "reg_df = []\n",
    "county_df = []\n",
    "sd_df = []\n",
    "tb_df = []\n",
    "rdm_df = []\n",
    "\n",
    "\n",
    "#regional value\n",
    "region_value = df_temp.groupby(['Period', 'link21_trip_purp'])['walk_dist'].sum().reset_index()\n",
    "region_value = region_value.rename(columns={'link21_trip_purp': 'Purpose',\n",
    "                                           'walk_dist': 'Value'})\n",
    "region_value['Concept_ID'] = concept_id\n",
    "region_value['Metric_ID'] = 'B2.1'\n",
    "region_value['Metric_name'] = 'B2.1'\n",
    "region_value['Submetric'] = 'B2.1.1'\n",
    "region_value['Description'] = 'Active mode access to rail: Total walk distance'\n",
    "region_value['Population'] = 'Whole Population'\n",
    "region_value['Period'] = period\n",
    "region_value['Geography'] = 'Regional'\n",
    "region_value['Orig_zone'] = ''\n",
    "region_value['Dest_zone'] = ''\n",
    "region_value['Zone_ID'] = 'Megaregion'\n",
    "region_value['Geography'] = 'Regional'\n",
    "region_value['Units'] = 'miles'\n",
    "region_value['Metric_name'] = 'Active mode access to rail'  \n",
    "region_value = region_value[perf_measure_columns]\n",
    "\n",
    "#county \n",
    "county_df_temp = df_temp.groupby(['orig_county', 'dest_county'])[columns].mean().reset_index()\n",
    "county_df_temp = rename_columns(county_df_temp, ['orig_county', 'dest_county', columns])\n",
    "\n",
    "county_df_temp['Period'] = period\n",
    "county_df_temp['Population'] = 'Whole Population'\n",
    "county_df_temp['Zone_Id'] = ''\n",
    "county_df_temp['Geography'] = 'County'\n",
    "county_df_temp['Description'] = summary_cols[columns][0]\n",
    "county_df_temp['Metric'] = summary_cols[columns][1]\n",
    "county_df_temp['Submetric'] = summary_cols[columns][1]+'.5'\n",
    "county_df_temp['Units'] = summary_cols[columns][2]\n",
    "county_df_temp['Metric_name'] = summary_cols[columns][3]\n",
    "county_df.append(county_df_temp)\n",
    "\n",
    "#super district\n",
    "sd_df_temp = df_temp.groupby(['orig_super_dist', 'dest_super_dist'])[columns].mean().reset_index()\n",
    "sd_df_temp = rename_columns(sd_df_temp, ['orig_super_dist', 'dest_super_dist', columns])\n",
    "\n",
    "sd_df_temp['Period'] = period\n",
    "sd_df_temp['Population'] = 'Whole Population'\n",
    "sd_df_temp['Zone_ID'] = ''\n",
    "sd_df_temp['Geography'] = 'Superdistrict'\n",
    "sd_df_temp['Description'] = summary_cols[columns][0]\n",
    "sd_df_temp['Metric'] = summary_cols[columns][1]\n",
    "sd_df_temp['Submetric'] = summary_cols[columns][1]+'.4'\n",
    "sd_df_temp['Units'] = summary_cols[columns][2]\n",
    "sd_df_temp['Metric_name'] = summary_cols[columns][3]\n",
    "sd_df.append(sd_df_temp)\n",
    "\n",
    "#RDM Zones\n",
    "rdm_df_temp = df_temp.groupby(['orig_rdm_zones', 'dest_rdm_zones'])[columns].mean().reset_index()\n",
    "rdm_df_temp =  rename_columns(rdm_df_temp, ['orig_rdm_zones', 'dest_rdm_zones', columns])\n",
    "\n",
    "rdm_df_temp['Period'] = period\n",
    "rdm_df_temp['Population'] = 'Whole Population'\n",
    "rdm_df_temp['Zone_ID'] = ''\n",
    "rdm_df_temp['Geography'] = 'RDM'\n",
    "rdm_df_temp['Description'] = summary_cols[columns][0]     \n",
    "rdm_df_temp['Metric'] = summary_cols[columns][1]\n",
    "rdm_df_temp['Submetric'] = summary_cols[columns][1]+'.3'\n",
    "rdm_df_temp['Units'] = summary_cols[columns][2]\n",
    "rdm_df_temp['Metric_name'] = summary_cols[columns][3]\n",
    "rdm_df.append(rdm_df_temp)\n",
    "\n",
    "\n",
    "# transbay region\n",
    "tb_value = df_temp[df_temp['transbay_od']==1]\n",
    "tb_value = tb_value[columns].mean()\n",
    "\n",
    "tb_df_temp = pd.DataFrame({'Population': 'Whole Population',\n",
    "                           'Period': period,\n",
    "                           'Value': tb_value,\n",
    "                           'Orig_zone' : '',\n",
    "                           'Dest_zone' : '',\n",
    "                           'Zone_ID' : 'Megaregion',\n",
    "                           'Geography' : 'Transbay',\n",
    "                           'Metric':summary_cols[columns][1],\n",
    "                           'Submetric':summary_cols[columns][1]+'.6',\n",
    "                           'Description' : summary_cols[columns][0],\n",
    "                           'Units' : summary_cols[columns][2],\n",
    "                           'Metric_name' : summary_cols[columns][3]}, index=[0])\n",
    "\n"
   ]
  },
  {
   "cell_type": "code",
   "execution_count": null,
   "id": "7de2a6b4",
   "metadata": {},
   "outputs": [],
   "source": []
  },
  {
   "cell_type": "code",
   "execution_count": null,
   "id": "ffbc7ae9",
   "metadata": {},
   "outputs": [],
   "source": []
  },
  {
   "cell_type": "code",
   "execution_count": null,
   "id": "46dae60b",
   "metadata": {},
   "outputs": [],
   "source": []
  },
  {
   "cell_type": "code",
   "execution_count": null,
   "id": "b605bcb8",
   "metadata": {},
   "outputs": [],
   "source": []
  }
 ],
 "metadata": {
  "kernelspec": {
   "display_name": "Python 3 (ipykernel)",
   "language": "python",
   "name": "python3"
  },
  "language_info": {
   "codemirror_mode": {
    "name": "ipython",
    "version": 3
   },
   "file_extension": ".py",
   "mimetype": "text/x-python",
   "name": "python",
   "nbconvert_exporter": "python",
   "pygments_lexer": "ipython3",
   "version": "3.7.6"
  }
 },
 "nbformat": 4,
 "nbformat_minor": 5
}
