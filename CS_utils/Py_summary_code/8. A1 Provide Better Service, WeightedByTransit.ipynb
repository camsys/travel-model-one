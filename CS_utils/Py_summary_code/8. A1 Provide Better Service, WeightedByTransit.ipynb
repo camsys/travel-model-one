{
 "cells": [
  {
   "cell_type": "code",
   "execution_count": 1,
   "id": "c94ee55a-efd7-4d1a-9d55-7ccf3764da4d",
   "metadata": {},
   "outputs": [],
   "source": [
    "import openmatrix as omx\n",
    "import pandas as pd\n",
    "import numpy as np\n",
    "import yaml\n",
    "from utility import *\n",
    "import warnings\n",
    "warnings.filterwarnings(\"ignore\")"
   ]
  },
  {
   "cell_type": "code",
   "execution_count": 2,
   "id": "c4901550",
   "metadata": {},
   "outputs": [],
   "source": [
    "pd.set_option('display.max_rows', None)\n",
    "pd.set_option('display.max_columns', None)"
   ]
  },
  {
   "cell_type": "code",
   "execution_count": 3,
   "id": "fb138bee",
   "metadata": {},
   "outputs": [],
   "source": [
    "with open('config.yaml', 'r') as file:\n",
    "    params = yaml.safe_load(file)\n",
    "    \n",
    "_join = os.path.join\n",
    "_dir = os.path.dirname\n",
    "_norm = os.path.normpath\n",
    "\n",
    "# paths\n",
    "model_outputs_dir = params['model_dir']\n",
    "skims_dir = _join(model_outputs_dir, \"skims\")\n",
    "summary_outputs = params['summary_dir']\n",
    "concept_id = params['concept_id']\n",
    "ctramp_dir = params['ctramp_dir']\n",
    "iteration = params['iteration']\n",
    "\n",
    "concept_id = params['concept_id']\n",
    "time_period_mapping = params['time_periods_mapping']\n",
    "link21_purp_mapping = params['purpose_mapping']\n",
    "mode_cat_mapping = params['mode_mapping']\n",
    "time_periods = params['periods']\n",
    "acc_egg_modes = params['access_egress_modes']\n",
    "\n",
    "preprocess_dir = _join(ctramp_dir, '_pre_process_files')\n",
    "perf_measure_columns = params['final_columns']\n",
    "summary_dir = params['summary_dir']\n",
    "\n",
    "time_periods = params['periods']\n",
    "perf_measure_columns = params['final_columns']\n",
    "\n",
    "best_path_skim_extension = params['best_path_skim_extension']\n",
    "\n",
    "annual_transit_factor = params['annual_transit_factor']\n",
    "annual_auto_factor = params['annual_auto_factor']\n",
    "\n",
    "filename_extension = params['filename_extension']"
   ]
  },
  {
   "cell_type": "code",
   "execution_count": 4,
   "id": "edf2bc98",
   "metadata": {},
   "outputs": [
    {
     "name": "stdout",
     "output_type": "stream",
     "text": [
      "['Concept_ID', 'Metric_ID', 'Metric_name', 'Submetric', 'Description', 'Population', 'Period', 'Geography', 'Zone_ID', 'Origin_zone', 'Dest_zone', 'Purpose', 'Mode', 'Income', 'Value', 'Units', 'Total_Increment']\n"
     ]
    }
   ],
   "source": [
    "print(perf_measure_columns)"
   ]
  },
  {
   "cell_type": "markdown",
   "id": "63caa8b7",
   "metadata": {},
   "source": [
    "## Final Code"
   ]
  },
  {
   "cell_type": "code",
   "execution_count": 5,
   "id": "1c826aba",
   "metadata": {},
   "outputs": [
    {
     "data": {
      "text/html": [
       "<div>\n",
       "<style scoped>\n",
       "    .dataframe tbody tr th:only-of-type {\n",
       "        vertical-align: middle;\n",
       "    }\n",
       "\n",
       "    .dataframe tbody tr th {\n",
       "        vertical-align: top;\n",
       "    }\n",
       "\n",
       "    .dataframe thead th {\n",
       "        text-align: right;\n",
       "    }\n",
       "</style>\n",
       "<table border=\"1\" class=\"dataframe\">\n",
       "  <thead>\n",
       "    <tr style=\"text-align: right;\">\n",
       "      <th>tp</th>\n",
       "      <th>orig</th>\n",
       "      <th>dest</th>\n",
       "      <th>am</th>\n",
       "      <th>ea</th>\n",
       "      <th>ev</th>\n",
       "      <th>md</th>\n",
       "      <th>pm</th>\n",
       "    </tr>\n",
       "  </thead>\n",
       "  <tbody>\n",
       "    <tr>\n",
       "      <th>0</th>\n",
       "      <td>1</td>\n",
       "      <td>1</td>\n",
       "      <td>NaN</td>\n",
       "      <td>NaN</td>\n",
       "      <td>NaN</td>\n",
       "      <td>NaN</td>\n",
       "      <td>NaN</td>\n",
       "    </tr>\n",
       "    <tr>\n",
       "      <th>1</th>\n",
       "      <td>1</td>\n",
       "      <td>2</td>\n",
       "      <td>9361.0</td>\n",
       "      <td>7383.0</td>\n",
       "      <td>7338.0</td>\n",
       "      <td>7702.0</td>\n",
       "      <td>9353.0</td>\n",
       "    </tr>\n",
       "    <tr>\n",
       "      <th>2</th>\n",
       "      <td>1</td>\n",
       "      <td>3</td>\n",
       "      <td>8118.0</td>\n",
       "      <td>7171.0</td>\n",
       "      <td>7132.0</td>\n",
       "      <td>7299.0</td>\n",
       "      <td>7183.0</td>\n",
       "    </tr>\n",
       "  </tbody>\n",
       "</table>\n",
       "</div>"
      ],
      "text/plain": [
       "tp  orig  dest      am      ea      ev      md      pm\n",
       "0      1     1     NaN     NaN     NaN     NaN     NaN\n",
       "1      1     2  9361.0  7383.0  7338.0  7702.0  9353.0\n",
       "2      1     3  8118.0  7171.0  7132.0  7299.0  7183.0"
      ]
     },
     "execution_count": 5,
     "metadata": {},
     "output_type": "execute_result"
    }
   ],
   "source": [
    "tod_skims = pd.read_parquet(_join(preprocess_dir, 'tod_min_perceived_travel_time.parquet'))\n",
    "tod_skims = tod_skims.reset_index()\n",
    "tod_skims.head(3)"
   ]
  },
  {
   "cell_type": "code",
   "execution_count": 6,
   "id": "cf0621b7",
   "metadata": {},
   "outputs": [],
   "source": [
    "# tod_skims.describe()"
   ]
  },
  {
   "cell_type": "code",
   "execution_count": 7,
   "id": "30dae9ce",
   "metadata": {},
   "outputs": [
    {
     "data": {
      "text/plain": [
       "['am', 'md', 'pm', 'ev', 'ea']"
      ]
     },
     "execution_count": 7,
     "metadata": {},
     "output_type": "execute_result"
    }
   ],
   "source": [
    "time_periods"
   ]
  },
  {
   "cell_type": "code",
   "execution_count": 8,
   "id": "cfce8c25",
   "metadata": {},
   "outputs": [
    {
     "data": {
      "text/html": [
       "<div>\n",
       "<style scoped>\n",
       "    .dataframe tbody tr th:only-of-type {\n",
       "        vertical-align: middle;\n",
       "    }\n",
       "\n",
       "    .dataframe tbody tr th {\n",
       "        vertical-align: top;\n",
       "    }\n",
       "\n",
       "    .dataframe thead th {\n",
       "        text-align: right;\n",
       "    }\n",
       "</style>\n",
       "<table border=\"1\" class=\"dataframe\">\n",
       "  <thead>\n",
       "    <tr style=\"text-align: right;\">\n",
       "      <th></th>\n",
       "      <th>hh_id</th>\n",
       "      <th>person_id</th>\n",
       "      <th>inbound</th>\n",
       "      <th>tour_purpose</th>\n",
       "      <th>orig_purpose</th>\n",
       "      <th>dest_purpose</th>\n",
       "      <th>orig_taz</th>\n",
       "      <th>dest_taz</th>\n",
       "      <th>depart_hour</th>\n",
       "      <th>trip_mode</th>\n",
       "      <th>sampleRate</th>\n",
       "      <th>trip_type</th>\n",
       "      <th>trips</th>\n",
       "      <th>transbay_od</th>\n",
       "      <th>orig_rdm_zones</th>\n",
       "      <th>orig_super_dist</th>\n",
       "      <th>orig_county</th>\n",
       "      <th>dest_rdm_zones</th>\n",
       "      <th>dest_super_dist</th>\n",
       "      <th>dest_county</th>\n",
       "      <th>home_zone</th>\n",
       "      <th>income</th>\n",
       "      <th>Income</th>\n",
       "      <th>pp_share</th>\n",
       "      <th>link21_trip_purp</th>\n",
       "      <th>Period</th>\n",
       "      <th>Mode</th>\n",
       "    </tr>\n",
       "  </thead>\n",
       "  <tbody>\n",
       "  </tbody>\n",
       "</table>\n",
       "</div>"
      ],
      "text/plain": [
       "Empty DataFrame\n",
       "Columns: [hh_id, person_id, inbound, tour_purpose, orig_purpose, dest_purpose, orig_taz, dest_taz, depart_hour, trip_mode, sampleRate, trip_type, trips, transbay_od, orig_rdm_zones, orig_super_dist, orig_county, dest_rdm_zones, dest_super_dist, dest_county, home_zone, income, Income, pp_share, link21_trip_purp, Period, Mode]\n",
       "Index: []"
      ]
     },
     "execution_count": 8,
     "metadata": {},
     "output_type": "execute_result"
    }
   ],
   "source": [
    "all_trips = pd.read_parquet(_join(preprocess_dir, 'trip_roster.parquet'))\n",
    "#all_trips = pd.read_parquet(_join(preprocess_dir, 'trip_roster_2050_Baseline_R2_Run4.parquet'))\n",
    "all_trips = all_trips.loc[all_trips['trip_mode'].isin([6,7,8])]\n",
    "all_trips.head(0)"
   ]
  },
  {
   "cell_type": "code",
   "execution_count": 9,
   "id": "51d53219",
   "metadata": {},
   "outputs": [
    {
     "name": "stdout",
     "output_type": "stream",
     "text": [
      "Connected ODs in am: 10,857,718\n",
      "Connected ODs in md: 10,778,586\n",
      "Connected ODs in pm: 10,797,153\n",
      "Connected ODs in ev: 10,769,171\n",
      "Connected ODs in ea: 10,875,877\n"
     ]
    }
   ],
   "source": [
    "connected_ods = {}\n",
    "final_trips = []\n",
    "for period in time_periods:\n",
    "    tp_df = all_trips[all_trips['Period'] == period.lower()]\n",
    "    tod_skims_df = tod_skims[['orig', 'dest', period.lower()]].copy()\n",
    "    tod_skims_df = tod_skims_df.dropna()\n",
    "    print(f'Connected ODs in {period}: {len(tod_skims_df):,}')\n",
    "    connected_ods[period] = len(tod_skims_df)\n",
    "    tod_skims_df.columns = ['orig_taz', 'dest_taz', 'perc_tt']\n",
    "    tp_df = pd.merge(tp_df, tod_skims_df, on = ['orig_taz', 'dest_taz'], how='inner')\n",
    "    final_trips.append(tp_df)"
   ]
  },
  {
   "cell_type": "code",
   "execution_count": 10,
   "id": "20c3bef4",
   "metadata": {},
   "outputs": [],
   "source": [
    "df_connected_ods = pd.DataFrame({'Period': connected_ods.keys(), 'Connected_ODs': connected_ods.values()})\n",
    "df_connected_ods.to_csv(_join(summary_dir,\n",
    "                              'A1.1'+ '_Connected_ODs_' + concept_id + '_region' + filename_extension + '.csv'),\n",
    "                        index=None)"
   ]
  },
  {
   "cell_type": "code",
   "execution_count": 11,
   "id": "75a787fb",
   "metadata": {},
   "outputs": [
    {
     "data": {
      "text/plain": [
       "2757724"
      ]
     },
     "execution_count": 11,
     "metadata": {},
     "output_type": "execute_result"
    }
   ],
   "source": [
    "final_trips = pd.concat(final_trips)\n",
    "len(final_trips)"
   ]
  },
  {
   "cell_type": "code",
   "execution_count": 12,
   "id": "6a0d3fc4",
   "metadata": {},
   "outputs": [
    {
     "data": {
      "text/html": [
       "<div>\n",
       "<style scoped>\n",
       "    .dataframe tbody tr th:only-of-type {\n",
       "        vertical-align: middle;\n",
       "    }\n",
       "\n",
       "    .dataframe tbody tr th {\n",
       "        vertical-align: top;\n",
       "    }\n",
       "\n",
       "    .dataframe thead th {\n",
       "        text-align: right;\n",
       "    }\n",
       "</style>\n",
       "<table border=\"1\" class=\"dataframe\">\n",
       "  <thead>\n",
       "    <tr style=\"text-align: right;\">\n",
       "      <th></th>\n",
       "      <th>hh_id</th>\n",
       "      <th>person_id</th>\n",
       "      <th>inbound</th>\n",
       "      <th>tour_purpose</th>\n",
       "      <th>orig_purpose</th>\n",
       "      <th>dest_purpose</th>\n",
       "      <th>orig_taz</th>\n",
       "      <th>dest_taz</th>\n",
       "      <th>depart_hour</th>\n",
       "      <th>trip_mode</th>\n",
       "      <th>sampleRate</th>\n",
       "      <th>trip_type</th>\n",
       "      <th>trips</th>\n",
       "      <th>transbay_od</th>\n",
       "      <th>orig_rdm_zones</th>\n",
       "      <th>orig_super_dist</th>\n",
       "      <th>orig_county</th>\n",
       "      <th>dest_rdm_zones</th>\n",
       "      <th>dest_super_dist</th>\n",
       "      <th>dest_county</th>\n",
       "      <th>home_zone</th>\n",
       "      <th>income</th>\n",
       "      <th>Income</th>\n",
       "      <th>pp_share</th>\n",
       "      <th>link21_trip_purp</th>\n",
       "      <th>Period</th>\n",
       "      <th>Mode</th>\n",
       "      <th>perc_tt</th>\n",
       "    </tr>\n",
       "  </thead>\n",
       "  <tbody>\n",
       "    <tr>\n",
       "      <th>1</th>\n",
       "      <td>2226843</td>\n",
       "      <td>5201246.0</td>\n",
       "      <td>0</td>\n",
       "      <td>work_med</td>\n",
       "      <td>Home</td>\n",
       "      <td>work</td>\n",
       "      <td>273</td>\n",
       "      <td>452</td>\n",
       "      <td>7</td>\n",
       "      <td>6</td>\n",
       "      <td>1.0</td>\n",
       "      <td>INM</td>\n",
       "      <td>1.0</td>\n",
       "      <td>0.0</td>\n",
       "      <td>San Francisco_37</td>\n",
       "      <td>3</td>\n",
       "      <td>1</td>\n",
       "      <td>San Francisco_16</td>\n",
       "      <td>3</td>\n",
       "      <td>1</td>\n",
       "      <td>273</td>\n",
       "      <td>44915</td>\n",
       "      <td>30k_to_60k</td>\n",
       "      <td>100.0</td>\n",
       "      <td>work</td>\n",
       "      <td>am</td>\n",
       "      <td>WALK_TRANSIT</td>\n",
       "      <td>3645.0</td>\n",
       "    </tr>\n",
       "    <tr>\n",
       "      <th>2</th>\n",
       "      <td>2226745</td>\n",
       "      <td>5201040.0</td>\n",
       "      <td>0</td>\n",
       "      <td>social</td>\n",
       "      <td>Home</td>\n",
       "      <td>social</td>\n",
       "      <td>273</td>\n",
       "      <td>452</td>\n",
       "      <td>9</td>\n",
       "      <td>6</td>\n",
       "      <td>1.0</td>\n",
       "      <td>INM</td>\n",
       "      <td>1.0</td>\n",
       "      <td>0.0</td>\n",
       "      <td>San Francisco_37</td>\n",
       "      <td>3</td>\n",
       "      <td>1</td>\n",
       "      <td>San Francisco_16</td>\n",
       "      <td>3</td>\n",
       "      <td>1</td>\n",
       "      <td>273</td>\n",
       "      <td>0</td>\n",
       "      <td>&lt;30k</td>\n",
       "      <td>100.0</td>\n",
       "      <td>social</td>\n",
       "      <td>am</td>\n",
       "      <td>WALK_TRANSIT</td>\n",
       "      <td>3645.0</td>\n",
       "    </tr>\n",
       "  </tbody>\n",
       "</table>\n",
       "</div>"
      ],
      "text/plain": [
       "     hh_id  person_id  inbound tour_purpose orig_purpose dest_purpose  \\\n",
       "1  2226843  5201246.0        0     work_med         Home         work   \n",
       "2  2226745  5201040.0        0       social         Home       social   \n",
       "\n",
       "   orig_taz  dest_taz  depart_hour  trip_mode  sampleRate trip_type  trips  \\\n",
       "1       273       452            7          6         1.0       INM    1.0   \n",
       "2       273       452            9          6         1.0       INM    1.0   \n",
       "\n",
       "   transbay_od    orig_rdm_zones  orig_super_dist  orig_county  \\\n",
       "1          0.0  San Francisco_37                3            1   \n",
       "2          0.0  San Francisco_37                3            1   \n",
       "\n",
       "     dest_rdm_zones  dest_super_dist  dest_county  home_zone  income  \\\n",
       "1  San Francisco_16                3            1        273   44915   \n",
       "2  San Francisco_16                3            1        273       0   \n",
       "\n",
       "       Income  pp_share link21_trip_purp Period          Mode  perc_tt  \n",
       "1  30k_to_60k     100.0             work     am  WALK_TRANSIT   3645.0  \n",
       "2        <30k     100.0           social     am  WALK_TRANSIT   3645.0  "
      ]
     },
     "execution_count": 12,
     "metadata": {},
     "output_type": "execute_result"
    }
   ],
   "source": [
    "final_trips[1:3]"
   ]
  },
  {
   "cell_type": "code",
   "execution_count": 13,
   "id": "5a8cf67c",
   "metadata": {},
   "outputs": [],
   "source": [
    "# Correct for the fact that perceived travel time column has been magnified by a factor of 100 (its unit is minutes). \n",
    "final_trips['perc_tt'] = final_trips['perc_tt']/100"
   ]
  },
  {
   "cell_type": "code",
   "execution_count": 14,
   "id": "d680a821",
   "metadata": {},
   "outputs": [
    {
     "data": {
      "text/plain": [
       "{'perc_tt': ['perceived total travel time',\n",
       "  'A1.1',\n",
       "  'minutes',\n",
       "  'perceived travel travel time']}"
      ]
     },
     "execution_count": 14,
     "metadata": {},
     "output_type": "execute_result"
    }
   ],
   "source": [
    "summary_cols = params['description_a1.1']\n",
    "summary_cols"
   ]
  },
  {
   "cell_type": "code",
   "execution_count": 15,
   "id": "820f38da",
   "metadata": {},
   "outputs": [],
   "source": [
    "pp_df = []\n",
    "reg_df = []\n",
    "county_df = []\n",
    "sd_df = []\n",
    "tb_df = []\n",
    "rdm_df = []\n",
    "pp_df_rdm = []\n",
    "\n",
    "for columns in summary_cols:\n",
    "\n",
    "    #for period in time_periods:\n",
    "    #print(period)\n",
    "\n",
    "    df_temp = final_trips# [final_trips['Period'] == period.lower()]\n",
    "\n",
    "    df_temp[columns+'_trips'] = df_temp[columns] * df_temp['trips']\n",
    "\n",
    "    #regional value\n",
    "    reg_df_temp1 = summarize_all_combinations(df_temp, groupby_columns=['Period', 'Income'], \n",
    "                                                  summary_column=columns+'_trips')\n",
    "    reg_df_temp1 = reg_df_temp1.rename(columns={'Value': columns+'_trips'})\n",
    "    \n",
    "    reg_df_temp2 = summarize_all_combinations(df_temp, groupby_columns=['Period', 'Income'], \n",
    "                                                  summary_column='trips')\n",
    "    reg_df_temp2 = reg_df_temp2.rename(columns={'Value': 'trips'})\n",
    "    reg_df_temp = pd.merge(reg_df_temp1, reg_df_temp2, on=['Period', 'Income'], how='left')\n",
    "    reg_df_temp[columns] = reg_df_temp[columns+'_trips']/reg_df_temp['trips']\n",
    "    reg_df_temp = reg_df_temp[['Period', 'Income', columns]]\n",
    "    reg_df_temp = reg_df_temp.rename(columns={columns:'Value'})\n",
    "    reg_df_temp['Population'] = 'Whole Population'\n",
    "    reg_df_temp['Origin_zone'] = ''\n",
    "    reg_df_temp['Dest_zone'] = ''\n",
    "    reg_df_temp['Zone_ID'] = ''\n",
    "    reg_df_temp['Concept_ID'] = concept_id\n",
    "    reg_df_temp['Geography'] = 'Regional'\n",
    "    reg_df_temp['Purpose'] = ''\n",
    "    reg_df_temp['Mode'] = ''\n",
    "    reg_df_temp['Total_Increment'] = ''\n",
    "    reg_df_temp['Metric_ID'] = summary_cols[columns][1]\n",
    "    reg_df_temp['Submetric'] = summary_cols[columns][1]+'.1'\n",
    "    reg_df_temp['Description'] = 'Average ' + summary_cols[columns][0]+ ' in the region'\n",
    "    reg_df_temp['Units'] = summary_cols[columns][2]\n",
    "    reg_df_temp['Metric_name'] = summary_cols[columns][3]\n",
    "    reg_df.append(reg_df_temp)\n",
    "        \n",
    "reg_df = pd.concat(reg_df)"
   ]
  },
  {
   "cell_type": "code",
   "execution_count": 17,
   "id": "839590da",
   "metadata": {},
   "outputs": [
    {
     "name": "stdout",
     "output_type": "stream",
     "text": [
      "30 A1.1.1 perceived travel travel time 2122.0915334130023\n",
      "30 A1.1.2 perceived travel travel time 2414.824930505644\n",
      "2568 A1.1.3 perceived travel travel time 407821.5027786014\n",
      "686790 A1.1.4 perceived travel travel time 66258460.95393775\n",
      "24938 A1.1.5 perceived travel travel time 3445815.646804338\n",
      "30 A1.1.6 perceived travel travel time 22.464716171402543\n",
      "686790 A1.1.7 perceived travel travel time 298942.13050205196\n"
     ]
    }
   ],
   "source": [
    "all_dfs = [reg_df]\n",
    "\n",
    "for dfs in all_dfs:\n",
    "    metric_name = '_perceived_travel_time_'\n",
    "    dfs = dfs.reset_index(drop=True)\n",
    "    dfs = dfs[perf_measure_columns]\n",
    "    file_name = dfs['Submetric'][0]\n",
    "    geography = '_' + dfs['Geography'][0].replace(' ', '_')\n",
    "    dfs.to_csv(_join(summary_dir, file_name + metric_name + concept_id + geography + filename_extension + '.csv'), index=None)\n",
    "    print(len(dfs), file_name, dfs['Metric_name'][0], dfs['Value'].sum())"
   ]
  }
 ],
 "metadata": {
  "kernelspec": {
   "display_name": "Python 3 (ipykernel)",
   "language": "python",
   "name": "python3"
  },
  "language_info": {
   "codemirror_mode": {
    "name": "ipython",
    "version": 3
   },
   "file_extension": ".py",
   "mimetype": "text/x-python",
   "name": "python",
   "nbconvert_exporter": "python",
   "pygments_lexer": "ipython3",
   "version": "3.7.6"
  }
 },
 "nbformat": 4,
 "nbformat_minor": 5
}
