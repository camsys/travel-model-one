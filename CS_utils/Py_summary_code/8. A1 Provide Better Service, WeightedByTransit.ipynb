{
 "cells": [
  {
   "cell_type": "code",
   "execution_count": null,
   "id": "c94ee55a-efd7-4d1a-9d55-7ccf3764da4d",
   "metadata": {},
   "outputs": [],
   "source": [
    "import openmatrix as omx\n",
    "import pandas as pd\n",
    "import numpy as np\n",
    "import yaml\n",
    "from utility import *\n",
    "import warnings\n",
    "warnings.filterwarnings(\"ignore\")"
   ]
  },
  {
   "cell_type": "code",
   "execution_count": null,
   "id": "c4901550",
   "metadata": {},
   "outputs": [],
   "source": [
    "pd.set_option('display.max_rows', None)\n",
    "pd.set_option('display.max_columns', None)"
   ]
  },
  {
   "cell_type": "code",
   "execution_count": null,
   "id": "fb138bee",
   "metadata": {},
   "outputs": [],
   "source": [
    "with open('config.yaml', 'r') as file:\n",
    "    params = yaml.safe_load(file)\n",
    "    \n",
    "_join = os.path.join\n",
    "_dir = os.path.dirname\n",
    "_norm = os.path.normpath\n",
    "\n",
    "# paths\n",
    "model_outputs_dir = params['model_dir']\n",
    "skims_dir = _join(model_outputs_dir, \"skims\")\n",
    "summary_outputs = params['summary_dir']\n",
    "concept_id = params['concept_id']\n",
    "ctramp_dir = params['ctramp_dir']\n",
    "iteration = params['iteration']\n",
    "\n",
    "concept_id = params['concept_id']\n",
    "time_period_mapping = params['time_periods_mapping']\n",
    "link21_purp_mapping = params['purpose_mapping']\n",
    "mode_cat_mapping = params['mode_mapping']\n",
    "time_periods = params['periods']\n",
    "acc_egg_modes = params['access_egress_modes']\n",
    "\n",
    "preprocess_dir = _join(ctramp_dir, '_pre_process_files')\n",
    "perf_measure_columns = params['final_columns']\n",
    "summary_dir = params['summary_dir']\n",
    "\n",
    "time_periods = params['periods']\n",
    "perf_measure_columns = params['final_columns']\n",
    "\n",
    "best_path_skim_extension = params['best_path_skim_extension']\n",
    "\n",
    "annual_transit_factor = params['annual_transit_factor']\n",
    "annual_auto_factor = params['annual_auto_factor']\n",
    "\n",
    "filename_extension = params['filename_extension']"
   ]
  },
  {
   "cell_type": "code",
   "execution_count": null,
   "id": "edf2bc98",
   "metadata": {},
   "outputs": [],
   "source": [
    "print(perf_measure_columns)"
   ]
  },
  {
   "cell_type": "markdown",
   "id": "63caa8b7",
   "metadata": {},
   "source": [
    "## Final Code"
   ]
  },
  {
   "cell_type": "code",
   "execution_count": null,
   "id": "1c826aba",
   "metadata": {},
   "outputs": [],
   "source": [
    "tod_skims = pd.read_parquet(_join(preprocess_dir, 'tod_min_perceived_travel_time.parquet'))\n",
    "tod_skims = tod_skims.reset_index()\n",
    "tod_skims.head(3)"
   ]
  },
  {
   "cell_type": "code",
   "execution_count": null,
   "id": "cf0621b7",
   "metadata": {},
   "outputs": [],
   "source": [
    "# tod_skims.describe()"
   ]
  },
  {
   "cell_type": "code",
   "execution_count": null,
   "id": "30dae9ce",
   "metadata": {},
   "outputs": [],
   "source": [
    "time_periods"
   ]
  },
  {
   "cell_type": "code",
   "execution_count": null,
   "id": "cfce8c25",
   "metadata": {},
   "outputs": [],
   "source": [
    "# all_trips = pd.read_parquet(_join(preprocess_dir, 'trip_roster.parquet'))\n",
    "# all_trips = pd.read_parquet(_join(preprocess_dir, 'trip_roster_2050_Baseline_R2_Run4.parquet'))\n",
    "all_trips = pd.read_parquet(_join(preprocess_dir, 'trip_roster_2050_Baseline_R2_Run4_Transit.parquet'))\n",
    "all_trips = all_trips.loc[all_trips['trip_mode'].isin([6,7,8])]\n",
    "all_trips.head(0)"
   ]
  },
  {
   "cell_type": "code",
   "execution_count": null,
   "id": "51d53219",
   "metadata": {},
   "outputs": [],
   "source": [
    "connected_ods = {}\n",
    "final_trips = []\n",
    "for period in time_periods:\n",
    "    tp_df = all_trips[all_trips['Period'] == period.lower()]\n",
    "    tod_skims_df = tod_skims[['orig', 'dest', period.lower()]].copy()\n",
    "    tod_skims_df = tod_skims_df.dropna()\n",
    "    print(f'Connected ODs in {period}: {len(tod_skims_df):,}')\n",
    "    connected_ods[period] = len(tod_skims_df)\n",
    "    tod_skims_df.columns = ['orig_taz', 'dest_taz', 'perc_tt']\n",
    "    tp_df = pd.merge(tp_df, tod_skims_df, on = ['orig_taz', 'dest_taz'], how='inner')\n",
    "    final_trips.append(tp_df)"
   ]
  },
  {
   "cell_type": "code",
   "execution_count": null,
   "id": "20c3bef4",
   "metadata": {},
   "outputs": [],
   "source": [
    "df_connected_ods = pd.DataFrame({'Period': connected_ods.keys(), 'Connected_ODs': connected_ods.values()})\n",
    "df_connected_ods.to_csv(_join(summary_dir,\n",
    "                              'A1.1'+ '_Connected_ODs_' + concept_id + '_region' + filename_extension + '.csv'),\n",
    "                        index=None)"
   ]
  },
  {
   "cell_type": "code",
   "execution_count": null,
   "id": "75a787fb",
   "metadata": {},
   "outputs": [],
   "source": [
    "final_trips = pd.concat(final_trips)\n",
    "len(final_trips)"
   ]
  },
  {
   "cell_type": "code",
   "execution_count": null,
   "id": "6a0d3fc4",
   "metadata": {},
   "outputs": [],
   "source": [
    "final_trips[1:3]"
   ]
  },
  {
   "cell_type": "code",
   "execution_count": null,
   "id": "5a8cf67c",
   "metadata": {},
   "outputs": [],
   "source": [
    "# Correct for the fact that perceived travel time column has been magnified by a factor of 100 (its unit is minutes). \n",
    "final_trips['perc_tt'] = final_trips['perc_tt']/100"
   ]
  },
  {
   "cell_type": "code",
   "execution_count": null,
   "id": "d680a821",
   "metadata": {},
   "outputs": [],
   "source": [
    "summary_cols = params['description_a1.1']\n",
    "summary_cols"
   ]
  },
  {
   "cell_type": "code",
   "execution_count": null,
   "id": "820f38da",
   "metadata": {},
   "outputs": [],
   "source": [
    "pp_df = []\n",
    "reg_df = []\n",
    "county_df = []\n",
    "sd_df = []\n",
    "tb_df = []\n",
    "rdm_df = []\n",
    "pp_df_rdm = []\n",
    "\n",
    "for columns in summary_cols:\n",
    "\n",
    "    #for period in time_periods:\n",
    "    #print(period)\n",
    "\n",
    "    df_temp = final_trips# [final_trips['Period'] == period.lower()]\n",
    "\n",
    "    df_temp[columns+'_trips'] = df_temp[columns] * df_temp['trips']\n",
    "\n",
    "    #regional value\n",
    "    reg_df_temp1 = summarize_all_combinations(df_temp, groupby_columns=['Period', 'Income'], \n",
    "                                                  summary_column=columns+'_trips')\n",
    "    reg_df_temp1 = reg_df_temp1.rename(columns={'Value': columns+'_trips'})\n",
    "    \n",
    "    reg_df_temp2 = summarize_all_combinations(df_temp, groupby_columns=['Period', 'Income'], \n",
    "                                                  summary_column='trips')\n",
    "    reg_df_temp2 = reg_df_temp2.rename(columns={'Value': 'trips'})\n",
    "    reg_df_temp = pd.merge(reg_df_temp1, reg_df_temp2, on=['Period', 'Income'], how='left')\n",
    "    reg_df_temp[columns] = reg_df_temp[columns+'_trips']/reg_df_temp['trips']\n",
    "    reg_df_temp = reg_df_temp[['Period', 'Income', columns]]\n",
    "    reg_df_temp = reg_df_temp.rename(columns={columns:'Value'})\n",
    "    reg_df_temp['Population'] = 'Whole Population'\n",
    "    reg_df_temp['Origin_zone'] = ''\n",
    "    reg_df_temp['Dest_zone'] = ''\n",
    "    reg_df_temp['Zone_ID'] = ''\n",
    "    reg_df_temp['Concept_ID'] = concept_id\n",
    "    reg_df_temp['Geography'] = 'Regional'\n",
    "    reg_df_temp['Purpose'] = ''\n",
    "    reg_df_temp['Mode'] = ''\n",
    "    reg_df_temp['Total_Increment'] = ''\n",
    "    reg_df_temp['Metric_ID'] = summary_cols[columns][1]\n",
    "    reg_df_temp['Submetric'] = summary_cols[columns][1]+'.1'\n",
    "    reg_df_temp['Description'] = 'Average ' + summary_cols[columns][0]+ ' in the region'\n",
    "    reg_df_temp['Units'] = summary_cols[columns][2]\n",
    "    reg_df_temp['Metric_name'] = summary_cols[columns][3]\n",
    "    reg_df.append(reg_df_temp)\n",
    "        \n",
    "reg_df = pd.concat(reg_df)"
   ]
  },
  {
   "cell_type": "code",
   "execution_count": null,
   "id": "839590da",
   "metadata": {},
   "outputs": [],
   "source": [
    "all_dfs = [reg_df]\n",
    "\n",
    "for dfs in all_dfs:\n",
    "    metric_name = '_perceived_travel_time_'\n",
    "    dfs = dfs.reset_index(drop=True)\n",
    "    dfs = dfs[perf_measure_columns]\n",
    "    file_name = dfs['Submetric'][0]\n",
    "    geography = '_' + dfs['Geography'][0].replace(' ', '_')\n",
    "    dfs.to_csv(_join(summary_dir, file_name + metric_name + concept_id + geography + filename_extension + '_transit.csv'), index=None)\n",
    "    print(len(dfs), file_name, dfs['Metric_name'][0], dfs['Value'].sum())"
   ]
  }
 ],
 "metadata": {
  "kernelspec": {
   "display_name": "Python 3 (ipykernel)",
   "language": "python",
   "name": "python3"
  },
  "language_info": {
   "codemirror_mode": {
    "name": "ipython",
    "version": 3
   },
   "file_extension": ".py",
   "mimetype": "text/x-python",
   "name": "python",
   "nbconvert_exporter": "python",
   "pygments_lexer": "ipython3",
   "version": "3.7.6"
  }
 },
 "nbformat": 4,
 "nbformat_minor": 5
}
