{
 "cells": [
  {
   "cell_type": "code",
   "execution_count": 1,
   "id": "518ab995",
   "metadata": {},
   "outputs": [],
   "source": [
    "import os\n",
    "import pandas as pd\n",
    "import numpy as np\n",
    "import openmatrix as omx\n",
    "import random\n",
    "import yaml\n",
    "\n",
    "from utility import *\n",
    "\n",
    "import warnings\n",
    "warnings.filterwarnings('ignore')"
   ]
  },
  {
   "cell_type": "code",
   "execution_count": 13,
   "id": "b1107fd0",
   "metadata": {},
   "outputs": [],
   "source": [
    "with open('config.yaml', 'r') as file:\n",
    "    params = yaml.safe_load(file)\n",
    "    \n",
    "_join = os.path.join\n",
    "_dir = os.path.dirname\n",
    "_norm = os.path.normpath\n",
    "\n",
    "# paths\n",
    "model_outputs_dir = params['model_dir']\n",
    "skims_dir = _join(model_outputs_dir, \"skims\")\n",
    "summary_outputs = params['summary_dir']\n",
    "concept_id = params['concept_id']\n",
    "ctramp_dir = params['ctramp_dir']\n",
    "iteration = params['iteration']\n",
    "\n",
    "concept_id = params['concept_id']\n",
    "time_period_mapping = params['time_periods_mapping']\n",
    "link21_purp_mapping = params['purpose_mapping']\n",
    "mode_cat_mapping = params['mode_mapping']\n",
    "time_periods = params['periods']\n",
    "acc_egg_modes = params['access_egress_modes']"
   ]
  },
  {
   "cell_type": "code",
   "execution_count": 3,
   "id": "1f25992e",
   "metadata": {},
   "outputs": [],
   "source": [
    "# outputs of CT-RAMP model for tour and trip file\n",
    "household_model_dir = _join(model_outputs_dir, \"main\")\n",
    "\n",
    "# input household and person data\n",
    "person_file = _join(ctramp_dir, 'main\\\\personData_' + str(iteration) + '.csv')\n",
    "household_file = _join(ctramp_dir, 'main\\\\householdData_' + str(iteration) + '.csv')\n",
    "\n",
    "person = pd.read_csv(person_file)\n",
    "\n",
    "hh = pd.read_csv(household_file, usecols = ['hh_id', 'taz'])\n",
    "hh = hh.rename(columns = {'taz': 'home_zone'})\n",
    "\n",
    "#taz to RDM zones, super districts, county\n",
    "geo_cwks = pd.read_csv(_join(params['common_dir'], \"geographies.csv\")) #columns taz, rdm_zones, super_district, county\n",
    "\n",
    "#taz to priority population\n",
    "pp_perc = pd.read_excel(_join(params['common_dir'], \"TAZ_Tract_cwk_summary.xlsx\")) #columns = taz, pp_share \n",
    "\n",
    "# transbay od pairs\n",
    "transbay_od = pd.read_csv(_join(params['common_dir'], \"transbay_od.csv\")) #columns = transbay_o, transbay_d\n",
    "\n",
    "demand_matrices_dir = _join(model_outputs_dir, \"demand_matrices\")\n",
    "transit_demand_dir = _join(demand_matrices_dir, \"transit\")\n",
    "transit_skims_dir = _join(skims_dir, \"transit\")"
   ]
  },
  {
   "cell_type": "code",
   "execution_count": 4,
   "id": "837a775f",
   "metadata": {},
   "outputs": [],
   "source": [
    "def skim_core_to_df(skim, core, cols =['orig', 'dest', 'rail_od']):\n",
    "    skim_df = pd.DataFrame(skim[core])\n",
    "    skim_df = pd.melt(skim_df.reset_index(), id_vars='index', value_vars=skim_df.columns)\n",
    "    skim_df['index'] = skim_df['index'] + 1\n",
    "    skim_df['variable'] = skim_df['variable'] + 1\n",
    "    skim_df.columns = cols\n",
    "\n",
    "    return skim_df"
   ]
  },
  {
   "cell_type": "code",
   "execution_count": 5,
   "id": "ee1027de",
   "metadata": {},
   "outputs": [],
   "source": [
    "def create_rail_od_pairs(transit_demand_dir, transit_skims_dir, period, acc_egg_modes):\n",
    "    \n",
    "    #Creates the Rail OD eligible Files\n",
    "    for per in period:\n",
    "        print(\"Period: \",per)\n",
    "\n",
    "        rail_demand = omx.open_file(_join(transit_demand_dir, \"rail_od_v9_trim_\" + per.upper() + \".omx\"),'w') \n",
    "        for acc_egg in acc_egg_modes:\n",
    "            print(\"Access Egress Mode: \",acc_egg)\n",
    "            trn_skm = omx.open_file(_join(transit_skims_dir, \"trnskm\" + per.lower() +\"_\" + acc_egg.lower() + \".omx\"))\n",
    "            ivthvy = np.array(trn_skm['IVTHVY'])\n",
    "            ivtcom = np.array(trn_skm['IVTCOM'])\n",
    "            ivtrail = ivthvy + ivtcom\n",
    "            ivtrail[ivtrail > 0] = 1\n",
    "            #rail_dmn = trn_dmn_acc * ivtrail\n",
    "            rail_demand[acc_egg] = ivtrail\n",
    "\n",
    "        rail_demand.close()"
   ]
  },
  {
   "cell_type": "code",
   "execution_count": 5,
   "id": "60beeaed",
   "metadata": {},
   "outputs": [
    {
     "name": "stdout",
     "output_type": "stream",
     "text": [
      "Period:  am\n",
      "Access Egress Mode:  WLK_TRN_WLK\n",
      "Access Egress Mode:  KNR_TRN_WLK\n",
      "Access Egress Mode:  PNR_TRN_WLK\n",
      "Access Egress Mode:  WLK_TRN_PNR\n",
      "Access Egress Mode:  WLK_TRN_KNR\n",
      "Period:  md\n",
      "Access Egress Mode:  WLK_TRN_WLK\n",
      "Access Egress Mode:  KNR_TRN_WLK\n",
      "Access Egress Mode:  PNR_TRN_WLK\n",
      "Access Egress Mode:  WLK_TRN_PNR\n",
      "Access Egress Mode:  WLK_TRN_KNR\n",
      "Period:  pm\n",
      "Access Egress Mode:  WLK_TRN_WLK\n",
      "Access Egress Mode:  KNR_TRN_WLK\n",
      "Access Egress Mode:  PNR_TRN_WLK\n",
      "Access Egress Mode:  WLK_TRN_PNR\n",
      "Access Egress Mode:  WLK_TRN_KNR\n",
      "Period:  ev\n",
      "Access Egress Mode:  WLK_TRN_WLK\n",
      "Access Egress Mode:  KNR_TRN_WLK\n",
      "Access Egress Mode:  PNR_TRN_WLK\n",
      "Access Egress Mode:  WLK_TRN_PNR\n",
      "Access Egress Mode:  WLK_TRN_KNR\n",
      "Period:  ea\n",
      "Access Egress Mode:  WLK_TRN_WLK\n",
      "Access Egress Mode:  KNR_TRN_WLK\n",
      "Access Egress Mode:  PNR_TRN_WLK\n",
      "Access Egress Mode:  WLK_TRN_PNR\n",
      "Access Egress Mode:  WLK_TRN_KNR\n"
     ]
    }
   ],
   "source": [
    "create_rail_od_pairs(transit_demand_dir, transit_skims_dir, period, acc_egg_modes)"
   ]
  },
  {
   "cell_type": "code",
   "execution_count": 6,
   "id": "9a909ee7",
   "metadata": {},
   "outputs": [],
   "source": [
    "#trip roster\n",
    "def create_trip_roster(ctramp_dir, transbay_od, geo_cwks, link21_purp_mapping):\n",
    "    \n",
    "    \n",
    "    ind_trip = pd.read_csv(_join(ctramp_dir, 'main\\\\indivTripData_' + str(iteration) + '.csv'))\n",
    "    jnt_trip = pd.read_csv(_join(ctramp_dir, 'main\\\\jointTripData_' + str(iteration) + '.csv'))\n",
    "    \n",
    "    jnt_trip['tours'] = 'joint'\n",
    "    ind_trip['tours'] = 'inm'\n",
    "    \n",
    "    ind_drop_columns = ['avAvailable', 'sampleRate', 'taxiWait', 'singleTNCWait', \n",
    "                    'sharedTNCWait', 'orig_walk_segment', 'dest_walk_segment',\n",
    "                    'person_id', 'person_num', 'parking_taz']\n",
    "\n",
    "    jnt_drop_columns = ['avAvailable', 'sampleRate', 'taxiWait', 'singleTNCWait', \n",
    "                    'sharedTNCWait', 'orig_walk_segment', 'dest_walk_segment',\n",
    "                'parking_taz', 'num_participants']\n",
    "\n",
    "    ind_trip = ind_trip.drop(columns = ind_drop_columns)\n",
    "    jnt_trip = jnt_trip.drop(columns = jnt_drop_columns)\n",
    "\n",
    "    out_tripdata = pd.concat([ind_trip, jnt_trip])\n",
    "    \n",
    "    # add transbay_od to final tours\n",
    "    out_tripdata = pd.merge(out_tripdata, transbay_od, left_on= ['orig_taz', 'dest_taz'], right_on = ['transbay_o', 'transbay_d'], how = 'left')\n",
    "    out_tripdata['transbay_od'] = out_tripdata['transbay_od'].fillna(0)\n",
    "\n",
    "    out_tripdata = out_tripdata.drop(columns = ['transbay_o', 'transbay_d'])\n",
    "    #print(out_tripdata['transbay_od'].value_counts())\n",
    "\n",
    "    # add geographies to final tours\n",
    "    out_tripdata = pd.merge(out_tripdata, geo_cwks, left_on = ['orig_taz'], right_on = ['taz'], how = 'left')\n",
    "    out_tripdata = out_tripdata.rename(columns = {'rdm_zones':'orig_rdm_zones', \n",
    "                                                'super_district': 'orig_super_dist',\n",
    "                                                'county': 'orig_county'})\n",
    "    del out_tripdata['taz']\n",
    "\n",
    "    out_tripdata = pd.merge(out_tripdata, geo_cwks, left_on = ['dest_taz'], right_on = ['taz'], how = 'left')\n",
    "    out_tripdata = out_tripdata.rename(columns = {'rdm_zones':'dest_rdm_zones', \n",
    "                                                'super_district': 'dest_super_dist',\n",
    "                                                'county': 'dest_county'})\n",
    "\n",
    "    del out_tripdata['taz']\n",
    "\n",
    "    out_tripdata = pd.merge(out_tripdata, hh, on = 'hh_id', how = 'left')\n",
    "\n",
    "    # add prioirty population\n",
    "    out_tripdata = pd.merge(out_tripdata, pp_perc, left_on = ['home_zone'], right_on = ['taz'], how = 'left')\n",
    "    print(\"NAs in PP Share:\",  out_tripdata['pp_share'].isna().sum())\n",
    "    # out_tourdata['pp_share'] = out_tourdata['pp_share'].fillna(0)\n",
    "    del out_tripdata['taz']\n",
    "    \n",
    "    #add link21 purpose definitions\n",
    "    df = out_tripdata.copy()\n",
    "    df['new_dest_purp'] = df['dest_purpose']\n",
    "    df['new_orig_purp'] = df['orig_purpose']\n",
    "    \n",
    "    # changing the purpose categories for atwork purpose\n",
    "    df.loc[(df['tour_purpose'] == 'atwork_eat') & (df['dest_purpose'] == 'atwork'), 'new_dest_purp'] = 'eatout'\n",
    "    df.loc[(df['tour_purpose'] == 'atwork_eat') & (df['orig_purpose'] == 'atwork'), 'new_orig_purp'] = 'eatout'\n",
    "\n",
    "    df.loc[(df['tour_purpose'] == 'atwork_business') & (df['dest_purpose'] == 'atwork'), 'new_dest_purp'] = 'business'\n",
    "    df.loc[(df['tour_purpose'] == 'atwork_business') & (df['orig_purpose'] == 'atwork'), 'new_orig_purp'] = 'business'\n",
    "\n",
    "    df.loc[(df['tour_purpose'] == 'atwork_maint') & (df['dest_purpose'] == 'atwork'), 'new_dest_purp'] = 'othmaint'\n",
    "    df.loc[(df['tour_purpose'] == 'atwork_maint') & (df['orig_purpose'] == 'atwork'), 'new_orig_purp'] = 'othmaint'\n",
    "    \n",
    "    # adding new link21 trip purpose\n",
    "    df['link21_tour_purp'] = df['tour_purpose'].map(link21_purp_mapping)\n",
    "    df['link21_orig_purp'] = df['new_orig_purp'].map(link21_purp_mapping)\n",
    "    df['link21_dest_purp'] = df['new_dest_purp'].map(link21_purp_mapping)\n",
    "\n",
    "    df['link21_trip_purp'] = df['link21_dest_purp']\n",
    "    \n",
    "    # for last trip on tour\n",
    "    df1 = df.loc[(df['link21_dest_purp'] == 'home')]\n",
    "    conditions = [\n",
    "        df1['link21_tour_purp'].eq('work'),\n",
    "        df1['link21_tour_purp'].eq('school'),\n",
    "        ~df1['link21_tour_purp'].isin(['work','school'])\n",
    "    ]\n",
    "\n",
    "    choices = ['work', 'school', df1['link21_orig_purp']]\n",
    "    df1['link21_trip_purp'] = np.select(conditions, choices, default=0)\n",
    "    df2 = df.loc[(df['link21_dest_purp'] != 'home')]\n",
    "    df2['link21_trip_purp'] = df2['link21_dest_purp']\n",
    "    df = pd.concat([df1, df2], ignore_index=True)\n",
    "    \n",
    "    df1 = df.loc[df['dest_purpose'] == 'atwork']\n",
    "    conditions = [\n",
    "        df1['link21_tour_purp'].eq('business'),\n",
    "        ~df1['link21_tour_purp'].eq('business')\n",
    "    ]\n",
    "    choices = ['business', df1['link21_orig_purp']]\n",
    "    df1['link21_trip_purp'] = np.select(conditions, choices, default=0)\n",
    "    \n",
    "    df2 = df.loc[(df['dest_purpose'] != 'atwork')]\n",
    "    df = pd.concat([df1, df2], ignore_index=True)\n",
    "    \n",
    "    df['trips'] = 1\n",
    "    \n",
    "    return df"
   ]
  },
  {
   "cell_type": "code",
   "execution_count": 7,
   "id": "5ce9f9f9",
   "metadata": {},
   "outputs": [
    {
     "name": "stdout",
     "output_type": "stream",
     "text": [
      "NAs in PP Share: 0\n"
     ]
    }
   ],
   "source": [
    "df_trips = create_trip_roster(ctramp_dir, transbay_od, geo_cwks, link21_purp_mapping)"
   ]
  },
  {
   "cell_type": "code",
   "execution_count": 8,
   "id": "6b62468e",
   "metadata": {},
   "outputs": [
    {
     "data": {
      "text/plain": [
       "Index(['hh_id', 'tour_id', 'stop_id', 'inbound', 'tour_purpose',\n",
       "       'orig_purpose', 'dest_purpose', 'orig_taz', 'dest_taz', 'depart_hour',\n",
       "       'trip_mode', 'tour_mode', 'tour_category', 'tours', 'transbay_od',\n",
       "       'orig_rdm_zones', 'orig_super_dist', 'orig_county', 'dest_rdm_zones',\n",
       "       'dest_super_dist', 'dest_county', 'home_zone', 'pp_share',\n",
       "       'new_dest_purp', 'new_orig_purp', 'link21_tour_purp',\n",
       "       'link21_orig_purp', 'link21_dest_purp', 'link21_trip_purp', 'trips'],\n",
       "      dtype='object')"
      ]
     },
     "execution_count": 8,
     "metadata": {},
     "output_type": "execute_result"
    }
   ],
   "source": [
    "df_trips.columns"
   ]
  },
  {
   "cell_type": "code",
   "execution_count": 8,
   "id": "3402c2fa",
   "metadata": {},
   "outputs": [],
   "source": [
    "df_trn = df_trips.loc[df_trips['trip_mode'].isin([6,7,8])]"
   ]
  },
  {
   "cell_type": "code",
   "execution_count": 9,
   "id": "aadd7506",
   "metadata": {},
   "outputs": [],
   "source": [
    "df_trn['trips'] = 1"
   ]
  },
  {
   "cell_type": "code",
   "execution_count": 10,
   "id": "7e86e955",
   "metadata": {},
   "outputs": [],
   "source": [
    "df_trn['Period'] = df_trn['depart_hour'].map(time_period_mapping)\n",
    "df_trn['Mode'] = df_trn['trip_mode'].map(mode_cat_mapping)"
   ]
  },
  {
   "cell_type": "code",
   "execution_count": 15,
   "id": "4398d87c",
   "metadata": {},
   "outputs": [],
   "source": [
    "## Filter out only rail inclusive OD pair\n",
    "#per = 'am'\n",
    "# filter by time period\n",
    "#df_trn_pd = df_trn[df_trn['Period'] == 'am']"
   ]
  },
  {
   "cell_type": "code",
   "execution_count": 16,
   "id": "c46a9e66",
   "metadata": {},
   "outputs": [],
   "source": [
    "# read AM skim\n",
    "#df_od_pr = omx.open_file(_join(transit_demand_dir, \"rail_od_v9_trim_\" + per.upper() + \".omx\"))"
   ]
  },
  {
   "cell_type": "code",
   "execution_count": 18,
   "id": "1c1136d2",
   "metadata": {},
   "outputs": [
    {
     "data": {
      "text/plain": [
       "['KNR_TRN_WLK', 'PNR_TRN_WLK', 'WLK_TRN_KNR', 'WLK_TRN_PNR', 'WLK_TRN_WLK']"
      ]
     },
     "execution_count": 18,
     "metadata": {},
     "output_type": "execute_result"
    }
   ],
   "source": [
    "#df_od_pr.list_matrices()"
   ]
  },
  {
   "cell_type": "code",
   "execution_count": 11,
   "id": "510ea69a",
   "metadata": {},
   "outputs": [
    {
     "name": "stdout",
     "output_type": "stream",
     "text": [
      "processing - am\n",
      "processing - md\n",
      "processing - pm\n",
      "processing - ev\n",
      "processing - ea\n"
     ]
    }
   ],
   "source": [
    "df_temp = []\n",
    "\n",
    "for period in time_periods:\n",
    "    print(f'processing - {period}')\n",
    "    \n",
    "    df_od_pr = omx.open_file(_join(transit_demand_dir, \"rail_od_v9_trim_\" + period.upper() + \".omx\"))\n",
    "    df_trn_pd = df_trn[df_trn['Period'] == period]\n",
    "    \n",
    "    #walk transit\n",
    "    df_trn_acc = df_trn_pd[df_trn_pd['Mode'] == 'WALK_TRANSIT']\n",
    "    df_rail_od = skim_core_to_df(df_od_pr, 'WLK_TRN_WLK')\n",
    "    df_rail_od = df_rail_od[df_rail_od['rail_od'] > 0]\n",
    "    df_trn_wlk = pd.merge(df_trn_acc, df_rail_od, \n",
    "                          left_on =['orig_taz', 'dest_taz'], \n",
    "                          right_on=['orig', 'dest'], \n",
    "                          how ='inner')\n",
    "    \n",
    "    # PNR Transit\n",
    "    df_trn_acc = df_trn_pd[df_trn_pd['Mode'] == 'PNR_TRANSIT']\n",
    "    df_trn_acc_inbnd = df_trn_acc[df_trn_acc['inbound'] == 1] # returning home\n",
    "    df_rail_od = skim_core_to_df(df_od_pr, 'WLK_TRN_PNR')\n",
    "    df_rail_od = df_rail_od[df_rail_od['rail_od'] > 0]\n",
    "    df_trn_pnr_inb = pd.merge(df_trn_acc_inbnd, df_rail_od, \n",
    "                              left_on =['orig_taz', 'dest_taz'], \n",
    "                              right_on=['orig', 'dest'], how ='inner')\n",
    "\n",
    "    df_trn_acc_outbnd = df_trn_acc[df_trn_acc['inbound'] != 1] # returning home\n",
    "    df_rail_od = skim_core_to_df(df_od_pr, 'PNR_TRN_WLK')\n",
    "    df_rail_od = df_rail_od[df_rail_od['rail_od'] > 0]\n",
    "    df_trn_pnr_outbnd = pd.merge(df_trn_acc_outbnd, df_rail_od, \n",
    "                              left_on =['orig_taz', 'dest_taz'], \n",
    "                              right_on=['orig', 'dest'], how ='inner')\n",
    "\n",
    "    df_trn_pnr = pd.concat([df_trn_pnr_inb, df_trn_pnr_outbnd], ignore_index=True)\n",
    "    \n",
    "    # KNR Transit\n",
    "    df_trn_acc = df_trn_pd[df_trn_pd['Mode'] == 'KNR_TRANSIT']\n",
    "    df_trn_acc_inbnd = df_trn_acc[df_trn_acc['inbound'] == 1] # returning home\n",
    "    df_rail_od = skim_core_to_df(df_od_pr, 'WLK_TRN_KNR')\n",
    "    df_rail_od = df_rail_od[df_rail_od['rail_od'] > 0]\n",
    "    df_trn_knr_inb = pd.merge(df_trn_acc_inbnd, df_rail_od, \n",
    "                              left_on =['orig_taz', 'dest_taz'], \n",
    "                              right_on=['orig', 'dest'], how ='inner')\n",
    "\n",
    "\n",
    "    df_trn_acc_outbnd = df_trn_acc[df_trn_acc['inbound'] != 1] # returning home\n",
    "    df_rail_od = skim_core_to_df(df_od_pr, 'KNR_TRN_WLK')\n",
    "    df_rail_od = df_rail_od[df_rail_od['rail_od'] > 0]\n",
    "    df_trn_knr_outbnd = pd.merge(df_trn_acc_outbnd, df_rail_od, \n",
    "                              left_on =['orig_taz', 'dest_taz'], \n",
    "                              right_on=['orig', 'dest'], how ='inner')\n",
    "\n",
    "    df_trn_knr = pd.concat([df_trn_knr_inb, df_trn_knr_outbnd], ignore_index=True)\n",
    "    \n",
    "    df_trn_rail = pd.concat([df_trn_wlk, df_trn_pnr, df_trn_knr], ignore_index=True)\n",
    "    df_temp.append(df_trn_rail)\n",
    "\n",
    "df_trn_rail = pd.concat(df_temp)"
   ]
  },
  {
   "cell_type": "code",
   "execution_count": 12,
   "id": "4c247715",
   "metadata": {},
   "outputs": [
    {
     "data": {
      "text/plain": [
       "work        39460\n",
       "social       4899\n",
       "othmaint     3347\n",
       "school       3317\n",
       "othdiscr     2557\n",
       "shopping     2468\n",
       "escort       1209\n",
       "business       26\n",
       "Name: link21_trip_purp, dtype: int64"
      ]
     },
     "execution_count": 12,
     "metadata": {},
     "output_type": "execute_result"
    }
   ],
   "source": [
    "df_trn_rail['link21_trip_purp'].value_counts()"
   ]
  },
  {
   "cell_type": "code",
   "execution_count": 65,
   "id": "ed988050",
   "metadata": {},
   "outputs": [],
   "source": [
    "df_region_period = df_trn_rail.groupby(['Mode', 'Period', 'link21_trip_purp'])['trips'].sum().reset_index()\n",
    "\n",
    "df_region_period['Value'] = df_region_period['trips']\n",
    "df_region_period = df_region_period.rename(columns={'link21_trip_purp': 'Purpose'})\n",
    "df_region_period = df_region_period[['Mode', 'Period', 'Purpose', 'Value']]\n",
    "\n",
    "df_region_period['Concept_ID'] = concept_id\n",
    "df_region_period['Metric_ID'] = 'A3.1'\n",
    "df_region_period['Metric_name'] = 'Mode Shares'\n",
    "df_region_period['Submetric'] = 'A3.1.1'\n",
    "df_region_period['Description'] = 'Regional linked trips by time period'\n",
    "df_region_period['Population'] = 'Whole Population'\n",
    "df_region_period['Geography'] = 'Region'\n",
    "df_region_period['Zone_ID'] = 'Megaregion'\n",
    "df_region_period['Origin_zone'] = ''\n",
    "df_region_period['Dest_zone'] = ''\n",
    "df_region_period['Units'] = 'Percentage share'\n",
    "df_region_period['Total_Increment'] = 'Increment'"
   ]
  },
  {
   "cell_type": "code",
   "execution_count": 66,
   "id": "7276675c",
   "metadata": {},
   "outputs": [],
   "source": [
    "df_tb = df_trn_rail.groupby(['transbay_od', 'Mode', 'Period', 'link21_trip_purp'])['trips'].sum().reset_index()\n",
    "\n",
    "df_tb = df_tb.loc[df_tb['transbay_od'] == 1]\n",
    "\n",
    "df_tb['Value'] = df_tb['trips']/df_tb['trips'].sum()\n",
    "df_tb = df_tb.rename(columns={'link21_trip_purp': 'Purpose', 'transbay_od' : 'Zone_ID'})\n",
    "df_tb = df_tb[['Mode', 'Period', 'Purpose', 'Value']]\n",
    "\n",
    "df_tb['Concept_ID'] = concept_id\n",
    "df_tb['Metric_ID'] = 'A3.1'\n",
    "df_tb['Metric_name'] = 'trips'\n",
    "df_tb['Submetric'] = 'A3.1.2'\n",
    "df_tb['Description'] = 'Linked trips by time period in transbay region'\n",
    "df_tb['Population'] = 'Whole Population'\n",
    "df_tb['Geography'] = 'Transbay region'\n",
    "#df_region_period['Zone_ID'] =\n",
    "df_tb['Origin_zone'] = ''\n",
    "df_tb['Dest_zone'] = ''\n",
    "df_tb['Units'] = 'Percentage share'\n",
    "df_tb['Total_Increment'] = 'Increment'"
   ]
  },
  {
   "cell_type": "code",
   "execution_count": 69,
   "id": "28dc2333",
   "metadata": {},
   "outputs": [],
   "source": [
    "df_cnty = df_trn_rail.groupby(['orig_county', 'dest_county', 'Mode', \n",
    "                            'Period', 'link21_trip_purp'])['trips'].sum().reset_index()\n",
    "\n",
    "df_cnty['Value'] = df_cnty['trips']\n",
    "df_cnty = df_cnty.rename(columns={\n",
    "                                  'link21_trip_purp': 'Purpose', \n",
    "                                  'orig_county' : 'Origin_zone',\n",
    "                                  'dest_county' : 'Dest_zone'})\n",
    "df_cnty = df_cnty[['Origin_zone', 'Dest_zone', 'Mode', 'Period', 'Purpose', 'Value']]\n",
    "\n",
    "df_cnty['Concept_ID'] = concept_id\n",
    "df_cnty['Metric_ID'] = 'A3.1'\n",
    "df_cnty['Metric_name'] = 'Mode Shares'\n",
    "df_cnty['Submetric'] = 'A3.1.3'\n",
    "df_cnty['Description'] = 'Regional mode share by time period and origin and destination county'\n",
    "df_cnty['Population'] = 'Whole Population'\n",
    "df_cnty['Geography'] = 'County'\n",
    "df_cnty['Zone_ID'] = ''\n",
    "#df_cnty['Origin_zone'] = ''\n",
    "#df_cnty['Dest_zone'] = ''\n",
    "df_cnty['Units'] = 'Percentage share'\n",
    "df_cnty['Total_Increment'] = 'Increment'"
   ]
  },
  {
   "cell_type": "code",
   "execution_count": 71,
   "id": "3a5e479f",
   "metadata": {},
   "outputs": [],
   "source": [
    "df_rdm = df_trn_rail.groupby(['orig_rdm_zones', 'dest_rdm_zones', 'Mode', \n",
    "                           'Period', 'link21_trip_purp'])['trips'].sum().reset_index()\n",
    "\n",
    "df_rdm['Value'] = df_rdm['trips']\n",
    "df_rdm = df_rdm.rename(columns={\n",
    "                                'link21_trip_purp': 'Purpose', \n",
    "                                'orig_rdm_zones' : 'Origin_zone',\n",
    "                                'dest_rdm_zones' : 'Dest_zone'})\n",
    "\n",
    "df_rdm = df_rdm[['Origin_zone', 'Dest_zone', 'Mode', 'Period', 'Purpose', 'Value']]\n",
    "\n",
    "df_rdm['Concept_ID'] = concept_id\n",
    "df_rdm['Metric_ID'] = 'A3.3'\n",
    "df_rdm['Metric_name'] = 'Mode Shares'\n",
    "df_rdm['Submetric'] = 'A3.3.4'\n",
    "df_rdm['Description'] = 'Regional mode share by time period and origin and destination RDM Zones'\n",
    "df_rdm['Population'] = 'Whole Population'\n",
    "df_rdm['Geography'] = 'RDM'\n",
    "df_rdm['Zone_ID'] = ''\n",
    "#df_cnty['Origin_zone'] = ''\n",
    "#df_cnty['Dest_zone'] = ''\n",
    "df_rdm['Units'] = 'Percentage share'\n",
    "df_rdm['Total_Increment'] = 'Increment'"
   ]
  },
  {
   "cell_type": "code",
   "execution_count": 72,
   "id": "e2dd2891",
   "metadata": {},
   "outputs": [],
   "source": [
    "df_sd = df_trn_rail.groupby(['orig_super_dist', 'dest_super_dist', 'Mode', \n",
    "                          'Period', 'link21_trip_purp'])['trips'].sum().reset_index()\n",
    "\n",
    "df_sd['Value'] = df_sd['trips']\n",
    "\n",
    "df_sd = df_sd.rename(columns={ \n",
    "                              'link21_trip_purp': 'Purpose', \n",
    "                              'orig_super_dist' : 'Origin_zone',\n",
    "                              'dest_super_dist' : 'Dest_zone'})\n",
    "df_sd = df_sd[['Origin_zone', 'Dest_zone', 'Mode', 'Period', 'Purpose', 'Value']]\n",
    "\n",
    "df_sd['Concept_ID'] = concept_id\n",
    "df_sd['Metric_ID'] = 'A3.3'\n",
    "df_sd['Metric_name'] = 'Mode Shares'\n",
    "df_sd['Submetric'] = 'A3.3.5'\n",
    "df_sd['Description'] = 'Regional mode share by time period and origin and destination super districts'\n",
    "df_sd['Population'] = 'Whole Population'\n",
    "df_sd['Geography'] = 'Super district'\n",
    "df_sd['Zone_ID'] = ''\n",
    "#df_cnty['Origin_zone'] = ''\n",
    "#df_cnty['Dest_zone'] = ''\n",
    "df_sd['Units'] = 'Percentage share'\n",
    "df_sd['Total_Increment'] = 'Increment'"
   ]
  },
  {
   "cell_type": "code",
   "execution_count": null,
   "id": "77632c0d",
   "metadata": {},
   "outputs": [],
   "source": [
    "#TO DO : Priority Population"
   ]
  },
  {
   "cell_type": "code",
   "execution_count": 1,
   "id": "a980e86a",
   "metadata": {},
   "outputs": [],
   "source": [
    "#with pd.ExcelWriter(os.path.join(summary_outputs, 'concept-BY15.xlsx'), engine=\"openpyxl\", mode=\"a\", if_sheet_exists=\"replace\") as writer:\n",
    "#    df_region_period.to_excel(writer, sheet_name='A3.1.1', startcol=0, index=False)\n",
    "#    df_tb.to_excel(writer, sheet_name='A3.1.2', startcol=0, index=False)\n",
    "#    df_cnty.to_excel(writer, sheet_name='A3.1.3', startcol=0, index=False)\n",
    "#    df_rdm.to_excel(writer, sheet_name='A3.1.4', startcol=0, index=False)\n",
    "#    df_sd.to_excel(writer, sheet_name='A3.1.5', startcol=0, index=False)"
   ]
  },
  {
   "cell_type": "code",
   "execution_count": null,
   "id": "63f5326e",
   "metadata": {},
   "outputs": [],
   "source": []
  },
  {
   "cell_type": "code",
   "execution_count": null,
   "id": "a8fb9d90",
   "metadata": {},
   "outputs": [],
   "source": []
  },
  {
   "cell_type": "code",
   "execution_count": null,
   "id": "f247d491",
   "metadata": {},
   "outputs": [],
   "source": [
    "## B1.2 and B1.4 Commuting Trips - Work and Non-work trips"
   ]
  },
  {
   "cell_type": "code",
   "execution_count": 14,
   "id": "7fe7a6d9",
   "metadata": {},
   "outputs": [],
   "source": [
    "commuting_purposes = params['commuting_purpose_mapping']"
   ]
  },
  {
   "cell_type": "code",
   "execution_count": 15,
   "id": "95d05115",
   "metadata": {},
   "outputs": [],
   "source": [
    "df_trn_rail['wrk_nwrk_purp'] = df_trn_rail['link21_trip_purp'].map(commuting_purposes)"
   ]
  },
  {
   "cell_type": "code",
   "execution_count": 16,
   "id": "96fb75db",
   "metadata": {},
   "outputs": [],
   "source": [
    "work_trips = df_trn_rail.loc[df_trn_rail['wrk_nwrk_purp'] == 'work']"
   ]
  },
  {
   "cell_type": "code",
   "execution_count": 17,
   "id": "d9de6288",
   "metadata": {},
   "outputs": [],
   "source": [
    "df_region_period = work_trips.groupby(['Mode', 'Period', 'wrk_nwrk_purp'])['trips'].sum().reset_index()\n",
    "\n",
    "df_region_period['Value'] = df_region_period['trips']\n",
    "df_region_period = df_region_period.rename(columns={'wrk_nwrk_purp': 'Purpose'})\n",
    "df_region_period = df_region_period[['Mode', 'Period', 'Purpose', 'Value']]\n",
    "\n",
    "df_region_period['Concept_ID'] = concept_id\n",
    "df_region_period['Metric_ID'] = 'B1.2'\n",
    "df_region_period['Metric_name'] = 'Commute trips on network'\n",
    "df_region_period['Submetric'] = 'B1.2.1'\n",
    "df_region_period['Description'] = 'Number of linked rail trips for commuting purpose(home-based work)'\n",
    "df_region_period['Population'] = 'Whole Population'\n",
    "df_region_period['Geography'] = 'Region'\n",
    "df_region_period['Zone_ID'] = 'Megaregion'\n",
    "df_region_period['Origin_zone'] = ''\n",
    "df_region_period['Dest_zone'] = ''\n",
    "df_region_period['Units'] = 'Trips'\n",
    "df_region_period['Total_Increment'] = ''"
   ]
  },
  {
   "cell_type": "code",
   "execution_count": 18,
   "id": "12fced12",
   "metadata": {},
   "outputs": [],
   "source": [
    "df_tb = work_trips.groupby(['transbay_od', 'Mode', 'Period', 'wrk_nwrk_purp'])['trips'].sum().reset_index()\n",
    "\n",
    "df_tb = df_tb.loc[df_tb['transbay_od'] == 1]\n",
    "\n",
    "df_tb['Value'] = df_tb['trips']/df_tb['trips'].sum()\n",
    "df_tb = df_tb.rename(columns={'wrk_nwrk_purp': 'Purpose', 'transbay_od' : 'Zone_ID'})\n",
    "df_tb = df_tb[['Mode', 'Period', 'Purpose', 'Value']]\n",
    "\n",
    "df_tb['Concept_ID'] = concept_id\n",
    "df_tb['Metric_ID'] = 'B1.2'\n",
    "df_tb['Metric_name'] = 'Commute trips on network'\n",
    "df_tb['Submetric'] = 'B1.2.2'\n",
    "df_tb['Description'] = 'Number of linked rail trips for commuting purpose(home-based work)'\n",
    "df_tb['Population'] = 'Whole Population'\n",
    "df_tb['Geography'] = 'Transbay region'\n",
    "#df_region_period['Zone_ID'] =\n",
    "df_tb['Origin_zone'] = ''\n",
    "df_tb['Dest_zone'] = ''\n",
    "df_tb['Units'] = 'Trips'\n",
    "df_tb['Total_Increment'] = ''"
   ]
  },
  {
   "cell_type": "code",
   "execution_count": 19,
   "id": "e1d321cf",
   "metadata": {},
   "outputs": [],
   "source": [
    "df_cnty = work_trips.groupby(['orig_county', 'dest_county', 'Mode', \n",
    "                            'Period', 'wrk_nwrk_purp'])['trips'].sum().reset_index()\n",
    "\n",
    "df_cnty['Value'] = df_cnty['trips']\n",
    "df_cnty = df_cnty.rename(columns={\n",
    "                                  'wrk_nwrk_purp': 'Purpose', \n",
    "                                  'orig_county' : 'Origin_zone',\n",
    "                                  'dest_county' : 'Dest_zone'})\n",
    "df_cnty = df_cnty[['Origin_zone', 'Dest_zone', 'Mode', 'Period', 'Purpose', 'Value']]\n",
    "\n",
    "df_cnty['Concept_ID'] = concept_id\n",
    "df_cnty['Metric_ID'] = 'B1.2'\n",
    "df_cnty['Metric_name'] = 'Commute trips on network'\n",
    "df_cnty['Submetric'] = 'B1.2.3'\n",
    "df_cnty['Description'] = 'Number of linked rail trips for commuting purpose(home-based work)'\n",
    "df_cnty['Population'] = 'Whole Population'\n",
    "df_cnty['Geography'] = 'County'\n",
    "df_cnty['Zone_ID'] = ''\n",
    "#df_cnty['Origin_zone'] = ''\n",
    "#df_cnty['Dest_zone'] = ''\n",
    "df_cnty['Units'] = 'Trips'\n",
    "df_cnty['Total_Increment'] = ''"
   ]
  },
  {
   "cell_type": "code",
   "execution_count": 20,
   "id": "55c44dcb",
   "metadata": {},
   "outputs": [],
   "source": [
    "df_rdm = work_trips.groupby(['orig_rdm_zones', 'dest_rdm_zones', 'Mode', \n",
    "                           'Period', 'wrk_nwrk_purp'])['trips'].sum().reset_index()\n",
    "\n",
    "df_rdm['Value'] = df_rdm['trips']\n",
    "df_rdm = df_rdm.rename(columns={\n",
    "                                'wrk_nwrk_purp': 'Purpose', \n",
    "                                'orig_rdm_zones' : 'Origin_zone',\n",
    "                                'dest_rdm_zones' : 'Dest_zone'})\n",
    "\n",
    "df_rdm = df_rdm[['Origin_zone', 'Dest_zone', 'Mode', 'Period', 'Purpose', 'Value']]\n",
    "\n",
    "df_rdm['Concept_ID'] = concept_id\n",
    "df_rdm['Metric_ID'] = 'B1.2'\n",
    "df_rdm['Metric_name'] = 'Commute trips on network'\n",
    "df_rdm['Submetric'] = 'B1.2.4'\n",
    "df_rdm['Description'] = 'Number of linked rail trips for commuting purpose(home-based work)'\n",
    "df_rdm['Population'] = 'Whole Population'\n",
    "df_rdm['Geography'] = 'RDM'\n",
    "df_rdm['Zone_ID'] = ''\n",
    "#df_cnty['Origin_zone'] = ''\n",
    "#df_cnty['Dest_zone'] = ''\n",
    "df_rdm['Units'] = 'Trips'\n",
    "df_rdm['Total_Increment'] = ''"
   ]
  },
  {
   "cell_type": "code",
   "execution_count": 21,
   "id": "67d18156",
   "metadata": {},
   "outputs": [],
   "source": [
    "df_sd = work_trips.groupby(['orig_super_dist', 'dest_super_dist', 'Mode', \n",
    "                          'Period', 'wrk_nwrk_purp'])['trips'].sum().reset_index()\n",
    "\n",
    "df_sd['Value'] = df_sd['trips']\n",
    "\n",
    "df_sd = df_sd.rename(columns={ \n",
    "                              'wrk_nwrk_purp': 'Purpose', \n",
    "                              'orig_super_dist' : 'Origin_zone',\n",
    "                              'dest_super_dist' : 'Dest_zone'})\n",
    "df_sd = df_sd[['Origin_zone', 'Dest_zone', 'Mode', 'Period', 'Purpose', 'Value']]\n",
    "\n",
    "df_sd['Concept_ID'] = concept_id\n",
    "df_sd['Metric_ID'] = 'B1.2'\n",
    "df_sd['Metric_name'] = 'Commute trips on network'\n",
    "df_sd['Submetric'] = 'B1.2.5'\n",
    "df_sd['Description'] = 'Number of linked rail trips for commuting purpose(home-based work)'\n",
    "df_sd['Population'] = 'Whole Population'\n",
    "df_sd['Geography'] = 'Super district'\n",
    "df_sd['Zone_ID'] = ''\n",
    "#df_cnty['Origin_zone'] = ''\n",
    "#df_cnty['Dest_zone'] = ''\n",
    "df_sd['Units'] = 'Trips'\n",
    "df_sd['Total_Increment'] = ''"
   ]
  },
  {
   "cell_type": "code",
   "execution_count": null,
   "id": "da537ab2",
   "metadata": {},
   "outputs": [],
   "source": []
  },
  {
   "cell_type": "markdown",
   "id": "a5c962f4",
   "metadata": {},
   "source": [
    "## B1.4 "
   ]
  },
  {
   "cell_type": "code",
   "execution_count": 22,
   "id": "6f9a3823",
   "metadata": {},
   "outputs": [],
   "source": [
    "non_work_trips = df_trn_rail.loc[df_trn_rail['wrk_nwrk_purp'] == 'non-work']"
   ]
  },
  {
   "cell_type": "code",
   "execution_count": 23,
   "id": "bf69c714",
   "metadata": {},
   "outputs": [],
   "source": [
    "df_region_period = non_work_trips.groupby(['Mode', 'Period', 'wrk_nwrk_purp'])['trips'].sum().reset_index()\n",
    "\n",
    "df_region_period['Value'] = df_region_period['trips']\n",
    "df_region_period = df_region_period.rename(columns={'wrk_nwrk_purp': 'Purpose'})\n",
    "df_region_period = df_region_period[['Mode', 'Period', 'Purpose', 'Value']]\n",
    "\n",
    "df_region_period['Concept_ID'] = concept_id\n",
    "df_region_period['Metric_ID'] = 'B1.4'\n",
    "df_region_period['Metric_name'] = 'Non-work trips on network'\n",
    "df_region_period['Submetric'] = 'B1.4.1'\n",
    "df_region_period['Description'] = 'number of linked rail trips for non-work purpose'\n",
    "df_region_period['Population'] = 'Whole Population'\n",
    "df_region_period['Geography'] = 'Region'\n",
    "df_region_period['Zone_ID'] = 'Megaregion'\n",
    "df_region_period['Origin_zone'] = ''\n",
    "df_region_period['Dest_zone'] = ''\n",
    "df_region_period['Units'] = 'Trips'\n",
    "df_region_period['Total_Increment'] = ''"
   ]
  },
  {
   "cell_type": "code",
   "execution_count": 24,
   "id": "d9d33995",
   "metadata": {},
   "outputs": [],
   "source": [
    "df_tb = non_work_trips.groupby(['transbay_od', 'Mode', 'Period', 'wrk_nwrk_purp'])['trips'].sum().reset_index()\n",
    "\n",
    "df_tb = df_tb.loc[df_tb['transbay_od'] == 1]\n",
    "\n",
    "df_tb['Value'] = df_tb['trips']/df_tb['trips'].sum()\n",
    "df_tb = df_tb.rename(columns={'wrk_nwrk_purp': 'Purpose', 'transbay_od' : 'Zone_ID'})\n",
    "df_tb = df_tb[['Mode', 'Period', 'Purpose', 'Value']]\n",
    "\n",
    "df_tb['Concept_ID'] = concept_id\n",
    "df_tb['Metric_ID'] = 'B1.4'\n",
    "df_tb['Metric_name'] = 'Non-work trips on network'\n",
    "df_tb['Submetric'] = 'B1.4.2'\n",
    "df_tb['Description'] = 'number of linked rail trips for non-work purpose'\n",
    "df_tb['Population'] = 'Whole Population'\n",
    "df_tb['Geography'] = 'Transbay region'\n",
    "#df_region_period['Zone_ID'] =\n",
    "df_tb['Origin_zone'] = ''\n",
    "df_tb['Dest_zone'] = ''\n",
    "df_tb['Units'] = 'Trips'\n",
    "df_tb['Total_Increment'] = ''"
   ]
  },
  {
   "cell_type": "code",
   "execution_count": 25,
   "id": "ccc8210e",
   "metadata": {},
   "outputs": [],
   "source": [
    "df_cnty = non_work_trips.groupby(['orig_county', 'dest_county', 'Mode', \n",
    "                            'Period', 'wrk_nwrk_purp'])['trips'].sum().reset_index()\n",
    "\n",
    "df_cnty['Value'] = df_cnty['trips']\n",
    "df_cnty = df_cnty.rename(columns={\n",
    "                                  'wrk_nwrk_purp': 'Purpose', \n",
    "                                  'orig_county' : 'Origin_zone',\n",
    "                                  'dest_county' : 'Dest_zone'})\n",
    "df_cnty = df_cnty[['Origin_zone', 'Dest_zone', 'Mode', 'Period', 'Purpose', 'Value']]\n",
    "\n",
    "df_cnty['Concept_ID'] = concept_id\n",
    "df_cnty['Metric_ID'] = 'B1.4'\n",
    "df_cnty['Metric_name'] = 'Non-work trips on network'\n",
    "df_cnty['Submetric'] = 'B1.4.3'\n",
    "df_cnty['Description'] = 'number of linked rail trips for non-work purpose'\n",
    "df_cnty['Population'] = 'Whole Population'\n",
    "df_cnty['Geography'] = 'County'\n",
    "df_cnty['Zone_ID'] = ''\n",
    "#df_cnty['Origin_zone'] = ''\n",
    "#df_cnty['Dest_zone'] = ''\n",
    "df_cnty['Units'] = 'Trips'\n",
    "df_cnty['Total_Increment'] = ''"
   ]
  },
  {
   "cell_type": "code",
   "execution_count": 26,
   "id": "9a41ab6f",
   "metadata": {},
   "outputs": [],
   "source": [
    "df_rdm = non_work_trips.groupby(['orig_rdm_zones', 'dest_rdm_zones', 'Mode', \n",
    "                           'Period', 'wrk_nwrk_purp'])['trips'].sum().reset_index()\n",
    "\n",
    "df_rdm['Value'] = df_rdm['trips']\n",
    "df_rdm = df_rdm.rename(columns={\n",
    "                                'wrk_nwrk_purp': 'Purpose', \n",
    "                                'orig_rdm_zones' : 'Origin_zone',\n",
    "                                'dest_rdm_zones' : 'Dest_zone'})\n",
    "\n",
    "df_rdm = df_rdm[['Origin_zone', 'Dest_zone', 'Mode', 'Period', 'Purpose', 'Value']]\n",
    "\n",
    "df_rdm['Concept_ID'] = concept_id\n",
    "df_rdm['Metric_ID'] = 'B1.4'\n",
    "df_rdm['Metric_name'] = 'Non-work trips on network'\n",
    "df_rdm['Submetric'] = 'B1.4.4'\n",
    "df_rdm['Description'] = 'number of linked rail trips for non-work purpose'\n",
    "df_rdm['Population'] = 'Whole Population'\n",
    "df_rdm['Geography'] = 'RDM'\n",
    "df_rdm['Zone_ID'] = ''\n",
    "#df_cnty['Origin_zone'] = ''\n",
    "#df_cnty['Dest_zone'] = ''\n",
    "df_rdm['Units'] = 'Trips'\n",
    "df_rdm['Total_Increment'] = ''"
   ]
  },
  {
   "cell_type": "code",
   "execution_count": 27,
   "id": "6e6db6c9",
   "metadata": {},
   "outputs": [],
   "source": [
    "df_sd = non_work_trips.groupby(['orig_super_dist', 'dest_super_dist', 'Mode', \n",
    "                          'Period', 'wrk_nwrk_purp'])['trips'].sum().reset_index()\n",
    "\n",
    "df_sd['Value'] = df_sd['trips']\n",
    "\n",
    "df_sd = df_sd.rename(columns={ \n",
    "                              'wrk_nwrk_purp': 'Purpose', \n",
    "                              'orig_super_dist' : 'Origin_zone',\n",
    "                              'dest_super_dist' : 'Dest_zone'})\n",
    "df_sd = df_sd[['Origin_zone', 'Dest_zone', 'Mode', 'Period', 'Purpose', 'Value']]\n",
    "\n",
    "df_sd['Concept_ID'] = concept_id\n",
    "df_sd['Metric_ID'] = 'B1.4'\n",
    "df_sd['Metric_name'] = 'Non-work trips on network'\n",
    "df_sd['Submetric'] = 'B1.4.5'\n",
    "df_sd['Description'] = 'number of linked rail trips for non-work purpose'\n",
    "df_sd['Population'] = 'Whole Population'\n",
    "df_sd['Geography'] = 'Super district'\n",
    "df_sd['Zone_ID'] = ''\n",
    "#df_cnty['Origin_zone'] = ''\n",
    "#df_cnty['Dest_zone'] = ''\n",
    "df_sd['Units'] = 'Trips'\n",
    "df_sd['Total_Increment'] = ''"
   ]
  },
  {
   "cell_type": "code",
   "execution_count": null,
   "id": "ad468a24",
   "metadata": {},
   "outputs": [],
   "source": []
  },
  {
   "cell_type": "markdown",
   "id": "4593061e",
   "metadata": {},
   "source": [
    "## C2.2"
   ]
  },
  {
   "cell_type": "code",
   "execution_count": 1,
   "id": "222f11fe",
   "metadata": {},
   "outputs": [
    {
     "ename": "NameError",
     "evalue": "name 'df_trn_rail' is not defined",
     "output_type": "error",
     "traceback": [
      "\u001b[1;31m---------------------------------------------------------------------------\u001b[0m",
      "\u001b[1;31mNameError\u001b[0m                                 Traceback (most recent call last)",
      "Input \u001b[1;32mIn [1]\u001b[0m, in \u001b[0;36m<cell line: 1>\u001b[1;34m()\u001b[0m\n\u001b[1;32m----> 1\u001b[0m df_business \u001b[38;5;241m=\u001b[39m \u001b[43mdf_trn_rail\u001b[49m\u001b[38;5;241m.\u001b[39mloc[df_trn_rail[\u001b[38;5;124m'\u001b[39m\u001b[38;5;124mlink21_trip_purp\u001b[39m\u001b[38;5;124m'\u001b[39m] \u001b[38;5;241m==\u001b[39m \u001b[38;5;124m'\u001b[39m\u001b[38;5;124mbusiness\u001b[39m\u001b[38;5;124m'\u001b[39m]\n",
      "\u001b[1;31mNameError\u001b[0m: name 'df_trn_rail' is not defined"
     ]
    }
   ],
   "source": [
    "df_business = df_trn_rail.loc[df_trn_rail['link21_trip_purp'] == 'business']"
   ]
  },
  {
   "cell_type": "code",
   "execution_count": null,
   "id": "c2f46aa2",
   "metadata": {},
   "outputs": [],
   "source": [
    "df_region_period = df_business.groupby(['Mode', 'Period', 'wrk_nwrk_purp'])['trips'].sum().reset_index()\n",
    "\n",
    "df_region_period['Value'] = df_region_period['trips']\n",
    "df_region_period = df_region_period.rename(columns={'wrk_nwrk_purp': 'Purpose'})\n",
    "df_region_period = df_region_period[['Mode', 'Period', 'Purpose', 'Value']]\n",
    "\n",
    "df_region_period['Concept_ID'] = concept_id\n",
    "df_region_period['Metric_ID'] = 'C2.2'\n",
    "df_region_period['Metric_name'] = 'Business to Business trips'\n",
    "df_region_period['Submetric'] = 'C2.2.1'\n",
    "df_region_period['Description'] = 'number of linked rail trips for non-work purpose'\n",
    "df_region_period['Population'] = 'Whole Population'\n",
    "df_region_period['Geography'] = 'Region'\n",
    "df_region_period['Zone_ID'] = 'Megaregion'\n",
    "df_region_period['Origin_zone'] = ''\n",
    "df_region_period['Dest_zone'] = ''\n",
    "df_region_period['Units'] = 'Trips'\n",
    "df_region_period['Total_Increment'] = ''"
   ]
  },
  {
   "cell_type": "code",
   "execution_count": null,
   "id": "9c528b0b",
   "metadata": {},
   "outputs": [],
   "source": [
    "df_tb = df_business.groupby(['transbay_od', 'Mode', 'Period', 'wrk_nwrk_purp'])['trips'].sum().reset_index()\n",
    "\n",
    "df_tb = df_tb.loc[df_tb['transbay_od'] == 1]\n",
    "\n",
    "df_tb['Value'] = df_tb['trips']/df_tb['trips'].sum()\n",
    "df_tb = df_tb.rename(columns={'wrk_nwrk_purp': 'Purpose', 'transbay_od' : 'Zone_ID'})\n",
    "df_tb = df_tb[['Mode', 'Period', 'Purpose', 'Value']]\n",
    "\n",
    "df_tb['Concept_ID'] = concept_id\n",
    "df_tb['Metric_ID'] = 'C2.2'\n",
    "df_tb['Metric_name'] = 'Business to Business trips'\n",
    "df_tb['Submetric'] = 'C2.2.2'\n",
    "df_tb['Description'] = 'number of linked rail trips for business purpose'\n",
    "df_tb['Population'] = 'Whole Population'\n",
    "df_tb['Geography'] = 'Transbay region'\n",
    "#df_region_period['Zone_ID'] =\n",
    "df_tb['Origin_zone'] = ''\n",
    "df_tb['Dest_zone'] = ''\n",
    "df_tb['Units'] = 'Trips'\n",
    "df_tb['Total_Increment'] = ''"
   ]
  },
  {
   "cell_type": "code",
   "execution_count": null,
   "id": "ae89d7c7",
   "metadata": {},
   "outputs": [],
   "source": [
    "df_cnty = df_business.groupby(['orig_county', 'dest_county', 'Mode', \n",
    "                            'Period', 'wrk_nwrk_purp'])['trips'].sum().reset_index()\n",
    "\n",
    "df_cnty['Value'] = df_cnty['trips']\n",
    "df_cnty = df_cnty.rename(columns={\n",
    "                                  'wrk_nwrk_purp': 'Purpose', \n",
    "                                  'orig_county' : 'Origin_zone',\n",
    "                                  'dest_county' : 'Dest_zone'})\n",
    "df_cnty = df_cnty[['Origin_zone', 'Dest_zone', 'Mode', 'Period', 'Purpose', 'Value']]\n",
    "\n",
    "df_cnty['Concept_ID'] = concept_id\n",
    "df_cnty['Metric_ID'] = 'C2.2'\n",
    "df_cnty['Metric_name'] = 'Business to Business trips'\n",
    "df_cnty['Submetric'] = 'C2.2.3'\n",
    "df_cnty['Description'] = 'number of linked rail trips for business purpose'\n",
    "df_cnty['Population'] = 'Whole Population'\n",
    "df_cnty['Geography'] = 'County'\n",
    "df_cnty['Zone_ID'] = ''\n",
    "#df_cnty['Origin_zone'] = ''\n",
    "#df_cnty['Dest_zone'] = ''\n",
    "df_cnty['Units'] = 'Trips'\n",
    "df_cnty['Total_Increment'] = ''"
   ]
  },
  {
   "cell_type": "code",
   "execution_count": null,
   "id": "a50c8603",
   "metadata": {},
   "outputs": [],
   "source": [
    "df_rdm = df_business.groupby(['orig_rdm_zones', 'dest_rdm_zones', 'Mode', \n",
    "                           'Period', 'wrk_nwrk_purp'])['trips'].sum().reset_index()\n",
    "\n",
    "df_rdm['Value'] = df_rdm['trips']\n",
    "df_rdm = df_rdm.rename(columns={\n",
    "                                'wrk_nwrk_purp': 'Purpose', \n",
    "                                'orig_rdm_zones' : 'Origin_zone',\n",
    "                                'dest_rdm_zones' : 'Dest_zone'})\n",
    "\n",
    "df_rdm = df_rdm[['Origin_zone', 'Dest_zone', 'Mode', 'Period', 'Purpose', 'Value']]\n",
    "\n",
    "df_rdm['Concept_ID'] = concept_id\n",
    "df_rdm['Metric_ID'] = 'C2.2'\n",
    "df_rdm['Metric_name'] = 'Business to Business trips'\n",
    "df_rdm['Submetric'] = 'C2.2.4'\n",
    "df_rdm['Description'] = 'number of linked rail trips for business purpose'\n",
    "df_rdm['Population'] = 'Whole Population'\n",
    "df_rdm['Geography'] = 'RDM'\n",
    "df_rdm['Zone_ID'] = ''\n",
    "#df_cnty['Origin_zone'] = ''\n",
    "#df_cnty['Dest_zone'] = ''\n",
    "df_rdm['Units'] = 'Trips'\n",
    "df_rdm['Total_Increment'] = ''"
   ]
  },
  {
   "cell_type": "code",
   "execution_count": null,
   "id": "21d1ecad",
   "metadata": {},
   "outputs": [],
   "source": [
    "df_sd = non_work_trips.groupby(['orig_super_dist', 'dest_super_dist', 'Mode', \n",
    "                          'Period', 'wrk_nwrk_purp'])['trips'].sum().reset_index()\n",
    "\n",
    "df_sd['Value'] = df_sd['trips']\n",
    "\n",
    "df_sd = df_sd.rename(columns={ \n",
    "                              'wrk_nwrk_purp': 'Purpose', \n",
    "                              'orig_super_dist' : 'Origin_zone',\n",
    "                              'dest_super_dist' : 'Dest_zone'})\n",
    "df_sd = df_sd[['Origin_zone', 'Dest_zone', 'Mode', 'Period', 'Purpose', 'Value']]\n",
    "\n",
    "df_sd['Concept_ID'] = concept_id\n",
    "df_sd['Metric_ID'] = 'C2.2'\n",
    "df_sd['Metric_name'] = 'Business to Business tripsk'\n",
    "df_sd['Submetric'] = 'C2.2.5'\n",
    "df_sd['Description'] = 'number of linked rail trips for business purpose'\n",
    "df_sd['Population'] = 'Whole Population'\n",
    "df_sd['Geography'] = 'Super district'\n",
    "df_sd['Zone_ID'] = ''\n",
    "#df_cnty['Origin_zone'] = ''\n",
    "#df_cnty['Dest_zone'] = ''\n",
    "df_sd['Units'] = 'Trips'\n",
    "df_sd['Total_Increment'] = ''"
   ]
  },
  {
   "cell_type": "code",
   "execution_count": null,
   "id": "97400fbe",
   "metadata": {},
   "outputs": [],
   "source": []
  },
  {
   "cell_type": "code",
   "execution_count": null,
   "id": "10a9f74a",
   "metadata": {},
   "outputs": [],
   "source": []
  },
  {
   "cell_type": "code",
   "execution_count": null,
   "id": "6a42e90f",
   "metadata": {},
   "outputs": [],
   "source": []
  },
  {
   "cell_type": "code",
   "execution_count": null,
   "id": "bd8d5b61",
   "metadata": {},
   "outputs": [],
   "source": []
  },
  {
   "cell_type": "code",
   "execution_count": null,
   "id": "490bd135",
   "metadata": {},
   "outputs": [],
   "source": []
  }
 ],
 "metadata": {
  "kernelspec": {
   "display_name": "Python [conda env:runway37] *",
   "language": "python",
   "name": "conda-env-runway37-py"
  },
  "language_info": {
   "codemirror_mode": {
    "name": "ipython",
    "version": 3
   },
   "file_extension": ".py",
   "mimetype": "text/x-python",
   "name": "python",
   "nbconvert_exporter": "python",
   "pygments_lexer": "ipython3",
   "version": "3.9.13"
  }
 },
 "nbformat": 4,
 "nbformat_minor": 5
}
