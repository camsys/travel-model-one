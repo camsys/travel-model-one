{
 "cells": [
  {
   "cell_type": "code",
   "execution_count": 1,
   "id": "d6a8b2ca",
   "metadata": {},
   "outputs": [],
   "source": [
    "import os\n",
    "import pandas as pd\n",
    "import numpy as np\n",
    "import openmatrix as omx\n",
    "import random\n",
    "import yaml\n",
    "\n",
    "from utility import *\n",
    "\n",
    "import warnings\n",
    "warnings.filterwarnings('ignore')"
   ]
  },
  {
   "cell_type": "code",
   "execution_count": 2,
   "id": "a8290e98",
   "metadata": {},
   "outputs": [],
   "source": [
    "with open('config.yaml', 'r') as file:\n",
    "    params = yaml.safe_load(file)\n",
    "    \n",
    "_join = os.path.join\n",
    "_dir = os.path.dirname\n",
    "_norm = os.path.normpath\n",
    "\n",
    "# paths\n",
    "model_outputs_dir = params['model_dir']\n",
    "skims_dir = _join(model_outputs_dir, \"skims\")\n",
    "summary_outputs = params['summary_dir']\n",
    "concept_id = params['concept_id']\n",
    "ctramp_dir = params['ctramp_dir']\n",
    "iteration = params['iteration']\n",
    "\n",
    "concept_id = params['concept_id']\n",
    "time_period_mapping = params['time_periods_mapping']\n",
    "link21_purp_mapping = params['purpose_mapping']\n",
    "mode_cat_mapping = params['mode_mapping']\n",
    "time_periods = params['periods']\n",
    "acc_egg_modes = params['access_egress_modes']\n",
    "\n",
    "\n",
    "highway_output_data = params['highway_output_data']"
   ]
  },
  {
   "cell_type": "code",
   "execution_count": 3,
   "id": "55978215",
   "metadata": {},
   "outputs": [],
   "source": [
    "# outputs of CT-RAMP model for tour and trip file\n",
    "household_model_dir = _join(model_outputs_dir, \"main\")\n",
    "\n",
    "# input household and person data\n",
    "person_file = _join(ctramp_dir, 'main\\\\personData_' + str(iteration) + '.csv')\n",
    "household_file = _join(ctramp_dir, 'main\\\\householdData_' + str(iteration) + '.csv')\n",
    "\n",
    "person = pd.read_csv(person_file)\n",
    "\n",
    "hh = pd.read_csv(household_file, usecols = ['hh_id', 'taz'])\n",
    "hh = hh.rename(columns = {'taz': 'home_zone'})\n",
    "\n",
    "#taz to RDM zones, super districts, county\n",
    "geo_cwks = pd.read_csv(_join(params['common_dir'], \"geographies.csv\")) #columns taz, rdm_zones, super_district, county\n",
    "\n",
    "#taz to priority population\n",
    "pp_perc = pd.read_excel(_join(params['common_dir'], \"TAZ_Tract_cwk_summary.xlsx\")) #columns = taz, pp_share \n",
    "\n",
    "# transbay od pairs\n",
    "transbay_od = pd.read_csv(_join(params['common_dir'], \"transbay_od.csv\")) #columns = transbay_o, transbay_d\n",
    "\n",
    "demand_matrices_dir = _join(model_outputs_dir, \"demand_matrices\")\n",
    "transit_demand_dir = _join(demand_matrices_dir, \"transit\")\n",
    "transit_skims_dir = _join(skims_dir, \"transit\")\n",
    "best_path_skim_dir = params['best_path_skim_dir']\n",
    "\n",
    "perf_measure_columns = params['final_columns']\n",
    "\n",
    "period = params['periods']"
   ]
  },
  {
   "cell_type": "code",
   "execution_count": 10,
   "id": "b40ee9da",
   "metadata": {},
   "outputs": [
    {
     "data": {
      "text/plain": [
       "['am', 'md', 'pm', 'ev', 'ea']"
      ]
     },
     "execution_count": 10,
     "metadata": {},
     "output_type": "execute_result"
    }
   ],
   "source": [
    "period"
   ]
  },
  {
   "cell_type": "code",
   "execution_count": 6,
   "id": "698fe7d0",
   "metadata": {},
   "outputs": [],
   "source": [
    "am = pd.read_csv(_join(highway_output_data, 'Volumes and times (on links)_am.csv'), sep='\\t')"
   ]
  },
  {
   "cell_type": "code",
   "execution_count": 13,
   "id": "5fe416e5",
   "metadata": {},
   "outputs": [],
   "source": [
    "df_vmt = pd.DataFrame(columns=['Period', 'Value'])\n",
    "for prd in period:\n",
    "    tod = pd.read_csv(_join(highway_output_data, f'Volumes and times (on links)_{prd}.csv'), sep='\\t')    \n",
    "    df_vmt = df_vmt.append({'Period': prd, 'Value': tod['VDT'].sum()}, ignore_index=True)"
   ]
  },
  {
   "cell_type": "code",
   "execution_count": 14,
   "id": "a3357343",
   "metadata": {},
   "outputs": [
    {
     "data": {
      "text/html": [
       "<div>\n",
       "<style scoped>\n",
       "    .dataframe tbody tr th:only-of-type {\n",
       "        vertical-align: middle;\n",
       "    }\n",
       "\n",
       "    .dataframe tbody tr th {\n",
       "        vertical-align: top;\n",
       "    }\n",
       "\n",
       "    .dataframe thead th {\n",
       "        text-align: right;\n",
       "    }\n",
       "</style>\n",
       "<table border=\"1\" class=\"dataframe\">\n",
       "  <thead>\n",
       "    <tr style=\"text-align: right;\">\n",
       "      <th></th>\n",
       "      <th>Period</th>\n",
       "      <th>Value</th>\n",
       "    </tr>\n",
       "  </thead>\n",
       "  <tbody>\n",
       "    <tr>\n",
       "      <th>0</th>\n",
       "      <td>am</td>\n",
       "      <td>4.262354e+07</td>\n",
       "    </tr>\n",
       "    <tr>\n",
       "      <th>1</th>\n",
       "      <td>md</td>\n",
       "      <td>5.109353e+07</td>\n",
       "    </tr>\n",
       "    <tr>\n",
       "      <th>2</th>\n",
       "      <td>pm</td>\n",
       "      <td>4.506160e+07</td>\n",
       "    </tr>\n",
       "    <tr>\n",
       "      <th>3</th>\n",
       "      <td>ev</td>\n",
       "      <td>2.804407e+07</td>\n",
       "    </tr>\n",
       "    <tr>\n",
       "      <th>4</th>\n",
       "      <td>ea</td>\n",
       "      <td>7.296842e+06</td>\n",
       "    </tr>\n",
       "  </tbody>\n",
       "</table>\n",
       "</div>"
      ],
      "text/plain": [
       "  Period         Value\n",
       "0     am  4.262354e+07\n",
       "1     md  5.109353e+07\n",
       "2     pm  4.506160e+07\n",
       "3     ev  2.804407e+07\n",
       "4     ea  7.296842e+06"
      ]
     },
     "execution_count": 14,
     "metadata": {},
     "output_type": "execute_result"
    }
   ],
   "source": [
    "df_vmt"
   ]
  },
  {
   "cell_type": "code",
   "execution_count": 15,
   "id": "413f452d",
   "metadata": {},
   "outputs": [],
   "source": [
    "df_vmt['Concept_ID'] = concept_id\n",
    "df_vmt['Metric_ID'] = 'A3.4'\n",
    "df_vmt['Metric_name'] = ''\n",
    "df_vmt['Submetric'] = 'A3.4.1'\n",
    "df_vmt['Description'] = 'VMT reduction (network)'\n",
    "df_vmt['Population'] = 'Whole Population'\n",
    "df_vmt['Geography'] = 'Regional'\n",
    "df_vmt['Zone_ID'] = ''\n",
    "df_vmt['Origin_zone'] = ''\n",
    "df_vmt['Dest_zone'] = ''\n",
    "df_vmt['Purpose'] = ''\n",
    "df_vmt['Units'] = 'vehicle miles travelled'\n",
    "df_vmt['Total_Increment'] = ''"
   ]
  },
  {
   "cell_type": "code",
   "execution_count": null,
   "id": "24f1d76e",
   "metadata": {},
   "outputs": [],
   "source": []
  },
  {
   "cell_type": "code",
   "execution_count": null,
   "id": "5e2a4d1b",
   "metadata": {},
   "outputs": [],
   "source": []
  }
 ],
 "metadata": {
  "kernelspec": {
   "display_name": "Python [conda env:runway37] *",
   "language": "python",
   "name": "conda-env-runway37-py"
  },
  "language_info": {
   "codemirror_mode": {
    "name": "ipython",
    "version": 3
   },
   "file_extension": ".py",
   "mimetype": "text/x-python",
   "name": "python",
   "nbconvert_exporter": "python",
   "pygments_lexer": "ipython3",
   "version": "3.9.13"
  }
 },
 "nbformat": 4,
 "nbformat_minor": 5
}
