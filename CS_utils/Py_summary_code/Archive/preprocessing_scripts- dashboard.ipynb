{
 "cells": [
  {
   "cell_type": "code",
   "execution_count": null,
   "metadata": {},
   "outputs": [],
   "source": [
    "import os\n",
    "import pandas as pd\n",
    "import numpy as np\n",
    "import openmatrix as omx\n",
    "import random\n",
    "import yaml\n",
    "#import pantab\n",
    "\n",
    "from utility import *\n",
    "\n",
    "import warnings\n",
    "warnings.filterwarnings('ignore')"
   ]
  },
  {
   "cell_type": "code",
   "execution_count": null,
   "metadata": {},
   "outputs": [],
   "source": [
    "with open('config.yaml', 'r') as file:\n",
    "    params = yaml.safe_load(file)\n",
    "    \n",
    "_join = os.path.join\n",
    "_dir = os.path.dirname\n",
    "_norm = os.path.normpath\n",
    "\n",
    "# paths\n",
    "model_outputs_dir = params['model_dir']\n",
    "skims_dir = _join(model_outputs_dir, \"skims\")\n",
    "summary_outputs = params['summary_dir']\n",
    "concept_id = params['concept_id']\n",
    "ctramp_dir = params['ctramp_dir']\n",
    "iteration = params['iteration']\n",
    "\n",
    "concept_id = params['concept_id']\n",
    "time_period_mapping = params['time_periods_mapping']\n",
    "link21_purp_mapping = params['purpose_mapping']\n",
    "mode_cat_mapping = params['mode_mapping']\n",
    "time_periods = params['periods']\n",
    "acc_egr = params['access_egress_modes']\n",
    "acc_egg_modes = params['access_egress_modes']\n",
    "\n",
    "income_categories_bins = params['income_categories_bins']\n",
    "preprocess_dir = _join(ctramp_dir, '_pre_process_files')\n",
    "perf_measure_columns = params['final_columns']\n",
    "\n",
    "perceived_tt_cores = params['perceived_travel_time']\n",
    "\n",
    "best_path_skim_extension = params['best_path_skim_extension']\n",
    "\n",
    "actual_tt_cores = params['total_travel_time']"
   ]
  },
  {
   "cell_type": "code",
   "execution_count": null,
   "metadata": {},
   "outputs": [],
   "source": [
    "# outputs of CT-RAMP model for tour and trip file\n",
    "household_model_dir = _join(model_outputs_dir, \"main\")\n",
    "\n",
    "# input household and person data\n",
    "person_file = _join(ctramp_dir, 'main\\\\personData_' + str(iteration) + '.csv')\n",
    "household_file = _join(ctramp_dir, 'main\\\\householdData_' + str(iteration) + '.csv')\n",
    "\n",
    "person = pd.read_csv(person_file)\n",
    "\n",
    "hh = pd.read_csv(household_file, usecols = ['hh_id', 'taz'])\n",
    "hh = hh.rename(columns = {'taz': 'home_zone'})\n",
    "\n",
    "#taz to RDM zones, super districts, county\n",
    "geo_cwks = pd.read_csv(_join(params['common_dir'], \"geographies.csv\")) #columns taz, rdm_zones, super_district, county\n",
    "\n",
    "#taz to priority population\n",
    "pp_perc = pd.read_excel(_join(params['common_dir'], \"TAZ_Tract_cwk_summary.xlsx\")) #columns = taz, pp_share \n",
    "\n",
    "# transbay od pairs\n",
    "#transbay_od = pd.read_csv(_join(params['common_dir'], \"transbay_od.csv\")) #columns = transbay_o, transbay_d\n",
    "\n",
    "demand_matrices_dir = _join(model_outputs_dir, \"demand_matrices\")\n",
    "transit_demand_dir = _join(demand_matrices_dir, \"transit\")\n",
    "transit_skims_dir = _join(skims_dir, \"transit\")\n",
    "best_path_skim_dir = params['best_path_skim_dir']\n",
    "\n",
    "perf_measure_columns = params['final_columns']\n",
    "\n",
    "period = params['periods']"
   ]
  },
  {
   "cell_type": "code",
   "execution_count": null,
   "metadata": {},
   "outputs": [],
   "source": [
    "df_trips = pd.read_parquet(_join(preprocess_dir, 'trip_roster.parquet'))\n",
    "\n",
    "#add ids to all trips\n",
    "df_trips['id'] = range(len(df_trips))\n",
    "\n",
    "# auto trips, non-motorized modes, raide hail\n",
    "df_oth = df_trips.loc[df_trips['trip_mode'].isin([1,2,3,4,5,9])]\n",
    "df_trn = df_trips.loc[df_trips['trip_mode'].isin([6,7,8])]"
   ]
  },
  {
   "cell_type": "code",
   "execution_count": null,
   "metadata": {},
   "outputs": [],
   "source": [
    "df_oth.shape, df_trn.shape, df_trips.shape"
   ]
  },
  {
   "cell_type": "code",
   "execution_count": null,
   "metadata": {},
   "outputs": [],
   "source": [
    "%%time\n",
    "\n",
    "df_temp = []\n",
    "\n",
    "for period in time_periods:\n",
    "    print(f'processing - {period}')\n",
    "    \n",
    "    df_od_pr = omx.open_file(_join(preprocess_dir, \"rail_od_v9_trim_\" + period.upper() + \".omx\"))\n",
    "    df_trn_pd = df_trn[df_trn['Period'] == period]\n",
    "    \n",
    "    #walk transit\n",
    "    df_trn_acc = df_trn_pd[df_trn_pd['Mode'] == 'WALK_TRANSIT']\n",
    "    df_rail_od = skim_core_to_df(df_od_pr, 'WLK_TRN_WLK')\n",
    "    df_rail_od = df_rail_od[df_rail_od['rail_od'] > 0]\n",
    "    df_trn_wlk = pd.merge(df_trn_acc, df_rail_od, \n",
    "                          left_on =['orig_taz', 'dest_taz'], \n",
    "                          right_on=['orig', 'dest'], \n",
    "                          how ='inner')\n",
    "    \n",
    "    # PNR Transit\n",
    "    df_trn_acc = df_trn_pd[df_trn_pd['Mode'] == 'PNR_TRANSIT']\n",
    "    df_trn_acc_inbnd = df_trn_acc[df_trn_acc['inbound'] == 1] # returning home\n",
    "    df_rail_od = skim_core_to_df(df_od_pr, 'WLK_TRN_PNR')\n",
    "    df_rail_od = df_rail_od[df_rail_od['rail_od'] > 0]\n",
    "    df_trn_pnr_inb = pd.merge(df_trn_acc_inbnd, df_rail_od, \n",
    "                              left_on =['orig_taz', 'dest_taz'], \n",
    "                              right_on=['orig', 'dest'], how ='inner')\n",
    "\n",
    "    df_trn_acc_outbnd = df_trn_acc[df_trn_acc['inbound'] != 1] # returning home\n",
    "    df_rail_od = skim_core_to_df(df_od_pr, 'PNR_TRN_WLK')\n",
    "    df_rail_od = df_rail_od[df_rail_od['rail_od'] > 0]\n",
    "    df_trn_pnr_outbnd = pd.merge(df_trn_acc_outbnd, df_rail_od, \n",
    "                              left_on =['orig_taz', 'dest_taz'], \n",
    "                              right_on=['orig', 'dest'], how ='inner')\n",
    "\n",
    "    df_trn_pnr = pd.concat([df_trn_pnr_inb, df_trn_pnr_outbnd], ignore_index=True)\n",
    "    \n",
    "    # KNR Transit\n",
    "    df_trn_acc = df_trn_pd[df_trn_pd['Mode'] == 'KNR_TRANSIT']\n",
    "    df_trn_acc_inbnd = df_trn_acc[df_trn_acc['inbound'] == 1] # returning home\n",
    "    df_rail_od = skim_core_to_df(df_od_pr, 'WLK_TRN_KNR')\n",
    "    df_rail_od = df_rail_od[df_rail_od['rail_od'] > 0]\n",
    "    df_trn_knr_inb = pd.merge(df_trn_acc_inbnd, df_rail_od, \n",
    "                              left_on =['orig_taz', 'dest_taz'], \n",
    "                              right_on=['orig', 'dest'], how ='inner')\n",
    "\n",
    "\n",
    "    df_trn_acc_outbnd = df_trn_acc[df_trn_acc['inbound'] != 1] # returning home\n",
    "    df_rail_od = skim_core_to_df(df_od_pr, 'KNR_TRN_WLK')\n",
    "    df_rail_od = df_rail_od[df_rail_od['rail_od'] > 0]\n",
    "    df_trn_knr_outbnd = pd.merge(df_trn_acc_outbnd, df_rail_od, \n",
    "                              left_on =['orig_taz', 'dest_taz'], \n",
    "                              right_on=['orig', 'dest'], how ='inner')\n",
    "\n",
    "    df_trn_knr = pd.concat([df_trn_knr_inb, df_trn_knr_outbnd], ignore_index=True)\n",
    "    \n",
    "    df_trn_rail = pd.concat([df_trn_wlk, df_trn_pnr, df_trn_knr], ignore_index=True)\n",
    "    df_temp.append(df_trn_rail)\n",
    "\n",
    "df_trn_rail = pd.concat(df_temp)"
   ]
  },
  {
   "cell_type": "code",
   "execution_count": null,
   "metadata": {},
   "outputs": [],
   "source": [
    "df_trn_rail.shape"
   ]
  },
  {
   "cell_type": "code",
   "execution_count": null,
   "metadata": {},
   "outputs": [],
   "source": [
    "rail_trips_id = list(df_trn_rail['id'])\n",
    "df_trn_nonrail = df_trn[~(df_trn['id'].isin(rail_trips_id))]\n",
    "\n",
    "#df_trn_nonrail = df_trn[np.isin(df_trn['countries'], c1, invert=True)]"
   ]
  },
  {
   "cell_type": "code",
   "execution_count": null,
   "metadata": {},
   "outputs": [],
   "source": [
    "df_trn_nonrail.shape"
   ]
  },
  {
   "cell_type": "code",
   "execution_count": null,
   "metadata": {},
   "outputs": [],
   "source": [
    "df_trn_nonrail['trip_mode'] = 10 # rail\n",
    "df_trn_rail['trip_mode'] = 11 # no rail"
   ]
  },
  {
   "cell_type": "code",
   "execution_count": null,
   "metadata": {},
   "outputs": [],
   "source": [
    "df_trips = pd.concat([df_oth, df_trn_nonrail, df_trn_rail], ignore_index=True)\n",
    "df_trips.shape"
   ]
  },
  {
   "cell_type": "code",
   "execution_count": null,
   "metadata": {},
   "outputs": [],
   "source": [
    "drop_cols = ['rail_mode', 'orig', 'dest', 'rail_od', ' id']\n",
    "for cols in drop_cols:\n",
    "    if cols in df_trips.columns:\n",
    "        print(f'deleting columns {cols}')\n",
    "        df_trips = df_trips.drop(columns=cols)\n",
    "        "
   ]
  },
  {
   "cell_type": "code",
   "execution_count": null,
   "metadata": {},
   "outputs": [],
   "source": [
    "trip_purp_dict = {\"work\": 1,\n",
    "                \"shopping\":2,    \n",
    "                \"escort\":3,       \n",
    "                \"social\": 4,      \n",
    "                \"school\" : 5,     \n",
    "                \"othdiscr\": 6,    \n",
    "                \"othmaint\":7,     \n",
    "                \"business\": 8 } \n",
    "\n",
    "pp_dict = {\"equity_trips\" : 1, \n",
    "           \"nonequity_trips\" : 0}\n",
    "\n",
    "dtype = { 'orig_super_dist' : 'int16', \n",
    "          'dest_super_dist' : 'int16',\n",
    "          'orig_county' : 'int16',\n",
    "          'dest_county' : 'int16',\n",
    "          'transbay_od' : 'int16', \n",
    "          'trip_purpose' : 'int16',\n",
    "          'trip_mode' : 'int16',\n",
    "          'depart_hour' : 'int16',\n",
    "          'priority_population' : 'int16',\n",
    "          'trips' : 'float32',\n",
    "          'scenario' : str}\n",
    "\n",
    "dtype_all = { 'orig_super_dist' : 'int16', \n",
    "          'dest_super_dist' : 'int16',\n",
    "          'orig_county' : 'int16',\n",
    "          'dest_county' : 'int16',\n",
    "          'transbay_od' : 'int16', \n",
    "          'trip_purpose' : 'int16',\n",
    "          'trip_mode' : 'int16',\n",
    "          'depart_hour' : 'int16',\n",
    "          'priority_population' : 'int16',\n",
    "          'trips' : 'float32',\n",
    "          'model_run' : str}"
   ]
  },
  {
   "cell_type": "code",
   "execution_count": null,
   "metadata": {},
   "outputs": [],
   "source": [
    "df_trips['trip_purpose'] = df_trips['link21_trip_purp'].map(trip_purp_dict)"
   ]
  },
  {
   "cell_type": "code",
   "execution_count": null,
   "metadata": {},
   "outputs": [],
   "source": [
    "%%time\n",
    "df_all = df_trips.groupby(['orig_taz', 'dest_taz', 'orig_super_dist', 'dest_super_dist',\n",
    "                       'orig_county', 'dest_county', \n",
    "                       'transbay_od', \n",
    "                       'trip_purpose', \n",
    "                       'trip_mode', \n",
    "                       'depart_hour', \n",
    "                       'pp_share'])['trips'].sum().reset_index()\n",
    "\n",
    "df_all['equity_trips'] = df_all['trips']*df_all['pp_share']/100\n",
    "df_all['nonequity_trips'] = df_all['trips'] - df_all['equity_trips']\n",
    "\n",
    "df_all = pd.melt(df_all[df_all.trips != 0].drop(columns = ['pp_share','trips'], axis = 1), \n",
    "               id_vars = ['orig_taz', 'dest_taz',\n",
    "                          'orig_super_dist','dest_super_dist',\n",
    "                          'orig_county','dest_county','transbay_od',\n",
    "                          'trip_purpose','trip_mode','depart_hour'],\n",
    "               value_vars = ['equity_trips', 'nonequity_trips'],\n",
    "               var_name = 'eq_trips',\n",
    "               value_name = 'trips'\n",
    "               )\n",
    "\n",
    "df_all['priority_population'] = df_all['eq_trips'].map(pp_dict)\n",
    "del df_all['eq_trips']\n",
    "\n",
    "df_all['model_run'] = concept_id\n",
    "df_all['trips'] = round(df_all['trips'])\n",
    "df_all = df_all.loc[df_all['trips'] > 0].reset_index(drop=True)\n",
    "\n",
    "df_all = df_all.astype(dtype_all)\n",
    "\n",
    "df_all = df_all[['model_run', 'orig_taz', 'dest_taz', 'orig_super_dist', 'dest_super_dist',\n",
    "                'orig_county', 'dest_county', 'transbay_od', 'trip_purpose',\n",
    "               'trip_mode', 'depart_hour', 'priority_population', 'trips']]\n",
    "\n",
    "print(\"Writing CSV file\")\n",
    "df_all.to_csv(_join(summary_outputs, \"trips_\"+concept_id+\".csv.gz\" ), index=False, compression='gzip')"
   ]
  },
  {
   "cell_type": "code",
   "execution_count": null,
   "metadata": {},
   "outputs": [],
   "source": [
    "df = df_trips.groupby(['orig_super_dist', 'dest_super_dist',\n",
    "                       'orig_county', 'dest_county', 'transbay_od', \n",
    "                       'trip_purpose', 'trip_mode', 'depart_hour', \n",
    "                       'pp_share'])['trips'].sum().reset_index()\n",
    "\n",
    "df['equity_trips'] = df['trips']*df['pp_share']/100\n",
    "df['nonequity_trips'] = df['trips'] - df['equity_trips']\n",
    "\n",
    "df = pd.melt(df[df.trips != 0].drop(columns = ['pp_share','trips'], axis = 1), \n",
    "               id_vars = ['orig_super_dist','dest_super_dist',\n",
    "                          'orig_county','dest_county','transbay_od',\n",
    "                          'trip_purpose','trip_mode','depart_hour'],\n",
    "               value_vars = ['equity_trips', 'nonequity_trips'],\n",
    "               var_name = 'eq_trips',\n",
    "               value_name = 'trips'\n",
    "               )\n",
    "\n",
    "df['priority_population'] = df['eq_trips'].map(pp_dict)\n",
    "del df['eq_trips']\n",
    "\n",
    "df['scenario'] = concept_id\n",
    "df['trips'] = round(df['trips'])\n",
    "df = df.loc[df['trips'] > 0].reset_index(drop=True)\n",
    "\n",
    "df = df.astype(dtype)\n",
    "\n",
    "print(\"Writing trips for tableau dashboard\")\n",
    "df.to_parquet(_join(preprocess_dir, 'trip_dashboard_'+concept_id+'.parquet'))"
   ]
  },
  {
   "cell_type": "code",
   "execution_count": null,
   "metadata": {},
   "outputs": [],
   "source": []
  },
  {
   "cell_type": "code",
   "execution_count": null,
   "metadata": {},
   "outputs": [],
   "source": [
    "df_all['trips'].sum(), df['trips'].sum()"
   ]
  },
  {
   "cell_type": "code",
   "execution_count": null,
   "metadata": {},
   "outputs": [],
   "source": [
    "df_all['trip_mode'].value_counts()"
   ]
  }
 ],
 "metadata": {
  "kernelspec": {
   "display_name": "Python 3 (ipykernel)",
   "language": "python",
   "name": "python3"
  },
  "language_info": {
   "codemirror_mode": {
    "name": "ipython",
    "version": 3
   },
   "file_extension": ".py",
   "mimetype": "text/x-python",
   "name": "python",
   "nbconvert_exporter": "python",
   "pygments_lexer": "ipython3",
   "version": "3.7.6"
  }
 },
 "nbformat": 4,
 "nbformat_minor": 2
}
