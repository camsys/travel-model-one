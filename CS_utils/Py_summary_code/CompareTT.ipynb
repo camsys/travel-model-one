{
 "cells": [
  {
   "cell_type": "code",
   "execution_count": 1,
   "id": "ac499646",
   "metadata": {},
   "outputs": [],
   "source": [
    "import os\n",
    "import pandas as pd\n",
    "\n",
    "_join = os.path.join"
   ]
  },
  {
   "cell_type": "code",
   "execution_count": 2,
   "id": "3d49201e",
   "metadata": {},
   "outputs": [],
   "source": [
    "#bl_dir = r\"E:\\VY_WORK\\performance_measures_2050Baseline_R2_Run7_10262023\\performance_measures\"\n",
    "#r40_dir = r\"E:\\VY_WORK\\performance_measures_2050R40_R2_Run4_10262023\\performance_measures\"\n",
    "r40_dir = r\"C:\\MTC_tmpy\\TM2_2050R40_R2_Run4\\performance_measures\\more_A1\""
   ]
  },
  {
   "cell_type": "code",
   "execution_count": 3,
   "id": "c8a83d76",
   "metadata": {},
   "outputs": [],
   "source": [
    "r40_files = ['A1.2.4_actual_in_vehicle_travel_time_2050_R40_R2_Run4_RDM_draft_results.csv',\n",
    "        'A1.8.4_actual_total_trip_time_2050_R40_R2_Run4_RDM_draft_results.csv']"
   ]
  },
  {
   "cell_type": "code",
   "execution_count": 4,
   "id": "068086d9",
   "metadata": {},
   "outputs": [],
   "source": [
    "bl_files = ['A1.2.4_actual_in_vehicle_travel_time_2050_Baseline_R2_Run7_RDM_draft_results.csv',\n",
    "           'A1.8.4_actual_total_trip_time_2050_Baseline_R2_Run7_RDM_draft_results.csv']"
   ]
  },
  {
   "cell_type": "code",
   "execution_count": 5,
   "id": "aa4cd2af",
   "metadata": {},
   "outputs": [],
   "source": [
    "all_files = dict(zip(bl_files, r40_files))"
   ]
  },
  {
   "cell_type": "code",
   "execution_count": 7,
   "id": "b2a176eb",
   "metadata": {},
   "outputs": [
    {
     "name": "stdout",
     "output_type": "stream",
     "text": [
      "A1.2.4_actual_in_vehicle_travel_time_2050_Baseline_R2_Run7_RDM_draft_results.csv A1.2.4_actual_in_vehicle_travel_time_2050_R40_R2_Run4_RDM_draft_results.csv\n",
      "A1.8.4_actual_total_trip_time_2050_Baseline_R2_Run7_RDM_draft_results.csv A1.8.4_actual_total_trip_time_2050_R40_R2_Run4_RDM_draft_results.csv\n"
     ]
    }
   ],
   "source": [
    "all_comb = []\n",
    "for row in all_files:\n",
    "    print(row, all_files[row])\n",
    "    bl = pd.read_csv(_join(r40_dir, row))\n",
    "    bl = bl[bl['Income'] == 'All']\n",
    "    bl = bl[bl['Dest_zone'] != 'All']\n",
    "    bl = bl[bl['Origin_zone'].isin(['Contra Costa_13', 'Contra Costa_14', 'Contra Costa_15'])]\n",
    "    bl = bl[['Metric_name', 'Period', 'Origin_zone', 'Dest_zone', 'Value']]\n",
    "    bl = bl.rename(columns={'Value': 'bl'})\n",
    "    \n",
    "    \n",
    "    r40 = pd.read_csv(_join(r40_dir, all_files[row]))\n",
    "    r40 = r40[r40['Income'] == 'All']\n",
    "    r40 = r40[r40['Dest_zone'] != 'All']\n",
    "    r40 = r40[r40['Origin_zone'].isin(['Contra Costa_13', 'Contra Costa_14', 'Contra Costa_15'])] \n",
    "    r40 = r40[['Metric_name', 'Period', 'Origin_zone', 'Dest_zone', 'Value']]\n",
    "    r40 = r40.rename(columns={'Value': 'r40'})\n",
    "    \n",
    "    all_merge = pd.merge(r40, bl, on=['Metric_name', 'Period', 'Origin_zone', 'Dest_zone'], how='left')\n",
    "    all_comb.append(all_merge)\n",
    "    \n",
    "    \n",
    "    #break"
   ]
  },
  {
   "cell_type": "code",
   "execution_count": 8,
   "id": "453599c6",
   "metadata": {},
   "outputs": [
    {
     "name": "stderr",
     "output_type": "stream",
     "text": [
      "c:\\insight_work\\link21\\penv\\lib\\site-packages\\ipykernel_launcher.py:4: FutureWarning: The default value of regex will change from True to False in a future version.\n",
      "  after removing the cwd from sys.path.\n"
     ]
    }
   ],
   "source": [
    "combined = pd.concat(all_comb)\n",
    "combined['Metric_name'] = combined['Metric_name'].str.replace(\" \", \"_\")\n",
    "\n",
    "combined['County'] = combined['Dest_zone'].str.replace(\"\\d\", \"\")\n",
    "combined['County'] = combined['County'].str.replace(\"_\", \"\")"
   ]
  },
  {
   "cell_type": "code",
   "execution_count": 9,
   "id": "84fce72c",
   "metadata": {},
   "outputs": [],
   "source": [
    "combined.to_csv('r40_bl_tt_revised.csv')"
   ]
  }
 ],
 "metadata": {
  "kernelspec": {
   "display_name": "Python 3 (ipykernel)",
   "language": "python",
   "name": "python3"
  },
  "language_info": {
   "codemirror_mode": {
    "name": "ipython",
    "version": 3
   },
   "file_extension": ".py",
   "mimetype": "text/x-python",
   "name": "python",
   "nbconvert_exporter": "python",
   "pygments_lexer": "ipython3",
   "version": "3.7.6"
  }
 },
 "nbformat": 4,
 "nbformat_minor": 5
}
