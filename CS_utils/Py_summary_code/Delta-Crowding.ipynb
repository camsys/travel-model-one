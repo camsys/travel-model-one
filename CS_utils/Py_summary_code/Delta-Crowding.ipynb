{
 "cells": [
  {
   "cell_type": "code",
   "execution_count": 7,
   "id": "d761513f",
   "metadata": {},
   "outputs": [],
   "source": [
    "import os\n",
    "import pandas as pd\n",
    "import yaml\n",
    "_join = os.path.join\n",
    "\n",
    "with open('config.yaml', 'r') as file:\n",
    "    params = yaml.safe_load(file)\n",
    "    \n",
    "perf_measure_columns = params['final_columns']"
   ]
  },
  {
   "cell_type": "code",
   "execution_count": 13,
   "id": "3cd1465f",
   "metadata": {},
   "outputs": [],
   "source": [
    "r40_dir = r\"C:\\MTC_tmpy\\travel-model-one\\CS_utils\\Py_summary_code_111_Run1_C\\PM_2050_R40_Run2_Convergence\"\n",
    "r40_dir2 = r\"C:\\MTC_tmpy\\travel-model-one\\CS_utils\\Py_summary_code_111_Run1_C\\PM_R40_Run4\"\n",
    "str40_dir = r\"C:\\MTC_tmpy\\TM2_2050STR40_R2_Run1_Convergence\\performance_measures\"\n",
    "\n",
    "final_dir = r\"C:\\MTC_tmpy\\travel-model-one\\CS_utils\\Py_summary_code_111_Run1_C\\\\PM_STR40_Run1_C_delta\"\n",
    "final_dir2 = r\"C:\\MTC_tmpy\\travel-model-one\\CS_utils\\Py_summary_code_111_Run1_C\\PM_STR40_Run1_C\""
   ]
  },
  {
   "cell_type": "code",
   "execution_count": 9,
   "id": "b6972a14",
   "metadata": {},
   "outputs": [],
   "source": [
    "files = [(r\"A1.10.1_regional_crowding_2050_R40_Run2_Convergence_Regional_draft_results.csv\",\n",
    "          r\"A1.10.1_regional_crowding_2050_STR40_Run1_Convergence_Regional_draft_results.csv\"),\n",
    "        (r\"A1.10.2_regional_crowding_2050_R40_Run2_Convergence_Regional_draft_results.csv\",\n",
    "          r\"A1.10.2_regional_crowding_2050_STR40_Run1_Convergence_Regional_draft_results.csv\"),\n",
    "        (r\"A1.10.3_regional_crowding_2050_R40_Run2_Convergence_RDM_draft_results.csv\",\n",
    "          r\"A1.10.3_regional_crowding_2050_STR40_Run1_Convergence_RDM_draft_results.csv\"),\n",
    "        (r\"A1.10.4_regional_crowding_2050_R40_Run2_Convergence_RDM_draft_results.csv\",\n",
    "          r\"A1.10.4_regional_crowding_2050_STR40_Run1_Convergence_RDM_draft_results.csv\"),\n",
    "        (r\"A1.10.5_regional_crowding_2050_R40_Run2_Convergence_Regional_draft_results.csv\",\n",
    "          r\"A1.10.5_regional_crowding_2050_STR40_Run1_Convergence_Regional_draft_results.csv\"),\n",
    "        #(r\"B2.3_total_walk_distance_2050_R40_Run2_Convergence_region_draft_results.csv\",\n",
    "        #r\"B2.3_total_walk_distance_2050_STR40_Run1_Convergence_region_draft_results.csv\")]\n",
    "        ]"
   ]
  },
  {
   "cell_type": "code",
   "execution_count": null,
   "id": "281ce33e",
   "metadata": {},
   "outputs": [],
   "source": []
  },
  {
   "cell_type": "code",
   "execution_count": 10,
   "id": "ca161b60",
   "metadata": {},
   "outputs": [
    {
     "name": "stdout",
     "output_type": "stream",
     "text": [
      "0\n",
      "0\n",
      "0\n",
      "0\n",
      "0\n"
     ]
    }
   ],
   "source": [
    "all_files = []\n",
    "for file1_name, file2_name in files:\n",
    "    file1 = pd.read_csv(_join(r40_dir, file1_name))\n",
    "    file1[['Value']] = file1[['Value']].fillna(0) \n",
    "    file1 = file1.rename(columns={'Value': 'R40'})\n",
    "    file1 = file1.drop(columns=['Concept_ID'])\n",
    "   \n",
    "    file2 = pd.read_csv(_join(str40_dir, file2_name))\n",
    "    file2[['Value']] = file2[['Value']].fillna(0) \n",
    "    file2 = file2.rename(columns={'Value': 'STR40'})\n",
    "    file2 = file2.drop(columns=['Concept_ID'])\n",
    "    \n",
    "    file1.shape, file2.shape\n",
    "    \n",
    "    file3 = pd.merge(file2, file1, on = ['Metric_ID', 'Metric_name', 'Submetric', 'Description', \n",
    "                                         'Population', 'Period', 'Geography', 'Zone_ID', 'Origin_zone',\n",
    "                                         'Dest_zone', 'Purpose', 'Mode', 'Income', 'Units',\n",
    "                                         'Total_Increment'], how= 'left')\n",
    "    file3['R40'] = file3['R40'].fillna(0)\n",
    "    file3['Value'] = file3['STR40'] - file3['R40']\n",
    "    file3['Concept_ID'] = '2050_STR40_Run1_Convergence'\n",
    "    file3 = file3[perf_measure_columns]\n",
    "    print(file3['Value'].isna().sum())\n",
    "    file3.to_csv(_join(final_dir, file2_name))\n",
    "    all_files.append(file3)"
   ]
  },
  {
   "cell_type": "code",
   "execution_count": null,
   "id": "d41ad45c",
   "metadata": {},
   "outputs": [],
   "source": [
    "#all_file = pd.concat(all_files)\n",
    "#all_file.to_csv(_join(final_dir, r\"A1.10_regional_crowding_2050_R40_Run2_Convergence_region_draft_results.csv\"))"
   ]
  },
  {
   "cell_type": "code",
   "execution_count": 11,
   "id": "db1a26a6",
   "metadata": {},
   "outputs": [
    {
     "name": "stdout",
     "output_type": "stream",
     "text": [
      "0\n"
     ]
    }
   ],
   "source": [
    "files = [(r\"B2.3_total_walk_distance_2050_R40_Run2_Convergence_region_draft_results.csv\",\n",
    "        r\"B2.3_total_walk_distance_2050_STR40_Run1_Convergence_region_draft_results.csv\")]\n",
    "\n",
    "for file1_name, file2_name in files:\n",
    "    file1 = pd.read_csv(_join(r40_dir, file1_name))\n",
    "    file1[['Value']] = file1[['Value']].fillna(0) \n",
    "    file1 = file1.rename(columns={'Value': 'R40'})\n",
    "    file1 = file1.drop(columns=['Concept_ID'])\n",
    "   \n",
    "    file2 = pd.read_csv(_join(str40_dir, file2_name))\n",
    "    file2[['Value']] = file2[['Value']].fillna(0) \n",
    "    file2 = file2.rename(columns={'Value': 'STR40'})\n",
    "    file2 = file2.drop(columns=['Concept_ID'])\n",
    "    \n",
    "    file1.shape, file2.shape\n",
    "    \n",
    "    file3 = pd.merge(file2, file1, on = ['Metric_ID', 'Metric_name', 'Submetric', 'Description', \n",
    "                                         'Population', 'Period', 'Geography', 'Zone_ID', 'Origin_zone',\n",
    "                                         'Dest_zone', 'Purpose', 'Mode', 'Income', 'Units',\n",
    "                                         'Total_Increment'], how= 'left')\n",
    "    file3['R40'] = file3['R40'].fillna(0)\n",
    "    file3['Value'] = file3['STR40'] - file3['R40']\n",
    "    file3['Concept_ID'] = '2050_STR40_Run1_Convergence'\n",
    "    file3 = file3[perf_measure_columns]\n",
    "    print(file3['Value'].isna().sum())\n",
    "    file3.to_csv(_join(final_dir2, file2_name))"
   ]
  },
  {
   "cell_type": "code",
   "execution_count": null,
   "id": "eb3881b4",
   "metadata": {},
   "outputs": [],
   "source": []
  },
  {
   "cell_type": "code",
   "execution_count": 17,
   "id": "dc975828",
   "metadata": {},
   "outputs": [],
   "source": [
    "files = [(r\"A1.10.1_regional_crowding_2050_R40_R2_Run4_Regional_draft_results.csv\",\n",
    "          r\"A1.10.1_regional_crowding_2050_STR40_Run1_Convergence_Regional_draft_results.csv\"),\n",
    "        (r\"A1.10.2_regional_crowding_2050_R40_R2_Run4_Regional_draft_results.csv\",\n",
    "          r\"A1.10.2_regional_crowding_2050_STR40_Run1_Convergence_Regional_draft_results.csv\"),\n",
    "        (r\"A1.10.3_regional_crowding_2050_R40_R2_Run4_RDM_draft_results.csv\",\n",
    "          r\"A1.10.3_regional_crowding_2050_STR40_Run1_Convergence_RDM_draft_results.csv\"),\n",
    "        (r\"A1.10.4_regional_crowding_2050_R40_R2_Run4_RDM_draft_results.csv\",\n",
    "          r\"A1.10.4_regional_crowding_2050_STR40_Run1_Convergence_RDM_draft_results.csv\"),\n",
    "        (r\"A1.10.5_regional_crowding_2050_R40_R2_Run4_Regional_draft_results.csv\",\n",
    "          r\"A1.10.5_regional_crowding_2050_STR40_Run1_Convergence_Regional_draft_results.csv\"),\n",
    "        (r\"B2.3_total_walk_distance_2050_R40_R2_Run4_region_draft_results.csv\",\n",
    "        r\"B2.3_total_walk_distance_2050_STR40_Run1_Convergence_region_draft_results.csv\")\n",
    "        ]      "
   ]
  },
  {
   "cell_type": "code",
   "execution_count": 18,
   "id": "061dec94",
   "metadata": {},
   "outputs": [
    {
     "name": "stdout",
     "output_type": "stream",
     "text": [
      "0\n",
      "0\n",
      "0\n",
      "0\n",
      "0\n",
      "0\n"
     ]
    }
   ],
   "source": [
    "all_files = []\n",
    "for file1_name, file2_name in files:\n",
    "    file1 = pd.read_csv(_join(r40_dir2, file1_name))\n",
    "    file1[['Value']] = file1[['Value']].fillna(0) \n",
    "    file1 = file1.rename(columns={'Value': 'R40'})\n",
    "    file1 = file1.drop(columns=['Concept_ID'])\n",
    "   \n",
    "    file2 = pd.read_csv(_join(str40_dir, file2_name))\n",
    "    file2[['Value']] = file2[['Value']].fillna(0) \n",
    "    file2 = file2.rename(columns={'Value': 'STR40'})\n",
    "    file2 = file2.drop(columns=['Concept_ID'])\n",
    "    \n",
    "    file1.shape, file2.shape\n",
    "    \n",
    "    file3 = pd.merge(file2, file1, on = ['Metric_ID', 'Metric_name', 'Submetric', 'Description', \n",
    "                                         'Population', 'Period', 'Geography', 'Zone_ID', 'Origin_zone',\n",
    "                                         'Dest_zone', 'Purpose', 'Mode', 'Income', 'Units',\n",
    "                                         'Total_Increment'], how= 'left')\n",
    "    file3['R40'] = file3['R40'].fillna(0)\n",
    "    file3['Value'] = file3['STR40'] + file3['R40']\n",
    "    file3['Concept_ID'] = '2050_STR40_Run1_Convergence'\n",
    "    file3 = file3[perf_measure_columns]\n",
    "    print(file3['Value'].isna().sum())\n",
    "    file3.to_csv(_join(final_dir2, file2_name))\n",
    "    #all_files.append(file3)"
   ]
  },
  {
   "cell_type": "code",
   "execution_count": 20,
   "id": "fabdb702",
   "metadata": {},
   "outputs": [],
   "source": [
    "#combine all crowding files\n",
    "files = [r'A1.10.1_regional_crowding_2050_STR40_Run1_Convergence_Regional_draft_results.csv',\n",
    "        r'A1.10.2_regional_crowding_2050_STR40_Run1_Convergence_Regional_draft_results.csv',\n",
    "        r'A1.10.3_regional_crowding_2050_STR40_Run1_Convergence_RDM_draft_results.csv',\n",
    "        r'A1.10.4_regional_crowding_2050_STR40_Run1_Convergence_RDM_draft_results.csv',\n",
    "        r'A1.10.5_regional_crowding_2050_STR40_Run1_Convergence_Regional_draft_results.csv']\n",
    "\n",
    "all_files = []\n",
    "for file in files:\n",
    "    df = pd.read_csv(_join(final_dir2, file))\n",
    "    all_files.append(df)\n",
    "    \n",
    "all_file = pd.concat(all_files)\n",
    "all_file.to_csv(_join(final_dir2, r\"A1.10_regional_crowding_2050_R40_Run2_Convergence_region_draft_results.csv\"))"
   ]
  }
 ],
 "metadata": {
  "kernelspec": {
   "display_name": "Python 3 (ipykernel)",
   "language": "python",
   "name": "python3"
  },
  "language_info": {
   "codemirror_mode": {
    "name": "ipython",
    "version": 3
   },
   "file_extension": ".py",
   "mimetype": "text/x-python",
   "name": "python",
   "nbconvert_exporter": "python",
   "pygments_lexer": "ipython3",
   "version": "3.7.6"
  }
 },
 "nbformat": 4,
 "nbformat_minor": 5
}
