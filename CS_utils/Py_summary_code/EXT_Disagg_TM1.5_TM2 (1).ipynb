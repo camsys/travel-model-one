{
 "cells": [
  {
   "cell_type": "code",
   "execution_count": 1,
   "id": "fb313ba9",
   "metadata": {},
   "outputs": [],
   "source": [
    "import pandas as pd\n",
    "import numpy as np\n",
    "import openmatrix as omx\n",
    "import os, sys, glob"
   ]
  },
  {
   "cell_type": "code",
   "execution_count": 2,
   "id": "74581928",
   "metadata": {},
   "outputs": [],
   "source": [
    "os.chdir(r\"C:\\MTC_tmpy\\TM2\\New Zone\\Link21_3332TAZs\")"
   ]
  },
  {
   "cell_type": "code",
   "execution_count": 3,
   "id": "31905485",
   "metadata": {},
   "outputs": [],
   "source": [
    "# read and validate crosswalk\n",
    "xwalk = pd.read_csv(\"TM1_Disagg_Lookup_wExternals.csv\")\n",
    "\n",
    "# every TM1.5 and TM2 zone is accounted for\n",
    "# factors sum up to 1 for every TM1.5 zone\n",
    "\n",
    "missing_zone_IP = set(range(1, max(xwalk.IPZONE) + 1)) - set(xwalk.IPZONE)\n",
    "missing_zone_OP = set(range(1, max(xwalk.OPZONE) + 1)) - set(xwalk.OPZONE)\n",
    "assert len(missing_zone_IP) == 0, f'missing TM1.5 zones, {missing_zone_IP}'\n",
    "assert len(missing_zone_OP) == 0, f'missing TM2 zones, {missing_zone_OP}'\n",
    "\n",
    "assert (xwalk.groupby(['IPZONE'])['FACTOR'].sum().round(5).nunique() == 1 and\n",
    "        xwalk.groupby(['IPZONE'])['FACTOR'].sum().round(5).max() == 1), 'factors do not add up to one for every TM1.5 zone'"
   ]
  },
  {
   "cell_type": "code",
   "execution_count": 4,
   "id": "b1257c53",
   "metadata": {
    "scrolled": true
   },
   "outputs": [
    {
     "data": {
      "text/plain": [
       "(1475, 3353)"
      ]
     },
     "execution_count": 4,
     "metadata": {},
     "output_type": "execute_result"
    }
   ],
   "source": [
    "max(xwalk.IPZONE), max(xwalk.OPZONE)"
   ]
  },
  {
   "cell_type": "code",
   "execution_count": 5,
   "id": "446bf484",
   "metadata": {},
   "outputs": [
    {
     "data": {
      "text/html": [
       "<div>\n",
       "<style scoped>\n",
       "    .dataframe tbody tr th:only-of-type {\n",
       "        vertical-align: middle;\n",
       "    }\n",
       "\n",
       "    .dataframe tbody tr th {\n",
       "        vertical-align: top;\n",
       "    }\n",
       "\n",
       "    .dataframe thead th {\n",
       "        text-align: right;\n",
       "    }\n",
       "</style>\n",
       "<table border=\"1\" class=\"dataframe\">\n",
       "  <thead>\n",
       "    <tr style=\"text-align: right;\">\n",
       "      <th></th>\n",
       "      <th>IPZONE</th>\n",
       "      <th>OPZONE</th>\n",
       "      <th>FACTOR</th>\n",
       "    </tr>\n",
       "  </thead>\n",
       "  <tbody>\n",
       "    <tr>\n",
       "      <th>0</th>\n",
       "      <td>1</td>\n",
       "      <td>83</td>\n",
       "      <td>1.000000</td>\n",
       "    </tr>\n",
       "    <tr>\n",
       "      <th>1</th>\n",
       "      <td>2</td>\n",
       "      <td>62</td>\n",
       "      <td>1.000000</td>\n",
       "    </tr>\n",
       "    <tr>\n",
       "      <th>2</th>\n",
       "      <td>3</td>\n",
       "      <td>85</td>\n",
       "      <td>1.000000</td>\n",
       "    </tr>\n",
       "    <tr>\n",
       "      <th>3</th>\n",
       "      <td>4</td>\n",
       "      <td>63</td>\n",
       "      <td>1.000000</td>\n",
       "    </tr>\n",
       "    <tr>\n",
       "      <th>4</th>\n",
       "      <td>5</td>\n",
       "      <td>86</td>\n",
       "      <td>0.202189</td>\n",
       "    </tr>\n",
       "  </tbody>\n",
       "</table>\n",
       "</div>"
      ],
      "text/plain": [
       "   IPZONE  OPZONE    FACTOR\n",
       "0       1      83  1.000000\n",
       "1       2      62  1.000000\n",
       "2       3      85  1.000000\n",
       "3       4      63  1.000000\n",
       "4       5      86  0.202189"
      ]
     },
     "execution_count": 5,
     "metadata": {},
     "output_type": "execute_result"
    }
   ],
   "source": [
    "xwalk.head()"
   ]
  },
  {
   "cell_type": "code",
   "execution_count": null,
   "id": "1f4e6fda",
   "metadata": {},
   "outputs": [],
   "source": []
  },
  {
   "cell_type": "code",
   "execution_count": null,
   "id": "a9a95685",
   "metadata": {},
   "outputs": [],
   "source": []
  },
  {
   "cell_type": "code",
   "execution_count": null,
   "id": "28a3688e",
   "metadata": {},
   "outputs": [],
   "source": []
  },
  {
   "cell_type": "code",
   "execution_count": null,
   "id": "bee61ccb",
   "metadata": {},
   "outputs": [],
   "source": []
  },
  {
   "cell_type": "code",
   "execution_count": null,
   "id": "c019cd69",
   "metadata": {},
   "outputs": [],
   "source": []
  },
  {
   "cell_type": "code",
   "execution_count": 6,
   "id": "f772ec1c",
   "metadata": {},
   "outputs": [],
   "source": [
    "from dbfread import DBF"
   ]
  },
  {
   "cell_type": "code",
   "execution_count": 10,
   "id": "03d79318",
   "metadata": {},
   "outputs": [],
   "source": [
    "segment_suffixes = [\"LowInc\", \"MedInc\", \"HighInc\", \"XHighInc\"]\n",
    "shares = [0.28, 0.24, 0.21, 0.27]\n",
    "in_table_regex = \"{year}/tripsIx{period}.dbf\"\n",
    "out_omx_regex = \"disagg/{year}/tripsIx{period}.omx\"\n",
    "modes = [\"da\",\"sr2\",\"sr3\"] # from tm2py model_config.toml"
   ]
  },
  {
   "cell_type": "code",
   "execution_count": 8,
   "id": "6144fb9f",
   "metadata": {},
   "outputs": [],
   "source": [
    "if not os.path.exists('disagg'):\n",
    "    os.mkdir('disagg')"
   ]
  },
  {
   "cell_type": "code",
   "execution_count": 11,
   "id": "42c3f4e5",
   "metadata": {},
   "outputs": [],
   "source": [
    "# open one file to inspect format\n",
    "year = '2015'\n",
    "time_period = 'EA'\n",
    "df = pd.DataFrame(\n",
    "            DBF(in_table_regex.format(year = year, period = time_period), load = True).records)"
   ]
  },
  {
   "cell_type": "code",
   "execution_count": 12,
   "id": "275957e6",
   "metadata": {},
   "outputs": [
    {
     "data": {
      "text/html": [
       "<div>\n",
       "<style scoped>\n",
       "    .dataframe tbody tr th:only-of-type {\n",
       "        vertical-align: middle;\n",
       "    }\n",
       "\n",
       "    .dataframe tbody tr th {\n",
       "        vertical-align: top;\n",
       "    }\n",
       "\n",
       "    .dataframe thead th {\n",
       "        text-align: right;\n",
       "    }\n",
       "</style>\n",
       "<table border=\"1\" class=\"dataframe\">\n",
       "  <thead>\n",
       "    <tr style=\"text-align: right;\">\n",
       "      <th></th>\n",
       "      <th>ORIG</th>\n",
       "      <th>DEST</th>\n",
       "      <th>DA</th>\n",
       "      <th>SR2</th>\n",
       "      <th>SR3</th>\n",
       "    </tr>\n",
       "  </thead>\n",
       "  <tbody>\n",
       "    <tr>\n",
       "      <th>0</th>\n",
       "      <td>1</td>\n",
       "      <td>1</td>\n",
       "      <td>0.0</td>\n",
       "      <td>0.0</td>\n",
       "      <td>0.0</td>\n",
       "    </tr>\n",
       "    <tr>\n",
       "      <th>1</th>\n",
       "      <td>1</td>\n",
       "      <td>2</td>\n",
       "      <td>0.0</td>\n",
       "      <td>0.0</td>\n",
       "      <td>0.0</td>\n",
       "    </tr>\n",
       "    <tr>\n",
       "      <th>2</th>\n",
       "      <td>1</td>\n",
       "      <td>3</td>\n",
       "      <td>0.0</td>\n",
       "      <td>0.0</td>\n",
       "      <td>0.0</td>\n",
       "    </tr>\n",
       "    <tr>\n",
       "      <th>3</th>\n",
       "      <td>1</td>\n",
       "      <td>4</td>\n",
       "      <td>0.0</td>\n",
       "      <td>0.0</td>\n",
       "      <td>0.0</td>\n",
       "    </tr>\n",
       "    <tr>\n",
       "      <th>4</th>\n",
       "      <td>1</td>\n",
       "      <td>5</td>\n",
       "      <td>0.0</td>\n",
       "      <td>0.0</td>\n",
       "      <td>0.0</td>\n",
       "    </tr>\n",
       "  </tbody>\n",
       "</table>\n",
       "</div>"
      ],
      "text/plain": [
       "   ORIG  DEST   DA  SR2  SR3\n",
       "0     1     1  0.0  0.0  0.0\n",
       "1     1     2  0.0  0.0  0.0\n",
       "2     1     3  0.0  0.0  0.0\n",
       "3     1     4  0.0  0.0  0.0\n",
       "4     1     5  0.0  0.0  0.0"
      ]
     },
     "execution_count": 12,
     "metadata": {},
     "output_type": "execute_result"
    }
   ],
   "source": [
    "df.head()"
   ]
  },
  {
   "cell_type": "code",
   "execution_count": 95,
   "id": "d232bb80",
   "metadata": {},
   "outputs": [],
   "source": [
    "for year in ['2019','2040','2050']:\n",
    "#for year in ['2015','2019','2040','2050']:\n",
    "    if not os.path.exists(f'disagg/{year}'):\n",
    "        os.mkdir(f'disagg/{year}')\n",
    "\n",
    "    for time_period in ['EA','AM','MD','PM','EV']:\n",
    "        df = pd.DataFrame(\n",
    "            DBF(in_table_regex.format(year = year, period = time_period), load = True).records)\n",
    "        \n",
    "        if 'S2' in df.columns:\n",
    "            df.rename(columns = {'S2':'SR2'}, inplace = True)\n",
    "        if 'S3' in df.columns:\n",
    "            df.rename(columns = {'S3':'SR3'}, inplace = True)\n",
    "        \n",
    "        \n",
    "        df_w_xwalk = df.merge(\n",
    "                xwalk, left_on = ['ORIG'], right_on = ['IPZONE'], how = 'left').merge(\n",
    "                xwalk, left_on = ['DEST'], right_on = ['IPZONE'], how = 'left', suffixes = ['_ORIG','_DEST'])\n",
    "\n",
    "        OD_full_index = pd.MultiIndex.from_product([range(1,max(xwalk.OPZONE) + 1), range(1,max(xwalk.OPZONE) + 1)])\n",
    "\n",
    "        for mode in modes:\n",
    "\n",
    "            df_w_xwalk[f'{mode}_new'] = df_w_xwalk[mode.upper()] * df_w_xwalk.FACTOR_ORIG * df_w_xwalk.FACTOR_DEST\n",
    "            trips_in_new_zones = df_w_xwalk.groupby(['OPZONE_ORIG','OPZONE_DEST'])[f'{mode}_new'].sum()\n",
    "            demand_matrix = trips_in_new_zones.reindex(OD_full_index, fill_value = 0).unstack().values\n",
    "\n",
    "            with omx.open_file(out_omx_regex.format(year = year, period=time_period), 'a') as f_out:\n",
    "                for suffix, share in zip(segment_suffixes, shares):\n",
    "                    f_out[f'{mode}_{suffix}'] = demand_matrix * share"
   ]
  },
  {
   "cell_type": "code",
   "execution_count": 97,
   "id": "de032b13",
   "metadata": {
    "scrolled": false
   },
   "outputs": [
    {
     "name": "stdout",
     "output_type": "stream",
     "text": [
      "2015\n"
     ]
    },
    {
     "name": "stderr",
     "output_type": "stream",
     "text": [
      "C:\\Users\\xchang\\AppData\\Local\\Temp\\2\\ipykernel_11304\\2879300001.py:17: FutureWarning: Using the level keyword in DataFrame and Series aggregations is deprecated and will be removed in a future version. Use groupby instead. df.sum(level=1) should use df.groupby(level=1).sum().\n",
      "  daily_totals = pd.concat(sums, axis = 1).sum(level=[0], axis = 1).reset_index()\n"
     ]
    },
    {
     "name": "stdout",
     "output_type": "stream",
     "text": [
      "da total diff: 0.0 element max diff: 4.547473508864641e-13 mean diff: -1.5723293891261588e-18\n",
      "sr2 total diff: 0.0 element max diff: 2.2737367544323206e-13 mean diff: -1.1280905016532252e-19\n",
      "sr3 total diff: 0.0 element max diff: 1.4210854715202004e-14 mean diff: -3.7864514974618485e-20\n",
      "2019\n"
     ]
    },
    {
     "name": "stderr",
     "output_type": "stream",
     "text": [
      "C:\\Users\\xchang\\AppData\\Local\\Temp\\2\\ipykernel_11304\\2879300001.py:17: FutureWarning: Using the level keyword in DataFrame and Series aggregations is deprecated and will be removed in a future version. Use groupby instead. df.sum(level=1) should use df.groupby(level=1).sum().\n",
      "  daily_totals = pd.concat(sums, axis = 1).sum(level=[0], axis = 1).reset_index()\n"
     ]
    },
    {
     "name": "stdout",
     "output_type": "stream",
     "text": [
      "da total diff: 1.1641532182693481e-10 element max diff: 9.094947017729282e-13 mean diff: -1.1891214632567353e-18\n",
      "sr2 total diff: 0.0 element max diff: 2.2737367544323206e-13 mean diff: -1.5584119339544106e-19\n",
      "sr3 total diff: 1.8189894035458565e-12 element max diff: 1.4210854715202004e-14 mean diff: -5.680518175815432e-20\n",
      "2040\n"
     ]
    },
    {
     "name": "stderr",
     "output_type": "stream",
     "text": [
      "C:\\Users\\xchang\\AppData\\Local\\Temp\\2\\ipykernel_11304\\2879300001.py:17: FutureWarning: Using the level keyword in DataFrame and Series aggregations is deprecated and will be removed in a future version. Use groupby instead. df.sum(level=1) should use df.groupby(level=1).sum().\n",
      "  daily_totals = pd.concat(sums, axis = 1).sum(level=[0], axis = 1).reset_index()\n"
     ]
    },
    {
     "name": "stdout",
     "output_type": "stream",
     "text": [
      "da total diff: -1.1641532182693481e-10 element max diff: 4.547473508864641e-13 mean diff: -1.9080255435230343e-18\n",
      "sr2 total diff: 0.0 element max diff: 1.1368683772161603e-13 mean diff: -1.5750199082543943e-19\n",
      "sr3 total diff: 1.8189894035458565e-12 element max diff: 1.4210854715202004e-14 mean diff: -5.60133192217348e-20\n",
      "2050\n"
     ]
    },
    {
     "name": "stderr",
     "output_type": "stream",
     "text": [
      "C:\\Users\\xchang\\AppData\\Local\\Temp\\2\\ipykernel_11304\\2879300001.py:17: FutureWarning: Using the level keyword in DataFrame and Series aggregations is deprecated and will be removed in a future version. Use groupby instead. df.sum(level=1) should use df.groupby(level=1).sum().\n",
      "  daily_totals = pd.concat(sums, axis = 1).sum(level=[0], axis = 1).reset_index()\n"
     ]
    },
    {
     "name": "stdout",
     "output_type": "stream",
     "text": [
      "da total diff: 0.0 element max diff: 4.547473508864641e-13 mean diff: -1.7922840984714682e-18\n",
      "sr2 total diff: 0.0 element max diff: 5.684341886080802e-14 mean diff: -2.522202145979051e-19\n",
      "sr3 total diff: 3.637978807091713e-12 element max diff: 1.1368683772161603e-13 mean diff: -1.1047577906047023e-20\n"
     ]
    }
   ],
   "source": [
    "# validate results\n",
    "\n",
    "#for year in ['2015']:\n",
    "for year in ['2015','2019','2040','2050']:\n",
    "    print(year)\n",
    "    \n",
    "    sums = []\n",
    "    for time_period in ['EA','AM','MD','PM','EV']:\n",
    "        df = pd.DataFrame(DBF(in_table_regex.format(year = year, period = time_period), load = True).records)\n",
    "        if 'S2' in df.columns:\n",
    "            df.rename(columns = {'S2':'SR2'}, inplace = True)\n",
    "        if 'S3' in df.columns:\n",
    "            df.rename(columns = {'S3':'SR3'}, inplace = True)\n",
    "        df.set_index(['ORIG','DEST'], inplace = True)\n",
    "        sums.append(df)\n",
    "\n",
    "    daily_totals = pd.concat(sums, axis = 1).sum(level=[0], axis = 1).reset_index()\n",
    "    \n",
    "    daily_w_xwalk = daily_totals.merge(\n",
    "                    xwalk, left_on = ['ORIG'], right_on = ['IPZONE'], how = 'left').merge(\n",
    "                    xwalk, left_on = ['DEST'], right_on = ['IPZONE'], how = 'left', suffixes = ['_ORIG','_DEST'])\n",
    "\n",
    "    OD_full_index = pd.MultiIndex.from_product([range(1,max(xwalk.OPZONE) + 1), range(1,max(xwalk.OPZONE) + 1)])\n",
    "    \n",
    "    for mode in modes:    \n",
    "        daily_w_xwalk[f'{mode}_new'] = daily_w_xwalk[mode.upper()] * daily_w_xwalk.FACTOR_ORIG * daily_w_xwalk.FACTOR_DEST\n",
    "        trips_in_new_zones = daily_w_xwalk.groupby(['OPZONE_ORIG','OPZONE_DEST'])[f'{mode}_new'].sum()\n",
    "        demand_matrix = trips_in_new_zones.reindex(OD_full_index, fill_value = 0).unstack().values\n",
    "        \n",
    "        daily_sum = np.zeros((3353, 3353))\n",
    "        for time_period in ['EA','AM','MD','PM','EV']:   \n",
    "\n",
    "            with omx.open_file(out_omx_regex.format(year = year, period=time_period)) as f:\n",
    "                for m in f.list_matrices():\n",
    "                    if mode in m:\n",
    "                        daily_sum += np.array(f[m])        \n",
    "\n",
    "        print(mode, 'total diff:', demand_matrix.sum() - daily_sum.sum(),\n",
    "              'element max diff:',(demand_matrix - daily_sum).max(), \n",
    "              'mean diff:',(demand_matrix - daily_sum).mean())\n",
    "        "
   ]
  },
  {
   "cell_type": "code",
   "execution_count": null,
   "id": "a646d192",
   "metadata": {},
   "outputs": [],
   "source": []
  }
 ],
 "metadata": {
  "kernelspec": {
   "display_name": "Python 3 (ipykernel)",
   "language": "python",
   "name": "python3"
  },
  "language_info": {
   "codemirror_mode": {
    "name": "ipython",
    "version": 3
   },
   "file_extension": ".py",
   "mimetype": "text/x-python",
   "name": "python",
   "nbconvert_exporter": "python",
   "pygments_lexer": "ipython3",
   "version": "3.9.13"
  }
 },
 "nbformat": 4,
 "nbformat_minor": 5
}
