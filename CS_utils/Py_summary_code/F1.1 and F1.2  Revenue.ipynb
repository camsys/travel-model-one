{
 "cells": [
  {
   "cell_type": "code",
   "execution_count": 1,
   "id": "86544f34",
   "metadata": {},
   "outputs": [],
   "source": [
    "import os\n",
    "import pandas as pd\n",
    "import numpy as np\n",
    "import openmatrix as omx\n",
    "import random\n",
    "import yaml\n",
    "\n",
    "from utility import *\n",
    "\n",
    "import warnings\n",
    "warnings.filterwarnings('ignore')"
   ]
  },
  {
   "cell_type": "code",
   "execution_count": 2,
   "id": "84675b89",
   "metadata": {},
   "outputs": [],
   "source": [
    "with open('config.yaml', 'r') as file:\n",
    "    params = yaml.safe_load(file)\n",
    "    \n",
    "_join = os.path.join\n",
    "_dir = os.path.dirname\n",
    "_norm = os.path.normpath\n",
    "\n",
    "# paths\n",
    "model_outputs_dir = params['model_dir']\n",
    "skims_dir = _join(model_outputs_dir, \"skims\")\n",
    "summary_outputs = params['summary_dir']\n",
    "concept_id = params['concept_id']\n",
    "ctramp_dir = params['ctramp_dir']\n",
    "iteration = params['iteration']\n",
    "\n",
    "concept_id = params['concept_id']\n",
    "time_period_mapping = params['time_periods_mapping']\n",
    "link21_purp_mapping = params['purpose_mapping']\n",
    "mode_cat_mapping = params['mode_mapping']\n",
    "time_periods = params['periods']\n",
    "acc_egg_modes = params['access_egress_modes']\n",
    "\n",
    "income_categories_bins = params['income_categories_bins']\n"
   ]
  },
  {
   "cell_type": "code",
   "execution_count": 3,
   "id": "dedd83a4",
   "metadata": {},
   "outputs": [
    {
     "data": {
      "text/plain": [
       "['am', 'md', 'pm', 'ev', 'ea']"
      ]
     },
     "execution_count": 3,
     "metadata": {},
     "output_type": "execute_result"
    }
   ],
   "source": [
    "time_periods"
   ]
  },
  {
   "cell_type": "code",
   "execution_count": 4,
   "id": "686c2886",
   "metadata": {},
   "outputs": [],
   "source": [
    "# outputs of CT-RAMP model for tour and trip file\n",
    "household_model_dir = _join(model_outputs_dir, \"main\")\n",
    "\n",
    "# input household and person data\n",
    "person_file = _join(ctramp_dir, 'main\\\\personData_' + str(iteration) + '.csv')\n",
    "household_file = _join(ctramp_dir, 'main\\\\householdData_' + str(iteration) + '.csv')\n",
    "\n",
    "person = pd.read_csv(person_file)\n",
    "\n",
    "hh = pd.read_csv(household_file, usecols = ['hh_id', 'taz'])\n",
    "hh = hh.rename(columns = {'taz': 'home_zone'})\n",
    "\n",
    "#taz to RDM zones, super districts, county\n",
    "geo_cwks = pd.read_csv(_join(params['common_dir'], \"geographies.csv\")) #columns taz, rdm_zones, super_district, county\n",
    "\n",
    "#taz to priority population\n",
    "pp_perc = pd.read_excel(_join(params['common_dir'], \"TAZ_Tract_cwk_summary.xlsx\")) #columns = taz, pp_share \n",
    "\n",
    "# transbay od pairs\n",
    "transbay_od = pd.read_csv(_join(params['common_dir'], \"transbay_od.csv\")) #columns = transbay_o, transbay_d\n",
    "\n",
    "demand_matrices_dir = _join(model_outputs_dir, \"demand_matrices\")\n",
    "transit_demand_dir = _join(demand_matrices_dir, \"transit\")\n",
    "transit_skims_dir = _join(skims_dir, \"transit\")\n",
    "highway_skims_dir = _join(skims_dir, \"highway\")"
   ]
  },
  {
   "cell_type": "code",
   "execution_count": 5,
   "id": "68a211aa",
   "metadata": {},
   "outputs": [
    {
     "name": "stdout",
     "output_type": "stream",
     "text": [
      "NAs in PP Share: 0\n"
     ]
    }
   ],
   "source": [
    "#trip roster\n",
    "df_trips = create_trip_roster(ctramp_dir, hh, pp_perc ,transbay_od, geo_cwks, link21_purp_mapping, iteration)"
   ]
  },
  {
   "cell_type": "code",
   "execution_count": 6,
   "id": "a282c5b5",
   "metadata": {},
   "outputs": [],
   "source": [
    "df_trips['Period'] = df_trips['depart_hour'].map(time_period_mapping)\n",
    "df_trips['Mode'] = df_trips['trip_mode'].map(mode_cat_mapping)"
   ]
  },
  {
   "cell_type": "code",
   "execution_count": 8,
   "id": "cfd330c1",
   "metadata": {},
   "outputs": [],
   "source": [
    "auto_trips = df_trips.loc[df_trips['trip_mode'].isin([1,2,3])]"
   ]
  },
  {
   "cell_type": "code",
   "execution_count": 9,
   "id": "1093f19a",
   "metadata": {},
   "outputs": [
    {
     "data": {
      "text/plain": [
       "['am', 'md', 'pm', 'ev', 'ea']"
      ]
     },
     "execution_count": 9,
     "metadata": {},
     "output_type": "execute_result"
    }
   ],
   "source": [
    "time_periods"
   ]
  },
  {
   "cell_type": "code",
   "execution_count": 14,
   "id": "0731c053",
   "metadata": {},
   "outputs": [],
   "source": [
    "hh_inc = pd.read_csv(household_file, usecols = ['hh_id', 'income'])"
   ]
  },
  {
   "cell_type": "code",
   "execution_count": 15,
   "id": "a64ef766",
   "metadata": {},
   "outputs": [],
   "source": [
    "auto_trips = pd.merge(auto_trips, hh_inc , on = 'hh_id', how = 'left')"
   ]
  },
  {
   "cell_type": "code",
   "execution_count": 22,
   "id": "25943b5b",
   "metadata": {},
   "outputs": [
    {
     "data": {
      "text/plain": [
       "[0, 30000, 60000, 100000, 10000000000]"
      ]
     },
     "execution_count": 22,
     "metadata": {},
     "output_type": "execute_result"
    }
   ],
   "source": [
    "income_categories_bins"
   ]
  },
  {
   "cell_type": "code",
   "execution_count": 23,
   "id": "39107772",
   "metadata": {},
   "outputs": [],
   "source": [
    "auto_trips['inc_grp'] = pd.cut(auto_trips['income'], bins = income_categories_bins, labels=['L', 'M', 'H', 'XH'])"
   ]
  },
  {
   "cell_type": "code",
   "execution_count": 24,
   "id": "1f36bd92",
   "metadata": {},
   "outputs": [
    {
     "data": {
      "text/plain": [
       "XH    1198963\n",
       "H      747913\n",
       "M      658032\n",
       "L      443160\n",
       "Name: inc_grp, dtype: int64"
      ]
     },
     "execution_count": 24,
     "metadata": {},
     "output_type": "execute_result"
    }
   ],
   "source": [
    "auto_trips['inc_grp'].value_counts()"
   ]
  },
  {
   "cell_type": "code",
   "execution_count": null,
   "id": "c0604a20",
   "metadata": {},
   "outputs": [],
   "source": []
  },
  {
   "cell_type": "code",
   "execution_count": null,
   "id": "c2851ece",
   "metadata": {},
   "outputs": [],
   "source": []
  },
  {
   "cell_type": "code",
   "execution_count": 32,
   "id": "25ad93a3",
   "metadata": {},
   "outputs": [
    {
     "name": "stdout",
     "output_type": "stream",
     "text": [
      "processing - am\n",
      "L 268950\n",
      "M 268950\n",
      "H 268950\n",
      "XH 268950\n",
      "L 132487\n",
      "M 132487\n",
      "H 132487\n",
      "XH 132487\n",
      "L 97673\n",
      "M 97673\n",
      "H 97673\n",
      "XH 97673\n",
      "processing - md\n",
      "L 452385\n",
      "M 452385\n",
      "H 452385\n",
      "XH 452385\n",
      "L 249442\n",
      "M 249442\n",
      "H 249442\n",
      "XH 249442\n",
      "L 128525\n",
      "M 128525\n",
      "H 128525\n",
      "XH 128525\n",
      "processing - pm\n",
      "L 493186\n",
      "M 493186\n",
      "H 493186\n",
      "XH 493186\n",
      "L 271160\n",
      "M 271160\n",
      "H 271160\n",
      "XH 271160\n",
      "L 172081\n",
      "M 172081\n",
      "H 172081\n",
      "XH 172081\n",
      "processing - ev\n",
      "L 253717\n",
      "M 253717\n",
      "H 253717\n",
      "XH 253717\n",
      "L 135251\n",
      "M 135251\n",
      "H 135251\n",
      "XH 135251\n",
      "L 70628\n",
      "M 70628\n",
      "H 70628\n",
      "XH 70628\n",
      "processing - ea\n",
      "L 40929\n",
      "M 40929\n",
      "H 40929\n",
      "XH 40929\n",
      "L 11821\n",
      "M 11821\n",
      "H 11821\n",
      "XH 11821\n",
      "L 5711\n",
      "M 5711\n",
      "H 5711\n",
      "XH 5711\n"
     ]
    }
   ],
   "source": [
    "df_temp = []\n",
    "\n",
    "for period in time_periods:\n",
    "    print(f'processing - {period}')\n",
    "    \n",
    "    df_skim = omx.open_file(_join(highway_skims_dir, \"HWYSKM\" + period.upper() + \".omx\"))\n",
    "    auto_trips_pd = auto_trips[auto_trips['Period'] == period]\n",
    "    \n",
    "    sov_trips = auto_trips_pd[auto_trips_pd['Mode'] == 'Auto_SOV']\n",
    "    hov_trips = auto_trips_pd[auto_trips_pd['Mode'] == 'Auto_2Person']\n",
    "    hov2_trips = auto_trips_pd[auto_trips_pd['Mode'] == 'Auto_3+Person']\n",
    "    \n",
    "    \n",
    "    all_trips = [(sov_trips, 'DA'), (hov_trips, 'S2'), (hov2_trips, 'S3')]\n",
    "    \n",
    "    for occ_trips in all_trips:\n",
    "        \n",
    "        for inc in ['L', 'M', 'H', 'XH']:\n",
    "            \n",
    "            print(inc, len(occ_trips[0]))\n",
    "            trips_inc = occ_trips[0][occ_trips[0]['inc_grp'] == inc]\n",
    "            \n",
    "            toll_od1 = skim_core_to_df(df_skim, 'BTOLL'+occ_trips[1]+inc, cols=['orig', 'dest', 'btoll'])\n",
    "            toll_od2 = skim_core_to_df(df_skim, 'BTOLL'+occ_trips[1]+inc, cols=['orig', 'dest', 'vtoll'])\n",
    "            \n",
    "            trips_inc = pd.merge(trips_inc, toll_od1, \n",
    "                                  left_on =['orig_taz', 'dest_taz'], \n",
    "                                  right_on=['orig', 'dest'], \n",
    "                                  how ='inner')\n",
    "            \n",
    "            trips_inc = pd.merge(trips_inc, toll_od2, \n",
    "                                  left_on =['orig_taz', 'dest_taz'], \n",
    "                                  right_on=['orig', 'dest'], \n",
    "                                  how ='inner')\n",
    "\n",
    "            trips_inc['toll'] = trips_inc['btoll'] + trips_inc['vtoll']\n",
    "    \n",
    "        df_temp.append(trips_inc)\n",
    "\n",
    "df_auto = pd.concat(df_temp)"
   ]
  },
  {
   "cell_type": "code",
   "execution_count": 37,
   "id": "0986550c",
   "metadata": {},
   "outputs": [
    {
     "data": {
      "text/plain": [
       "['BTOLLDAH',\n",
       " 'BTOLLDAL',\n",
       " 'BTOLLDAM',\n",
       " 'BTOLLDAXH',\n",
       " 'BTOLLS2H',\n",
       " 'BTOLLS2L',\n",
       " 'BTOLLS2M',\n",
       " 'BTOLLS2XH',\n",
       " 'BTOLLS3H',\n",
       " 'BTOLLS3L',\n",
       " 'BTOLLS3M',\n",
       " 'BTOLLS3XH',\n",
       " 'BTOLL_LRGLRGTRK',\n",
       " 'BTOLL_MEDTRK',\n",
       " 'BTOLL_SMLTRK',\n",
       " 'BTOLL_VSMTRK',\n",
       " 'COSTDAH',\n",
       " 'COSTDAL',\n",
       " 'COSTDAM',\n",
       " 'COSTDAXH',\n",
       " 'COSTLRGTRK',\n",
       " 'COSTS2H',\n",
       " 'COSTS2L',\n",
       " 'COSTS2M',\n",
       " 'COSTS2XH',\n",
       " 'COSTS3H',\n",
       " 'COSTS3L',\n",
       " 'COSTS3M',\n",
       " 'COSTS3XH',\n",
       " 'COSTTRK',\n",
       " 'DISTDAH',\n",
       " 'DISTDAL',\n",
       " 'DISTDAM',\n",
       " 'DISTDAXH',\n",
       " 'DISTLRGTRK',\n",
       " 'DISTS2H',\n",
       " 'DISTS2L',\n",
       " 'DISTS2M',\n",
       " 'DISTS2XH',\n",
       " 'DISTS3H',\n",
       " 'DISTS3L',\n",
       " 'DISTS3M',\n",
       " 'DISTS3XH',\n",
       " 'DISTTRK',\n",
       " 'FREEFLOWTIMEDAH',\n",
       " 'FREEFLOWTIMEDAL',\n",
       " 'FREEFLOWTIMEDAM',\n",
       " 'FREEFLOWTIMEDAXH',\n",
       " 'FREEFLOWTIMELRGTRK',\n",
       " 'FREEFLOWTIMES2H',\n",
       " 'FREEFLOWTIMES2L',\n",
       " 'FREEFLOWTIMES2M',\n",
       " 'FREEFLOWTIMES2XH',\n",
       " 'FREEFLOWTIMES3H',\n",
       " 'FREEFLOWTIMES3L',\n",
       " 'FREEFLOWTIMES3M',\n",
       " 'FREEFLOWTIMES3XH',\n",
       " 'FREEFLOWTIMETRK',\n",
       " 'GCTIMEDAH',\n",
       " 'GCTIMEDAL',\n",
       " 'GCTIMEDAM',\n",
       " 'GCTIMEDAXH',\n",
       " 'GCTIMELRGTRK',\n",
       " 'GCTIMES2H',\n",
       " 'GCTIMES2L',\n",
       " 'GCTIMES2M',\n",
       " 'GCTIMES2XH',\n",
       " 'GCTIMES3H',\n",
       " 'GCTIMES3L',\n",
       " 'GCTIMES3M',\n",
       " 'GCTIMES3XH',\n",
       " 'GCTIMETRK',\n",
       " 'TIMEDAH',\n",
       " 'TIMEDAL',\n",
       " 'TIMEDAM',\n",
       " 'TIMEDAXH',\n",
       " 'TIMELRGTRK',\n",
       " 'TIMES2H',\n",
       " 'TIMES2L',\n",
       " 'TIMES2M',\n",
       " 'TIMES2XH',\n",
       " 'TIMES3H',\n",
       " 'TIMES3L',\n",
       " 'TIMES3M',\n",
       " 'TIMES3XH',\n",
       " 'TIMETRK',\n",
       " 'VTOLLDAH',\n",
       " 'VTOLLDAL',\n",
       " 'VTOLLDAM',\n",
       " 'VTOLLDAXH',\n",
       " 'VTOLLS2H',\n",
       " 'VTOLLS2L',\n",
       " 'VTOLLS2M',\n",
       " 'VTOLLS2XH',\n",
       " 'VTOLLS3H',\n",
       " 'VTOLLS3L',\n",
       " 'VTOLLS3M',\n",
       " 'VTOLLS3XH']"
      ]
     },
     "execution_count": 37,
     "metadata": {},
     "output_type": "execute_result"
    }
   ],
   "source": [
    "hwy_skim = omx.open_file(_join(highway_skims_dir, 'HWYSKMMD.omx'))\n",
    "hwy_skim.list_matrices()"
   ]
  },
  {
   "cell_type": "code",
   "execution_count": 41,
   "id": "f0e8978b",
   "metadata": {},
   "outputs": [
    {
     "data": {
      "text/plain": [
       "array([[False, False, False, ..., False, False, False],\n",
       "       [False, False, False, ..., False, False, False],\n",
       "       [False, False, False, ..., False, False, False],\n",
       "       ...,\n",
       "       [False, False, False, ..., False, False, False],\n",
       "       [False, False, False, ..., False, False, False],\n",
       "       [False, False, False, ..., False, False, False]])"
      ]
     },
     "execution_count": 41,
     "metadata": {},
     "output_type": "execute_result"
    }
   ],
   "source": [
    "np.array(hwy_skim['BTOLLDAH'])>0"
   ]
  },
  {
   "cell_type": "code",
   "execution_count": 33,
   "id": "b4e3831c",
   "metadata": {},
   "outputs": [],
   "source": [
    "df_auto['toll_revenue'] = df_auto['trips']*df_auto['toll']"
   ]
  },
  {
   "cell_type": "code",
   "execution_count": 42,
   "id": "5dc942ce",
   "metadata": {},
   "outputs": [
    {
     "data": {
      "text/plain": [
       "(1084112, 49)"
      ]
     },
     "execution_count": 42,
     "metadata": {},
     "output_type": "execute_result"
    }
   ],
   "source": [
    "df_auto.shape"
   ]
  },
  {
   "cell_type": "code",
   "execution_count": 34,
   "id": "863c0b64",
   "metadata": {},
   "outputs": [],
   "source": [
    "toll_df = df_auto.groupby(['Mode'])['toll_revenue'].sum().reset_index()"
   ]
  },
  {
   "cell_type": "code",
   "execution_count": 35,
   "id": "da5da155",
   "metadata": {},
   "outputs": [],
   "source": [
    "toll_df = toll_df.rename(columns={'toll_revenue': 'Value'})\n",
    "toll_df['Concept_ID'] = concept_id\n",
    "toll_df['Metric_ID'] = 'F1.2'\n",
    "toll_df['Metric_name'] = 'Toll revenue'\n",
    "toll_df['Submetric'] = 'F1.2.1'\n",
    "toll_df['Description'] = 'Toll revenue'\n",
    "toll_df['Population'] = 'Whole Population'\n",
    "toll_df['Geography'] = 'Region'\n",
    "toll_df['Zone_ID'] = 'Megaregion'\n",
    "toll_df['Origin_zone'] = ''\n",
    "toll_df['Dest_zone'] = ''\n",
    "toll_df['Units'] = '$'\n",
    "toll_df['Total_Increment'] = ''"
   ]
  },
  {
   "cell_type": "code",
   "execution_count": 36,
   "id": "43a76c28",
   "metadata": {},
   "outputs": [
    {
     "data": {
      "text/html": [
       "<div>\n",
       "<style scoped>\n",
       "    .dataframe tbody tr th:only-of-type {\n",
       "        vertical-align: middle;\n",
       "    }\n",
       "\n",
       "    .dataframe tbody tr th {\n",
       "        vertical-align: top;\n",
       "    }\n",
       "\n",
       "    .dataframe thead th {\n",
       "        text-align: right;\n",
       "    }\n",
       "</style>\n",
       "<table border=\"1\" class=\"dataframe\">\n",
       "  <thead>\n",
       "    <tr style=\"text-align: right;\">\n",
       "      <th></th>\n",
       "      <th>Mode</th>\n",
       "      <th>Value</th>\n",
       "      <th>Concept_ID</th>\n",
       "      <th>Metric_ID</th>\n",
       "      <th>Metric_name</th>\n",
       "      <th>Submetric</th>\n",
       "      <th>Description</th>\n",
       "      <th>Population</th>\n",
       "      <th>Geography</th>\n",
       "      <th>Zone_ID</th>\n",
       "      <th>Origin_zone</th>\n",
       "      <th>Dest_zone</th>\n",
       "      <th>Units</th>\n",
       "      <th>Total_Increment</th>\n",
       "    </tr>\n",
       "  </thead>\n",
       "  <tbody>\n",
       "    <tr>\n",
       "      <th>0</th>\n",
       "      <td>Auto_2Person</td>\n",
       "      <td>1.624111e+07</td>\n",
       "      <td>BaseYear2015</td>\n",
       "      <td>F1.2</td>\n",
       "      <td>Toll revenue</td>\n",
       "      <td>F1.2.1</td>\n",
       "      <td>Toll revenue</td>\n",
       "      <td>Whole Population</td>\n",
       "      <td>Region</td>\n",
       "      <td>Megaregion</td>\n",
       "      <td></td>\n",
       "      <td></td>\n",
       "      <td>$</td>\n",
       "      <td></td>\n",
       "    </tr>\n",
       "    <tr>\n",
       "      <th>1</th>\n",
       "      <td>Auto_3+Person</td>\n",
       "      <td>7.406678e+06</td>\n",
       "      <td>BaseYear2015</td>\n",
       "      <td>F1.2</td>\n",
       "      <td>Toll revenue</td>\n",
       "      <td>F1.2.1</td>\n",
       "      <td>Toll revenue</td>\n",
       "      <td>Whole Population</td>\n",
       "      <td>Region</td>\n",
       "      <td>Megaregion</td>\n",
       "      <td></td>\n",
       "      <td></td>\n",
       "      <td>$</td>\n",
       "      <td></td>\n",
       "    </tr>\n",
       "    <tr>\n",
       "      <th>2</th>\n",
       "      <td>Auto_SOV</td>\n",
       "      <td>3.395735e+07</td>\n",
       "      <td>BaseYear2015</td>\n",
       "      <td>F1.2</td>\n",
       "      <td>Toll revenue</td>\n",
       "      <td>F1.2.1</td>\n",
       "      <td>Toll revenue</td>\n",
       "      <td>Whole Population</td>\n",
       "      <td>Region</td>\n",
       "      <td>Megaregion</td>\n",
       "      <td></td>\n",
       "      <td></td>\n",
       "      <td>$</td>\n",
       "      <td></td>\n",
       "    </tr>\n",
       "  </tbody>\n",
       "</table>\n",
       "</div>"
      ],
      "text/plain": [
       "            Mode         Value    Concept_ID Metric_ID   Metric_name  \\\n",
       "0   Auto_2Person  1.624111e+07  BaseYear2015      F1.2  Toll revenue   \n",
       "1  Auto_3+Person  7.406678e+06  BaseYear2015      F1.2  Toll revenue   \n",
       "2       Auto_SOV  3.395735e+07  BaseYear2015      F1.2  Toll revenue   \n",
       "\n",
       "  Submetric   Description        Population Geography     Zone_ID Origin_zone  \\\n",
       "0    F1.2.1  Toll revenue  Whole Population    Region  Megaregion               \n",
       "1    F1.2.1  Toll revenue  Whole Population    Region  Megaregion               \n",
       "2    F1.2.1  Toll revenue  Whole Population    Region  Megaregion               \n",
       "\n",
       "  Dest_zone Units Total_Increment  \n",
       "0               $                  \n",
       "1               $                  \n",
       "2               $                  "
      ]
     },
     "execution_count": 36,
     "metadata": {},
     "output_type": "execute_result"
    }
   ],
   "source": [
    "toll_df"
   ]
  },
  {
   "cell_type": "code",
   "execution_count": null,
   "id": "4ae9c56e",
   "metadata": {},
   "outputs": [],
   "source": [
    "## F1.1: Farebox revenues"
   ]
  },
  {
   "cell_type": "code",
   "execution_count": 43,
   "id": "71186f8a",
   "metadata": {},
   "outputs": [
    {
     "data": {
      "text/plain": [
       "['BOARDS',\n",
       " 'CROWD',\n",
       " 'DDIST',\n",
       " 'DTIME',\n",
       " 'FARE',\n",
       " 'IVT',\n",
       " 'IVTCOM',\n",
       " 'IVTEXP',\n",
       " 'IVTFRY',\n",
       " 'IVTHVY',\n",
       " 'IVTLOC',\n",
       " 'IVTLRT',\n",
       " 'IWAIT',\n",
       " 'WACC',\n",
       " 'WAIT',\n",
       " 'WAUX',\n",
       " 'WEGR',\n",
       " 'XWAIT']"
      ]
     },
     "execution_count": 43,
     "metadata": {},
     "output_type": "execute_result"
    }
   ],
   "source": [
    "hwy_skim = omx.open_file(_join(transit_skims_dir, 'trnskmam_KNR_TRN_WLK.omx'))\n",
    "hwy_skim.list_matrices()"
   ]
  },
  {
   "cell_type": "code",
   "execution_count": 50,
   "id": "ee6e98a5",
   "metadata": {},
   "outputs": [
    {
     "data": {
      "text/plain": [
       "'ea'"
      ]
     },
     "execution_count": 50,
     "metadata": {},
     "output_type": "execute_result"
    }
   ],
   "source": [
    "period"
   ]
  },
  {
   "cell_type": "code",
   "execution_count": 10,
   "id": "e2771a44",
   "metadata": {},
   "outputs": [],
   "source": [
    "def create_rail_od_pairs(transit_demand_dir, transit_skims_dir, acc_egg_modes, time_periods):\n",
    "    \n",
    "    #Creates the Rail OD eligible Files\n",
    "    for per in time_periods:\n",
    "        print(\"Period: \",per)\n",
    "\n",
    "        rail_demand = omx.open_file(_join(transit_demand_dir, \"rail_fair_v9_trim_\" + per.upper() + \".omx\"),'w') \n",
    "        for acc_egg in acc_egg_modes:\n",
    "            print(\"Access Egress Mode: \",acc_egg)\n",
    "            trn_skm = omx.open_file(_join(transit_skims_dir, \"trnskm\" + per.lower() +\"_\" + acc_egg.upper() + \".omx\"))\n",
    "            fares = np.array(trn_skm['FARE'])\n",
    "            rail_demand[acc_egg] = fares\n",
    "\n",
    "        rail_demand.close()"
   ]
  },
  {
   "cell_type": "code",
   "execution_count": 11,
   "id": "0e2fb4f0",
   "metadata": {},
   "outputs": [
    {
     "name": "stdout",
     "output_type": "stream",
     "text": [
      "Period:  am\n",
      "Access Egress Mode:  WLK_TRN_WLK\n",
      "Access Egress Mode:  KNR_TRN_WLK\n",
      "Access Egress Mode:  PNR_TRN_WLK\n",
      "Access Egress Mode:  WLK_TRN_PNR\n",
      "Access Egress Mode:  WLK_TRN_KNR\n",
      "Period:  md\n",
      "Access Egress Mode:  WLK_TRN_WLK\n",
      "Access Egress Mode:  KNR_TRN_WLK\n",
      "Access Egress Mode:  PNR_TRN_WLK\n",
      "Access Egress Mode:  WLK_TRN_PNR\n",
      "Access Egress Mode:  WLK_TRN_KNR\n",
      "Period:  pm\n",
      "Access Egress Mode:  WLK_TRN_WLK\n",
      "Access Egress Mode:  KNR_TRN_WLK\n",
      "Access Egress Mode:  PNR_TRN_WLK\n",
      "Access Egress Mode:  WLK_TRN_PNR\n",
      "Access Egress Mode:  WLK_TRN_KNR\n",
      "Period:  ev\n",
      "Access Egress Mode:  WLK_TRN_WLK\n",
      "Access Egress Mode:  KNR_TRN_WLK\n",
      "Access Egress Mode:  PNR_TRN_WLK\n",
      "Access Egress Mode:  WLK_TRN_PNR\n",
      "Access Egress Mode:  WLK_TRN_KNR\n",
      "Period:  ea\n",
      "Access Egress Mode:  WLK_TRN_WLK\n",
      "Access Egress Mode:  KNR_TRN_WLK\n",
      "Access Egress Mode:  PNR_TRN_WLK\n",
      "Access Egress Mode:  WLK_TRN_PNR\n",
      "Access Egress Mode:  WLK_TRN_KNR\n"
     ]
    }
   ],
   "source": [
    "create_rail_od_pairs(transit_demand_dir, transit_skims_dir, acc_egg_modes, time_periods)"
   ]
  },
  {
   "cell_type": "code",
   "execution_count": null,
   "id": "55f69f06",
   "metadata": {},
   "outputs": [],
   "source": [
    "df_temp = []\n",
    "\n",
    "for period in time_periods:\n",
    "    print(f'processing - {period}')\n",
    "    \n",
    "    df_od_skm = omx.open_file(_join(transit_demand_dir, \"rail_fair_v9_trim_\" + period.upper() + \".omx\"))\n",
    "    df_trn_pd = df_trn[df_trn['Period'] == period]\n",
    "    \n",
    "    #walk transit\n",
    "    df_trn_acc = df_trn_pd[df_trn_pd['Mode'] == 'WALK_TRANSIT']\n",
    "    df_rail_od = skim_core_to_df(df_od_pr, 'WLK_TRN_WLK', cols=['orig', 'dest', 'fare'])\n",
    "    df_trn_wlk = pd.merge(df_trn_acc, df_rail_od, \n",
    "                          left_on =['orig_taz', 'dest_taz'], \n",
    "                          right_on=['orig', 'dest'], \n",
    "                          how ='inner')\n",
    "    \n",
    "    # PNR Transit\n",
    "    df_trn_acc = df_trn_pd[df_trn_pd['Mode'] == 'PNR_TRANSIT']\n",
    "    df_trn_acc_inbnd = df_trn_acc[df_trn_acc['inbound'] == 1] # returning home\n",
    "    df_rail_od = skim_core_to_df(df_od_pr, 'WLK_TRN_PNR', cols=['orig', 'dest', 'fare'])\n",
    "    df_trn_pnr_inb = pd.merge(df_trn_acc_inbnd, df_rail_od, \n",
    "                              left_on =['orig_taz', 'dest_taz'], \n",
    "                              right_on=['orig', 'dest'], how ='inner')\n",
    "\n",
    "    df_trn_acc_outbnd = df_trn_acc[df_trn_acc['inbound'] != 1] # returning home\n",
    "    df_rail_od = skim_core_to_df(df_od_pr, 'PNR_TRN_WLK', cols=['orig', 'dest', 'fare'])\n",
    "    df_trn_pnr_outbnd = pd.merge(df_trn_acc_outbnd, df_rail_od, \n",
    "                              left_on =['orig_taz', 'dest_taz'], \n",
    "                              right_on=['orig', 'dest'], how ='inner')\n",
    "\n",
    "    df_trn_pnr = pd.concat([df_trn_pnr_inb, df_trn_pnr_outbnd], ignore_index=True)\n",
    "    \n",
    "    # KNR Transit\n",
    "    df_trn_acc = df_trn_pd[df_trn_pd['Mode'] == 'KNR_TRANSIT']\n",
    "    df_trn_acc_inbnd = df_trn_acc[df_trn_acc['inbound'] == 1] # returning home\n",
    "    df_rail_od = skim_core_to_df(df_od_pr, 'WLK_TRN_KNR', cols=['orig', 'dest', 'fare'])\n",
    "    df_trn_knr_inb = pd.merge(df_trn_acc_inbnd, df_rail_od, \n",
    "                              left_on =['orig_taz', 'dest_taz'], \n",
    "                              right_on=['orig', 'dest'], how ='inner')\n",
    "\n",
    "\n",
    "    df_trn_acc_outbnd = df_trn_acc[df_trn_acc['inbound'] != 1] # returning home\n",
    "    df_rail_od = skim_core_to_df(df_od_pr, 'KNR_TRN_WLK', cols=['orig', 'dest', 'fare'])\n",
    "    df_trn_knr_outbnd = pd.merge(df_trn_acc_outbnd, df_rail_od, \n",
    "                              left_on =['orig_taz', 'dest_taz'], \n",
    "                              right_on=['orig', 'dest'], how ='inner')\n",
    "\n",
    "    df_trn_knr = pd.concat([df_trn_knr_inb, df_trn_knr_outbnd], ignore_index=True)\n",
    "    \n",
    "    df_trn_rail = pd.concat([df_trn_wlk, df_trn_pnr, df_trn_knr], ignore_index=True)\n",
    "    df_temp.append(df_trn_rail)\n",
    "\n",
    "df_trn_rail = pd.concat(df_temp)"
   ]
  },
  {
   "cell_type": "code",
   "execution_count": null,
   "id": "9b47cc05",
   "metadata": {},
   "outputs": [],
   "source": [
    "df_trn_rail['fare'] = df_trn_rail['fare'].fillna(0)"
   ]
  },
  {
   "cell_type": "code",
   "execution_count": null,
   "id": "a3dc6a28",
   "metadata": {},
   "outputs": [],
   "source": [
    "df_trn_rail['transit_revenue'] = df_trn_rail['trips'] * df_trn_rail['fare']"
   ]
  },
  {
   "cell_type": "code",
   "execution_count": null,
   "id": "30a06248",
   "metadata": {},
   "outputs": [],
   "source": [
    "# summarise for prioirty population\n",
    "\n",
    "\n",
    "\n",
    "#regional value\n",
    "region_value = df_temp.groupby(['Period'])['transit_revenue'].mean().reset_index()\n",
    "region_value = region_value.rename(columns={'transit_revenue': 'Value'})\n",
    "region_value['Concept_ID'] = concept_id\n",
    "region_value['Metric_ID'] = 'F1.1'\n",
    "region_value['Metric_name'] = 'Farebox revenue'\n",
    "region_value['Submetric'] = 'F1.1.1'\n",
    "region_value['Description'] = 'Farebox revenue'\n",
    "region_value['Population'] = 'Whole Population'\n",
    "region_value['Geography'] = 'Regional'\n",
    "region_value['Orig_zone'] = ''\n",
    "region_value['Dest_zone'] = ''\n",
    "region_value['Zone_ID'] = 'Megaregion'\n",
    "region_value['Units'] = 'minutes'\n",
    "region_value = region_value[perf_measure_columns]\n",
    "\n",
    "#county \n",
    "county_df_temp = df_trn_rail.groupby(['orig_county', 'dest_county', 'Period'])['transit_revenue'].mean().reset_index()\n",
    "county_df_temp = county_df_temp.rename(columns={'transit_revenue': 'Value',\n",
    "                                               'orig_county': 'Origin_zone',\n",
    "                                               'dest_county': 'Dest_zone'})\n",
    "county_df_temp['Concept_ID'] = concept_id\n",
    "county_df_temp['Metric_ID'] = 'F1.1'\n",
    "county_df_temp['Metric_name'] = 'Farebox revenue'\n",
    "county_df_temp['Submetric'] = 'F1.1.2'\n",
    "county_df_temp['Description'] = 'Farebox revenue'\n",
    "county_df_temp['Population'] = 'Whole Population'\n",
    "county_df_temp['Geography'] = 'County'\n",
    "county_df_temp['Zone_ID'] = ''\n",
    "#df_cnty['Origin_zone'] = ''\n",
    "#df_cnty['Dest_zone'] = ''\n",
    "county_df_temp['Units'] = 'minutes'\n",
    "county_df_temp['Total_Increment'] = ''\n",
    "\n",
    "\n",
    "#super district\n",
    "sd_df_temp = df_trn_rail.groupby(['orig_super_dist', 'dest_super_dist', 'Period'])['transit_revenue'].mean().reset_index()\n",
    "sd_df_temp = sd_df_temp.rename(columns={'transit_revenue': 'Value',\n",
    "                                        'orig_super_dist': 'Origin_zone',\n",
    "                                        'dest_super_dist': 'Dest_zone'})\n",
    "sd_df_temp['Concept_ID'] = concept_id\n",
    "sd_df_temp['Metric_ID'] = 'F1.1'\n",
    "sd_df_temp['Metric_name'] = 'Farebox revenue'\n",
    "sd_df_temp['Submetric'] = 'F1.1.3'\n",
    "sd_df_temp['Description'] = 'Farebox revenue'\n",
    "sd_df_temp['Population'] = 'Whole Population'\n",
    "sd_df_temp['Geography'] = 'Super district'\n",
    "sd_df_temp['Zone_ID'] = ''\n",
    "#df_cnty['Origin_zone'] = ''\n",
    "#df_cnty['Dest_zone'] = ''\n",
    "sd_df_temp['Units'] = 'minutes'\n",
    "sd_df_temp['Total_Increment'] = ''\n",
    "\n",
    "\n",
    "#RDM Zones\n",
    "rdm_df_temp = df_trn_rail.groupby(['orig_rdm_zones', 'dest_rdm_zones', 'Period'])['transit_revenue'].mean().reset_index()\n",
    "rdm_df_temp = rdm_df_temp.rename(columns={'transit_revenue': 'Value',\n",
    "                                        'orig_rdm_zones': 'Origin_zone',\n",
    "                                        'dest_rdm_zones': 'Dest_zone'})\n",
    "rdm_df_temp['Concept_ID'] = concept_id\n",
    "rdm_df_temp['Metric_ID'] = 'F1.1'\n",
    "rdm_df_temp['Metric_name'] = 'Farebox revenue'\n",
    "rdm_df_temp['Submetric'] = 'F1.1.4'\n",
    "rdm_df_temp['Description'] = 'Farebox revenue'\n",
    "rdm_df_temp['Population'] = 'Whole Population'\n",
    "rdm_df_temp['Geography'] = 'RDM'\n",
    "rdm_df_temp['Zone_ID'] = ''\n",
    "#df_cnty['Origin_zone'] = ''\n",
    "#df_cnty['Dest_zone'] = ''\n",
    "rdm_df_temp['Units'] = 'minutes'\n",
    "rdm_df_temp['Total_Increment'] = ''\n",
    "\n",
    "\n",
    "\n",
    "\n",
    "# transbay region\n",
    "tb_value = df_trn_rail[df_trn_rail['transbay_od']==1]\n",
    "tb_value = tb_value.groupby(['Period'])['trips'].mean().reset_index()\n",
    "\n",
    "tb_value['Concept_ID'] = concept_id\n",
    "tb_value['Metric_ID'] = 'F1.1'\n",
    "tb_value['Metric_name'] = 'Farebox revenue'\n",
    "tb_value['Submetric'] = 'F1.1.5'\n",
    "tb_value['Description'] = 'Farebox revenue'\n",
    "tb_value['Population'] = 'Whole Population'\n",
    "tb_value['Geography'] = 'Transbay'\n",
    "tb_value['Zone_ID'] = ''\n",
    "tb_value['Origin_zone'] = ''\n",
    "tb_value['Dest_zone'] = ''\n",
    "tb_value['Units'] = 'minutes'\n",
    "tb_value['Total_Increment'] = ''"
   ]
  },
  {
   "cell_type": "code",
   "execution_count": null,
   "id": "71a673f4",
   "metadata": {},
   "outputs": [],
   "source": [
    "df_region_period = df_trn_rail.groupby(['Period'])['transit_revenue'].sum().reset_index()\n",
    "\n",
    "df_region_period = toll_df.rename(columns={'transit_revenue': 'Value'})\n",
    "df_region_period['Concept_ID'] = concept_id\n",
    "df_region_period['Metric_ID'] = 'F1.1'\n",
    "df_region_period['Metric_name'] = 'Farebox revenue'\n",
    "df_region_period['Submetric'] = 'F1.1.1'\n",
    "df_region_period['Description'] = 'Farebox revenue'\n",
    "df_region_period['Population'] = 'Whole Population'\n",
    "df_region_period['Geography'] = 'Region'\n",
    "df_region_period['Zone_ID'] = 'Megaregion'\n",
    "df_region_period['Origin_zone'] = ''\n",
    "df_region_period['Dest_zone'] = ''\n",
    "df_region_period['Units'] = '$'\n",
    "df_region_period['Total_Increment'] = ''"
   ]
  },
  {
   "cell_type": "code",
   "execution_count": null,
   "id": "6eb15d11",
   "metadata": {},
   "outputs": [],
   "source": [
    "df_region_period = df_trn_rail.groupby(['Period'])['transit_revenue'].sum().reset_index()\n",
    "\n",
    "df_region_period = toll_df.rename(columns={'transit_revenue': 'Value'})\n",
    "df_region_period['Concept_ID'] = concept_id\n",
    "df_region_period['Metric_ID'] = 'F1.1'\n",
    "df_region_period['Metric_name'] = 'Farebox revenue'\n",
    "df_region_period['Submetric'] = 'F1.1.1'\n",
    "df_region_period['Description'] = 'Farebox revenue'\n",
    "df_region_period['Population'] = 'Whole Population'\n",
    "df_region_period['Geography'] = 'Region'\n",
    "df_region_period['Zone_ID'] = 'Megaregion'\n",
    "df_region_period['Origin_zone'] = ''\n",
    "df_region_period['Dest_zone'] = ''\n",
    "df_region_period['Units'] = '$'\n",
    "df_region_period['Total_Increment'] = ''"
   ]
  },
  {
   "cell_type": "code",
   "execution_count": null,
   "id": "d8cc3a19",
   "metadata": {},
   "outputs": [],
   "source": []
  },
  {
   "cell_type": "code",
   "execution_count": null,
   "id": "bfa034cd",
   "metadata": {},
   "outputs": [],
   "source": []
  },
  {
   "cell_type": "code",
   "execution_count": null,
   "id": "11b822d2",
   "metadata": {},
   "outputs": [],
   "source": []
  },
  {
   "cell_type": "code",
   "execution_count": null,
   "id": "49ff38ab",
   "metadata": {},
   "outputs": [],
   "source": []
  },
  {
   "cell_type": "code",
   "execution_count": null,
   "id": "3471705e",
   "metadata": {},
   "outputs": [],
   "source": []
  },
  {
   "cell_type": "code",
   "execution_count": null,
   "id": "f5fd9e6d",
   "metadata": {},
   "outputs": [],
   "source": []
  }
 ],
 "metadata": {
  "kernelspec": {
   "display_name": "Python [conda env:runway37] *",
   "language": "python",
   "name": "conda-env-runway37-py"
  },
  "language_info": {
   "codemirror_mode": {
    "name": "ipython",
    "version": 3
   },
   "file_extension": ".py",
   "mimetype": "text/x-python",
   "name": "python",
   "nbconvert_exporter": "python",
   "pygments_lexer": "ipython3",
   "version": "3.9.13"
  }
 },
 "nbformat": 4,
 "nbformat_minor": 5
}
