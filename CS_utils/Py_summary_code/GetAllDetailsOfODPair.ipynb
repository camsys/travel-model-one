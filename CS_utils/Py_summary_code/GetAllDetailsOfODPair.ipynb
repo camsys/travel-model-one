{
 "cells": [
  {
   "cell_type": "code",
   "execution_count": null,
   "id": "b0d53e38",
   "metadata": {},
   "outputs": [],
   "source": [
    "import os\n",
    "import pandas as pd\n",
    "import numpy as np\n",
    "import openmatrix as omx\n",
    "import random\n",
    "import yaml\n",
    "from pathlib import Path\n",
    "from utility import *\n",
    "\n",
    "import warnings\n",
    "warnings.filterwarnings('ignore')\n",
    "\n",
    "import pandas as pd\n",
    "pd.options.display.float_format = '{:,.3f}'.format"
   ]
  },
  {
   "cell_type": "code",
   "execution_count": null,
   "id": "b4b8dd37",
   "metadata": {},
   "outputs": [],
   "source": [
    "with open('config.yaml', 'r') as file:\n",
    "    params = yaml.safe_load(file)\n",
    "    \n",
    "_join = os.path.join\n",
    "_dir = os.path.dirname\n",
    "_norm = os.path.normpath\n",
    "\n",
    "# paths\n",
    "ctramp_dir = params['ctramp_dir']\n",
    "model_outputs_dir = params['model_dir']\n",
    "summary_dir = params['summary_dir']\n",
    "concept_id = params['concept_id']\n",
    "preprocess_dir = _join(ctramp_dir, '_pre_process_files')\n",
    "perf_measure_columns = params['final_columns']\n",
    "model_year = params['model_year']\n",
    "filename_extension = params['filename_extension']\n",
    "hwy_skims_dir = _join(model_outputs_dir, r'skims\\highway' )\n",
    "\n",
    "skims_dir = _join(model_outputs_dir, r'skims')"
   ]
  },
  {
   "cell_type": "code",
   "execution_count": null,
   "id": "f2e8aa45",
   "metadata": {},
   "outputs": [],
   "source": [
    "#od_pairs = [(1954-1,64-1),  (1954-1, 1969-1), (1954-1,2153-1), (2153-1,2484-1)]\n",
    "#od_pairs = [(1517-1,1046-1), (1438-1, 1433-1), (1644-1, 1655-1), (1433-1,1438-1), (1310-1, 1309-1)]\n",
    "od_pairs = [(66,64), (79,84), (60,24), (2563, 2277), (2277, 697), (1903,2226)]"
   ]
  },
  {
   "cell_type": "code",
   "execution_count": null,
   "id": "cd5ce604",
   "metadata": {
    "scrolled": true
   },
   "outputs": [],
   "source": [
    "%%time\n",
    "# The data tab of the UEC file lists all the matrix cores and location an matrix files of skims\n",
    "# 1 for EA, 2 for AM, 3 for MD, 4 for PM and 5 for EV\n",
    "\n",
    "df_temp = []\n",
    "\n",
    "# extract the file names, matrix cores \n",
    "matrix_df = pd.read_excel(_join(params['common_dir'], r\"TripModeChoice.xlsx\"), sheet_name='data')\n",
    "matrix_df = matrix_df.iloc[9:]\n",
    "matrix_df.columns = ['no', 'token', 'format', 'file','matrix', 'group', 'index']\n",
    "#matrix_df[1:5]\n",
    "\n",
    "# pre-processing\n",
    "matrix_df['matrix_files'] = matrix_df['file'].str.replace('skims/', '')\n",
    "matrix_df['path'] = 'skims'\n",
    "matrix_df.loc[matrix_df['matrix_files'].str.contains('nonmot')==True, 'path'] = 'active'\n",
    "matrix_df.loc[matrix_df['matrix_files'].str.contains('trnskm')==True, 'path'] = 'transit'\n",
    "matrix_df.loc[matrix_df['matrix_files'].str.contains('hwyskm')==True, 'path'] = 'highway'\n",
    "#matrix_df[1:5]\n",
    "\n",
    "# Iterate over the DataFrame rows\n",
    "for _, row in matrix_df.iterrows():\n",
    "    variable_name = row['token']\n",
    "    file_path = row['path']\n",
    "    filename = row['matrix_files']\n",
    "    matrix_cr = row['matrix']\n",
    "    \n",
    "    # Extract the variable name and index (if present)\n",
    "    if '[' in variable_name:\n",
    "        name_start = variable_name.index('[')\n",
    "        name_end = variable_name.index(']')\n",
    "        index = int(variable_name[name_start+1:name_end])\n",
    "        variable_name = variable_name[:name_start]\n",
    "    else:\n",
    "        index=None\n",
    "    \n",
    "    # Read the file using numpy.load() and assign it to the variable with the specified index\n",
    "    file = omx.open_file(_join(skims_dir, file_path, filename))\n",
    "    file_contents = np.array(file[matrix_cr])\n",
    "    print(filename)\n",
    "\n",
    "    values_to_store = []\n",
    "    for index in od_pairs:\n",
    "        extracted_values = file_contents[index[0]-1, index[1]-1] \n",
    "        values_to_store.append(extracted_values)\n",
    "        \n",
    "    #values_to_store = np.array(values_to_store).T.tolist()\n",
    "    df = pd.DataFrame([values_to_store], columns=['od1', 'od2', 'od3', 'od4', 'od5', 'od6']) #Update this \n",
    "    df['matrix_core'] = filename\n",
    "    df['token'] = row['token']\n",
    "    df['group'] = row['group']\n",
    "    df['matrix'] = row['matrix']\n",
    "    \n",
    "    df_temp.append(df)\n",
    "    #break"
   ]
  },
  {
   "cell_type": "code",
   "execution_count": null,
   "id": "ac652c14",
   "metadata": {},
   "outputs": [],
   "source": [
    "df_skims = pd.concat(df_temp)"
   ]
  },
  {
   "cell_type": "code",
   "execution_count": null,
   "id": "6e97f7f0",
   "metadata": {},
   "outputs": [],
   "source": [
    "df_skims.to_csv(\"df_skims_r39.csv\")"
   ]
  },
  {
   "cell_type": "code",
   "execution_count": null,
   "id": "6a9dd2e8",
   "metadata": {},
   "outputs": [],
   "source": []
  },
  {
   "cell_type": "code",
   "execution_count": null,
   "id": "acea565b",
   "metadata": {},
   "outputs": [],
   "source": []
  },
  {
   "cell_type": "code",
   "execution_count": null,
   "id": "3357acf9",
   "metadata": {},
   "outputs": [],
   "source": []
  }
 ],
 "metadata": {
  "kernelspec": {
   "display_name": "Python 3 (ipykernel)",
   "language": "python",
   "name": "python3"
  },
  "language_info": {
   "codemirror_mode": {
    "name": "ipython",
    "version": 3
   },
   "file_extension": ".py",
   "mimetype": "text/x-python",
   "name": "python",
   "nbconvert_exporter": "python",
   "pygments_lexer": "ipython3",
   "version": "3.7.6"
  }
 },
 "nbformat": 4,
 "nbformat_minor": 5
}
