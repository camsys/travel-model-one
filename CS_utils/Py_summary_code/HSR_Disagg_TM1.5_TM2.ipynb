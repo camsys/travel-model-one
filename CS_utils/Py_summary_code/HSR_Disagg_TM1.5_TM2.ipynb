{
 "cells": [
  {
   "cell_type": "code",
   "execution_count": 1,
   "id": "395d5727",
   "metadata": {},
   "outputs": [],
   "source": [
    "import pandas as pd\n",
    "import numpy as np\n",
    "import openmatrix as omx\n",
    "import os, sys, glob\n",
    "\n",
    "from dbfread import DBF"
   ]
  },
  {
   "cell_type": "code",
   "execution_count": 2,
   "id": "48ef41a6",
   "metadata": {},
   "outputs": [],
   "source": [
    "os.chdir(r\"C:\\Users\\vyadav\\Cambridge Systematics\\PROJ 210071 BART Link21 TDLU Modeling - Documents\\Task 2 - Model Dev\\2.3 - Model Construction\\Nonres\\HSR trips\")"
   ]
  },
  {
   "cell_type": "code",
   "execution_count": 3,
   "id": "7d223e08",
   "metadata": {},
   "outputs": [],
   "source": [
    "out_dir = r\"C:\\Users\\vyadav\\Cambridge Systematics\\PROJ 210071 BART Link21 TDLU Modeling - Documents\\Task 2 - Model Dev\\2.3 - Model Construction\\Nonres\\HSR trips\""
   ]
  },
  {
   "cell_type": "code",
   "execution_count": 4,
   "id": "e38ace0b",
   "metadata": {},
   "outputs": [],
   "source": [
    "def df2dbf(df, dbf_path, my_specs=None):\n",
    "    '''\n",
    "\n",
    "\n",
    "    Convert a pandas.DataFrame into a dbf.\n",
    "    __author__  = \"Dani Arribas-Bel <darribas@asu.edu> \"\n",
    "    ...\n",
    "    Arguments\n",
    "    ---------\n",
    "    df          : DataFrame\n",
    "                  Pandas dataframe object to be entirely written out to a dbf\n",
    "    dbf_path    : str\n",
    "                  Path to the output dbf. It is also returned by the function\n",
    "    my_specs    : list\n",
    "                  List with the field_specs to use for each column.\n",
    "                  Defaults to None and applies the following scheme:\n",
    "                    * int: ('N', 14, 0)\n",
    "                    * float: ('N', 14, 14)\n",
    "                    * str: ('C', 14, 0)\n",
    "\n",
    "    from: https://github.com/GeoDaSandbox/sandbox/blob/master/pyGDsandbox/dataIO.py\n",
    "\n",
    "    Copyright (c) 2007-2011, GeoDa Center for Geospatial Analysis and Computation\n",
    "    All rights reserved.\n",
    "\n",
    "    Redistribution and use in source and binary forms, with or without\n",
    "    modification, are permitted provided that the following conditions are met:\n",
    "\n",
    "    * Redistributions of source code must retain the above copyright notice, this\n",
    "      list of conditions and the following disclaimer.\n",
    "\n",
    "    * Redistributions in binary form must reproduce the above copyright\n",
    "      notice, this list of conditions and the following disclaimer in the\n",
    "      documentation and/or other materials provided with the distribution.\n",
    "\n",
    "    * Neither the name of the GeoDa Center for Geospatial Analysis and Computation\n",
    "      nor the names of its contributors may be used to endorse or promote products\n",
    "      derived from this software without specific prior written permission.\n",
    "\n",
    "    THIS SOFTWARE IS PROVIDED BY THE COPYRIGHT HOLDERS AND\n",
    "    CONTRIBUTORS \"AS IS\" AND ANY EXPRESS OR IMPLIED WARRANTIES,\n",
    "    INCLUDING, BUT NOT LIMITED TO, THE IMPLIED WARRANTIES OF\n",
    "    MERCHANTABILITY AND FITNESS FOR A PARTICULAR PURPOSE ARE\n",
    "    DISCLAIMED. IN NO EVENT SHALL THE COPYRIGHT HOLDER OR\n",
    "    CONTRIBUTORS BE LIABLE FOR ANY DIRECT, INDIRECT, INCIDENTAL,\n",
    "    SPECIAL, EXEMPLARY, OR CONSEQUENTIAL DAMAGES (INCLUDING, BUT NOT\n",
    "    LIMITED TO, PROCUREMENT OF SUBSTITUTE GOODS OR SERVICES; LOSS OF\n",
    "    USE, DATA, OR PROFITS; OR BUSINESS INTERRUPTION) HOWEVER CAUSED AND\n",
    "    ON ANY THEORY OF LIABILITY, WHETHER IN CONTRACT, STRICT\n",
    "    LIABILITY, OR TORT (INCLUDING NEGLIGENCE OR OTHERWISE) ARISING IN\n",
    "    ANY WAY OUT OF THE USE OF THIS SOFTWARE, EVEN IF ADVISED OF THE\n",
    "    POSSIBILITY OF SUCH DAMAGE.\n",
    "    '''\n",
    "\n",
    "    import libpysal.io as ps\n",
    "    import numpy as np\n",
    "    if my_specs:\n",
    "        specs = my_specs\n",
    "    else:\n",
    "        type2spec = {int: ('N', 20, 0),\n",
    "                     np.int64: ('N', 20, 0),\n",
    "                     float: ('N', 36, 15),\n",
    "                     np.float64: ('N', 36, 15),\n",
    "                     str: ('C', 14, 0)\n",
    "                     }\n",
    "        types = [type(df[i].iloc[0]) for i in df.columns]\n",
    "        specs = [type2spec[t] for t in types]\n",
    "    db = ps.open(dbf_path, 'w')\n",
    "    db.header = list(df.columns)\n",
    "    db.field_spec = specs\n",
    "    for i, row in df.T.iteritems():\n",
    "        db.write(row)\n",
    "    db.close()\n",
    "    return dbf_path"
   ]
  },
  {
   "cell_type": "code",
   "execution_count": 5,
   "id": "57fc750e",
   "metadata": {},
   "outputs": [],
   "source": [
    "# read and validate crosswalk\n",
    "xwalk = pd.read_csv(r\"Disagg TM1.5\\TM1_to_Link21_HSRZones.csv\")\n",
    "\n",
    "# every TM1.5 and TM2 zone is accounted for\n",
    "# factors sum up to 1 for every TM1.5 zone\n",
    "\n",
    "missing_zone_IP = set(range(1, max(xwalk.IPZONE) + 1)) - set(xwalk.IPZONE)\n",
    "missing_zone_OP = set(range(1, max(xwalk.OPZONE) + 1)) - set(xwalk.OPZONE)\n",
    "assert len(missing_zone_IP) == 0, f'missing TM1.5 zones, {missing_zone_IP}'\n",
    "assert len(missing_zone_OP) == 0, f'missing TM2 zones, {missing_zone_OP}'\n",
    "\n",
    "assert (xwalk.groupby(['IPZONE'])['FACTOR'].sum().round(5).nunique() == 1 and\n",
    "        xwalk.groupby(['IPZONE'])['FACTOR'].sum().round(5).max() == 1), 'factors do not add up to one for every TM1.5 zone'"
   ]
  },
  {
   "cell_type": "code",
   "execution_count": 6,
   "id": "1c21f38b",
   "metadata": {},
   "outputs": [
    {
     "data": {
      "text/plain": [
       "(1475, 3353)"
      ]
     },
     "execution_count": 6,
     "metadata": {},
     "output_type": "execute_result"
    }
   ],
   "source": [
    "max(xwalk.IPZONE), max(xwalk.OPZONE)"
   ]
  },
  {
   "cell_type": "code",
   "execution_count": 7,
   "id": "4591c80e",
   "metadata": {},
   "outputs": [],
   "source": [
    "#segment_suffixes = [\"LowInc\", \"MedInc\", \"HighInc\", \"XHighInc\"]\n",
    "#shares = [0.28, 0.24, 0.21, 0.27]\n",
    "in_table_regex = \"Disagg TM1.5/tripsHsr{period}_{year}.dbf\"\n",
    "out_omx_regex = os.path.join(out_dir, r\"disagg/{year}/tripsHsr{period}_{year}.dbf\")\n",
    "modes = [\"DA\",\"SR2\",\"TRANSIT\",\"WALK\"] # from tm2py model_config.toml"
   ]
  },
  {
   "cell_type": "code",
   "execution_count": 9,
   "id": "02399bac",
   "metadata": {},
   "outputs": [
    {
     "name": "stdout",
     "output_type": "stream",
     "text": [
      "Index(['ORIG', 'DEST', 'DA', 'SR2', 'TRANSIT', 'WALK'], dtype='object')\n",
      "ORIG sum = 1599090273\n",
      "DEST sum = 1599090273\n",
      "DA sum = 0.0\n",
      "SR2 sum = 0.0\n",
      "TRANSIT sum = 0.0\n",
      "WALK sum = 0.0\n",
      "DA -  0.0 0.0\n",
      "SR2 -  0.0 0.0\n",
      "TRANSIT -  0.0 0.0\n",
      "WALK -  0.0 0.0\n",
      "writing DBF file for 2040 and EA\n"
     ]
    },
    {
     "name": "stderr",
     "output_type": "stream",
     "text": [
      "<timed exec>:47: FutureWarning: Indexing with multiple keys (implicitly converted to a tuple of keys) will be deprecated, use a list instead.\n",
      "C:\\Users\\vyadav\\Anaconda3\\envs\\runway37\\lib\\site-packages\\geopandas\\_compat.py:112: UserWarning: The Shapely GEOS version (3.11.0-CAPI-1.17.0) is incompatible with the GEOS version PyGEOS was compiled with (3.10.4-CAPI-1.16.2). Conversions between both will be slow.\n",
      "  warnings.warn(\n"
     ]
    },
    {
     "name": "stdout",
     "output_type": "stream",
     "text": [
      "Index(['ORIG', 'DEST', 'DA', 'SR2', 'TRANSIT', 'WALK'], dtype='object')\n",
      "ORIG sum = 1599090273\n",
      "DEST sum = 1599090273\n",
      "DA sum = 4334.540000000001\n",
      "SR2 sum = 3284.6\n",
      "TRANSIT sum = 7420.280000000004\n",
      "WALK sum = 840.9699999999998\n",
      "DA -  24959.65999999999 4334.540000062003\n",
      "SR2 -  17909.830000000016 3284.600000039931\n",
      "TRANSIT -  35832.88 7420.280000093321\n",
      "WALK -  5520.700000000002 840.9699999635798\n",
      "writing DBF file for 2040 and AM\n"
     ]
    },
    {
     "name": "stderr",
     "output_type": "stream",
     "text": [
      "<timed exec>:47: FutureWarning: Indexing with multiple keys (implicitly converted to a tuple of keys) will be deprecated, use a list instead.\n"
     ]
    },
    {
     "name": "stdout",
     "output_type": "stream",
     "text": [
      "Index(['ORIG', 'DEST', 'DA', 'SR2', 'TRANSIT', 'WALK'], dtype='object')\n",
      "ORIG sum = 1599090273\n",
      "DEST sum = 1599090273\n",
      "DA sum = 6278.749999999994\n",
      "SR2 sum = 7902.329999999997\n",
      "TRANSIT sum = 4150.349999999999\n",
      "WALK sum = 4339.270000000003\n",
      "DA -  32286.02999999999 6278.750000048538\n",
      "SR2 -  40621.15999999997 7902.330000056912\n",
      "TRANSIT -  18900.44999999996 4150.350000029249\n",
      "WALK -  28864.62999999999 4339.269999896821\n",
      "writing DBF file for 2040 and MD\n"
     ]
    },
    {
     "name": "stderr",
     "output_type": "stream",
     "text": [
      "<timed exec>:47: FutureWarning: Indexing with multiple keys (implicitly converted to a tuple of keys) will be deprecated, use a list instead.\n"
     ]
    },
    {
     "name": "stdout",
     "output_type": "stream",
     "text": [
      "Index(['ORIG', 'DEST', 'DA', 'SR2', 'TRANSIT', 'WALK'], dtype='object')\n",
      "ORIG sum = 1599090273\n",
      "DEST sum = 1599090273\n",
      "DA sum = 4334.540000000001\n",
      "SR2 sum = 3284.6\n",
      "TRANSIT sum = 7420.280000000004\n",
      "WALK sum = 786.3099999999998\n",
      "DA -  24959.65999999999 4334.540000062003\n",
      "SR2 -  17909.830000000016 3284.600000039931\n",
      "TRANSIT -  35832.88 7420.280000093321\n",
      "WALK -  5506.4 786.3099999697099\n",
      "writing DBF file for 2040 and PM\n"
     ]
    },
    {
     "name": "stderr",
     "output_type": "stream",
     "text": [
      "<timed exec>:47: FutureWarning: Indexing with multiple keys (implicitly converted to a tuple of keys) will be deprecated, use a list instead.\n"
     ]
    },
    {
     "name": "stdout",
     "output_type": "stream",
     "text": [
      "Index(['ORIG', 'DEST', 'DA', 'SR2', 'TRANSIT', 'WALK'], dtype='object')\n",
      "ORIG sum = 1599090273\n",
      "DEST sum = 1599090273\n",
      "DA sum = 6278.749999999994\n",
      "SR2 sum = 7902.329999999997\n",
      "TRANSIT sum = 4150.349999999999\n",
      "WALK sum = 4339.270000000003\n",
      "DA -  32286.02999999999 6278.750000048538\n",
      "SR2 -  40621.15999999997 7902.330000056912\n",
      "TRANSIT -  18900.44999999996 4150.350000029249\n",
      "WALK -  28864.62999999999 4339.269999896821\n",
      "writing DBF file for 2040 and EV\n"
     ]
    },
    {
     "name": "stderr",
     "output_type": "stream",
     "text": [
      "<timed exec>:47: FutureWarning: Indexing with multiple keys (implicitly converted to a tuple of keys) will be deprecated, use a list instead.\n"
     ]
    },
    {
     "name": "stdout",
     "output_type": "stream",
     "text": [
      "Index(['ORIG', 'DEST', 'DA', 'SR2', 'TRANSIT', 'WALK'], dtype='object')\n",
      "ORIG sum = 1599090273\n",
      "DEST sum = 1599090273\n",
      "DA sum = 0.0\n",
      "SR2 sum = 0.0\n",
      "TRANSIT sum = 0.0\n",
      "WALK sum = 0.0\n",
      "DA -  0.0 0.0\n",
      "SR2 -  0.0 0.0\n",
      "TRANSIT -  0.0 0.0\n",
      "WALK -  0.0 0.0\n",
      "writing DBF file for 2050 and EA\n"
     ]
    },
    {
     "name": "stderr",
     "output_type": "stream",
     "text": [
      "<timed exec>:47: FutureWarning: Indexing with multiple keys (implicitly converted to a tuple of keys) will be deprecated, use a list instead.\n"
     ]
    },
    {
     "name": "stdout",
     "output_type": "stream",
     "text": [
      "Index(['ORIG', 'DEST', 'DA', 'SR2', 'TRANSIT', 'WALK'], dtype='object')\n",
      "ORIG sum = 1599090273\n",
      "DEST sum = 1599090273\n",
      "DA sum = 4334.540000000001\n",
      "SR2 sum = 3284.6\n",
      "TRANSIT sum = 7420.280000000004\n",
      "WALK sum = 840.9699999999998\n",
      "DA -  24959.65999999999 4334.540000062003\n",
      "SR2 -  17909.830000000016 3284.600000039931\n",
      "TRANSIT -  35832.88 7420.280000093321\n",
      "WALK -  5520.700000000002 840.9699999635798\n",
      "writing DBF file for 2050 and AM\n"
     ]
    },
    {
     "name": "stderr",
     "output_type": "stream",
     "text": [
      "<timed exec>:47: FutureWarning: Indexing with multiple keys (implicitly converted to a tuple of keys) will be deprecated, use a list instead.\n"
     ]
    },
    {
     "name": "stdout",
     "output_type": "stream",
     "text": [
      "Index(['ORIG', 'DEST', 'DA', 'SR2', 'TRANSIT', 'WALK'], dtype='object')\n",
      "ORIG sum = 1599090273\n",
      "DEST sum = 1599090273\n",
      "DA sum = 6278.749999999994\n",
      "SR2 sum = 7902.329999999997\n",
      "TRANSIT sum = 4150.349999999999\n",
      "WALK sum = 4339.270000000003\n",
      "DA -  32286.02999999999 6278.750000048538\n",
      "SR2 -  40621.15999999997 7902.330000056912\n",
      "TRANSIT -  18900.44999999996 4150.350000029249\n",
      "WALK -  28864.62999999999 4339.269999896821\n",
      "writing DBF file for 2050 and MD\n"
     ]
    },
    {
     "name": "stderr",
     "output_type": "stream",
     "text": [
      "<timed exec>:47: FutureWarning: Indexing with multiple keys (implicitly converted to a tuple of keys) will be deprecated, use a list instead.\n"
     ]
    },
    {
     "name": "stdout",
     "output_type": "stream",
     "text": [
      "Index(['ORIG', 'DEST', 'DA', 'SR2', 'TRANSIT', 'WALK'], dtype='object')\n",
      "ORIG sum = 1599090273\n",
      "DEST sum = 1599090273\n",
      "DA sum = 4334.540000000001\n",
      "SR2 sum = 3284.6\n",
      "TRANSIT sum = 7420.280000000004\n",
      "WALK sum = 786.3099999999998\n",
      "DA -  24959.65999999999 4334.540000062003\n",
      "SR2 -  17909.830000000016 3284.600000039931\n",
      "TRANSIT -  35832.88 7420.280000093321\n",
      "WALK -  5506.4 786.3099999697099\n",
      "writing DBF file for 2050 and PM\n"
     ]
    },
    {
     "name": "stderr",
     "output_type": "stream",
     "text": [
      "<timed exec>:47: FutureWarning: Indexing with multiple keys (implicitly converted to a tuple of keys) will be deprecated, use a list instead.\n"
     ]
    },
    {
     "name": "stdout",
     "output_type": "stream",
     "text": [
      "Index(['ORIG', 'DEST', 'DA', 'SR2', 'TRANSIT', 'WALK'], dtype='object')\n",
      "ORIG sum = 1599090273\n",
      "DEST sum = 1599090273\n",
      "DA sum = 6278.749999999994\n",
      "SR2 sum = 7902.329999999997\n",
      "TRANSIT sum = 4150.349999999999\n",
      "WALK sum = 4339.270000000003\n",
      "DA -  32286.02999999999 6278.750000048538\n",
      "SR2 -  40621.15999999997 7902.330000056912\n",
      "TRANSIT -  18900.44999999996 4150.350000029249\n",
      "WALK -  28864.62999999999 4339.269999896821\n",
      "writing DBF file for 2050 and EV\n"
     ]
    },
    {
     "name": "stderr",
     "output_type": "stream",
     "text": [
      "<timed exec>:47: FutureWarning: Indexing with multiple keys (implicitly converted to a tuple of keys) will be deprecated, use a list instead.\n"
     ]
    },
    {
     "name": "stdout",
     "output_type": "stream",
     "text": [
      "CPU times: total: 1h 23min 4s\n",
      "Wall time: 1h 23min 29s\n"
     ]
    }
   ],
   "source": [
    "%%time\n",
    "for year in ['2040', '2050']:\n",
    "    \n",
    "    if not os.path.exists(f'disagg/{year}'):\n",
    "        os.mkdir(f'disagg/{year}')\n",
    "\n",
    "    for time_period in ['EA','AM','MD','PM','EV']:\n",
    "        df = pd.DataFrame(\n",
    "            DBF(in_table_regex.format(year = year, period = time_period), load = True).records)\n",
    "        \n",
    "        print(df.columns)\n",
    "        for cols in df.columns:\n",
    "            print(f'{cols} sum =', df[cols].sum())\n",
    "\n",
    "        if 'S2' in df.columns:\n",
    "            df.rename(columns = {'S2':'SR2'}, inplace = True)\n",
    "        if 'S3' in df.columns:\n",
    "            df.rename(columns = {'S3':'SR3'}, inplace = True)\n",
    "        \n",
    "        \n",
    "        df_w_xwalk = df.merge(\n",
    "                xwalk, left_on = ['ORIG'], right_on = ['IPZONE'], how = 'left').merge(\n",
    "                xwalk, left_on = ['DEST'], right_on = ['IPZONE'], how = 'left', suffixes = ['_ORIG','_DEST'])\n",
    "\n",
    "        #OD_full_index = pd.MultiIndex.from_product([range(1,max(xwalk.OPZONE) + 1), range(1,max(xwalk.OPZONE) + 1)])\n",
    "\n",
    "        for mode in modes:\n",
    "            #print(mode)\n",
    "            df_w_xwalk[f'{mode}_new'] = df_w_xwalk[mode] * df_w_xwalk.FACTOR_ORIG * df_w_xwalk.FACTOR_DEST\n",
    "            print(f'{mode} - ', df_w_xwalk[f'{mode}'].sum(), df_w_xwalk[f'{mode}_new'].sum())\n",
    "            \n",
    "            #if df_w_xwalk[f'{mode}'].sum() != df_w_xwalk[f'{mode}_new'].sum():\n",
    "            #    break\n",
    "                \n",
    "        df_w_xwalk = df_w_xwalk[['OPZONE_ORIG', 'OPZONE_DEST', 'DA_new', 'SR2_new', 'TRANSIT_new', 'WALK_new']]\n",
    "        \n",
    "        df_w_xwalk = df_w_xwalk.rename(columns={\n",
    "            'OPZONE_ORIG' : 'ORIG',\n",
    "            'OPZONE_DEST' : 'DEST',\n",
    "            'DA_new' : 'DA',\n",
    "            'SR2_new' : 'SR2',\n",
    "            'TRANSIT_new' : 'TRANSIT',\n",
    "            'WALK_new' : 'WALK'\n",
    "        })\n",
    "        \n",
    "        print(f'writing DBF file for {year} and {time_period}')\n",
    "        \n",
    "        df_w_xwalk = df_w_xwalk.groupby(['ORIG', 'DEST'])['DA', 'SR2', 'TRANSIT', 'WALK'].sum().reset_index()\n",
    "        \n",
    "        df2dbf(df_w_xwalk, out_omx_regex.format(year = year, period=time_period))"
   ]
  },
  {
   "cell_type": "code",
   "execution_count": 19,
   "id": "228c1650",
   "metadata": {},
   "outputs": [],
   "source": [
    "in_file = r'C:\\Users\\vyadav\\Cambridge Systematics\\PROJ 210071 BART Link21 TDLU Modeling - Documents\\Task 2 - Model Dev\\2.3 - Model Construction\\Nonres\\HSR trips\\disagg\\2040'"
   ]
  },
  {
   "cell_type": "code",
   "execution_count": 20,
   "id": "61e70ad8",
   "metadata": {},
   "outputs": [],
   "source": [
    "file = os.path.join(in_file, 'tripsHsrEA_2040.dbf')"
   ]
  },
  {
   "cell_type": "code",
   "execution_count": 21,
   "id": "9f1ca156",
   "metadata": {},
   "outputs": [],
   "source": [
    "df = pd.DataFrame(\n",
    "            DBF(file, load = True).records)"
   ]
  },
  {
   "cell_type": "code",
   "execution_count": 22,
   "id": "6113104c",
   "metadata": {},
   "outputs": [
    {
     "data": {
      "text/html": [
       "<div>\n",
       "<style scoped>\n",
       "    .dataframe tbody tr th:only-of-type {\n",
       "        vertical-align: middle;\n",
       "    }\n",
       "\n",
       "    .dataframe tbody tr th {\n",
       "        vertical-align: top;\n",
       "    }\n",
       "\n",
       "    .dataframe thead th {\n",
       "        text-align: right;\n",
       "    }\n",
       "</style>\n",
       "<table border=\"1\" class=\"dataframe\">\n",
       "  <thead>\n",
       "    <tr style=\"text-align: right;\">\n",
       "      <th></th>\n",
       "      <th>ORIG</th>\n",
       "      <th>DEST</th>\n",
       "      <th>DA</th>\n",
       "      <th>SR2</th>\n",
       "      <th>TRANSIT</th>\n",
       "      <th>WALK</th>\n",
       "    </tr>\n",
       "  </thead>\n",
       "  <tbody>\n",
       "    <tr>\n",
       "      <th>0</th>\n",
       "      <td>83</td>\n",
       "      <td>83</td>\n",
       "      <td>0.0</td>\n",
       "      <td>0.0</td>\n",
       "      <td>0.0</td>\n",
       "      <td>0.0</td>\n",
       "    </tr>\n",
       "    <tr>\n",
       "      <th>1</th>\n",
       "      <td>83</td>\n",
       "      <td>62</td>\n",
       "      <td>0.0</td>\n",
       "      <td>0.0</td>\n",
       "      <td>0.0</td>\n",
       "      <td>0.0</td>\n",
       "    </tr>\n",
       "    <tr>\n",
       "      <th>2</th>\n",
       "      <td>83</td>\n",
       "      <td>85</td>\n",
       "      <td>0.0</td>\n",
       "      <td>0.0</td>\n",
       "      <td>0.0</td>\n",
       "      <td>0.0</td>\n",
       "    </tr>\n",
       "    <tr>\n",
       "      <th>3</th>\n",
       "      <td>83</td>\n",
       "      <td>63</td>\n",
       "      <td>0.0</td>\n",
       "      <td>0.0</td>\n",
       "      <td>0.0</td>\n",
       "      <td>0.0</td>\n",
       "    </tr>\n",
       "    <tr>\n",
       "      <th>4</th>\n",
       "      <td>83</td>\n",
       "      <td>86</td>\n",
       "      <td>0.0</td>\n",
       "      <td>0.0</td>\n",
       "      <td>0.0</td>\n",
       "      <td>0.0</td>\n",
       "    </tr>\n",
       "    <tr>\n",
       "      <th>...</th>\n",
       "      <td>...</td>\n",
       "      <td>...</td>\n",
       "      <td>...</td>\n",
       "      <td>...</td>\n",
       "      <td>...</td>\n",
       "      <td>...</td>\n",
       "    </tr>\n",
       "    <tr>\n",
       "      <th>11269444</th>\n",
       "      <td>3351</td>\n",
       "      <td>3347</td>\n",
       "      <td>0.0</td>\n",
       "      <td>0.0</td>\n",
       "      <td>0.0</td>\n",
       "      <td>0.0</td>\n",
       "    </tr>\n",
       "    <tr>\n",
       "      <th>11269445</th>\n",
       "      <td>3351</td>\n",
       "      <td>3348</td>\n",
       "      <td>0.0</td>\n",
       "      <td>0.0</td>\n",
       "      <td>0.0</td>\n",
       "      <td>0.0</td>\n",
       "    </tr>\n",
       "    <tr>\n",
       "      <th>11269446</th>\n",
       "      <td>3351</td>\n",
       "      <td>3349</td>\n",
       "      <td>0.0</td>\n",
       "      <td>0.0</td>\n",
       "      <td>0.0</td>\n",
       "      <td>0.0</td>\n",
       "    </tr>\n",
       "    <tr>\n",
       "      <th>11269447</th>\n",
       "      <td>3351</td>\n",
       "      <td>3350</td>\n",
       "      <td>0.0</td>\n",
       "      <td>0.0</td>\n",
       "      <td>0.0</td>\n",
       "      <td>0.0</td>\n",
       "    </tr>\n",
       "    <tr>\n",
       "      <th>11269448</th>\n",
       "      <td>3351</td>\n",
       "      <td>3351</td>\n",
       "      <td>0.0</td>\n",
       "      <td>0.0</td>\n",
       "      <td>0.0</td>\n",
       "      <td>0.0</td>\n",
       "    </tr>\n",
       "  </tbody>\n",
       "</table>\n",
       "<p>11269449 rows × 6 columns</p>\n",
       "</div>"
      ],
      "text/plain": [
       "          ORIG  DEST   DA  SR2  TRANSIT  WALK\n",
       "0           83    83  0.0  0.0      0.0   0.0\n",
       "1           83    62  0.0  0.0      0.0   0.0\n",
       "2           83    85  0.0  0.0      0.0   0.0\n",
       "3           83    63  0.0  0.0      0.0   0.0\n",
       "4           83    86  0.0  0.0      0.0   0.0\n",
       "...        ...   ...  ...  ...      ...   ...\n",
       "11269444  3351  3347  0.0  0.0      0.0   0.0\n",
       "11269445  3351  3348  0.0  0.0      0.0   0.0\n",
       "11269446  3351  3349  0.0  0.0      0.0   0.0\n",
       "11269447  3351  3350  0.0  0.0      0.0   0.0\n",
       "11269448  3351  3351  0.0  0.0      0.0   0.0\n",
       "\n",
       "[11269449 rows x 6 columns]"
      ]
     },
     "execution_count": 22,
     "metadata": {},
     "output_type": "execute_result"
    }
   ],
   "source": [
    "df"
   ]
  },
  {
   "cell_type": "code",
   "execution_count": 25,
   "id": "8aee61f9",
   "metadata": {},
   "outputs": [
    {
     "name": "stderr",
     "output_type": "stream",
     "text": [
      "C:\\Users\\vyadav\\AppData\\Local\\Temp\\ipykernel_17264\\2280661467.py:1: FutureWarning: Indexing with multiple keys (implicitly converted to a tuple of keys) will be deprecated, use a list instead.\n",
      "  test = df.groupby(['ORIG', 'DEST'])['DA', 'SR2', 'TRANSIT', 'WALK'].sum().reset_index()\n"
     ]
    }
   ],
   "source": [
    "test = df.groupby(['ORIG', 'DEST'])['DA', 'SR2', 'TRANSIT', 'WALK'].sum().reset_index()"
   ]
  },
  {
   "cell_type": "code",
   "execution_count": 26,
   "id": "5bfaf046",
   "metadata": {},
   "outputs": [
    {
     "data": {
      "text/html": [
       "<div>\n",
       "<style scoped>\n",
       "    .dataframe tbody tr th:only-of-type {\n",
       "        vertical-align: middle;\n",
       "    }\n",
       "\n",
       "    .dataframe tbody tr th {\n",
       "        vertical-align: top;\n",
       "    }\n",
       "\n",
       "    .dataframe thead th {\n",
       "        text-align: right;\n",
       "    }\n",
       "</style>\n",
       "<table border=\"1\" class=\"dataframe\">\n",
       "  <thead>\n",
       "    <tr style=\"text-align: right;\">\n",
       "      <th></th>\n",
       "      <th>ORIG</th>\n",
       "      <th>DEST</th>\n",
       "      <th>DA</th>\n",
       "      <th>SR2</th>\n",
       "      <th>TRANSIT</th>\n",
       "      <th>WALK</th>\n",
       "    </tr>\n",
       "  </thead>\n",
       "  <tbody>\n",
       "    <tr>\n",
       "      <th>0</th>\n",
       "      <td>1</td>\n",
       "      <td>1</td>\n",
       "      <td>0.0</td>\n",
       "      <td>0.0</td>\n",
       "      <td>0.0</td>\n",
       "      <td>0.0</td>\n",
       "    </tr>\n",
       "    <tr>\n",
       "      <th>1</th>\n",
       "      <td>1</td>\n",
       "      <td>2</td>\n",
       "      <td>0.0</td>\n",
       "      <td>0.0</td>\n",
       "      <td>0.0</td>\n",
       "      <td>0.0</td>\n",
       "    </tr>\n",
       "    <tr>\n",
       "      <th>2</th>\n",
       "      <td>1</td>\n",
       "      <td>3</td>\n",
       "      <td>0.0</td>\n",
       "      <td>0.0</td>\n",
       "      <td>0.0</td>\n",
       "      <td>0.0</td>\n",
       "    </tr>\n",
       "    <tr>\n",
       "      <th>3</th>\n",
       "      <td>1</td>\n",
       "      <td>4</td>\n",
       "      <td>0.0</td>\n",
       "      <td>0.0</td>\n",
       "      <td>0.0</td>\n",
       "      <td>0.0</td>\n",
       "    </tr>\n",
       "    <tr>\n",
       "      <th>4</th>\n",
       "      <td>1</td>\n",
       "      <td>5</td>\n",
       "      <td>0.0</td>\n",
       "      <td>0.0</td>\n",
       "      <td>0.0</td>\n",
       "      <td>0.0</td>\n",
       "    </tr>\n",
       "    <tr>\n",
       "      <th>...</th>\n",
       "      <td>...</td>\n",
       "      <td>...</td>\n",
       "      <td>...</td>\n",
       "      <td>...</td>\n",
       "      <td>...</td>\n",
       "      <td>...</td>\n",
       "    </tr>\n",
       "    <tr>\n",
       "      <th>11229196</th>\n",
       "      <td>3351</td>\n",
       "      <td>3347</td>\n",
       "      <td>0.0</td>\n",
       "      <td>0.0</td>\n",
       "      <td>0.0</td>\n",
       "      <td>0.0</td>\n",
       "    </tr>\n",
       "    <tr>\n",
       "      <th>11229197</th>\n",
       "      <td>3351</td>\n",
       "      <td>3348</td>\n",
       "      <td>0.0</td>\n",
       "      <td>0.0</td>\n",
       "      <td>0.0</td>\n",
       "      <td>0.0</td>\n",
       "    </tr>\n",
       "    <tr>\n",
       "      <th>11229198</th>\n",
       "      <td>3351</td>\n",
       "      <td>3349</td>\n",
       "      <td>0.0</td>\n",
       "      <td>0.0</td>\n",
       "      <td>0.0</td>\n",
       "      <td>0.0</td>\n",
       "    </tr>\n",
       "    <tr>\n",
       "      <th>11229199</th>\n",
       "      <td>3351</td>\n",
       "      <td>3350</td>\n",
       "      <td>0.0</td>\n",
       "      <td>0.0</td>\n",
       "      <td>0.0</td>\n",
       "      <td>0.0</td>\n",
       "    </tr>\n",
       "    <tr>\n",
       "      <th>11229200</th>\n",
       "      <td>3351</td>\n",
       "      <td>3351</td>\n",
       "      <td>0.0</td>\n",
       "      <td>0.0</td>\n",
       "      <td>0.0</td>\n",
       "      <td>0.0</td>\n",
       "    </tr>\n",
       "  </tbody>\n",
       "</table>\n",
       "<p>11229201 rows × 6 columns</p>\n",
       "</div>"
      ],
      "text/plain": [
       "          ORIG  DEST   DA  SR2  TRANSIT  WALK\n",
       "0            1     1  0.0  0.0      0.0   0.0\n",
       "1            1     2  0.0  0.0      0.0   0.0\n",
       "2            1     3  0.0  0.0      0.0   0.0\n",
       "3            1     4  0.0  0.0      0.0   0.0\n",
       "4            1     5  0.0  0.0      0.0   0.0\n",
       "...        ...   ...  ...  ...      ...   ...\n",
       "11229196  3351  3347  0.0  0.0      0.0   0.0\n",
       "11229197  3351  3348  0.0  0.0      0.0   0.0\n",
       "11229198  3351  3349  0.0  0.0      0.0   0.0\n",
       "11229199  3351  3350  0.0  0.0      0.0   0.0\n",
       "11229200  3351  3351  0.0  0.0      0.0   0.0\n",
       "\n",
       "[11229201 rows x 6 columns]"
      ]
     },
     "execution_count": 26,
     "metadata": {},
     "output_type": "execute_result"
    }
   ],
   "source": [
    "test"
   ]
  }
 ],
 "metadata": {
  "kernelspec": {
   "display_name": "Python [conda env:runway37] *",
   "language": "python",
   "name": "conda-env-runway37-py"
  },
  "language_info": {
   "codemirror_mode": {
    "name": "ipython",
    "version": 3
   },
   "file_extension": ".py",
   "mimetype": "text/x-python",
   "name": "python",
   "nbconvert_exporter": "python",
   "pygments_lexer": "ipython3",
   "version": "3.9.13"
  }
 },
 "nbformat": 4,
 "nbformat_minor": 5
}
