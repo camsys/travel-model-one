{
 "cells": [
  {
   "cell_type": "code",
   "execution_count": 6,
   "id": "bdf3b340",
   "metadata": {},
   "outputs": [],
   "source": [
    "# http://kuanbutts.com/2020/09/12/raptor-simple-example/\n",
    "\n",
    "import partridge as ptg\n",
    "import os"
   ]
  },
  {
   "cell_type": "code",
   "execution_count": 4,
   "id": "43a53898",
   "metadata": {},
   "outputs": [],
   "source": [
    "#!pip install partridge"
   ]
  },
  {
   "cell_type": "code",
   "execution_count": 7,
   "id": "38df3580",
   "metadata": {},
   "outputs": [],
   "source": [
    "os.chdir(r\"C:\\VY-Projects\\Link21\\notebooks\")"
   ]
  },
  {
   "cell_type": "code",
   "execution_count": 8,
   "id": "9fd068a0",
   "metadata": {},
   "outputs": [],
   "source": [
    "# load a GTFS of AC Transit\n",
    "path = 'BL_GTFS.zip'\n",
    "_date, service_ids = ptg.read_busiest_date(path)\n",
    "view = {'trips.txt': {'service_id': service_ids}}\n",
    "feed = ptg.load_feed(path, view)"
   ]
  },
  {
   "cell_type": "code",
   "execution_count": 9,
   "id": "077a5194",
   "metadata": {},
   "outputs": [
    {
     "name": "stderr",
     "output_type": "stream",
     "text": [
      "C:\\Users\\vyadav\\Anaconda3\\envs\\runway37\\lib\\site-packages\\geopandas\\_compat.py:112: UserWarning: The Shapely GEOS version (3.11.0-CAPI-1.17.0) is incompatible with the GEOS version PyGEOS was compiled with (3.10.4-CAPI-1.16.2). Conversions between both will be slow.\n",
      "  warnings.warn(\n",
      "C:\\Users\\vyadav\\Anaconda3\\envs\\runway37\\lib\\site-packages\\pyproj\\crs\\crs.py:130: FutureWarning: '+init=<authority>:<code>' syntax is deprecated. '<authority>:<code>' is the preferred initialization method. When making the change, be mindful of axis order changes: https://pyproj4.github.io/pyproj/stable/gotchas.html#axis-order-changes-in-proj-6\n",
      "  in_crs_string = _prepare_from_proj_string(in_crs_string)\n"
     ]
    }
   ],
   "source": [
    "import geopandas as gpd\n",
    "import pyproj\n",
    "from shapely.geometry import Point\n",
    "\n",
    "# convert all known stops in the schedule to shapes in a GeoDataFrame\n",
    "gdf = gpd.GeoDataFrame(\n",
    "    {\"stop_id\": feed.stops.stop_id.tolist()},\n",
    "    geometry=[\n",
    "        Point(lon, lat)\n",
    "        for lat, lon in zip(\n",
    "            feed.stops.stop_lat,\n",
    "            feed.stops.stop_lon)])\n",
    "gdf = gdf.set_index(\"stop_id\")\n",
    "gdf.crs = {'init': 'epsg:4326'}\n",
    "\n",
    "# re-cast to meter-based projection to allow for distance calculations\n",
    "aeqd = pyproj.Proj(\n",
    "    proj='aeqd',\n",
    "    ellps='WGS84',\n",
    "    datum='WGS84',\n",
    "    lat_0=gdf.iloc[0].geometry.centroid.y,\n",
    "    lon_0=gdf.iloc[0].geometry.centroid.x).srs\n",
    "gdf = gdf.to_crs(crs=aeqd)"
   ]
  },
  {
   "cell_type": "code",
   "execution_count": 10,
   "id": "ec8156b6",
   "metadata": {},
   "outputs": [],
   "source": [
    "# let's use this example origin and destination\n",
    "# to find the time it would take to go from one to another\n",
    "from_stop_name = \"Santa Clara Av & Mozart St\"\n",
    "to_stop_name = \"10th Avenue SB\"\n",
    "\n",
    "# QA: we know the best way to connect these two is the 51A -> 1T\n",
    "# if we depart at 8:30 AM, schedule should suggest:\n",
    "#     take 51A 8:37 - 8:49\n",
    "#     make walk connection\n",
    "#     take 1T 8:56 - 9:03\n",
    "# total travel time: 26 minutes\n",
    "\n",
    "# look at all trips from that stop that are after the depart time\n",
    "departure_secs = 8.5 * 60 * 60\n",
    "\n",
    "# get all information, including the stop ids, for the start and end nodes\n",
    "from_stop = feed.stops[feed.stops.stop_name == from_stop_name].head(1).squeeze()\n",
    "to_stop = feed.stops[[\"10th Avenue\" in f for f in feed.stops.stop_name]].head(1).squeeze()\n",
    "\n",
    "# extract just the stop ids\n",
    "from_stop_id = from_stop.stop_id\n",
    "to_stop_id = to_stop.stop_id"
   ]
  },
  {
   "cell_type": "code",
   "execution_count": 13,
   "id": "049f2730",
   "metadata": {},
   "outputs": [
    {
     "data": {
      "text/plain": [
       "Series([], Name: stop_id, dtype: object)"
      ]
     },
     "execution_count": 13,
     "metadata": {},
     "output_type": "execute_result"
    }
   ],
   "source": [
    "from_stop_id"
   ]
  },
  {
   "cell_type": "code",
   "execution_count": null,
   "id": "fdc770c3",
   "metadata": {},
   "outputs": [],
   "source": []
  },
  {
   "cell_type": "code",
   "execution_count": 14,
   "id": "11c7f35c",
   "metadata": {},
   "outputs": [],
   "source": [
    "from collections import deque\n",
    "from typing import Dict, List, Tuple\n",
    "\n",
    "\n",
    "def raptor_algorithm(\n",
    "    network: Dict[int, List[Tuple[int, int]]],\n",
    "    start: int,\n",
    "    end: int,\n",
    "    max_rounds: int = 100,\n",
    ") -> List[int]:\n",
    "    \"\"\"\n",
    "    RAPTOR algorithm for transit routing.\n",
    "\n",
    "    Args:\n",
    "        network (dict): A dictionary representing the transportation network.\n",
    "            Keys are node IDs and values are lists of tuples representing edges.\n",
    "            Each edge is a tuple of the form (destination node ID, travel time).\n",
    "        start (int): The ID of the starting node.\n",
    "        end (int): The ID of the ending node.\n",
    "        max_rounds (int): The maximum number of rounds to run the algorithm.\n",
    "            Defaults to 100.\n",
    "\n",
    "    Returns:\n",
    "        A list of node IDs representing the shortest path from the starting\n",
    "        node to the ending node, or an empty list if no path is found.\n",
    "    \"\"\"\n",
    "    # Initialize the state of the algorithm\n",
    "    rounds = [set([start])]  # List of sets of reachable nodes for each round\n",
    "    reached = [False] * len(network)  # List of flags indicating if a node has been reached\n",
    "    reached[start] = True\n",
    "\n",
    "    # Run the algorithm for the specified number of rounds\n",
    "    for round_num in range(max_rounds):\n",
    "        current_round = rounds[-1]\n",
    "        next_round = set()\n",
    "\n",
    "        # Iterate over all nodes in the current round\n",
    "        for current_node in current_round:\n",
    "            # Iterate over all edges from the current node\n",
    "            for neighbor, travel_time in network[current_node]:\n",
    "                # Check if the neighbor has already been reached in a previous round\n",
    "                if not reached[neighbor]:\n",
    "                    reached[neighbor] = True\n",
    "                    next_round.add(neighbor)\n",
    "\n",
    "        # Add the next round to the list of rounds\n",
    "        rounds.append(next_round)\n",
    "\n",
    "        # Check if the end node has been reached\n",
    "        if reached[end]:\n",
    "            break\n",
    "\n",
    "    # If the end node was not reached, return an empty list\n",
    "    if not reached[end]:\n",
    "        return []\n",
    "\n",
    "    # Build the shortest path from the starting node to the ending node\n",
    "    path = [end]\n",
    "    for round_num in range(len(rounds) - 2, -1, -1):\n",
    "        current_round = rounds[round_num]\n",
    "        for node in current_round:\n",
    "            for neighbor, travel_time in network[node]:\n",
    "                if neighbor == path[-1] and reached[node]:\n",
    "                    path.append(node)\n",
    "                    break\n",
    "\n",
    "        # If the starting node is reached, stop building the path\n",
    "        if path[-1] == start:\n",
    "            break\n",
    "\n",
    "    # Reverse the path and return it\n",
    "    return path[::-1]"
   ]
  },
  {
   "cell_type": "code",
   "execution_count": 18,
   "id": "c92ecc45",
   "metadata": {},
   "outputs": [],
   "source": [
    "import csv\n",
    "from collections import defaultdict\n",
    "from typing import Dict, List, Tuple\n",
    "\n",
    "\n",
    "def parse_gtfs_data(filename: str) -> Dict[int, List[Tuple[int, int]]]:\n",
    "    \"\"\"\n",
    "    Parse a GTFS dataset and return a dictionary representing the transportation network.\n",
    "\n",
    "    Args:\n",
    "        filename (str): The name of the GTFS dataset file.\n",
    "\n",
    "    Returns:\n",
    "        A dictionary representing the transportation network.\n",
    "        Keys are node IDs and values are lists of tuples representing edges.\n",
    "        Each edge is a tuple of the form (destination node ID, travel time).\n",
    "    \"\"\"\n",
    "    # Load the data from the CSV files\n",
    "    stops = {}\n",
    "    with open(filename + '/stops.txt', newline='') as f:\n",
    "        reader = csv.DictReader(f)\n",
    "        for row in reader:\n",
    "            stops[row['stop_id']] = (float(row['stop_lat']), float(row['stop_lon']))\n",
    "\n",
    "    routes = {}\n",
    "    with open(filename + '/routes.txt', newline='') as f:\n",
    "        reader = csv.DictReader(f)\n",
    "        for row in reader:\n",
    "            routes[row['route_id']] = row['route_short_name']\n",
    "\n",
    "    trips = defaultdict(list)\n",
    "    with open(filename + '/trips.txt', newline='') as f:\n",
    "        reader = csv.DictReader(f)\n",
    "        for row in reader:\n",
    "            trips[row['route_id']].append(row['trip_id'])\n",
    "\n",
    "    stop_times = {}\n",
    "    with open(filename + '/stop_times.txt', newline='') as f:\n",
    "        reader = csv.DictReader(f)\n",
    "        for row in reader:\n",
    "            stop_id = row['stop_id']\n",
    "            trip_id = row['trip_id']\n",
    "            arrival_time = row['arrival_time'] #int(row['arrival_time'])\n",
    "            stop_times[trip_id, stop_id] = arrival_time\n",
    "\n",
    "    # Build the transportation network\n",
    "    network = defaultdict(list)\n",
    "    for route_id, trip_ids in trips.items():\n",
    "        for i in range(len(trip_ids)):\n",
    "            trip_id1 = trip_ids[i]\n",
    "            for j in range(i + 1, len(trip_ids)):\n",
    "                trip_id2 = trip_ids[j]\n",
    "                common_stops = set(stop_times.keys()) & {(trip_id1, stop_id) for stop_id in stops} & {(trip_id2, stop_id) for stop_id in stops}\n",
    "                for stop_id in stops:\n",
    "                    if (trip_id1, stop_id) in common_stops and (trip_id2, stop_id) in common_stops:\n",
    "                        time1 = stop_times[trip_id1, stop_id]\n",
    "                        time2 = stop_times[trip_id2, stop_id]\n",
    "                        if time2 > time1:\n",
    "                            network[stop_id].append((stop_id, time2 - time1))\n",
    "                        else:\n",
    "                            network[stop_id].append((stop_id, time2 + 24*60*60 - time1))\n",
    "\n",
    "    # Convert the node IDs from strings to integers\n",
    "    id_map = {stop_id: i for i, stop_id in enumerate(network.keys())}\n",
    "    network = {id_map[stop_id]: [(id_map[dest], time) for dest, time in edges] for stop_id, edges in network.items()}\n",
    "\n",
    "    return network"
   ]
  },
  {
   "cell_type": "code",
   "execution_count": 19,
   "id": "9d949119",
   "metadata": {},
   "outputs": [],
   "source": [
    "net = parse_gtfs_data(r\"common_data\\BL_GTFS\")"
   ]
  },
  {
   "cell_type": "code",
   "execution_count": 20,
   "id": "f58e22f7",
   "metadata": {},
   "outputs": [
    {
     "data": {
      "text/plain": [
       "{}"
      ]
     },
     "execution_count": 20,
     "metadata": {},
     "output_type": "execute_result"
    }
   ],
   "source": [
    "net"
   ]
  },
  {
   "cell_type": "code",
   "execution_count": null,
   "id": "a4022944",
   "metadata": {},
   "outputs": [],
   "source": []
  },
  {
   "cell_type": "code",
   "execution_count": null,
   "id": "dfdddc85",
   "metadata": {},
   "outputs": [],
   "source": []
  }
 ],
 "metadata": {
  "kernelspec": {
   "display_name": "Python [conda env:runway37] *",
   "language": "python",
   "name": "conda-env-runway37-py"
  },
  "language_info": {
   "codemirror_mode": {
    "name": "ipython",
    "version": 3
   },
   "file_extension": ".py",
   "mimetype": "text/x-python",
   "name": "python",
   "nbconvert_exporter": "python",
   "pygments_lexer": "ipython3",
   "version": "3.9.13"
  }
 },
 "nbformat": 4,
 "nbformat_minor": 5
}
