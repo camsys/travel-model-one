{
 "cells": [
  {
   "cell_type": "code",
   "execution_count": null,
   "metadata": {},
   "outputs": [],
   "source": [
    "import os\n",
    "import boto3"
   ]
  },
  {
   "cell_type": "code",
   "execution_count": null,
   "metadata": {},
   "outputs": [],
   "source": [
    "instance = 'WRK7'\n",
    "run_label = 'TM2_Run11b'\n",
    "run_zipped = f'D:\\{run_label}.7z'"
   ]
  },
  {
   "cell_type": "code",
   "execution_count": null,
   "metadata": {},
   "outputs": [],
   "source": [
    "s3 = boto3.client('s3')\n",
    "\n",
    "s3.upload_file(run_zipped, 'l21-data', f'SensitivityRuns/{instance}/{run_label}.7z')"
   ]
  },
  {
   "cell_type": "code",
   "execution_count": null,
   "metadata": {},
   "outputs": [],
   "source": [
    "# List s3 bucket contents\n",
    "\n",
    "# Figure out difference between session, resource, and client\n",
    "session = boto3.session.Session()\n",
    "s3 = session.resource('s3')\n",
    "s3_cli = boto3.client('s3')\n",
    "\n",
    "\n",
    "mybucket = s3.Bucket('l21-data')\n",
    "for object in mybucket.objects.filter(Prefix=f'SensitivityRuns/{instance}/'):\n",
    "    print(object.key)\n",
    "\n",
    "\n"
   ]
  }
 ],
 "metadata": {
  "language_info": {
   "name": "python"
  },
  "orig_nbformat": 4
 },
 "nbformat": 4,
 "nbformat_minor": 2
}
